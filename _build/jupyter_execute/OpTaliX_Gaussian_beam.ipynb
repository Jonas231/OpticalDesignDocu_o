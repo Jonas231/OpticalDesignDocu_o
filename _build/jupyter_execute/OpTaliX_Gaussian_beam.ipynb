{
 "cells": [
  {
   "cell_type": "markdown",
   "id": "5fd86f2c",
   "metadata": {},
   "source": [
    "\n",
    "# OpTaliX: Gaussian beam\n",
    "These are ..."
   ]
  },
  {
   "cell_type": "code",
   "execution_count": 1,
   "id": "30d3a396",
   "metadata": {
    "tags": [
     "remove_input"
    ]
   },
   "outputs": [
    {
     "data": {
      "application/javascript": [
       "if (typeof require !== 'undefined')\n",
       "    require.config({\n",
       "        paths: {\n",
       "            jquery: 'https://code.jquery.com/jquery-3.5.1.min',\n",
       "            datatables: 'https://cdn.datatables.net/1.11.3/js/jquery.dataTables.min',\n",
       "        }\n",
       "    });\n"
      ],
      "text/plain": [
       "<IPython.core.display.Javascript object>"
      ]
     },
     "metadata": {},
     "output_type": "display_data"
    }
   ],
   "source": [
    "import pandas as pd\n",
    "import itables\n",
    "from itables import init_notebook_mode, show\n",
    "import itables.options as opt\n",
    "\n",
    "init_notebook_mode(all_interactive=True)\n",
    "\n",
    "opt.lengthMenu = [50, 100, 200, 500]\n",
    "#opt.classes = [\"display\", \"cell-border\"]\n",
    "#opt.classes = [\"display\", \"nowrap\"]\n",
    "\n",
    "opt.columnDefs = [{\"className\": \"dt-left\", \"targets\": \"_all\"}, {\"width\": \"500px\", \"targets\": 1}]\n"
   ]
  },
  {
   "cell_type": "code",
   "execution_count": 2,
   "id": "36dee203",
   "metadata": {
    "tags": [
     "remove_input"
    ]
   },
   "outputs": [],
   "source": [
    "import os\n",
    "cwd = os.getcwd()\n",
    "filename = os.path.join(cwd, os.path.join('Excel', 'OpTaliX_optimization_operands.xlsx'))\n",
    "df_var = pd.read_excel(filename, sheet_name = \"Gaussian Beam\", header = 0, index_col = 0)\n",
    "df_var = df_var.dropna()   # drop nan values"
   ]
  },
  {
   "cell_type": "code",
   "execution_count": 3,
   "id": "ad2657ec",
   "metadata": {
    "tags": [
     "remove_input"
    ]
   },
   "outputs": [
    {
     "data": {
      "text/html": [
       "<table id=\"a5a8a82b-2e98-4664-bf73-fe1a2cfee48d\" class=\"display\"style=\"max-width:100%\"><thead><th></th><th>Description</th><th>Order</th></thead><tbody><tr><td>Loading... (need <a href=https://mwouts.github.io/itables/troubleshooting.html>help</a>?)</td></tr></tbody></table>\n",
       "<link rel=\"stylesheet\" type=\"text/css\" href=\"https://cdn.datatables.net/1.11.3/css/jquery.dataTables.min.css\">\n",
       "<style> table td {\n",
       "    text-overflow: ellipsis;\n",
       "    overflow: hidden;\n",
       "} </style>\n",
       "<style> table th {\n",
       "    text-overflow: ellipsis;\n",
       "    overflow: hidden;\n",
       "} </style>\n",
       "<script type=\"module\">\n",
       "    // Define the table data\n",
       "    const data = [[\"WRX [sk] \", \"Gaussian beam waist radius X (in mm) at surface \\u00a0sk\", 1], [\"WRY [sk] \", \"Gaussian beam waist radius Y (in mm) at surface \\u00a0sk\", 2], [\"ZWX [sk] \", \"Location of Gaussian beam waist X relative to surface \\u00a0sk\", 3], [\"ZWY [sk] \", \"Location of Gaussian beam waist Y relative to surface \\u00a0sk\", 4], [\"RCX [sk] \", \"Radius of X-curvature of Gaussian beam waist at surface \\u00a0sk\", 5], [\"RCY [sk] \", \"Radius of Y-curvature of Gaussian beam waist at surface \\u00a0sk\", 6], [\"SRX [sk] \", \"Spot size of Gaussian beam in X/Z-plane at surface \\u00a0sk\", 7], [\"SRY [sk] \", \"Spot size of Gaussian beam in Y/Z-plane at surface \\u00a0sk\", 8], [\"GDX [sk] \", \"Divergence of Gaussian beam in X/Z-plane at surface \\u00a0sk\", 9], [\"GDY [sk] \", \"Divergence of Gaussian beam in Y/Z-plane at surface \\u00a0sk\", 10], [\"RRX [sk] \", \"Rayleigh range of Gaussian beam in X/Z-plane at surface \\u00a0sk\", 11], [\"RRY [sk] \", \"Rayleigh range of Gaussian beam in Y/Z-plane at surface \\u00a0sk\", 12]];\n",
       "\n",
       "    if (typeof require === 'undefined') {\n",
       "        // TODO: This should become the default (use a simple import)\n",
       "        // when the ESM version works independently of whether\n",
       "        // require.js is there or not, see\n",
       "        // https://datatables.net/forums/discussion/69066/esm-es6-module-support?\n",
       "        const {default: $} = await import(\"https://esm.sh/jquery@3.5.0\");\n",
       "        const {default: initDataTables} = await import(\"https://esm.sh/datatables.net@1.11.3?deps=jquery@3.5.0\");\n",
       "\n",
       "        initDataTables();\n",
       "\n",
       "        // Define the dt_args\n",
       "        let dt_args = {\"columnDefs\": [{\"className\": \"dt-left\", \"targets\": \"_all\"}, {\"width\": \"500px\", \"targets\": 1}], \"lengthMenu\": [50, 100, 200, 500], \"paging\": false};\n",
       "        dt_args[\"data\"] = data;\n",
       "\n",
       "        // Display the table\n",
       "        $(document).ready(function () {\n",
       "            $('#a5a8a82b-2e98-4664-bf73-fe1a2cfee48d').DataTable(dt_args);\n",
       "        });\n",
       "    } else {\n",
       "        require([\"jquery\", \"datatables\"], ($, datatables) => {\n",
       "                // Define the dt_args\n",
       "                let dt_args = {\"columnDefs\": [{\"className\": \"dt-left\", \"targets\": \"_all\"}, {\"width\": \"500px\", \"targets\": 1}], \"lengthMenu\": [50, 100, 200, 500], \"paging\": false};\n",
       "                dt_args[\"data\"] = data;\n",
       "\n",
       "                // Display the table\n",
       "                $(document).ready(function () {\n",
       "                    $('#a5a8a82b-2e98-4664-bf73-fe1a2cfee48d').DataTable(dt_args);\n",
       "                });\n",
       "            }\n",
       "        )\n",
       "    }\n",
       "</script>\n"
      ],
      "text/plain": [
       "                                                 Description  Order\n",
       "Item                                                               \n",
       "WRX [sk]   Gaussian beam waist radius X (in mm) at surfac...      1\n",
       "WRY [sk]   Gaussian beam waist radius Y (in mm) at surfac...      2\n",
       "ZWX [sk]   Location of Gaussian beam waist X relative to ...      3\n",
       "ZWY [sk]   Location of Gaussian beam waist Y relative to ...      4\n",
       "RCX [sk]   Radius of X-curvature of Gaussian beam waist a...      5\n",
       "RCY [sk]   Radius of Y-curvature of Gaussian beam waist a...      6\n",
       "SRX [sk]   Spot size of Gaussian beam in X/Z-plane at sur...      7\n",
       "SRY [sk]   Spot size of Gaussian beam in Y/Z-plane at sur...      8\n",
       "GDX [sk]   Divergence of Gaussian beam in X/Z-plane at su...      9\n",
       "GDY [sk]   Divergence of Gaussian beam in Y/Z-plane at su...     10\n",
       "RRX [sk]   Rayleigh range of Gaussian beam in X/Z-plane a...     11\n",
       "RRY [sk]   Rayleigh range of Gaussian beam in Y/Z-plane a...     12"
      ]
     },
     "execution_count": 3,
     "metadata": {},
     "output_type": "execute_result"
    }
   ],
   "source": [
    "df_var"
   ]
  },
  {
   "cell_type": "code",
   "execution_count": null,
   "id": "06654ecb",
   "metadata": {},
   "outputs": [],
   "source": []
  },
  {
   "cell_type": "code",
   "execution_count": null,
   "id": "14ed69a1",
   "metadata": {},
   "outputs": [],
   "source": []
  }
 ],
 "metadata": {
  "celltoolbar": "Tags",
  "kernelspec": {
   "display_name": "Python 3 (ipykernel)",
   "language": "python",
   "name": "python3"
  },
  "language_info": {
   "codemirror_mode": {
    "name": "ipython",
    "version": 3
   },
   "file_extension": ".py",
   "mimetype": "text/x-python",
   "name": "python",
   "nbconvert_exporter": "python",
   "pygments_lexer": "ipython3",
   "version": "3.7.11"
  }
 },
 "nbformat": 4,
 "nbformat_minor": 5
}