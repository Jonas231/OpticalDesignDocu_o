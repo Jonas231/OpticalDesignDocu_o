{
 "cells": [
  {
   "cell_type": "markdown",
   "id": "44ddaa3e",
   "metadata": {},
   "source": [
    "# OpTaliX: Geometric Analysis\n",
    "\n",
    "These are ..."
   ]
  },
  {
   "cell_type": "code",
   "execution_count": 1,
   "id": "30d3a396",
   "metadata": {
    "tags": [
     "remove_input"
    ]
   },
   "outputs": [
    {
     "data": {
      "application/javascript": [
       "if (typeof require !== 'undefined')\n",
       "    require.config({\n",
       "        paths: {\n",
       "            jquery: 'https://code.jquery.com/jquery-3.5.1.min',\n",
       "            datatables: 'https://cdn.datatables.net/1.11.3/js/jquery.dataTables.min',\n",
       "        }\n",
       "    });\n"
      ],
      "text/plain": [
       "<IPython.core.display.Javascript object>"
      ]
     },
     "metadata": {},
     "output_type": "display_data"
    }
   ],
   "source": [
    "import pandas as pd\n",
    "import itables\n",
    "from itables import init_notebook_mode, show\n",
    "import itables.options as opt\n",
    "\n",
    "init_notebook_mode(all_interactive=True)\n",
    "\n",
    "opt.lengthMenu = [50, 100, 200, 500]\n",
    "#opt.classes = [\"display\", \"cell-border\"]\n",
    "#opt.classes = [\"display\", \"nowrap\"]\n",
    "\n",
    "opt.columnDefs = [{\"className\": \"dt-left\", \"targets\": \"_all\"}, {\"width\": \"500px\", \"targets\": 1}]\n"
   ]
  },
  {
   "cell_type": "code",
   "execution_count": 2,
   "id": "36dee203",
   "metadata": {
    "tags": [
     "remove_input"
    ]
   },
   "outputs": [],
   "source": [
    "import os\n",
    "cwd = os.getcwd()\n",
    "filename = os.path.join(cwd, os.path.join('Excel', 'OpTaliX_optimization_operands.xlsx'))\n",
    "df_var = pd.read_excel(filename, sheet_name = \"Geometric Analysis\", header = 0, index_col = 0)\n",
    "df_var = df_var.dropna()   # drop nan values"
   ]
  },
  {
   "cell_type": "code",
   "execution_count": 3,
   "id": "ad2657ec",
   "metadata": {
    "tags": [
     "remove_input"
    ]
   },
   "outputs": [
    {
     "data": {
      "text/html": [
       "<table id=\"9a327b4e-67a9-44c3-b875-62b66bdd6978\" class=\"display\"style=\"max-width:100%\"><thead><th></th><th>Description</th><th>Order</th></thead><tbody><tr><td>Loading... (need <a href=https://mwouts.github.io/itables/troubleshooting.html>help</a>?)</td></tr></tbody></table>\n",
       "<link rel=\"stylesheet\" type=\"text/css\" href=\"https://cdn.datatables.net/1.11.3/css/jquery.dataTables.min.css\">\n",
       "<style> table td {\n",
       "    text-overflow: ellipsis;\n",
       "    overflow: hidden;\n",
       "} </style>\n",
       "<style> table th {\n",
       "    text-overflow: ellipsis;\n",
       "    overflow: hidden;\n",
       "} </style>\n",
       "<script type=\"module\">\n",
       "    // Define the table data\n",
       "    const data = [[\"SPD fk wk [zk] \", \"Spot diameter (rms)\", 1], [\"SPDPV fk wk [zk] \", \"Spot diameter (PV)\", 2], [\"SPX fk wk [zk] \", \"Spot diameter (rms), only X-direction\", 3], [\"SPXPV fk wk [zk] \", \"Spot diameter (PV), only X-direction\", 4], [\"SPY fk wk [zk] \", \"Spot diameter (rms), only Y-direction\", 5], [\"SPYPV fk wk [zk] \", \"Spot diameter (PV), only Y-direction\", 6], [\"LAC fk [wi..j] [zk] \", \"Lateral colour\", 7], [\"SSR [wi..j] \", \"Secondary spectrum, rms-value\", 8], [\"SPA [zk] \", \"3rd order spherical aberration\", 9], [\"COMA [zk] \", \"3rd order coma\", 10], [\"ASTI [zk] \", \"3rd order astigmatism\", 11], [\"PETZ [zk] \", \"3rd order petzval sum (field curvature)\", 12], [\"PTZ [zk] \", \"synonymous to PETZ, 3rd order petzval sum (field curvature), for Code V compatibility only.\", 13], [\"DIST [zk] \", \"3rd order distortion\", 14], [\"DST [zk] \", \"synonymous to DIST, 3rd order distortion, for Code V compatibility only.\", 15], [\"LCA [zk] \", \"3rd order longitudinal colour\", 16], [\"AX [zk] \", \"synonymous to LCA, 3rd order longitudinal colour, for Code V compatibility only.\", 17], [\"TCA [zk] \", \"3rd order transversal colour\", 18], [\"DISX fk [zk] \", \"Distortion, X-direction\", 19], [\"DISY fk [zk] \", \"Distortion, Y-direction\", 20], [\"FDISX fk [zk] \", \"F-theta distortion, X-direction\", 21], [\"FDISY fk [zk] \", \"F-theta distortion, Y-direction\", 22], [\"VIG [fk] [zk] \", \"Vignetting factor relative to field 1. Values are returned between 0 (100% vignetting) and 1 (no vignetting).\", 23], [\"ASTT fk wk rx ry [zk]\", \"Tangential astigmatism along a single ray defined by wavelength wk, field fk, relative x-pupil rx, relative y-pupil ry. Asigmatism is always measured at the image surface.\", 24], [\"ASTS fk wk rx ry [zk]\", \"Sagittal astigmatism along a single ray defined by wavelength wk, field fk, relative x-pupil rx, relative y-pupil ry. Asigmatism is always measured at the image surface.\", 25], [\"ASTD fk wk rx ry [zk]\", \"Astigmatic difference along a single ray defined by wavelength wk, field fk, relative x-pupil rx, relative y-pupil ry. Asigmatism is always measured at the image surface.\", 26]];\n",
       "\n",
       "    if (typeof require === 'undefined') {\n",
       "        // TODO: This should become the default (use a simple import)\n",
       "        // when the ESM version works independently of whether\n",
       "        // require.js is there or not, see\n",
       "        // https://datatables.net/forums/discussion/69066/esm-es6-module-support?\n",
       "        const {default: $} = await import(\"https://esm.sh/jquery@3.5.0\");\n",
       "        const {default: initDataTables} = await import(\"https://esm.sh/datatables.net@1.11.3?deps=jquery@3.5.0\");\n",
       "\n",
       "        initDataTables();\n",
       "\n",
       "        // Define the dt_args\n",
       "        let dt_args = {\"columnDefs\": [{\"className\": \"dt-left\", \"targets\": \"_all\"}, {\"width\": \"500px\", \"targets\": 1}], \"lengthMenu\": [50, 100, 200, 500], \"paging\": false};\n",
       "        dt_args[\"data\"] = data;\n",
       "\n",
       "        // Display the table\n",
       "        $(document).ready(function () {\n",
       "            $('#9a327b4e-67a9-44c3-b875-62b66bdd6978').DataTable(dt_args);\n",
       "        });\n",
       "    } else {\n",
       "        require([\"jquery\", \"datatables\"], ($, datatables) => {\n",
       "                // Define the dt_args\n",
       "                let dt_args = {\"columnDefs\": [{\"className\": \"dt-left\", \"targets\": \"_all\"}, {\"width\": \"500px\", \"targets\": 1}], \"lengthMenu\": [50, 100, 200, 500], \"paging\": false};\n",
       "                dt_args[\"data\"] = data;\n",
       "\n",
       "                // Display the table\n",
       "                $(document).ready(function () {\n",
       "                    $('#9a327b4e-67a9-44c3-b875-62b66bdd6978').DataTable(dt_args);\n",
       "                });\n",
       "            }\n",
       "        )\n",
       "    }\n",
       "</script>\n"
      ],
      "text/plain": [
       "                                                             Description  \\\n",
       "Item                                                                       \n",
       "SPD fk wk [zk]                                       Spot diameter (rms)   \n",
       "SPDPV fk wk [zk]                                      Spot diameter (PV)   \n",
       "SPX fk wk [zk]                     Spot diameter (rms), only X-direction   \n",
       "SPXPV fk wk [zk]                    Spot diameter (PV), only X-direction   \n",
       "SPY fk wk [zk]                     Spot diameter (rms), only Y-direction   \n",
       "SPYPV fk wk [zk]                    Spot diameter (PV), only Y-direction   \n",
       "LAC fk [wi..j] [zk]                                       Lateral colour   \n",
       "SSR [wi..j]                                Secondary spectrum, rms-value   \n",
       "SPA [zk]                                  3rd order spherical aberration   \n",
       "COMA [zk]                                                 3rd order coma   \n",
       "ASTI [zk]                                          3rd order astigmatism   \n",
       "PETZ [zk]                        3rd order petzval sum (field curvature)   \n",
       "PTZ [zk]               synonymous to PETZ, 3rd order petzval sum (fie...   \n",
       "DIST [zk]                                           3rd order distortion   \n",
       "DST [zk]               synonymous to DIST, 3rd order distortion, for ...   \n",
       "LCA [zk]                                   3rd order longitudinal colour   \n",
       "AX [zk]                synonymous to LCA, 3rd order longitudinal colo...   \n",
       "TCA [zk]                                    3rd order transversal colour   \n",
       "DISX fk [zk]                                     Distortion, X-direction   \n",
       "DISY fk [zk]                                     Distortion, Y-direction   \n",
       "FDISX fk [zk]                            F-theta distortion, X-direction   \n",
       "FDISY fk [zk]                            F-theta distortion, Y-direction   \n",
       "VIG [fk] [zk]          Vignetting factor relative to field 1. Values ...   \n",
       "ASTT fk wk rx ry [zk]  Tangential astigmatism along a single ray defi...   \n",
       "ASTS fk wk rx ry [zk]  Sagittal astigmatism along a single ray define...   \n",
       "ASTD fk wk rx ry [zk]  Astigmatic difference along a single ray defin...   \n",
       "\n",
       "                       Order  \n",
       "Item                          \n",
       "SPD fk wk [zk]             1  \n",
       "SPDPV fk wk [zk]           2  \n",
       "SPX fk wk [zk]             3  \n",
       "SPXPV fk wk [zk]           4  \n",
       "SPY fk wk [zk]             5  \n",
       "SPYPV fk wk [zk]           6  \n",
       "LAC fk [wi..j] [zk]        7  \n",
       "SSR [wi..j]                8  \n",
       "SPA [zk]                   9  \n",
       "COMA [zk]                 10  \n",
       "ASTI [zk]                 11  \n",
       "PETZ [zk]                 12  \n",
       "PTZ [zk]                  13  \n",
       "DIST [zk]                 14  \n",
       "DST [zk]                  15  \n",
       "LCA [zk]                  16  \n",
       "AX [zk]                   17  \n",
       "TCA [zk]                  18  \n",
       "DISX fk [zk]              19  \n",
       "DISY fk [zk]              20  \n",
       "FDISX fk [zk]             21  \n",
       "FDISY fk [zk]             22  \n",
       "VIG [fk] [zk]             23  \n",
       "ASTT fk wk rx ry [zk]     24  \n",
       "ASTS fk wk rx ry [zk]     25  \n",
       "ASTD fk wk rx ry [zk]     26  "
      ]
     },
     "execution_count": 3,
     "metadata": {},
     "output_type": "execute_result"
    }
   ],
   "source": [
    "df_var"
   ]
  },
  {
   "cell_type": "code",
   "execution_count": null,
   "id": "06654ecb",
   "metadata": {},
   "outputs": [],
   "source": []
  },
  {
   "cell_type": "code",
   "execution_count": null,
   "id": "14ed69a1",
   "metadata": {},
   "outputs": [],
   "source": []
  }
 ],
 "metadata": {
  "celltoolbar": "Tags",
  "kernelspec": {
   "display_name": "Python 3 (ipykernel)",
   "language": "python",
   "name": "python3"
  },
  "language_info": {
   "codemirror_mode": {
    "name": "ipython",
    "version": 3
   },
   "file_extension": ".py",
   "mimetype": "text/x-python",
   "name": "python",
   "nbconvert_exporter": "python",
   "pygments_lexer": "ipython3",
   "version": "3.7.11"
  }
 },
 "nbformat": 4,
 "nbformat_minor": 5
}