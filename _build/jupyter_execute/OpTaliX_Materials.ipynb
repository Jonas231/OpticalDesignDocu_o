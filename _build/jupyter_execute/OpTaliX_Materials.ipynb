{
 "cells": [
  {
   "cell_type": "markdown",
   "id": "9eb45f32",
   "metadata": {},
   "source": [
    "\n",
    "# OpTaliX: Materials\n",
    "These are ..."
   ]
  },
  {
   "cell_type": "code",
   "execution_count": 1,
   "id": "30d3a396",
   "metadata": {
    "tags": [
     "remove_input"
    ]
   },
   "outputs": [
    {
     "data": {
      "application/javascript": [
       "if (typeof require !== 'undefined')\n",
       "    require.config({\n",
       "        paths: {\n",
       "            jquery: 'https://code.jquery.com/jquery-3.5.1.min',\n",
       "            datatables: 'https://cdn.datatables.net/1.11.3/js/jquery.dataTables.min',\n",
       "        }\n",
       "    });\n"
      ],
      "text/plain": [
       "<IPython.core.display.Javascript object>"
      ]
     },
     "metadata": {},
     "output_type": "display_data"
    }
   ],
   "source": [
    "import pandas as pd\n",
    "import itables\n",
    "from itables import init_notebook_mode, show\n",
    "import itables.options as opt\n",
    "\n",
    "init_notebook_mode(all_interactive=True)\n",
    "\n",
    "opt.lengthMenu = [50, 100, 200, 500]\n",
    "#opt.classes = [\"display\", \"cell-border\"]\n",
    "#opt.classes = [\"display\", \"nowrap\"]\n",
    "\n",
    "opt.columnDefs = [{\"className\": \"dt-left\", \"targets\": \"_all\"}, {\"width\": \"500px\", \"targets\": 1}]\n"
   ]
  },
  {
   "cell_type": "code",
   "execution_count": 2,
   "id": "36dee203",
   "metadata": {
    "tags": [
     "remove_input"
    ]
   },
   "outputs": [],
   "source": [
    "import os\n",
    "cwd = os.getcwd()\n",
    "filename = os.path.join(cwd, os.path.join('Excel', 'OpTaliX_optimization_operands.xlsx'))\n",
    "df_var = pd.read_excel(filename, sheet_name = \"Materials\", header = 0, index_col = 0)\n",
    "df_var = df_var.dropna()   # drop nan values"
   ]
  },
  {
   "cell_type": "code",
   "execution_count": 3,
   "id": "ad2657ec",
   "metadata": {
    "tags": [
     "remove_input"
    ]
   },
   "outputs": [
    {
     "data": {
      "text/html": [
       "<table id=\"2082d060-a445-4379-8ef4-4c7bd71e9a37\" class=\"display\"style=\"max-width:100%\"><thead><th></th><th>Description</th><th>Order</th></thead><tbody><tr><td>Loading... (need <a href=https://mwouts.github.io/itables/troubleshooting.html>help</a>?)</td></tr></tbody></table>\n",
       "<link rel=\"stylesheet\" type=\"text/css\" href=\"https://cdn.datatables.net/1.11.3/css/jquery.dataTables.min.css\">\n",
       "<style> table td {\n",
       "    text-overflow: ellipsis;\n",
       "    overflow: hidden;\n",
       "} </style>\n",
       "<style> table th {\n",
       "    text-overflow: ellipsis;\n",
       "    overflow: hidden;\n",
       "} </style>\n",
       "<script type=\"module\">\n",
       "    // Define the table data\n",
       "    const data = [[\"GLA sk [zk] \", \"Returns string with glass name\", 1], [\"GL1 sk [zk] \", \"Returns string with glass name, equivalent to \\u00a0GLA\", 2], [\"GL2 sk [zk] \", \"Returns string with glass name on ''right'' side of surface\", 3], [\"EXC sk [zk] \", \"Linear expansion coefficient * 106\", 4], [\"DNO sk [zk] \", \"Offset on refractive index\", 5], [\"DVO sk [zk] \", \"Offset on Abbe number (V-number)\", 6], [\"GADE sk [zk] \", \"Tilt of GRIN profile around X-axis\", 7], [\"GBDE sk [zk] \", \"Tilt of GRIN profile around Y-axis\", 8], [\"GCDE sk [zk] \", \"Tilt of GRIN profile around Z-axis\", 9], [\"GXDE sk [zk] \", \"X-decenter of GRIN profile\", 10], [\"GYDE sk [zk] \", \"Y-decenter of GRIN profile\", 11], [\"DNDT sk wk [TEMP PRE]\", \"Absolute dndT at surface sk, wavelength wk. The absolute dndT is referred to vacuum (the default in OpTaliX if temperature calculations are concerned). Optional parameters are temperature \\u00a0TEMP (in \\u00b0C) and pressure \\u00a0PRE (in mmHg). If not specified, TEMP defaults to 20\\u00b0C and \\u00a0PRE to 760 mmHg.\", 12], [\"ADNDT sk wk [TEMP PRE]\", \"Absolute dndT at surface sk, wavelength wk. Complementary command to DNDT (see above).\", 13], [\"RDNDT sk wk [TEMP PRE]\", \"Relative dndT at surface sk, wavelength wk. The relative dndT is referred to air. See also the definition of dndT.\", 14], [\"EXC sk \", \"Expansion coefficient at surface sk, Unit = 10-6.\", 15], [\"EXM sk \", \"Mirror substrate, expansion coefficient at surface sk, Unit = 10-6.\", 16], [\"SPG sk \", \"Specific gravity [g/cm2] at surface sk.\", 17], [\"RHO sk \", \"Specific gravity [g/cm2] at surface sk. Alternative command to SPG (see command above).\", 18]];\n",
       "\n",
       "    if (typeof require === 'undefined') {\n",
       "        // TODO: This should become the default (use a simple import)\n",
       "        // when the ESM version works independently of whether\n",
       "        // require.js is there or not, see\n",
       "        // https://datatables.net/forums/discussion/69066/esm-es6-module-support?\n",
       "        const {default: $} = await import(\"https://esm.sh/jquery@3.5.0\");\n",
       "        const {default: initDataTables} = await import(\"https://esm.sh/datatables.net@1.11.3?deps=jquery@3.5.0\");\n",
       "\n",
       "        initDataTables();\n",
       "\n",
       "        // Define the dt_args\n",
       "        let dt_args = {\"columnDefs\": [{\"className\": \"dt-left\", \"targets\": \"_all\"}, {\"width\": \"500px\", \"targets\": 1}], \"lengthMenu\": [50, 100, 200, 500], \"paging\": false};\n",
       "        dt_args[\"data\"] = data;\n",
       "\n",
       "        // Display the table\n",
       "        $(document).ready(function () {\n",
       "            $('#2082d060-a445-4379-8ef4-4c7bd71e9a37').DataTable(dt_args);\n",
       "        });\n",
       "    } else {\n",
       "        require([\"jquery\", \"datatables\"], ($, datatables) => {\n",
       "                // Define the dt_args\n",
       "                let dt_args = {\"columnDefs\": [{\"className\": \"dt-left\", \"targets\": \"_all\"}, {\"width\": \"500px\", \"targets\": 1}], \"lengthMenu\": [50, 100, 200, 500], \"paging\": false};\n",
       "                dt_args[\"data\"] = data;\n",
       "\n",
       "                // Display the table\n",
       "                $(document).ready(function () {\n",
       "                    $('#2082d060-a445-4379-8ef4-4c7bd71e9a37').DataTable(dt_args);\n",
       "                });\n",
       "            }\n",
       "        )\n",
       "    }\n",
       "</script>\n"
      ],
      "text/plain": [
       "                                                              Description  \\\n",
       "Item                                                                        \n",
       "GLA sk [zk]                                Returns string with glass name   \n",
       "GL1 sk [zk]             Returns string with glass name, equivalent to ...   \n",
       "GL2 sk [zk]             Returns string with glass name on ''right'' si...   \n",
       "EXC sk [zk]                            Linear expansion coefficient * 106   \n",
       "DNO sk [zk]                                    Offset on refractive index   \n",
       "DVO sk [zk]                              Offset on Abbe number (V-number)   \n",
       "GADE sk [zk]                           Tilt of GRIN profile around X-axis   \n",
       "GBDE sk [zk]                           Tilt of GRIN profile around Y-axis   \n",
       "GCDE sk [zk]                           Tilt of GRIN profile around Z-axis   \n",
       "GXDE sk [zk]                                   X-decenter of GRIN profile   \n",
       "GYDE sk [zk]                                   Y-decenter of GRIN profile   \n",
       "DNDT sk wk [TEMP PRE]   Absolute dndT at surface sk, wavelength wk. Th...   \n",
       "ADNDT sk wk [TEMP PRE]  Absolute dndT at surface sk, wavelength wk. Co...   \n",
       "RDNDT sk wk [TEMP PRE]  Relative dndT at surface sk, wavelength wk. Th...   \n",
       "EXC sk                  Expansion coefficient at surface sk, Unit = 10-6.   \n",
       "EXM sk                  Mirror substrate, expansion coefficient at sur...   \n",
       "SPG sk                            Specific gravity [g/cm2] at surface sk.   \n",
       "RHO sk                  Specific gravity [g/cm2] at surface sk. Altern...   \n",
       "\n",
       "                        Order  \n",
       "Item                           \n",
       "GLA sk [zk]                 1  \n",
       "GL1 sk [zk]                 2  \n",
       "GL2 sk [zk]                 3  \n",
       "EXC sk [zk]                 4  \n",
       "DNO sk [zk]                 5  \n",
       "DVO sk [zk]                 6  \n",
       "GADE sk [zk]                7  \n",
       "GBDE sk [zk]                8  \n",
       "GCDE sk [zk]                9  \n",
       "GXDE sk [zk]               10  \n",
       "GYDE sk [zk]               11  \n",
       "DNDT sk wk [TEMP PRE]      12  \n",
       "ADNDT sk wk [TEMP PRE]     13  \n",
       "RDNDT sk wk [TEMP PRE]     14  \n",
       "EXC sk                     15  \n",
       "EXM sk                     16  \n",
       "SPG sk                     17  \n",
       "RHO sk                     18  "
      ]
     },
     "execution_count": 3,
     "metadata": {},
     "output_type": "execute_result"
    }
   ],
   "source": [
    "df_var"
   ]
  },
  {
   "cell_type": "code",
   "execution_count": null,
   "id": "06654ecb",
   "metadata": {},
   "outputs": [],
   "source": []
  },
  {
   "cell_type": "code",
   "execution_count": null,
   "id": "14ed69a1",
   "metadata": {},
   "outputs": [],
   "source": []
  }
 ],
 "metadata": {
  "celltoolbar": "Tags",
  "kernelspec": {
   "display_name": "Python 3 (ipykernel)",
   "language": "python",
   "name": "python3"
  },
  "language_info": {
   "codemirror_mode": {
    "name": "ipython",
    "version": 3
   },
   "file_extension": ".py",
   "mimetype": "text/x-python",
   "name": "python",
   "nbconvert_exporter": "python",
   "pygments_lexer": "ipython3",
   "version": "3.7.11"
  }
 },
 "nbformat": 4,
 "nbformat_minor": 5
}