{
 "cells": [
  {
   "cell_type": "code",
   "execution_count": 1,
   "id": "961fc2ca",
   "metadata": {
    "scrolled": true
   },
   "outputs": [
    {
     "ename": "ModuleNotFoundError",
     "evalue": "No module named 'raypier'",
     "output_type": "error",
     "traceback": [
      "\u001b[1;31m---------------------------------------------------------------------------\u001b[0m",
      "\u001b[1;31mModuleNotFoundError\u001b[0m                       Traceback (most recent call last)",
      "\u001b[1;32m~\\AppData\\Local\\Temp\\ipykernel_10376\\705995918.py\u001b[0m in \u001b[0;36m<module>\u001b[1;34m\u001b[0m\n\u001b[1;32m----> 1\u001b[1;33m \u001b[1;32mfrom\u001b[0m \u001b[0mraypier\u001b[0m\u001b[1;33m.\u001b[0m\u001b[0mtracer\u001b[0m \u001b[1;32mimport\u001b[0m \u001b[0mRayTraceModel\u001b[0m\u001b[1;33m\u001b[0m\u001b[1;33m\u001b[0m\u001b[0m\n\u001b[0m\u001b[0;32m      2\u001b[0m \u001b[1;32mfrom\u001b[0m \u001b[0mraypier\u001b[0m\u001b[1;33m.\u001b[0m\u001b[0msources\u001b[0m \u001b[1;32mimport\u001b[0m \u001b[0mHexagonalRayFieldSource\u001b[0m\u001b[1;33m,\u001b[0m \u001b[0mConfocalRayFieldSource\u001b[0m\u001b[1;33m\u001b[0m\u001b[1;33m\u001b[0m\u001b[0m\n\u001b[0;32m      3\u001b[0m \u001b[1;32mfrom\u001b[0m \u001b[0mraypier\u001b[0m\u001b[1;33m.\u001b[0m\u001b[0mlenses\u001b[0m \u001b[1;32mimport\u001b[0m \u001b[0mPlanoConvexLens\u001b[0m\u001b[1;33m\u001b[0m\u001b[1;33m\u001b[0m\u001b[0m\n\u001b[0;32m      4\u001b[0m \u001b[1;32mfrom\u001b[0m \u001b[0mraypier\u001b[0m\u001b[1;33m.\u001b[0m\u001b[0mapertures\u001b[0m \u001b[1;32mimport\u001b[0m \u001b[0mCircularAperture\u001b[0m\u001b[1;33m\u001b[0m\u001b[1;33m\u001b[0m\u001b[0m\n\u001b[0;32m      5\u001b[0m \u001b[1;32mfrom\u001b[0m \u001b[0mraypier\u001b[0m\u001b[1;33m.\u001b[0m\u001b[0mfields\u001b[0m \u001b[1;32mimport\u001b[0m \u001b[0mEFieldPlane\u001b[0m\u001b[1;33m\u001b[0m\u001b[1;33m\u001b[0m\u001b[0m\n",
      "\u001b[1;31mModuleNotFoundError\u001b[0m: No module named 'raypier'"
     ]
    }
   ],
   "source": [
    "from raypier.tracer import RayTraceModel\n",
    "from raypier.sources import HexagonalRayFieldSource, ConfocalRayFieldSource\n",
    "from raypier.lenses import PlanoConvexLens\n",
    "from raypier.apertures import CircularAperture\n",
    "from raypier.fields import EFieldPlane\n",
    "from raypier.constraints import BaseConstraint\n",
    "from raypier.intensity_image import IntensityImageView\n",
    "from raypier.intensity_surface import IntensitySurface\n",
    "\n",
    "from traits.api import Range, on_trait_change\n",
    "from traitsui.api import View, Item\n",
    "\n",
    "\n",
    "aperture = CircularAperture(centre=(0,0,10), direction=(0,0,1),\n",
    "                            hole_diameter = 0.5, edge_width=0.001, invert=True)\n",
    "\n",
    "src = HexagonalRayFieldSource(resolution=10.0, direction=(0,0,1),\n",
    "                              radius=2.0,\n",
    "                              wavelength=1.0)\n",
    "\n",
    "probe = EFieldPlane(source=src,\n",
    "                    centre=(0,0,50),\n",
    "                    direction=(0,1,0),\n",
    "                    exit_pupil_offset=100.,\n",
    "                    width=2.0,\n",
    "                    height=100.0,\n",
    "                    size=100)\n",
    "\n",
    "img = IntensityImageView(field_probe=probe)\n",
    "surf = IntensitySurface(field_probe=probe)\n",
    "\n",
    "\n",
    "class FocalPlane(BaseConstraint):\n",
    "    z_pos = Range(50.0,130.0, 57.73)\n",
    "    \n",
    "    traits_view = View(Item(\"z_pos\"))\n",
    "    \n",
    "    def __init__(self, *args, **kwds):\n",
    "        super().__init__(*args, **kwds)\n",
    "        self.on_change_z_pos()\n",
    "    \n",
    "    @on_trait_change(\"z_pos\")\n",
    "    def on_change_z_pos(self):\n",
    "        probe.centre = (0,0,self.z_pos)\n",
    "        \n",
    "        \n",
    "\n",
    "model = RayTraceModel(sources=[src], optics=[aperture],\n",
    "                      probes=[probe], constraints=[FocalPlane()],\n",
    "                      results=[img, surf])\n",
    "model.ipython_view(800,600)"
   ]
  },
  {
   "cell_type": "code",
   "execution_count": null,
   "id": "94aa61fc",
   "metadata": {},
   "outputs": [],
   "source": []
  }
 ],
 "metadata": {
  "kernelspec": {
   "display_name": "Python 3 (ipykernel)",
   "language": "python",
   "name": "python3"
  },
  "language_info": {
   "codemirror_mode": {
    "name": "ipython",
    "version": 3
   },
   "file_extension": ".py",
   "mimetype": "text/x-python",
   "name": "python",
   "nbconvert_exporter": "python",
   "pygments_lexer": "ipython3",
   "version": "3.7.11"
  }
 },
 "nbformat": 4,
 "nbformat_minor": 5
}