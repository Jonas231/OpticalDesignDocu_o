{
 "cells": [
  {
   "cell_type": "markdown",
   "id": "44ddaa3e",
   "metadata": {},
   "source": [
    "# OpTaliX: Ray data\n",
    "\n",
    "These are ..."
   ]
  },
  {
   "cell_type": "code",
   "execution_count": 1,
   "id": "30d3a396",
   "metadata": {
    "tags": [
     "remove_input"
    ]
   },
   "outputs": [
    {
     "data": {
      "application/javascript": [
       "if (typeof require !== 'undefined')\n",
       "    require.config({\n",
       "        paths: {\n",
       "            jquery: 'https://code.jquery.com/jquery-3.5.1.min',\n",
       "            datatables: 'https://cdn.datatables.net/1.11.3/js/jquery.dataTables.min',\n",
       "        }\n",
       "    });\n"
      ],
      "text/plain": [
       "<IPython.core.display.Javascript object>"
      ]
     },
     "metadata": {},
     "output_type": "display_data"
    }
   ],
   "source": [
    "import pandas as pd\n",
    "import itables\n",
    "from itables import init_notebook_mode, show\n",
    "import itables.options as opt\n",
    "\n",
    "init_notebook_mode(all_interactive=True)\n",
    "\n",
    "opt.lengthMenu = [50, 100, 200, 500]\n",
    "#opt.classes = [\"display\", \"cell-border\"]\n",
    "#opt.classes = [\"display\", \"nowrap\"]\n",
    "\n",
    "opt.columnDefs = [{\"className\": \"dt-left\", \"targets\": \"_all\"}, {\"width\": \"500px\", \"targets\": 1}]\n"
   ]
  },
  {
   "cell_type": "code",
   "execution_count": 2,
   "id": "36dee203",
   "metadata": {
    "tags": [
     "remove_input"
    ]
   },
   "outputs": [],
   "source": [
    "import os\n",
    "cwd = os.getcwd()\n",
    "filename = os.path.join(cwd, os.path.join('Excel', 'OpTaliX_optimization_operands.xlsx'))\n",
    "df_var = pd.read_excel(filename, sheet_name = \"Ray Data\", header = 0, index_col = 0)\n",
    "df_var = df_var.dropna()   # drop nan values"
   ]
  },
  {
   "cell_type": "code",
   "execution_count": 3,
   "id": "ad2657ec",
   "metadata": {
    "tags": [
     "remove_input"
    ]
   },
   "outputs": [
    {
     "data": {
      "text/html": [
       "<table id=\"025fcc15-cc63-4e63-b8e2-e9036e1ccbef\" class=\"display\"style=\"max-width:100%\"><thead><th></th><th>Description</th><th>Order</th></thead><tbody><tr><td>Loading... (need <a href=https://mwouts.github.io/itables/troubleshooting.html>help</a>?)</td></tr></tbody></table>\n",
       "<link rel=\"stylesheet\" type=\"text/css\" href=\"https://cdn.datatables.net/1.11.3/css/jquery.dataTables.min.css\">\n",
       "<style> table td {\n",
       "    text-overflow: ellipsis;\n",
       "    overflow: hidden;\n",
       "} </style>\n",
       "<style> table th {\n",
       "    text-overflow: ellipsis;\n",
       "    overflow: hidden;\n",
       "} </style>\n",
       "<script type=\"module\">\n",
       "    // Define the table data\n",
       "    const data = [[\"AOI sk fk wk [zk] rel_X rel_Y \", \"Angle of incidence of a single ray at surface sk. rel_X, rel_Y are the relative pupil coordinates (betwen -1 and 1).\", 1], [\"AOR sk fk wk [zk] rel_X rel_Y \", \"Angle of refraction/reflection relative to the local surface normal at surface sk. rel_X, rel_Y are the relative pupil coordinates (betwen -1 and 1).\", 2], [\"X sk wk fk rx ry [zk] \", \"X-intersection coordinate of ray on surface \\u00a0sk, wavelength \\u00a0wk, field \\u00a0fk, relative x-pupil \\u00a0rx, relative y-pupil \\u00a0ry\", 3], [\"Y sk wk fk rx ry [zk] \", \"Y-intersection coordinate of ray on surface \\u00a0sk, wavelength \\u00a0wk, field \\u00a0fk, relative x-pupil \\u00a0rx, relative y-pupil \\u00a0ry\", 4], [\"Z sk wk fk rx ry [zk] \", \"Z-intersection coordinate of ray on surface \\u00a0sk, wavelength \\u00a0wk, field \\u00a0fk, relative x-pupil \\u00a0rx, relative y-pupil \\u00a0ry\", 5], [\"XGR wi..j fk [zk] \", \"X-coordinate of spot gravity center on the image surface for wavelength range \\u00a0wi..j, field \\u00a0fk\", 7], [\"YGR wi..j fk [zk] \", \"X-coordinate of spot gravity center on the image surface for wavelength range \\u00a0wi..j, field \\u00a0fk\", 8], [\"CX sk wk fk rx ry [zk] \", \"X-direction cosine of ray on surface \\u00a0sk, wavelength \\u00a0wk, field \\u00a0fk, relative x-pupil \\u00a0rx, relative y-pupil \\u00a0ry\", 10], [\"CY sk wk fk rx ry [zk] \", \"Y-direction cosine of ray on surface \\u00a0sk, wavelength \\u00a0wk, field \\u00a0fk, relative x-pupil \\u00a0rx, relative y-pupil \\u00a0ry\", 11], [\"CZ sk wk fk rx ry [zk] \", \"Z-direction cosine of ray on surface \\u00a0sk, wavelength \\u00a0wk, field \\u00a0fk, relative x-pupil \\u00a0rx, relative y-pupil \\u00a0ry\", 12], [\"CXN sk wk fk rx ry [zk] \", \"X-direction cosine of surface normal on surface \\u00a0sk, wavelength \\u00a0wk, field \\u00a0fk, relative x-pupil \\u00a0rx, relative y-pupil \\u00a0ry\", 14], [\"CYN sk wk fk rx ry [zk] \", \"Y-direction cosine of surface normal on surface \\u00a0sk, wavelength \\u00a0wk, field \\u00a0fk, relative x-pupil \\u00a0rx, relative y-pupil \\u00a0ry\", 15], [\"CZN sk wk fk rx ry [zk] \", \"Z-direction cosine of surface normal on surface \\u00a0sk, wavelength \\u00a0wk, field \\u00a0fk, relative x-pupil \\u00a0rx, relative y-pupil \\u00a0ry\", 16], [\"NRAYS wk fk zk \", \"Number of rays traced at wavelength wk, field fk, zoom position zk. The result depends on the NRD setting (number of rays across pupil diameter).\", 17]];\n",
       "\n",
       "    if (typeof require === 'undefined') {\n",
       "        // TODO: This should become the default (use a simple import)\n",
       "        // when the ESM version works independently of whether\n",
       "        // require.js is there or not, see\n",
       "        // https://datatables.net/forums/discussion/69066/esm-es6-module-support?\n",
       "        const {default: $} = await import(\"https://esm.sh/jquery@3.5.0\");\n",
       "        const {default: initDataTables} = await import(\"https://esm.sh/datatables.net@1.11.3?deps=jquery@3.5.0\");\n",
       "\n",
       "        initDataTables();\n",
       "\n",
       "        // Define the dt_args\n",
       "        let dt_args = {\"columnDefs\": [{\"className\": \"dt-left\", \"targets\": \"_all\"}, {\"width\": \"500px\", \"targets\": 1}], \"lengthMenu\": [50, 100, 200, 500], \"paging\": false};\n",
       "        dt_args[\"data\"] = data;\n",
       "\n",
       "        // Display the table\n",
       "        $(document).ready(function () {\n",
       "            $('#025fcc15-cc63-4e63-b8e2-e9036e1ccbef').DataTable(dt_args);\n",
       "        });\n",
       "    } else {\n",
       "        require([\"jquery\", \"datatables\"], ($, datatables) => {\n",
       "                // Define the dt_args\n",
       "                let dt_args = {\"columnDefs\": [{\"className\": \"dt-left\", \"targets\": \"_all\"}, {\"width\": \"500px\", \"targets\": 1}], \"lengthMenu\": [50, 100, 200, 500], \"paging\": false};\n",
       "                dt_args[\"data\"] = data;\n",
       "\n",
       "                // Display the table\n",
       "                $(document).ready(function () {\n",
       "                    $('#025fcc15-cc63-4e63-b8e2-e9036e1ccbef').DataTable(dt_args);\n",
       "                });\n",
       "            }\n",
       "        )\n",
       "    }\n",
       "</script>\n"
      ],
      "text/plain": [
       "                                                                      Description  \\\n",
       "Item                                                                                \n",
       "AOI sk fk wk [zk] rel_X rel_Y   Angle of incidence of a single ray at surface ...   \n",
       "AOR sk fk wk [zk] rel_X rel_Y   Angle of refraction/reflection relative to the...   \n",
       "X sk wk fk rx ry [zk]           X-intersection coordinate of ray on surface  s...   \n",
       "Y sk wk fk rx ry [zk]           Y-intersection coordinate of ray on surface  s...   \n",
       "Z sk wk fk rx ry [zk]           Z-intersection coordinate of ray on surface  s...   \n",
       "XGR wi..j fk [zk]               X-coordinate of spot gravity center on the ima...   \n",
       "YGR wi..j fk [zk]               X-coordinate of spot gravity center on the ima...   \n",
       "CX sk wk fk rx ry [zk]          X-direction cosine of ray on surface  sk, wave...   \n",
       "CY sk wk fk rx ry [zk]          Y-direction cosine of ray on surface  sk, wave...   \n",
       "CZ sk wk fk rx ry [zk]          Z-direction cosine of ray on surface  sk, wave...   \n",
       "CXN sk wk fk rx ry [zk]         X-direction cosine of surface normal on surfac...   \n",
       "CYN sk wk fk rx ry [zk]         Y-direction cosine of surface normal on surfac...   \n",
       "CZN sk wk fk rx ry [zk]         Z-direction cosine of surface normal on surfac...   \n",
       "NRAYS wk fk zk                  Number of rays traced at wavelength wk, field ...   \n",
       "\n",
       "                                Order  \n",
       "Item                                   \n",
       "AOI sk fk wk [zk] rel_X rel_Y       1  \n",
       "AOR sk fk wk [zk] rel_X rel_Y       2  \n",
       "X sk wk fk rx ry [zk]               3  \n",
       "Y sk wk fk rx ry [zk]               4  \n",
       "Z sk wk fk rx ry [zk]               5  \n",
       "XGR wi..j fk [zk]                   7  \n",
       "YGR wi..j fk [zk]                   8  \n",
       "CX sk wk fk rx ry [zk]             10  \n",
       "CY sk wk fk rx ry [zk]             11  \n",
       "CZ sk wk fk rx ry [zk]             12  \n",
       "CXN sk wk fk rx ry [zk]            14  \n",
       "CYN sk wk fk rx ry [zk]            15  \n",
       "CZN sk wk fk rx ry [zk]            16  \n",
       "NRAYS wk fk zk                     17  "
      ]
     },
     "execution_count": 3,
     "metadata": {},
     "output_type": "execute_result"
    }
   ],
   "source": [
    "df_var"
   ]
  },
  {
   "cell_type": "code",
   "execution_count": null,
   "id": "06654ecb",
   "metadata": {},
   "outputs": [],
   "source": []
  },
  {
   "cell_type": "code",
   "execution_count": null,
   "id": "14ed69a1",
   "metadata": {},
   "outputs": [],
   "source": []
  }
 ],
 "metadata": {
  "celltoolbar": "Tags",
  "kernelspec": {
   "display_name": "Python 3 (ipykernel)",
   "language": "python",
   "name": "python3"
  },
  "language_info": {
   "codemirror_mode": {
    "name": "ipython",
    "version": 3
   },
   "file_extension": ".py",
   "mimetype": "text/x-python",
   "name": "python",
   "nbconvert_exporter": "python",
   "pygments_lexer": "ipython3",
   "version": "3.7.11"
  }
 },
 "nbformat": 4,
 "nbformat_minor": 5
}