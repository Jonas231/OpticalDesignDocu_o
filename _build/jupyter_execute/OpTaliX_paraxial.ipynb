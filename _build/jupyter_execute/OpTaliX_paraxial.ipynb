{
 "cells": [
  {
   "cell_type": "markdown",
   "id": "f6e5e75b",
   "metadata": {},
   "source": [
    "\n",
    "# OpTaliX: Lens data items paraxial\n",
    "These are ..."
   ]
  },
  {
   "cell_type": "code",
   "execution_count": 1,
   "id": "30d3a396",
   "metadata": {
    "tags": [
     "remove_input"
    ]
   },
   "outputs": [
    {
     "data": {
      "application/javascript": [
       "if (typeof require !== 'undefined')\n",
       "    require.config({\n",
       "        paths: {\n",
       "            jquery: 'https://code.jquery.com/jquery-3.5.1.min',\n",
       "            datatables: 'https://cdn.datatables.net/1.11.3/js/jquery.dataTables.min',\n",
       "        }\n",
       "    });\n"
      ],
      "text/plain": [
       "<IPython.core.display.Javascript object>"
      ]
     },
     "metadata": {},
     "output_type": "display_data"
    }
   ],
   "source": [
    "import pandas as pd\n",
    "import itables\n",
    "from itables import init_notebook_mode, show\n",
    "import itables.options as opt\n",
    "\n",
    "init_notebook_mode(all_interactive=True)\n",
    "\n",
    "opt.lengthMenu = [50, 100, 200, 500]\n",
    "#opt.classes = [\"display\", \"cell-border\"]\n",
    "#opt.classes = [\"display\", \"nowrap\"]\n",
    "\n",
    "opt.columnDefs = [{\"className\": \"dt-left\", \"targets\": \"_all\"}, {\"width\": \"500px\", \"targets\": 1}]\n"
   ]
  },
  {
   "cell_type": "code",
   "execution_count": 2,
   "id": "36dee203",
   "metadata": {
    "tags": [
     "remove_input"
    ]
   },
   "outputs": [],
   "source": [
    "import os\n",
    "cwd = os.getcwd()\n",
    "filename = os.path.join(cwd, os.path.join('Excel', 'OpTaliX_optimization_operands.xlsx'))\n",
    "df_var = pd.read_excel(filename, sheet_name = \"LDI_paraxial\", header = 0, index_col = 0)\n",
    "df_var = df_var.dropna()   # drop nan values"
   ]
  },
  {
   "cell_type": "code",
   "execution_count": 3,
   "id": "ad2657ec",
   "metadata": {
    "tags": [
     "remove_input"
    ]
   },
   "outputs": [
    {
     "data": {
      "text/html": [
       "<table id=\"ce7a41e4-66fa-4908-b557-b18303cfc9bc\" class=\"display\"style=\"max-width:100%\"><thead><th></th><th>Description</th><th>Order</th></thead><tbody><tr><td>Loading... (need <a href=https://mwouts.github.io/itables/troubleshooting.html>help</a>?)</td></tr></tbody></table>\n",
       "<link rel=\"stylesheet\" type=\"text/css\" href=\"https://cdn.datatables.net/1.11.3/css/jquery.dataTables.min.css\">\n",
       "<style> table td {\n",
       "    text-overflow: ellipsis;\n",
       "    overflow: hidden;\n",
       "} </style>\n",
       "<style> table th {\n",
       "    text-overflow: ellipsis;\n",
       "    overflow: hidden;\n",
       "} </style>\n",
       "<script type=\"module\">\n",
       "    // Define the table data\n",
       "    const data = [[\"EFL [zk] \", \"Equivalent focal length, Y/Z-cross section, default\", 1], [\"MFL sk \", \"Module focal length\", 2], [\"EFLX [zk] \", \"Equivalent focal length, X/Z-cross section\", 3], [\"PWR [zk] \", \"Optical power = 1/EFL\", 4], [\"BFL [wk] [zk] \", \"Back focal length, if wk is absent, reference colour is used.\", 5], [\"OAL [si..j] [zk] \", \"Overall length between surface vertices si to sj\", 6], [\"OBD\", \"Object distance.\", 7], [\"SYL [si..j] [zk] \", \"Overall length between surface vertices si to sj\", 8], [\"SH1 [zk] \", \"Position of front principal plane from vertex of first surface.\", 9], [\"SH2 [zk] \", \"Position of rear principal plane from vertex of last surface.\", 10], [\"OID [zk] \", \"Object to image distance.\", 11], [\"MAG [zk] \", \"Magnification\", 12], [\"SAP [zk] \", \"Location of exit pupil from last surface.\", 13], [\"SAPI [zk] \", \"1/SAP\", 14], [\"SEP [zk] \", \"Location of entrance pupil from first surface.\", 15], [\"APD [zk] \", \"Exit pupil diameter.\", 16], [\"PRD [zk] \", \"Pupil relay distance (distance entrance pupil to exit pupil)\", 17], [\"PRDI [zk] \", \"1/PRD\", 18], [\"UMY sk [zk] \", \"Paraxial direction angle of the marginal aperture ray\", 19], [\"UA sk [zk] \", \"same as UMY\", 20], [\"HMY sk [zk] \", \"Paraxial height of the marginal aperture ray\", 21], [\"HA sk [zk] \", \"same as HMY\", 22], [\"UCY sk [zk] \", \"Paraxial direction angle of chief ray\", 23], [\"UB sk [zk] \", \"same as UCY\", 24], [\"HCY sk [zk] \", \"Paraxial height of chief ray\", 25], [\"HB sk [zk] \", \"same as HCY\", 26]];\n",
       "\n",
       "    if (typeof require === 'undefined') {\n",
       "        // TODO: This should become the default (use a simple import)\n",
       "        // when the ESM version works independently of whether\n",
       "        // require.js is there or not, see\n",
       "        // https://datatables.net/forums/discussion/69066/esm-es6-module-support?\n",
       "        const {default: $} = await import(\"https://esm.sh/jquery@3.5.0\");\n",
       "        const {default: initDataTables} = await import(\"https://esm.sh/datatables.net@1.11.3?deps=jquery@3.5.0\");\n",
       "\n",
       "        initDataTables();\n",
       "\n",
       "        // Define the dt_args\n",
       "        let dt_args = {\"columnDefs\": [{\"className\": \"dt-left\", \"targets\": \"_all\"}, {\"width\": \"500px\", \"targets\": 1}], \"lengthMenu\": [50, 100, 200, 500], \"paging\": false};\n",
       "        dt_args[\"data\"] = data;\n",
       "\n",
       "        // Display the table\n",
       "        $(document).ready(function () {\n",
       "            $('#ce7a41e4-66fa-4908-b557-b18303cfc9bc').DataTable(dt_args);\n",
       "        });\n",
       "    } else {\n",
       "        require([\"jquery\", \"datatables\"], ($, datatables) => {\n",
       "                // Define the dt_args\n",
       "                let dt_args = {\"columnDefs\": [{\"className\": \"dt-left\", \"targets\": \"_all\"}, {\"width\": \"500px\", \"targets\": 1}], \"lengthMenu\": [50, 100, 200, 500], \"paging\": false};\n",
       "                dt_args[\"data\"] = data;\n",
       "\n",
       "                // Display the table\n",
       "                $(document).ready(function () {\n",
       "                    $('#ce7a41e4-66fa-4908-b557-b18303cfc9bc').DataTable(dt_args);\n",
       "                });\n",
       "            }\n",
       "        )\n",
       "    }\n",
       "</script>\n"
      ],
      "text/plain": [
       "                                                         Description  Order\n",
       "Item                                                                       \n",
       "EFL [zk]           Equivalent focal length, Y/Z-cross section, de...      1\n",
       "MFL sk                                           Module focal length      2\n",
       "EFLX [zk]                 Equivalent focal length, X/Z-cross section      3\n",
       "PWR [zk]                                       Optical power = 1/EFL      4\n",
       "BFL [wk] [zk]      Back focal length, if wk is absent, reference ...      5\n",
       "OAL [si..j] [zk]    Overall length between surface vertices si to sj      6\n",
       "OBD                                                 Object distance.      7\n",
       "SYL [si..j] [zk]    Overall length between surface vertices si to sj      8\n",
       "SH1 [zk]           Position of front principal plane from vertex ...      9\n",
       "SH2 [zk]           Position of rear principal plane from vertex o...     10\n",
       "OID [zk]                                   Object to image distance.     11\n",
       "MAG [zk]                                               Magnification     12\n",
       "SAP [zk]                   Location of exit pupil from last surface.     13\n",
       "SAPI [zk]                                                      1/SAP     14\n",
       "SEP [zk]              Location of entrance pupil from first surface.     15\n",
       "APD [zk]                                        Exit pupil diameter.     16\n",
       "PRD [zk]           Pupil relay distance (distance entrance pupil ...     17\n",
       "PRDI [zk]                                                      1/PRD     18\n",
       "UMY sk [zk]        Paraxial direction angle of the marginal apert...     19\n",
       "UA sk [zk]                                               same as UMY     20\n",
       "HMY sk [zk]             Paraxial height of the marginal aperture ray     21\n",
       "HA sk [zk]                                               same as HMY     22\n",
       "UCY sk [zk]                    Paraxial direction angle of chief ray     23\n",
       "UB sk [zk]                                               same as UCY     24\n",
       "HCY sk [zk]                             Paraxial height of chief ray     25\n",
       "HB sk [zk]                                               same as HCY     26"
      ]
     },
     "execution_count": 3,
     "metadata": {},
     "output_type": "execute_result"
    }
   ],
   "source": [
    "df_var"
   ]
  },
  {
   "cell_type": "code",
   "execution_count": null,
   "id": "06654ecb",
   "metadata": {},
   "outputs": [],
   "source": []
  },
  {
   "cell_type": "code",
   "execution_count": null,
   "id": "14ed69a1",
   "metadata": {},
   "outputs": [],
   "source": []
  }
 ],
 "metadata": {
  "celltoolbar": "Tags",
  "kernelspec": {
   "display_name": "Python 3 (ipykernel)",
   "language": "python",
   "name": "python3"
  },
  "language_info": {
   "codemirror_mode": {
    "name": "ipython",
    "version": 3
   },
   "file_extension": ".py",
   "mimetype": "text/x-python",
   "name": "python",
   "nbconvert_exporter": "python",
   "pygments_lexer": "ipython3",
   "version": "3.7.11"
  }
 },
 "nbformat": 4,
 "nbformat_minor": 5
}