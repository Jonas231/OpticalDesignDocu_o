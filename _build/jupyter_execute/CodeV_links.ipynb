{
 "cells": [
  {
   "cell_type": "markdown",
   "id": "c2d0d230",
   "metadata": {},
   "source": [
    "## Code V: links\n",
    "\n",
    "This page lists some interesting web links sorted by category.\n"
   ]
  },
  {
   "cell_type": "markdown",
   "id": "b0bf1010",
   "metadata": {},
   "source": [
    "### Introduction to CodeV\n",
    "- [Introduction to Code V](https://www.google.com/url?sa=t&rct=j&q=&esrc=s&source=web&cd=&ved=2ahUKEwiG4NDe2sf3AhVQsKQKHV5uDUQQFnoECAYQAQ&url=http%3A%2F%2Fcfile227.uf.daum.net%2Fattach%2F1629B3474F97C67D2BD19D&usg=AOvVaw1XhWA_ZAwBucy8gyMAqUfg)"
   ]
  },
  {
   "cell_type": "code",
   "execution_count": null,
   "id": "b8d3401c",
   "metadata": {},
   "outputs": [],
   "source": []
  },
  {
   "cell_type": "code",
   "execution_count": null,
   "id": "ac8cb5ec",
   "metadata": {},
   "outputs": [],
   "source": []
  },
  {
   "cell_type": "code",
   "execution_count": null,
   "id": "805be254",
   "metadata": {},
   "outputs": [],
   "source": []
  },
  {
   "cell_type": "code",
   "execution_count": null,
   "id": "dca5edc9",
   "metadata": {},
   "outputs": [],
   "source": []
  }
 ],
 "metadata": {
  "kernelspec": {
   "display_name": "Python 3 (ipykernel)",
   "language": "python",
   "name": "python3"
  },
  "language_info": {
   "codemirror_mode": {
    "name": "ipython",
    "version": 3
   },
   "file_extension": ".py",
   "mimetype": "text/x-python",
   "name": "python",
   "nbconvert_exporter": "python",
   "pygments_lexer": "ipython3",
   "version": "3.7.11"
  }
 },
 "nbformat": 4,
 "nbformat_minor": 5
}