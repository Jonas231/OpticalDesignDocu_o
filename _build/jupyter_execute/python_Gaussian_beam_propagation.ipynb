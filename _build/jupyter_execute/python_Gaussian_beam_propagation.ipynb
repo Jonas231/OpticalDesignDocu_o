{
 "cells": [
  {
   "cell_type": "markdown",
   "id": "3f0927bb",
   "metadata": {},
   "source": [
    "## Gaussian beam propagation with python\n",
    "\n",
    "There are several different python packages which can perform Gaussian beam propagation. There are [poppy](https://poppy-optics.readthedocs.io/en/latest/index.html), [lightpipes](https://opticspy.github.io/lightpipes/), [diffractio](https://diffractio.readthedocs.io/en/latest/), e.g., which are used for wave optical propagation calculation.\n",
    "\n",
    "### Poppy\n",
    "How Gaussian beam propagation can be performed with poppy is described here [link](https://notebooks.githubusercontent.com/view/ipynb?browser=chrome&color_mode=auto&commit=45db4164ff1a54eafdc63cd08fb2f7dc4238d38b&device=unknown&enc_url=68747470733a2f2f7261772e67697468756275736572636f6e74656e742e636f6d2f737061636574656c6573636f70652f706f7070792f343564623431363466663161353465616664633633636430386662326637646334323338643338622f6e6f7465626f6f6b732f467265736e656c5f50726f7061676174696f6e5f44656d6f2e6970796e62&logged_in=false&nwo=spacetelescope%2Fpoppy&path=notebooks%2FFresnel_Propagation_Demo.ipynb&platform=android&repository_id=140316515&repository_type=Repository&version=99).\n",
    "\n",
    "### Raypier\n",
    "Raypier also allows to trace paraxial Gaussian beams."
   ]
  },
  {
   "cell_type": "code",
   "execution_count": null,
   "id": "93e97d03",
   "metadata": {},
   "outputs": [],
   "source": []
  },
  {
   "cell_type": "code",
   "execution_count": null,
   "id": "27f1a2e6",
   "metadata": {},
   "outputs": [],
   "source": []
  },
  {
   "cell_type": "code",
   "execution_count": null,
   "id": "b769445f",
   "metadata": {},
   "outputs": [],
   "source": []
  },
  {
   "cell_type": "code",
   "execution_count": null,
   "id": "fe59cd9f",
   "metadata": {},
   "outputs": [],
   "source": []
  }
 ],
 "metadata": {
  "kernelspec": {
   "display_name": "Python 3 (ipykernel)",
   "language": "python",
   "name": "python3"
  },
  "language_info": {
   "codemirror_mode": {
    "name": "ipython",
    "version": 3
   },
   "file_extension": ".py",
   "mimetype": "text/x-python",
   "name": "python",
   "nbconvert_exporter": "python",
   "pygments_lexer": "ipython3",
   "version": "3.7.11"
  }
 },
 "nbformat": 4,
 "nbformat_minor": 5
}