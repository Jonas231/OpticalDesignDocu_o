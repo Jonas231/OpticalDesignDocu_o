{
 "cells": [
  {
   "cell_type": "markdown",
   "id": "8ea4d93c",
   "metadata": {},
   "source": [
    "\n",
    "# OpTaliX: Diffraction analysis\n",
    "These are ..."
   ]
  },
  {
   "cell_type": "code",
   "execution_count": 1,
   "id": "30d3a396",
   "metadata": {
    "tags": [
     "remove_input"
    ]
   },
   "outputs": [
    {
     "data": {
      "application/javascript": [
       "if (typeof require !== 'undefined')\n",
       "    require.config({\n",
       "        paths: {\n",
       "            jquery: 'https://code.jquery.com/jquery-3.5.1.min',\n",
       "            datatables: 'https://cdn.datatables.net/1.11.3/js/jquery.dataTables.min',\n",
       "        }\n",
       "    });\n"
      ],
      "text/plain": [
       "<IPython.core.display.Javascript object>"
      ]
     },
     "metadata": {},
     "output_type": "display_data"
    }
   ],
   "source": [
    "import pandas as pd\n",
    "import itables\n",
    "from itables import init_notebook_mode, show\n",
    "import itables.options as opt\n",
    "\n",
    "init_notebook_mode(all_interactive=True)\n",
    "\n",
    "opt.lengthMenu = [50, 100, 200, 500]\n",
    "#opt.classes = [\"display\", \"cell-border\"]\n",
    "#opt.classes = [\"display\", \"nowrap\"]\n",
    "\n",
    "opt.columnDefs = [{\"className\": \"dt-left\", \"targets\": \"_all\"}, {\"width\": \"500px\", \"targets\": 1}]\n"
   ]
  },
  {
   "cell_type": "code",
   "execution_count": 2,
   "id": "36dee203",
   "metadata": {
    "tags": [
     "remove_input"
    ]
   },
   "outputs": [],
   "source": [
    "import os\n",
    "cwd = os.getcwd()\n",
    "filename = os.path.join(cwd, os.path.join('Excel', 'OpTaliX_optimization_operands.xlsx'))\n",
    "df_var = pd.read_excel(filename, sheet_name = \"Diffraction Analysis\", header = 0, index_col = 0)\n",
    "df_var = df_var.dropna()   # drop nan values"
   ]
  },
  {
   "cell_type": "code",
   "execution_count": 3,
   "id": "ad2657ec",
   "metadata": {
    "tags": [
     "remove_input"
    ]
   },
   "outputs": [
    {
     "data": {
      "text/html": [
       "<table id=\"4fb15569-6916-4d19-b831-45117341bdee\" class=\"display\"style=\"max-width:100%\"><thead><th></th><th>Description</th><th>Order</th></thead><tbody><tr><td>Loading... (need <a href=https://mwouts.github.io/itables/troubleshooting.html>help</a>?)</td></tr></tbody></table>\n",
       "<link rel=\"stylesheet\" type=\"text/css\" href=\"https://cdn.datatables.net/1.11.3/css/jquery.dataTables.min.css\">\n",
       "<style> table td {\n",
       "    text-overflow: ellipsis;\n",
       "    overflow: hidden;\n",
       "} </style>\n",
       "<style> table th {\n",
       "    text-overflow: ellipsis;\n",
       "    overflow: hidden;\n",
       "} </style>\n",
       "<script type=\"module\">\n",
       "    // Define the table data\n",
       "    const data = [[\"STREHL fk [wi..j] [zk] \", \"Strehl ratio\", 1], [\"DMD [fk|fi..j wk|wi..j] ape_x ape_y\", \"Conrady D-d sum at field \\u00a0fk\\u00a0 weighted over wavelengths wi..j.\", 2], [\"MTF fk [wi..j] [zk] \", \"Mean MTF at spatial frequency MFR. Equivalent to MTFA command (see below).\", 3], [\"MTFA fk [wi..j] [zk] \", \"Average (mean) MTF = 0.5*MTF(Tan+Sag) at spatial frequency MFR\", 4], [\"MTFS fk [wi..j] [zk] \", \"Sagittal MTF at spatial frequency MFR\", 5], [\"MTFT fk [wi..j] [zk] \", \"Tangential MTF at spatial frequency MFR\", 6], [\"WAV fk wk [zk] \", \"Wavefront aberration (rms)\", 7], [\"WAVPV fk wk [zk] \", \"Wavefront aberration (PV)\", 8]];\n",
       "\n",
       "    if (typeof require === 'undefined') {\n",
       "        // TODO: This should become the default (use a simple import)\n",
       "        // when the ESM version works independently of whether\n",
       "        // require.js is there or not, see\n",
       "        // https://datatables.net/forums/discussion/69066/esm-es6-module-support?\n",
       "        const {default: $} = await import(\"https://esm.sh/jquery@3.5.0\");\n",
       "        const {default: initDataTables} = await import(\"https://esm.sh/datatables.net@1.11.3?deps=jquery@3.5.0\");\n",
       "\n",
       "        initDataTables();\n",
       "\n",
       "        // Define the dt_args\n",
       "        let dt_args = {\"columnDefs\": [{\"className\": \"dt-left\", \"targets\": \"_all\"}, {\"width\": \"500px\", \"targets\": 1}], \"lengthMenu\": [50, 100, 200, 500], \"paging\": false};\n",
       "        dt_args[\"data\"] = data;\n",
       "\n",
       "        // Display the table\n",
       "        $(document).ready(function () {\n",
       "            $('#4fb15569-6916-4d19-b831-45117341bdee').DataTable(dt_args);\n",
       "        });\n",
       "    } else {\n",
       "        require([\"jquery\", \"datatables\"], ($, datatables) => {\n",
       "                // Define the dt_args\n",
       "                let dt_args = {\"columnDefs\": [{\"className\": \"dt-left\", \"targets\": \"_all\"}, {\"width\": \"500px\", \"targets\": 1}], \"lengthMenu\": [50, 100, 200, 500], \"paging\": false};\n",
       "                dt_args[\"data\"] = data;\n",
       "\n",
       "                // Display the table\n",
       "                $(document).ready(function () {\n",
       "                    $('#4fb15569-6916-4d19-b831-45117341bdee').DataTable(dt_args);\n",
       "                });\n",
       "            }\n",
       "        )\n",
       "    }\n",
       "</script>\n"
      ],
      "text/plain": [
       "                                                                           Description  \\\n",
       "Item                                                                                     \n",
       "STREHL fk [wi..j] [zk]                                                    Strehl ratio   \n",
       "DMD [fk|fi..j wk|wi..j] ape_x ape_y  Conrady D-d sum at field  fk  weighted over wa...   \n",
       "MTF fk [wi..j] [zk]                  Mean MTF at spatial frequency MFR. Equivalent ...   \n",
       "MTFA fk [wi..j] [zk]                 Average (mean) MTF = 0.5*MTF(Tan+Sag) at spati...   \n",
       "MTFS fk [wi..j] [zk]                             Sagittal MTF at spatial frequency MFR   \n",
       "MTFT fk [wi..j] [zk]                           Tangential MTF at spatial frequency MFR   \n",
       "WAV fk wk [zk]                                              Wavefront aberration (rms)   \n",
       "WAVPV fk wk [zk]                                             Wavefront aberration (PV)   \n",
       "\n",
       "                                     Order  \n",
       "Item                                        \n",
       "STREHL fk [wi..j] [zk]                   1  \n",
       "DMD [fk|fi..j wk|wi..j] ape_x ape_y      2  \n",
       "MTF fk [wi..j] [zk]                      3  \n",
       "MTFA fk [wi..j] [zk]                     4  \n",
       "MTFS fk [wi..j] [zk]                     5  \n",
       "MTFT fk [wi..j] [zk]                     6  \n",
       "WAV fk wk [zk]                           7  \n",
       "WAVPV fk wk [zk]                         8  "
      ]
     },
     "execution_count": 3,
     "metadata": {},
     "output_type": "execute_result"
    }
   ],
   "source": [
    "df_var"
   ]
  },
  {
   "cell_type": "code",
   "execution_count": null,
   "id": "06654ecb",
   "metadata": {},
   "outputs": [],
   "source": []
  },
  {
   "cell_type": "code",
   "execution_count": null,
   "id": "14ed69a1",
   "metadata": {},
   "outputs": [],
   "source": []
  }
 ],
 "metadata": {
  "celltoolbar": "Tags",
  "kernelspec": {
   "display_name": "Python 3 (ipykernel)",
   "language": "python",
   "name": "python3"
  },
  "language_info": {
   "codemirror_mode": {
    "name": "ipython",
    "version": 3
   },
   "file_extension": ".py",
   "mimetype": "text/x-python",
   "name": "python",
   "nbconvert_exporter": "python",
   "pygments_lexer": "ipython3",
   "version": "3.7.11"
  }
 },
 "nbformat": 4,
 "nbformat_minor": 5
}