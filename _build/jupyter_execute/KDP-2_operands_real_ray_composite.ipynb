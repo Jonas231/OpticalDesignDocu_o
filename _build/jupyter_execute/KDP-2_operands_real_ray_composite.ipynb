{
 "cells": [
  {
   "cell_type": "markdown",
   "id": "4ea0475c",
   "metadata": {},
   "source": [
    "# Real ray composite\n",
    "\n",
    "These are the operands of spectrometer."
   ]
  },
  {
   "cell_type": "code",
   "execution_count": 1,
   "id": "defae62c",
   "metadata": {
    "tags": [
     "remove_input"
    ]
   },
   "outputs": [
    {
     "data": {
      "application/javascript": [
       "if (typeof require !== 'undefined')\n",
       "    require.config({\n",
       "        paths: {\n",
       "            jquery: 'https://code.jquery.com/jquery-3.5.1.min',\n",
       "            datatables: 'https://cdn.datatables.net/1.11.3/js/jquery.dataTables.min',\n",
       "        }\n",
       "    });\n"
      ],
      "text/plain": [
       "<IPython.core.display.Javascript object>"
      ]
     },
     "metadata": {},
     "output_type": "display_data"
    }
   ],
   "source": [
    "import pandas as pd\n",
    "import itables\n",
    "from itables import init_notebook_mode, show\n",
    "import itables.options as opt\n",
    "\n",
    "init_notebook_mode(all_interactive=True)\n",
    "\n",
    "opt.lengthMenu = [50, 100, 200, 500]\n",
    "#opt.classes = [\"display\", \"cell-border\"]\n",
    "#opt.classes = [\"display\", \"nowrap\"]\n",
    "\n",
    "opt.columnDefs = [{\"className\": \"dt-left\", \"targets\": \"_all\"}, {\"width\": \"500px\", \"targets\": 4}]\n",
    "#opt.maxBytes = 0\n",
    "#pd.get_option('display.max_columns')\n",
    "#pd.get_option('display.max_rows')\n",
    "\n",
    "\n"
   ]
  },
  {
   "cell_type": "code",
   "execution_count": 2,
   "id": "e06a3e1a",
   "metadata": {
    "tags": [
     "remove_input"
    ]
   },
   "outputs": [],
   "source": [
    "import os\n",
    "cwd = os.getcwd()\n",
    "filename = os.path.join(cwd, os.path.join('Excel', 'KDP-2_optimization_operands.xlsx'))\n",
    "\n",
    "df_rrcomp = pd.read_excel(filename, sheet_name = \"real ray composite\", header = 1, index_col = 0)\n",
    "df_rrcomp = df_rrcomp.dropna()   # drop nan values\n",
    "\n"
   ]
  },
  {
   "cell_type": "code",
   "execution_count": 3,
   "id": "0a352a50",
   "metadata": {
    "tags": [
     "remove_input"
    ]
   },
   "outputs": [
    {
     "data": {
      "text/html": [
       "<table id=\"23ef8cfd-8a54-4d9a-b335-8c8c1e9b3dfd\" class=\"display\"style=\"max-width:100%\"><thead><th></th><th>\"i\" </th><th>\"j\"</th><th>\"k\"</th><th>DESCRIPTION</th><th>Order</th></thead><tbody><tr><td>Loading... (need <a href=https://mwouts.github.io/itables/troubleshooting.html>help</a>?)</td></tr></tbody></table>\n",
       "<link rel=\"stylesheet\" type=\"text/css\" href=\"https://cdn.datatables.net/1.11.3/css/jquery.dataTables.min.css\">\n",
       "<style> table td {\n",
       "    text-overflow: ellipsis;\n",
       "    overflow: hidden;\n",
       "} </style>\n",
       "<style> table th {\n",
       "    text-overflow: ellipsis;\n",
       "    overflow: hidden;\n",
       "} </style>\n",
       "<script type=\"module\">\n",
       "    // Define the table data\n",
       "    const data = [[\"CLEARX\", \"fob#1.ray#1, example: 1.0012\", \"fob#2.ray#2 example: 34.0005\", \"surf#1.surf#2 example: 5.007\", \"\\\"i\\\" and \\\"j\\\" are decimal entries with three digits to the left of the decimal point and four digits to the right. \\\"k\\\"  is a decimal entry with three digits to the left of the decimal point and three digits to the right.  For \\\"i\\\" and \\\"j\\\", the input represents the FOB and RAY numbers representing two rays as defined in the current Fields and Rays definitions. For \\\"k\\\", the input represents two surface numbers. The value returned as the \\\"clearance-X\\\" operand is: The signed, globally referenced, perpendicular-distance from the \\\"first\\\" ray (Vector A)  as defined by \\\"i\\\" leaving the \\\"first\\\" surface defined in \\\"k\\\" to a point (point B) defined by the intersection of the \\\"second\\\" ray as defined in \\\"j\\\" with the \\\"second\\\" surface defined in \\\"k\\\". The calculation is performed on an XZ-plane projection. The returned operand value is positive if the point B lies above or to the right of the line (vector A), otherwise it is negative. All calculations are referenced to the global coordinate system of surface (surf#2). \", 1.0], [\"CLEARY\", \"fob#1.ray#1, example: 1.0012\", \"fob#2.ray#2 example: 34.0005\", \"surf#1.surf#2 example: 5.007\", \"\\\"i\\\" and \\\"j\\\" are decimal entries with three digits to the left of the decimal point and four digits to the right. \\\"k\\\"  is a decimal entry with three digits to the left of the decimal point and three digits to the right.  For \\\"i\\\" and \\\"j\\\", the input represents the FOB and RAY numbers representing two rays as defined in the current Fields and Rays definitions. For \\\"k\\\", the input represents two surface numbers. The value returned as the \\\"clearance-Y\\\" operand is: The signed, globally referenced, perpendicular-distance from the \\\"first\\\" ray (VectorA) as defined by \\\"i\\\" leaving the \\\"first\\\" surface defined in \\\"k\\\" to a point (point B) defined by the intersection of the \\\"second\\\" ray as defined in \\\"j\\\" with the \\\"second\\\" surface defined in \\\"k\\\". The calculation is performed on a YZ-plane projection. The returned operand value is positive if the point B lies above or to the right of the line (vector A), otherwise it is negative. All calculations are referenced to the global coordinate system of surface (surf#2). \", 2.0]];\n",
       "\n",
       "    if (typeof require === 'undefined') {\n",
       "        // TODO: This should become the default (use a simple import)\n",
       "        // when the ESM version works independently of whether\n",
       "        // require.js is there or not, see\n",
       "        // https://datatables.net/forums/discussion/69066/esm-es6-module-support?\n",
       "        const {default: $} = await import(\"https://esm.sh/jquery@3.5.0\");\n",
       "        const {default: initDataTables} = await import(\"https://esm.sh/datatables.net@1.11.3?deps=jquery@3.5.0\");\n",
       "\n",
       "        initDataTables();\n",
       "\n",
       "        // Define the dt_args\n",
       "        let dt_args = {\"columnDefs\": [{\"className\": \"dt-left\", \"targets\": \"_all\"}, {\"width\": \"500px\", \"targets\": 4}], \"lengthMenu\": [50, 100, 200, 500], \"paging\": false};\n",
       "        dt_args[\"data\"] = data;\n",
       "\n",
       "        // Display the table\n",
       "        $(document).ready(function () {\n",
       "            $('#23ef8cfd-8a54-4d9a-b335-8c8c1e9b3dfd').DataTable(dt_args);\n",
       "        });\n",
       "    } else {\n",
       "        require([\"jquery\", \"datatables\"], ($, datatables) => {\n",
       "                // Define the dt_args\n",
       "                let dt_args = {\"columnDefs\": [{\"className\": \"dt-left\", \"targets\": \"_all\"}, {\"width\": \"500px\", \"targets\": 4}], \"lengthMenu\": [50, 100, 200, 500], \"paging\": false};\n",
       "                dt_args[\"data\"] = data;\n",
       "\n",
       "                // Display the table\n",
       "                $(document).ready(function () {\n",
       "                    $('#23ef8cfd-8a54-4d9a-b335-8c8c1e9b3dfd').DataTable(dt_args);\n",
       "                });\n",
       "            }\n",
       "        )\n",
       "    }\n",
       "</script>\n"
      ],
      "text/plain": [
       "                                      \"i\"                            \"j\"  \\\n",
       "OPERAND NAME                                                               \n",
       "CLEARX        fob#1.ray#1, example: 1.0012  fob#2.ray#2 example: 34.0005   \n",
       "CLEARY        fob#1.ray#1, example: 1.0012  fob#2.ray#2 example: 34.0005   \n",
       "\n",
       "                                       \"k\"  \\\n",
       "OPERAND NAME                                 \n",
       "CLEARX        surf#1.surf#2 example: 5.007   \n",
       "CLEARY        surf#1.surf#2 example: 5.007   \n",
       "\n",
       "                                                    DESCRIPTION  Order  \n",
       "OPERAND NAME                                                            \n",
       "CLEARX        \"i\" and \"j\" are decimal entries with three dig...    1.0  \n",
       "CLEARY        \"i\" and \"j\" are decimal entries with three dig...    2.0  "
      ]
     },
     "execution_count": 3,
     "metadata": {},
     "output_type": "execute_result"
    }
   ],
   "source": [
    "\n",
    "df_rrcomp\n"
   ]
  },
  {
   "cell_type": "code",
   "execution_count": null,
   "id": "0e93e49c",
   "metadata": {},
   "outputs": [],
   "source": []
  },
  {
   "cell_type": "code",
   "execution_count": null,
   "id": "a6381f44",
   "metadata": {},
   "outputs": [],
   "source": []
  },
  {
   "cell_type": "code",
   "execution_count": null,
   "id": "7df3686a",
   "metadata": {},
   "outputs": [],
   "source": []
  }
 ],
 "metadata": {
  "celltoolbar": "Tags",
  "kernelspec": {
   "display_name": "Python 3 (ipykernel)",
   "language": "python",
   "name": "python3"
  },
  "language_info": {
   "codemirror_mode": {
    "name": "ipython",
    "version": 3
   },
   "file_extension": ".py",
   "mimetype": "text/x-python",
   "name": "python",
   "nbconvert_exporter": "python",
   "pygments_lexer": "ipython3",
   "version": "3.7.11"
  }
 },
 "nbformat": 4,
 "nbformat_minor": 5
}