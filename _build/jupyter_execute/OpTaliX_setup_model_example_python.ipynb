{
 "cells": [
  {
   "cell_type": "markdown",
   "id": "d468cd69",
   "metadata": {},
   "source": [
    "# Setup a Cooke triplet with python\n",
    "\n",
    "The following python code creates a .mac file which is a macro that can be executed within the OpTaliX cli with the command \"run Cooke_triplet.mac\". This procedure is used for convenience in order to have a list of OpTaliX commands afterwards and to clearly separate between command syntax and text in this notebook. Once you have executed this notebook the file \"Cooke_triplet.mac\" will be located in the path \"filename\" (see below).\n",
    "\n",
    "At first a function is defined to write a string line into a file."
   ]
  },
  {
   "cell_type": "code",
   "execution_count": 1,
   "id": "16044330",
   "metadata": {},
   "outputs": [],
   "source": [
    "def wl(file, L):\n",
    "    \"\"\"\n",
    "    Function for writing a line in a file.\n",
    "    \"\"\"   \n",
    "    file.writelines(L)\n",
    "    file.write(\"\\n\") "
   ]
  },
  {
   "cell_type": "markdown",
   "id": "16d3fa8b",
   "metadata": {},
   "source": [
    "## Setup of the optical model\n",
    "Now the code to create the .mac file (with a sequence of OpTaliX commands) for the creation of an optical model of a Cooke triplet (as starting system) follows:"
   ]
  },
  {
   "cell_type": "code",
   "execution_count": 2,
   "id": "4b0c5c3b",
   "metadata": {},
   "outputs": [],
   "source": [
    "    import os\n",
    "    from datetime import date\n",
    "    today = date.today()\n",
    "    d2 = today.strftime(\"%B %d, %Y\")\n",
    "    \n",
    "    filename = \"Cooke_triplet.mac\"      # name of the .mac file to be written using python\n",
    "    f = open(os.path.join(r\"C:\\ProgramData\\OpTaliX\\macro\", filename),\"w\")\n",
    "    \n",
    "    wl(f, ['! execute in Optalix with: run '+str(filename)])\n",
    "    wl(f, ['! this file should be located in \"C:\\ProgramData\\OpTaliX\\macro\"'])\n",
    "    wl(f, ['! generated with python: ', d2])\n",
    "    wl(f, [''])          # empty line\n",
    "    \n",
    "    wl(f, ['! This macro sets up a Cooke triplet'])     # write our first commend\n",
    "    wl(f, ['len'])                 # create a new lens\n",
    "    wl(f, ['! dim m          ! standard is [mm]'])\n",
    "    \n",
    "    wl(f, ['ins s'+str(2)+'         ! insert one surface'])\n",
    "    wl(f, ['ins s'+str(3)+'..s'+str(10)+'       ! insert multiple surfaces'])\n",
    "    \n",
    "    #wl(f, ['SAY '+str(18.47)])     # = starting marginal reference height at surface 1 (semi-diameter of entrance pupil)\n",
    "    wl(f, ['EPD '+str(18.3*2)])    # = starting marginal reference height at surface 1 (entrance pupil)\n",
    "    \n",
    "    #wl(f, ['SCY FANG 20.81'])      # define reference object height, important for FOB!, p. 66 of KDP-2 manual, express object by angle\n",
    "    #wl(f, ['YOB 20.81'])            # Object coordinates (Y) for finite object distances\n",
    "    #wl(f, ['TH 1.0E20'])           # set thickness of 1st surface to infinite (beam collimated)\n",
    "    wl(f, ['THI s0 1.0E20'])\n",
    "    #wl(f, ['AIR'])                 # the medium of between surface 0 is air\n",
    "    \n",
    "    #wl(f, ['AIR'])                 # insert 2nd surface with medium air\n",
    "\n",
    "    wl(f, [''])          # empty line    \n",
    "    wl(f, ['sut s1..s10 s      ! set surface types (s = spherical)'])\n",
    "    wl(f, [''])          # empty line\n",
    "    \n",
    "    wl(f, ['FHY s1 1           ! Sets the height of surfaces si..j to fixed '])    \n",
    "    wl(f, ['THI s1 0'])\n",
    "    \n",
    "    #wl(f, ['FHY s2 1           ! Sets the height of surfaces si..j to fixed '])    \n",
    "    wl(f, ['RDY s2 40.94'])            # set the radius of the 2nd surface\n",
    "    wl(f, ['THI s2 8.74'])             # set the thickness between 2nd surface and 3rd surface\n",
    "    wl(f, ['CIR s2 p1 18.5'])           # set circular clear aperture to ...\n",
    "    wl(f, ['com s'+str(2)+' 1st lens 1st surface       ! surface comments'])   # give surface a surface comment\n",
    "    wl(f, ['GLA s2 K-SSK4'])          # set the medium to glass \"SSK4\"\n",
    "    wl(f, [''])          # empty line\n",
    "    \n",
    "    #wl(f, ['FHY s3 1           ! Sets the height of surfaces si..j to fixed '])    \n",
    "    wl(f, ['THI s3 11.05'])\n",
    "    wl(f, ['CIR s3 p1 18.5'])\n",
    "    wl(f, ['com s3 1st lens 2nd surface'])  # give surface a label\n",
    "    wl(f, [''])          # empty line\n",
    "    \n",
    "    #wl(f, ['FHY s4 1           ! Sets the height of surfaces si..j to fixed '])    \n",
    "    wl(f, ['RDY s4 -55.65'])\n",
    "    wl(f, ['THI s4 2.78'])\n",
    "    wl(f, ['CIR s4 p1 14.9'])\n",
    "    wl(f, ['GLA s4 SF2'])\n",
    "    wl(f, [''])          # empty line\n",
    "    \n",
    "    #wl(f, ['FHY s5 1           ! Sets the height of surfaces si..j to fixed '])   \n",
    "    wl(f, ['RDY s5 39.75'])\n",
    "    wl(f, ['THI s5 1'])\n",
    "    wl(f, ['CIR s5 p1 14.4'])\n",
    "    #wl(f, ['AIR'])\n",
    "    wl(f, [''])          # empty line\n",
    "    \n",
    "    #wl(f, ['FHY s6 1           ! Sets the height of surfaces si..j to fixed ']) \n",
    "    wl(f, ['THI s6 6.63'])\n",
    "    #wl(f, ['REFS'])                # reference surface\n",
    "    #wl(f, ['ASTOP'])               # aperture stop\n",
    "    wl(f, ['sto s6           ! set stop surface'])\n",
    "    wl(f, ['com s6 aperture stop'])  # give surface a label\n",
    "    #wl(f, ['AIR'])\n",
    "    wl(f, [''])          # empty line\n",
    "    \n",
    "    #wl(f, ['FHY s7 1           ! Sets the height of surfaces si..j to fixed ']) \n",
    "    wl(f, ['RDY s7 107.9'])\n",
    "    wl(f, ['THI s7 9.54'])\n",
    "    wl(f, ['CIR s7 p1 15.5'])\n",
    "    wl(f, ['GLA s7 K-SSK4'])\n",
    "    wl(f, [''])          # empty line\n",
    "    \n",
    "    wl(f, ['FHY s8 1           ! Sets the height of surfaces si..j to fixed '])   \n",
    "    wl(f, ['RDY s8 -43.33'])\n",
    "    wl(f, ['THI s8 78'])\n",
    "    wl(f, ['CIR s8 p1 15.5'])\n",
    "    #wl(f, ['AIR'])\n",
    "    wl(f, [''])          # empty line\n",
    "    \n",
    "    #wl(f, ['AIR'])\n",
    "    #wl(f, ['AIR'])\n",
    "    #wl(f, ['EOS'])\n",
    "    wl(f, [''])          # empty line\n",
    "    \n",
    "    wl(f, ['nfld '+str(5)])\n",
    "    wl(f, ['xan f1 '+str(20.81)+   '!      set set x field angle of field 1'])\n",
    "    wl(f, ['yan f1 '+str(0)])\n",
    "    \n",
    "    wl(f, ['xan f2 '+str(-20.81)+   '!      set set x field angle of field 1'])\n",
    "    wl(f, ['yan f2 '+str(0)])\n",
    "    \n",
    "    wl(f, ['xan f3 '+str(0)+   '!      set set x field angle of field 1'])\n",
    "    wl(f, ['yan f3 '+str(0)])\n",
    "    \n",
    "    wl(f, ['xan f4 '+str(0)+   '!      set set x field angle of field 1'])\n",
    "    wl(f, ['yan f4 '+str(20.81)])\n",
    "    \n",
    "    wl(f, ['xan f5 '+str(0)+   '!      set set x field angle of field 1'])\n",
    "    wl(f, ['yan f5 '+str(-20.81)])\n",
    "    \n",
    "    #wl(f, ['VIEVIG YES'])         # automatic vignetting in VIE\n",
    "    #wl(f, ['set vig'])\n",
    "    #wl(f, ['SET MHT s1..8 f1..5 z1'])\n",
    "\n",
    "    wl(f, ['vie'])                # show lens layout\n",
    "    \n",
    "    f.close()"
   ]
  },
  {
   "cell_type": "markdown",
   "id": "c86b93ec",
   "metadata": {},
   "source": [
    "You then go to KDP-2 folder start the application and input \"input file Cooke_triplet.dat\" in the command line. This will execute all the commands written with the function \"wl\" in this section. You will obtain this plot:"
   ]
  },
  {
   "cell_type": "code",
   "execution_count": 3,
   "id": "fd8344ff",
   "metadata": {
    "tags": [
     "remove_input"
    ]
   },
   "outputs": [
    {
     "data": {
      "image/png": "[encoded data removed]",
      "text/plain": [
       "<IPython.core.display.Image object>"
      ]
     },
     "execution_count": 3,
     "metadata": {
      "filenames": {
       "image/png": "C:\\Users\\herbst\\OpticalDesignDocu\\_build\\jupyter_execute\\OpTaliX_setup_model_example_python_5_0.png"
      },
      "image/png": {
       "height": 800,
       "width": 1000
      }
     },
     "output_type": "execute_result"
    }
   ],
   "source": [
    "PATH = r'C:\\Users\\herbst\\OpticalDesignDocu'\n",
    "from IPython.display import Image\n",
    "Image(filename = PATH + \"\\OpTaliX_Cooke_triplet.png\", width=1000, height=800)"
   ]
  },
  {
   "cell_type": "markdown",
   "id": "2f6d1cd7",
   "metadata": {},
   "source": [
    "Or view in orthographic projection:"
   ]
  },
  {
   "cell_type": "code",
   "execution_count": 4,
   "id": "c5ca9e43",
   "metadata": {},
   "outputs": [
    {
     "ename": "ValueError",
     "evalue": "I/O operation on closed file.",
     "output_type": "error",
     "traceback": [
      "\u001b[1;31m---------------------------------------------------------------------------\u001b[0m",
      "\u001b[1;31mValueError\u001b[0m                                Traceback (most recent call last)",
      "\u001b[1;32m~\\AppData\\Local\\Temp\\ipykernel_4840\\741960436.py\u001b[0m in \u001b[0;36m<module>\u001b[1;34m\u001b[0m\n\u001b[1;32m----> 1\u001b[1;33m \u001b[0mwl\u001b[0m\u001b[1;33m(\u001b[0m\u001b[0mf\u001b[0m\u001b[1;33m,\u001b[0m \u001b[1;33m[\u001b[0m\u001b[1;34m'vie ortho'\u001b[0m\u001b[1;33m]\u001b[0m\u001b[1;33m)\u001b[0m\u001b[1;33m\u001b[0m\u001b[1;33m\u001b[0m\u001b[0m\n\u001b[0m",
      "\u001b[1;32m~\\AppData\\Local\\Temp\\ipykernel_4840\\191631149.py\u001b[0m in \u001b[0;36mwl\u001b[1;34m(file, L)\u001b[0m\n\u001b[0;32m      3\u001b[0m     \u001b[0mFunction\u001b[0m \u001b[1;32mfor\u001b[0m \u001b[0mwriting\u001b[0m \u001b[0ma\u001b[0m \u001b[0mline\u001b[0m \u001b[1;32min\u001b[0m \u001b[0ma\u001b[0m \u001b[0mfile\u001b[0m\u001b[1;33m.\u001b[0m\u001b[1;33m\u001b[0m\u001b[1;33m\u001b[0m\u001b[0m\n\u001b[0;32m      4\u001b[0m     \"\"\"   \n\u001b[1;32m----> 5\u001b[1;33m     \u001b[0mfile\u001b[0m\u001b[1;33m.\u001b[0m\u001b[0mwritelines\u001b[0m\u001b[1;33m(\u001b[0m\u001b[0mL\u001b[0m\u001b[1;33m)\u001b[0m\u001b[1;33m\u001b[0m\u001b[1;33m\u001b[0m\u001b[0m\n\u001b[0m\u001b[0;32m      6\u001b[0m     \u001b[0mfile\u001b[0m\u001b[1;33m.\u001b[0m\u001b[0mwrite\u001b[0m\u001b[1;33m(\u001b[0m\u001b[1;34m\"\\n\"\u001b[0m\u001b[1;33m)\u001b[0m\u001b[1;33m\u001b[0m\u001b[1;33m\u001b[0m\u001b[0m\n",
      "\u001b[1;31mValueError\u001b[0m: I/O operation on closed file."
     ]
    }
   ],
   "source": [
    "wl(f, ['vie ortho']) "
   ]
  },
  {
   "cell_type": "code",
   "execution_count": null,
   "id": "b45e0203",
   "metadata": {
    "tags": [
     "remove_input"
    ]
   },
   "outputs": [],
   "source": [
    "Image(filename = PATH + \"\\KDP-2_Cooke_triplet_ortho.png\", width=1000, height=800)"
   ]
  },
  {
   "cell_type": "code",
   "execution_count": null,
   "id": "96037fea",
   "metadata": {},
   "outputs": [],
   "source": [
    "wl(f, ['headings on'])    # show headings of tables \n",
    "wl(f, ['rtg all'])        # radius, thickness, glass material of current lens\n"
   ]
  },
  {
   "cell_type": "code",
   "execution_count": null,
   "id": "f6bc6b92",
   "metadata": {
    "tags": [
     "remove_input"
    ]
   },
   "outputs": [],
   "source": [
    "Image(filename = PATH + \"\\KDP-2_Cooke_triplet_table.png\", width=600, height=600)"
   ]
  },
  {
   "cell_type": "markdown",
   "id": "ca353418",
   "metadata": {},
   "source": [
    "The lens can be updated and its specifications can be changed:"
   ]
  },
  {
   "cell_type": "code",
   "execution_count": null,
   "id": "805f616c",
   "metadata": {},
   "outputs": [],
   "source": [
    "wl(f, ['u l'])             # update lens\n",
    "wl(f, ['chg 2'])           # change surface 2\n",
    "wl(f, ['rd 40.94'])        # radius to value\n",
    "wl(f, ['chg 3'])           # change surface 3\n",
    "wl(f, ['th 11.05']) \n",
    "wl(f, ['ins 1'])           # insert surface at 1\n",
    "wl(f, ['del 1'])           # delete surface at 1\n",
    "wl(f, ['eos'])             # exit update lens"
   ]
  },
  {
   "cell_type": "markdown",
   "id": "f3596b96",
   "metadata": {},
   "source": [
    "## Analysis\n",
    "The aberrations of this Cooke triplet can be analyzed with the following commands:"
   ]
  },
  {
   "cell_type": "code",
   "execution_count": null,
   "id": "05b88f40",
   "metadata": {},
   "outputs": [],
   "source": [
    "wl(f, ['PXTY ALL'])    # display YZ-plane paraxial ray data"
   ]
  },
  {
   "cell_type": "markdown",
   "id": "6963479f",
   "metadata": {},
   "source": [
    "The 3rd, 5th and 7th order aberration values calculated are based on the work of Buchdahl. To calculate and display the 3rd, 5th and 7th order spherical aberrations, issue the command:"
   ]
  },
  {
   "cell_type": "code",
   "execution_count": null,
   "id": "3d4ce886",
   "metadata": {},
   "outputs": [],
   "source": [
    "wl(f, ['SA357 ALL'])   # the 3rd, 5th and 7th order spherical aberrations"
   ]
  },
  {
   "cell_type": "code",
   "execution_count": null,
   "id": "8c123845",
   "metadata": {
    "tags": [
     "remove_input"
    ]
   },
   "outputs": [],
   "source": [
    "Image(filename = PATH + \"\\KDP-2_Cooke_triplet_SA.png\", width=300, height=300)"
   ]
  },
  {
   "cell_type": "markdown",
   "id": "e7614928",
   "metadata": {},
   "source": [
    "Chromatic differences:"
   ]
  },
  {
   "cell_type": "code",
   "execution_count": null,
   "id": "293ac7b6",
   "metadata": {},
   "outputs": [],
   "source": [
    "wl(f, ['PCW?'])        # query primary and secondary wavelength pairs\n",
    "wl(f, ['SCW?'])\n",
    "wl(f, ['PCDSA ALL'])   # calculate the primary chromatic differences for 3rd, 5th and 7th order spherical aberrations"
   ]
  },
  {
   "cell_type": "markdown",
   "id": "186acd08",
   "metadata": {},
   "source": [
    "ABERRATION FANS AND THEIR PLOTS - To generate transverse fan data at a specific point in the field of view, issue an \"FOB\" command which specifies that fractional field of view location. In our example lens, the SCY FANG value was 20.81 degrees. To use \"FOB\" to specify that analysis is to be performed at a Y-object angle of 2.5 degrees and an X-object angle of 1.25 degrees, issue:\n",
    "    "
   ]
  },
  {
   "cell_type": "code",
   "execution_count": null,
   "id": "298b2ba5",
   "metadata": {},
   "outputs": [],
   "source": [
    "wl(f, ['FOB 0.1201 0.060067'])\n",
    "wl(f, ['YFAN, -1, 1, 1, 11'])\n",
    "wl(f, ['DRAWFAN'])"
   ]
  },
  {
   "cell_type": "markdown",
   "id": "34585d20",
   "metadata": {},
   "source": [
    "One obtains this table of values which can also be written to a text file (and plotted with matplotlib, e.g.) or it can be directly plotted with KDP-2 (see below)."
   ]
  },
  {
   "cell_type": "raw",
   "id": "4988b948",
   "metadata": {},
   "source": [
    "REL AP HT          DX                  DY\n",
    " -1.000000 RAY FAILURE CODE =  6 AT SURFACE =   2\n",
    " -0.800000   -0.2243904635E-02   -0.2216430059E-01\n",
    " -0.600000   -0.1358442951E-02   -0.2460726555E-01\n",
    " -0.400000   -0.7936962315E-03   -0.3713971869E-01\n",
    " -0.200000   -0.3898744276E-03   -0.2743901890E-01\n",
    "  0.000000     0.000000000         0.000000000\n",
    "  0.200000    0.4757757406E-03    0.2782398943E-01\n",
    "  0.400000    0.1085875231E-02    0.3822439925E-01\n",
    "  0.600000    0.1842209584E-02    0.2572073432E-01\n",
    "  0.800000    0.2778263372E-02    0.2333944873E-01\n",
    "  1.000000 RAY FAILURE CODE =  6 AT SURFACE =   8"
   ]
  },
  {
   "cell_type": "code",
   "execution_count": null,
   "id": "3d7e9973",
   "metadata": {
    "tags": [
     "remove_input"
    ]
   },
   "outputs": [],
   "source": [
    "Image(filename = PATH + \"\\KDP-2_Cooke_triplet_yfan_preopt.png\", width=900, height=800)"
   ]
  },
  {
   "cell_type": "markdown",
   "id": "7a1ea228",
   "metadata": {},
   "source": [
    "The \"FANS\" command can be used to generate more complex ray fan aberration graphics. The next two commands generate YZ and XZ-plane, transverse ray aberration plots at three pre-selected field of view positions."
   ]
  },
  {
   "cell_type": "code",
   "execution_count": null,
   "id": "e0801888",
   "metadata": {
    "tags": [
     "remove_input"
    ]
   },
   "outputs": [],
   "source": [
    "Image(filename = PATH + \"\\KDP-2_Cooke_triplet_fans_preopt.png\", width=900, height=800)"
   ]
  },
  {
   "cell_type": "markdown",
   "id": "05ece6fa",
   "metadata": {},
   "source": [
    "Plotting of spot diagrams in KDP-2 and with python (see: [Create spot diagram and plot with python](./KDP-2_spot_diagram_matplotlib.ipynb)), using:"
   ]
  },
  {
   "cell_type": "code",
   "execution_count": null,
   "id": "80368f6a",
   "metadata": {},
   "outputs": [],
   "source": [
    "wl(f, ['FOB .1 .1'])\n",
    "wl(f, ['SPD'])         # create spot diagram data\n",
    "wl(f, ['PLTSPD'])      # plot spot diagram in KDP-2"
   ]
  },
  {
   "cell_type": "code",
   "execution_count": null,
   "id": "6d08f17b",
   "metadata": {
    "tags": [
     "remove_input"
    ]
   },
   "outputs": [],
   "source": [
    "Image(filename = PATH + \"\\KDP-2_Cooke_triplet_spot_dia_preopt.png\", width=900, height=800)"
   ]
  },
  {
   "cell_type": "markdown",
   "id": "39d2fa83",
   "metadata": {},
   "source": [
    "DIFFRACTION MTF - Diffraction MTF generation and plotting is almost as easy. Try the following commands to generate DOTF data at fractional object point Y=.1 and X=.2:"
   ]
  },
  {
   "cell_type": "code",
   "execution_count": null,
   "id": "921291f0",
   "metadata": {},
   "outputs": [],
   "source": [
    "wl(f, ['FOB .1 .2'])\n",
    "wl(f, ['CAPFN'])         # generates the complex aperture function\n",
    "wl(f, ['DOTF'])          # generates the MTF\n",
    "wl(f, ['pltdotf'])       # plots the MTF "
   ]
  },
  {
   "cell_type": "code",
   "execution_count": null,
   "id": "3be10151",
   "metadata": {
    "tags": [
     "remove_input"
    ]
   },
   "outputs": [],
   "source": [
    "Image(filename = PATH + \"\\KDP-2_Cooke_triplet_mtf_unopt.png\", width=900, height=800)"
   ]
  },
  {
   "cell_type": "markdown",
   "id": "c9472624",
   "metadata": {},
   "source": [
    "## Optimization with predefined operands:\n",
    "\n",
    "The aim is to vary the last surface curvature and its conic constant of the current lens so as to change the system focal length to 100 mm while at the same time driving the 3rd order spherical aberration to 0.0. \n",
    "\n",
    "Lists of predefined target operands in KDP-2 are here: \n",
    "[**Operands**](./KDP-2_markdown.md)\n",
    "\n",
    "Just type the following lines in the KDP-2 cli:\n",
    "\n",
    "Do a PY solve:\n"
   ]
  },
  {
   "cell_type": "code",
   "execution_count": null,
   "id": "a8984cd2",
   "metadata": {},
   "outputs": [],
   "source": [
    "wl(f, ['U L'])                  # update lens\n",
    "wl(f, ['CHG  9'])               # change surface 9\n",
    "wl(f, ['PY'])                   # PY solve to this surface\n",
    "wl(f, ['EOS'])                  # return to CMD level"
   ]
  },
  {
   "cell_type": "markdown",
   "id": "9a6723f3",
   "metadata": {},
   "source": [
    "Next, set up the operands (targets) with the following commands:"
   ]
  },
  {
   "cell_type": "code",
   "execution_count": null,
   "id": "a138125e",
   "metadata": {},
   "outputs": [],
   "source": [
    "wl(f, ['MERIT'])                # enter merit creation mode\n",
    "wl(f, ['FLCLTH 100 1 0 10'])    # paraxial focal length be targeted to 100 with a weight of 1 for surfaces 0 to 10 (the entire lens).\n",
    "wl(f, ['SA3 0 1'])              # 3rd order spherical aberration to 0.0 with a weight of 1\n",
    "wl(f, ['EOS'])                  # return to CMD level\n"
   ]
  },
  {
   "cell_type": "markdown",
   "id": "00f82b2d",
   "metadata": {},
   "source": [
    "Next, set up the variables with the following commands:"
   ]
  },
  {
   "cell_type": "code",
   "execution_count": null,
   "id": "c8b6138b",
   "metadata": {},
   "outputs": [],
   "source": [
    "wl(f, ['variables'])            # enter variables creation mode\n",
    "wl(f, ['cv 8'])                 # define curvature and conic constant of surface 8 to be variable\n",
    "wl(f, ['cc 8'])  \n",
    "wl(f, ['eos'])                  # save these definitions and return to CMD level"
   ]
  },
  {
   "cell_type": "code",
   "execution_count": 107,
   "id": "4332b38e",
   "metadata": {},
   "outputs": [
    {
     "ename": "ValueError",
     "evalue": "I/O operation on closed file.",
     "output_type": "error",
     "traceback": [
      "\u001b[1;31m---------------------------------------------------------------------------\u001b[0m",
      "\u001b[1;31mValueError\u001b[0m                                Traceback (most recent call last)",
      "\u001b[1;32m~\\AppData\\Local\\Temp/ipykernel_14600/3373910476.py\u001b[0m in \u001b[0;36m<module>\u001b[1;34m\u001b[0m\n\u001b[1;32m----> 1\u001b[1;33m \u001b[0mwl\u001b[0m\u001b[1;33m(\u001b[0m\u001b[0mf\u001b[0m\u001b[1;33m,\u001b[0m \u001b[1;33m[\u001b[0m\u001b[1;34m'VB'\u001b[0m\u001b[1;33m]\u001b[0m\u001b[1;33m)\u001b[0m         \u001b[1;31m# lists the current variables\u001b[0m\u001b[1;33m\u001b[0m\u001b[1;33m\u001b[0m\u001b[0m\n\u001b[0m\u001b[0;32m      2\u001b[0m \u001b[0mwl\u001b[0m\u001b[1;33m(\u001b[0m\u001b[0mf\u001b[0m\u001b[1;33m,\u001b[0m \u001b[1;33m[\u001b[0m\u001b[1;34m'OPRD'\u001b[0m\u001b[1;33m]\u001b[0m\u001b[1;33m)\u001b[0m       \u001b[1;31m# This lists the current operands with their current and targeted values\u001b[0m\u001b[1;33m\u001b[0m\u001b[1;33m\u001b[0m\u001b[0m\n",
      "\u001b[1;32m~\\AppData\\Local\\Temp/ipykernel_14600/191631149.py\u001b[0m in \u001b[0;36mwl\u001b[1;34m(file, L)\u001b[0m\n\u001b[0;32m      3\u001b[0m     \u001b[0mFunction\u001b[0m \u001b[1;32mfor\u001b[0m \u001b[0mwriting\u001b[0m \u001b[0ma\u001b[0m \u001b[0mline\u001b[0m \u001b[1;32min\u001b[0m \u001b[0ma\u001b[0m \u001b[0mfile\u001b[0m\u001b[1;33m.\u001b[0m\u001b[1;33m\u001b[0m\u001b[1;33m\u001b[0m\u001b[0m\n\u001b[0;32m      4\u001b[0m     \"\"\"   \n\u001b[1;32m----> 5\u001b[1;33m     \u001b[0mfile\u001b[0m\u001b[1;33m.\u001b[0m\u001b[0mwritelines\u001b[0m\u001b[1;33m(\u001b[0m\u001b[0mL\u001b[0m\u001b[1;33m)\u001b[0m\u001b[1;33m\u001b[0m\u001b[1;33m\u001b[0m\u001b[0m\n\u001b[0m\u001b[0;32m      6\u001b[0m     \u001b[0mfile\u001b[0m\u001b[1;33m.\u001b[0m\u001b[0mwrite\u001b[0m\u001b[1;33m(\u001b[0m\u001b[1;34m\"\\n\"\u001b[0m\u001b[1;33m)\u001b[0m\u001b[1;33m\u001b[0m\u001b[1;33m\u001b[0m\u001b[0m\n",
      "\u001b[1;31mValueError\u001b[0m: I/O operation on closed file."
     ]
    }
   ],
   "source": [
    "wl(f, ['VB'])         # lists the current variables\n",
    "wl(f, ['OPRD'])       # This lists the current operands with their current and targeted values"
   ]
  },
  {
   "cell_type": "markdown",
   "id": "882e6d77",
   "metadata": {},
   "source": [
    "This optimization problem can be solved with damped least squares (ITER) or directly (PFIND) since we have two variables and two operands which happen to be linearly independent. We will do a combination of the two techniques. Type:"
   ]
  },
  {
   "cell_type": "code",
   "execution_count": null,
   "id": "f8f03bbc",
   "metadata": {},
   "outputs": [],
   "source": [
    "wl(f, ['ITER']) \n",
    "wl(f, ['PFIND']) \n",
    "wl(f, ['ITER']) \n",
    "wl(f, ['VB']) \n",
    "wl(f, ['OPRD'])"
   ]
  },
  {
   "cell_type": "markdown",
   "id": "b36dd918",
   "metadata": {},
   "source": [
    "After these optimization cycles, the FMT (Figure of Merit) will be much smaller than it was. Before we started, it was 0.13095. The new focal length and SA3 values will be very near their target values. Further cycles could drive the values closer to their targets. The new curvature and conic values can be seen by issuing another VB command or by issuing an RTG ALL or an RTG 8 command. The thickness of surface 9 has now changed to 0.474615 mm in order to maintain paraxial focus. There are other optimization methods described in the reference manual which you should try."
   ]
  },
  {
   "cell_type": "code",
   "execution_count": null,
   "id": "bb65288a",
   "metadata": {},
   "outputs": [],
   "source": []
  },
  {
   "cell_type": "code",
   "execution_count": null,
   "id": "fa5dc71d",
   "metadata": {},
   "outputs": [],
   "source": []
  }
 ],
 "metadata": {
  "celltoolbar": "Tags",
  "kernelspec": {
   "display_name": "Python 3 (ipykernel)",
   "language": "python",
   "name": "python3"
  },
  "language_info": {
   "codemirror_mode": {
    "name": "ipython",
    "version": 3
   },
   "file_extension": ".py",
   "mimetype": "text/x-python",
   "name": "python",
   "nbconvert_exporter": "python",
   "pygments_lexer": "ipython3",
   "version": "3.7.11"
  }
 },
 "nbformat": 4,
 "nbformat_minor": 5
}