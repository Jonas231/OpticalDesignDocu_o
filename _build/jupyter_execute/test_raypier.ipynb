{
 "cells": [
  {
   "cell_type": "code",
   "execution_count": 1,
   "id": "199cf457",
   "metadata": {},
   "outputs": [
    {
     "ename": "ModuleNotFoundError",
     "evalue": "No module named 'raypier'",
     "output_type": "error",
     "traceback": [
      "\u001b[1;31m---------------------------------------------------------------------------\u001b[0m",
      "\u001b[1;31mModuleNotFoundError\u001b[0m                       Traceback (most recent call last)",
      "\u001b[1;32m~\\AppData\\Local\\Temp\\ipykernel_3868\\1073258391.py\u001b[0m in \u001b[0;36m<module>\u001b[1;34m\u001b[0m\n\u001b[1;32m----> 1\u001b[1;33m \u001b[1;32mfrom\u001b[0m \u001b[0mraypier\u001b[0m\u001b[1;33m.\u001b[0m\u001b[0mapi\u001b[0m \u001b[1;32mimport\u001b[0m \u001b[0mRayTraceModel\u001b[0m\u001b[1;33m,\u001b[0m \u001b[0mGeneralLens\u001b[0m\u001b[1;33m,\u001b[0m \u001b[0mParallelRaySource\u001b[0m\u001b[1;33m,\u001b[0m \u001b[0mSphericalFace\u001b[0m\u001b[1;33m,\u001b[0m \u001b[0mCircleShape\u001b[0m\u001b[1;33m,\u001b[0m \u001b[0mOpticalMaterial\u001b[0m\u001b[1;33m,\u001b[0m \u001b[0mAsphericFace\u001b[0m\u001b[1;33m\u001b[0m\u001b[1;33m\u001b[0m\u001b[0m\n\u001b[0m\u001b[0;32m      2\u001b[0m \u001b[1;33m\u001b[0m\u001b[0m\n\u001b[0;32m      3\u001b[0m \u001b[1;33m\u001b[0m\u001b[0m\n\u001b[0;32m      4\u001b[0m \u001b[1;31m# check\u001b[0m\u001b[1;33m\u001b[0m\u001b[1;33m\u001b[0m\u001b[1;33m\u001b[0m\u001b[0m\n\u001b[0;32m      5\u001b[0m \u001b[1;32mfrom\u001b[0m \u001b[0mraypier\u001b[0m \u001b[1;32mimport\u001b[0m \u001b[0mtracer\u001b[0m\u001b[1;33m\u001b[0m\u001b[1;33m\u001b[0m\u001b[0m\n",
      "\u001b[1;31mModuleNotFoundError\u001b[0m: No module named 'raypier'"
     ]
    }
   ],
   "source": [
    "from raypier.api import RayTraceModel, GeneralLens, ParallelRaySource, SphericalFace, CircleShape, OpticalMaterial, AsphericFace\n",
    "\n",
    "\n",
    "# check\n",
    "from raypier import tracer\n",
    "print(tracer.__file__)"
   ]
  },
  {
   "cell_type": "code",
   "execution_count": null,
   "id": "d308ea54",
   "metadata": {},
   "outputs": [],
   "source": []
  }
 ],
 "metadata": {
  "kernelspec": {
   "display_name": "Python 3 (ipykernel)",
   "language": "python",
   "name": "python3"
  },
  "language_info": {
   "codemirror_mode": {
    "name": "ipython",
    "version": 3
   },
   "file_extension": ".py",
   "mimetype": "text/x-python",
   "name": "python",
   "nbconvert_exporter": "python",
   "pygments_lexer": "ipython3",
   "version": "3.7.11"
  }
 },
 "nbformat": 4,
 "nbformat_minor": 5
}