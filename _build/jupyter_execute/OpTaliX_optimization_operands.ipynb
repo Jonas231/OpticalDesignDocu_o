{
 "cells": [
  {
   "cell_type": "markdown",
   "id": "44ddaa3e",
   "metadata": {},
   "source": [
    "# OpTaliX: Optimization Targets  / Constraints\n",
    "\n",
    "These are the items which can be set as targets or constraints (in the merit function) during optimization."
   ]
  },
  {
   "cell_type": "code",
   "execution_count": 1,
   "id": "30d3a396",
   "metadata": {
    "tags": [
     "remove_input"
    ]
   },
   "outputs": [
    {
     "data": {
      "application/javascript": [
       "if (typeof require !== 'undefined')\n",
       "    require.config({\n",
       "        paths: {\n",
       "            jquery: 'https://code.jquery.com/jquery-3.5.1.min',\n",
       "            datatables: 'https://cdn.datatables.net/1.11.3/js/jquery.dataTables.min',\n",
       "        }\n",
       "    });\n"
      ],
      "text/plain": [
       "<IPython.core.display.Javascript object>"
      ]
     },
     "metadata": {},
     "output_type": "display_data"
    }
   ],
   "source": [
    "import pandas as pd\n",
    "import itables\n",
    "from itables import init_notebook_mode, show\n",
    "import itables.options as opt\n",
    "\n",
    "init_notebook_mode(all_interactive=True)\n",
    "\n",
    "opt.lengthMenu = [50, 100, 200, 500]\n",
    "#opt.classes = [\"display\", \"cell-border\"]\n",
    "#opt.classes = [\"display\", \"nowrap\"]\n",
    "\n",
    "opt.columnDefs = [{\"className\": \"dt-left\", \"targets\": \"_all\"}, {\"width\": \"500px\", \"targets\": 1}]\n"
   ]
  },
  {
   "cell_type": "code",
   "execution_count": 2,
   "id": "36dee203",
   "metadata": {
    "tags": [
     "remove_input"
    ]
   },
   "outputs": [],
   "source": [
    "import os\n",
    "cwd = os.getcwd()\n",
    "filename = os.path.join(cwd, os.path.join('Excel', 'OpTaliX_optimization_operands.xlsx'))\n",
    "df_targets = pd.read_excel(filename, sheet_name = \"Targets\", header = 0, index_col = 0)\n",
    "df_targets = df_targets.dropna()   # drop nan values"
   ]
  },
  {
   "cell_type": "code",
   "execution_count": 3,
   "id": "ad2657ec",
   "metadata": {
    "tags": [
     "remove_input"
    ]
   },
   "outputs": [
    {
     "data": {
      "text/html": [
       "<table id=\"26a1f961-77ec-4769-a1ee-cdbcb5572301\" class=\"display\"style=\"max-width:100%\"><thead><th></th><th>Description</th><th>Order</th></thead><tbody><tr><td>Loading... (need <a href=https://mwouts.github.io/itables/troubleshooting.html>help</a>?)</td></tr></tbody></table>\n",
       "<link rel=\"stylesheet\" type=\"text/css\" href=\"https://cdn.datatables.net/1.11.3/css/jquery.dataTables.min.css\">\n",
       "<style> table td {\n",
       "    text-overflow: ellipsis;\n",
       "    overflow: hidden;\n",
       "} </style>\n",
       "<style> table th {\n",
       "    text-overflow: ellipsis;\n",
       "    overflow: hidden;\n",
       "} </style>\n",
       "<script type=\"module\">\n",
       "    // Define the table data\n",
       "    const data = [[\"AOI sk fk wk [zk] rel_X rel_Y \", \"Angle of incidence of a single ray at surface sk. rel_X, rel_Y are the relative pupil coordinates (betwen -1 and 1).\", 1], [\"AOR sk fk wk [zk] rel_X rel_Y \", \"Angle of refraction/reflection relative to the local surface normal at surface sk. rel_X, rel_Y are the relative pupil coordinates (betwen -1 and 1).\", 2], [\"ASTI [zi] \", \"Third order Astigmatism\", 3], [\"BFL [wi..j zi..j]\", \"Back focal length (last surface to image) at used conjugate, optional at colour number wi..j and zoom position zi..j.\", 4], [\"CX [ si / fi / zi / wi ] \", \"CX-direction cosine at surface si, field fi, zoom position zi, wavelength wi\", 5], [\"CY [ si / fi / zi / wi ] \", \"CY-direction cosine at surface si, field fi, zoom position zi, wavelength wi\", 6], [\"CZ [ si / fi / zi / wi ] \", \"CZ-direction cosine at surface si, field fi, zoom position zi, wavelength wi\", 7], [\"COMA [zi] \", \"Third order Coma\", 8], [\"DIST [zi] \", \"Third order Distortion\", 9], [\"DISX [zi..j fi..j] \", \"Distortion (in %) in X-direction\", 10], [\"DISY [zi..j fi..j] \", \"Distortion (in %) in Y-direction\", 11], [\"EFL [si..j | wi..j | zi..j]\", \"Equivalent focal length\", 12], [\"ET si..j radial_height \", \"Edge thickness between surfaces or a surface range at the radial height = radial_height\", 13], [\"FDISX [zi..j fi..j] \", \"F-Theta distortion (%) in X-direction\", 15], [\"FDISY [zi..j fi..j] \", \"F-Theta distortion (%) in Y-direction\", 16], [\"GZO sk\", \"Gradient z-offset\", 17], [\"HMY [si..j zi..j]\", \"Paraxial height of the marginal aperture ray (Y-plane only)\", 18], [\"HCY [si..j zi..j]\", \"Paraxial height of the chief ray at surface(s) si..j and zoom position zi..j\", 20], [\"HB [si..j zi..j]\", \"Additional remarks see also command UMY.\", 21], [\"IMD [zk] \", \"Image distance (THI si-1) at zoom position zk. If zk is omitted, IMD\\u00a0 is calculated at the first zoom position.\", 22], [\"IMC [zk] \", \"Image clearance, the smaller distance (edge or axis) between surface i-1 and the image surface i. Only calculated at zoom position zk. If zk is omitted, the first zoom position is used.\", 23], [\"IMD [zk] \", \"Image distance (THI si-1) at zoom position \\u00a0zk.\", 24], [\"LCA [zi] \", \"Third order longitudinal colour\", 25], [\"LAC wi..j [fi..j zi..j]\", \"real ray transversal colour\", 26], [\"MAG [zk] \", \"Magnification at zoom position zk\", 27], [\"MFL\", \"Module focal length\", 28], [\"MTFA [wi..j zi..j fi..j]\", \"Mean value of sagittal and tangential MTF, values range between 0 and 1. The MTF is computed at the spatial frequency defined by the \\u00a0MFR\\u00a0 command. Note, that MTF is usually maximized, that is the target value is 1.\", 29], [\"MTFT [wi..j zi..j fi..j]\", \"MTF tangential, values range between 0 and 1. The MTF is computed at the spatial frequency defined by the \\u00a0MFR\\u00a0 command. Note, that MTF is usually maximized, that is the target value is 1.\", 30], [\"MTFS [wi..j zi..j fi..j]\", \"MTF sagittal, values range between 0 and 1. The MTF is computed at the spatial frequency defined by the \\u00a0MFR\\u00a0 command. Note, that MTF is usually maximized, that is the target value is 1.\", 31], [\"OAL [si..j zi..j] \", \"Overall length: Center thickness between surfaces si..j at zoom positions zi..j.\", 32], [\"nan\", \"If the parameters si..j or zi..j are absent, the default setting for OAL is:\", 33], [\"nan\", \"first surface to image plane at all zoom positions\", 34], [\"OPL si..j fi zi wi rel_apeX rel_apeY\", \"Optical path length along a ray between surfaces \\u00a0si..j, at field \\u00a0fi, zoom position \\u00a0zi, wavelength \\u00a0wi. The values \\u00a0rel_apeX, rel_apeY are the relative coordinates in the entrance pupil. The optical path length is n*PATH, where n is the index of refraction at the specified wavelength.\", 35], [\"PATH si..j fi zi wi rel_apeX rel_apeY\", \"Physical path length along a ray between surfaces \\u00a0si..j, at field \\u00a0fi, zoom position \\u00a0zi, wavelength \\u00a0wi. The values \\u00a0rel_apeX, rel_apeY are the relative coordinates in the entrance pupil.\", 36], [\"PETZ [zi] \", \"Third order Petzval Sum (field curvature)\", 37], [\"SEP [zi..j]\", \"Location of entrance pupil referred to first surface\", 38], [\"SAP [zi..j]\", \"Location of exit pupil referred to last surface, optional at zoom position zi..j\", 39], [\"SPD [wi..j fi..j zi..j] \", \"Spot diameter (rms).\", 40], [\"SPX [wi..j fi..j zi..j]\", \"Spot diameter (rms), X-section.\", 41], [\"SPY [wi..j fi..j zi..j]\", \"Spot diameter (rms), Y-section.\", 42], [\"SPA [zi] \", \"Third order spherical aberration\", 43], [\"STREHL fk [wi..j | zk]\", \"Strehl intensity ratio\", 44], [\"SYL [zk]\", \"System length, from first surface to last surface, excluding image surface\", 45], [\"THI [si] \", \"Axial thickness on surface si\", 46], [\"UMY [si..j zi..j]\", \"Paraxial direction angle of the marginal aperture ray (Y-plane only)\", 47], [\"UA [si..j zi..j]\", \"Although a surface or zoom range may be specified (e.g. for analysis puropose), it is advisable to specify a single surface and a single zoom range as optimization constraint, since it is very unlikely that a specific direction angle will be equal for s aurface/zoom range.\", 48], [\"UCY [si..j zi..j]\", \"Paraxial direction angle of the chief ray at surface(s) si..j and zoom position zi..j\", 49], [\"UB [si..j zi..j]\", \"Additional remarks see also command UMY.\", 50], [\"VIG [fk]\", \"Vignetting factor relative to field 1. Values are returned between 0 (100\\\\% vignetting) and 1 (no vignetting). If \\u00a0fk\\u00a0 is omitted, the maximum field is used.\", 51], [\"WAV [wi..j fi..j zi..j]\", \"Wavefront aberration (rms).\", 52], [\"WEI [si..j]\", \"Weight (in g/cm2)\", 53], [\"X [ si / fi / zi / wi ] \", \"X-coordinate at surface si, field fi, zoom position zi, wavelength wi\", 54], [\"Y [ si / fi / zi / wi ] \", \"Y-coordinate at surface si, field fi, zoom position zi, wavelength wi\", 55], [\"Z [ si / fi / zi / wi ] \", \"Z-coordinate at surface si, field fi, zoom position zi, wavelength wi\", 56], [\"XSC si \", \"Vertex X-coordinate of surface \\u00a0si. If global coordinates are turned on (GLO sk), the X-coordinate is referred to the vertex coordinate of surface \\u00a0sk.\", 57], [\"nan\", \"Example: xsc s3 = 50\", 58], [\"YSC si \", \"Vertex Y-coordinate of surface \\u00a0si. If global coordinates are turned on (GLO sk), the Y-coordinate is referred to the vertex coordinate of surface \\u00a0sk.\", 59], [\"nan\", \"Example: ysc s3 = 50\", 60], [\"ZSC si \", \"Vertex Z-coordinate of surface \\u00a0si. If global coordinates are turned on (GLO sk), the Z-coordinate is referred to the vertex coordinate of surface \\u00a0sk.\", 61], [\"nan\", \"Example: Zsc s3 = 50\", 62], [\"TCA [zi] \", \"Third order transversal colour\", 63]];\n",
       "\n",
       "    if (typeof require === 'undefined') {\n",
       "        // TODO: This should become the default (use a simple import)\n",
       "        // when the ESM version works independently of whether\n",
       "        // require.js is there or not, see\n",
       "        // https://datatables.net/forums/discussion/69066/esm-es6-module-support?\n",
       "        const {default: $} = await import(\"https://esm.sh/jquery@3.5.0\");\n",
       "        const {default: initDataTables} = await import(\"https://esm.sh/datatables.net@1.11.3?deps=jquery@3.5.0\");\n",
       "\n",
       "        initDataTables();\n",
       "\n",
       "        // Define the dt_args\n",
       "        let dt_args = {\"columnDefs\": [{\"className\": \"dt-left\", \"targets\": \"_all\"}, {\"width\": \"500px\", \"targets\": 1}], \"lengthMenu\": [50, 100, 200, 500]};\n",
       "        dt_args[\"data\"] = data;\n",
       "\n",
       "        // Display the table\n",
       "        $(document).ready(function () {\n",
       "            $('#26a1f961-77ec-4769-a1ee-cdbcb5572301').DataTable(dt_args);\n",
       "        });\n",
       "    } else {\n",
       "        require([\"jquery\", \"datatables\"], ($, datatables) => {\n",
       "                // Define the dt_args\n",
       "                let dt_args = {\"columnDefs\": [{\"className\": \"dt-left\", \"targets\": \"_all\"}, {\"width\": \"500px\", \"targets\": 1}], \"lengthMenu\": [50, 100, 200, 500]};\n",
       "                dt_args[\"data\"] = data;\n",
       "\n",
       "                // Display the table\n",
       "                $(document).ready(function () {\n",
       "                    $('#26a1f961-77ec-4769-a1ee-cdbcb5572301').DataTable(dt_args);\n",
       "                });\n",
       "            }\n",
       "        )\n",
       "    }\n",
       "</script>\n"
      ],
      "text/plain": [
       "                                                                      Description  \\\n",
       "Operand Name                                                                        \n",
       "AOI sk fk wk [zk] rel_X rel_Y   Angle of incidence of a single ray at surface ...   \n",
       "AOR sk fk wk [zk] rel_X rel_Y   Angle of refraction/reflection relative to the...   \n",
       "ASTI [zi]                                                 Third order Astigmatism   \n",
       "BFL [wi..j zi..j]               Back focal length (last surface to image) at u...   \n",
       "CX [ si / fi / zi / wi ]        CX-direction cosine at surface si, field fi, z...   \n",
       "...                                                                           ...   \n",
       "YSC si                          Vertex Y-coordinate of surface  si. If global ...   \n",
       "NaN                                                          Example: ysc s3 = 50   \n",
       "ZSC si                          Vertex Z-coordinate of surface  si. If global ...   \n",
       "NaN                                                          Example: Zsc s3 = 50   \n",
       "TCA [zi]                                           Third order transversal colour   \n",
       "\n",
       "                                Order  \n",
       "Operand Name                           \n",
       "AOI sk fk wk [zk] rel_X rel_Y       1  \n",
       "AOR sk fk wk [zk] rel_X rel_Y       2  \n",
       "ASTI [zi]                           3  \n",
       "BFL [wi..j zi..j]                   4  \n",
       "CX [ si / fi / zi / wi ]            5  \n",
       "...                               ...  \n",
       "YSC si                             59  \n",
       "NaN                                60  \n",
       "ZSC si                             61  \n",
       "NaN                                62  \n",
       "TCA [zi]                           63  \n",
       "\n",
       "[61 rows x 2 columns]"
      ]
     },
     "execution_count": 3,
     "metadata": {},
     "output_type": "execute_result"
    }
   ],
   "source": [
    "df_targets"
   ]
  },
  {
   "cell_type": "code",
   "execution_count": null,
   "id": "06654ecb",
   "metadata": {},
   "outputs": [],
   "source": []
  },
  {
   "cell_type": "code",
   "execution_count": null,
   "id": "14ed69a1",
   "metadata": {},
   "outputs": [],
   "source": []
  }
 ],
 "metadata": {
  "celltoolbar": "Tags",
  "kernelspec": {
   "display_name": "Python 3 (ipykernel)",
   "language": "python",
   "name": "python3"
  },
  "language_info": {
   "codemirror_mode": {
    "name": "ipython",
    "version": 3
   },
   "file_extension": ".py",
   "mimetype": "text/x-python",
   "name": "python",
   "nbconvert_exporter": "python",
   "pygments_lexer": "ipython3",
   "version": "3.7.11"
  }
 },
 "nbformat": 4,
 "nbformat_minor": 5
}