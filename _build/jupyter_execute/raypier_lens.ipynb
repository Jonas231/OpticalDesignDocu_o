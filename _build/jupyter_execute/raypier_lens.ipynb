{
 "cells": [
  {
   "cell_type": "code",
   "execution_count": 1,
   "id": "108d2a71",
   "metadata": {},
   "outputs": [
    {
     "ename": "ModuleNotFoundError",
     "evalue": "No module named 'raypier'",
     "output_type": "error",
     "traceback": [
      "\u001b[1;31m---------------------------------------------------------------------------\u001b[0m",
      "\u001b[1;31mModuleNotFoundError\u001b[0m                       Traceback (most recent call last)",
      "\u001b[1;32m~\\AppData\\Local\\Temp\\ipykernel_13124\\2733936318.py\u001b[0m in \u001b[0;36m<module>\u001b[1;34m\u001b[0m\n\u001b[0;32m      1\u001b[0m \u001b[1;31m#import sys; sys.path.insert(0,'..')\u001b[0m\u001b[1;33m\u001b[0m\u001b[1;33m\u001b[0m\u001b[1;33m\u001b[0m\u001b[0m\n\u001b[1;32m----> 2\u001b[1;33m \u001b[1;32mfrom\u001b[0m \u001b[0mraypier\u001b[0m\u001b[1;33m.\u001b[0m\u001b[0mapi\u001b[0m \u001b[1;32mimport\u001b[0m \u001b[0mRayTraceModel\u001b[0m\u001b[1;33m,\u001b[0m \u001b[0mGeneralLens\u001b[0m\u001b[1;33m,\u001b[0m \u001b[0mParallelRaySource\u001b[0m\u001b[1;33m,\u001b[0m \u001b[0mSphericalFace\u001b[0m\u001b[1;33m,\u001b[0m \u001b[0mCircleShape\u001b[0m\u001b[1;33m,\u001b[0m \u001b[0mOpticalMaterial\u001b[0m\u001b[1;33m\u001b[0m\u001b[1;33m\u001b[0m\u001b[0m\n\u001b[0m\u001b[0;32m      3\u001b[0m \u001b[1;33m\u001b[0m\u001b[0m\n\u001b[0;32m      4\u001b[0m \u001b[1;31m# check\u001b[0m\u001b[1;33m\u001b[0m\u001b[1;33m\u001b[0m\u001b[1;33m\u001b[0m\u001b[0m\n\u001b[0;32m      5\u001b[0m \u001b[1;32mfrom\u001b[0m \u001b[0mraypier\u001b[0m \u001b[1;32mimport\u001b[0m \u001b[0mtracer\u001b[0m\u001b[1;33m\u001b[0m\u001b[1;33m\u001b[0m\u001b[0m\n",
      "\u001b[1;31mModuleNotFoundError\u001b[0m: No module named 'raypier'"
     ]
    }
   ],
   "source": [
    "#import sys; sys.path.insert(0,'..')\n",
    "from raypier.api import RayTraceModel, GeneralLens, ParallelRaySource, SphericalFace, CircleShape, OpticalMaterial\n",
    "\n",
    "# check\n",
    "from raypier import tracer\n",
    "print(tracer.__file__)\n",
    "\n",
    "if 1:\n",
    "    ### Build a couple of lenses ###\n",
    "    shape = CircleShape(radius=12.5)\n",
    "    f1 = SphericalFace(curvature=-50.0, z_height=0.0)\n",
    "    f2 = SphericalFace(curvature=50.0, z_height=5.0)\n",
    "    m = OpticalMaterial(glass_name=\"N-BK7\")\n",
    "    lens1 = GeneralLens(centre=(0,0,0),\n",
    "                        direction=(0,0,1),\n",
    "                        shape=shape,\n",
    "                        surfaces=[f1,f2],\n",
    "                        materials=[m])\n",
    "    lens2 = GeneralLens(centre=(0,0,100.0),\n",
    "                        direction=(0,0,1),\n",
    "                        shape=shape,\n",
    "                        surfaces=[f1,f2],\n",
    "                        materials=[m])\n",
    "\n",
    "    ### Add a source ###\n",
    "    src = ParallelRaySource(origin=(0,0,-50.0),\n",
    "                            direction=(0,0,1),\n",
    "                            rings=5,\n",
    "                            show_normals=False,\n",
    "                            display=\"wires\",\n",
    "                            opacity=0.1)\n",
    "\n",
    "    model = RayTraceModel(optics=[lens1,lens2],\n",
    "                            sources=[src])\n",
    "\n"
   ]
  },
  {
   "cell_type": "code",
   "execution_count": 5,
   "id": "07d50ab7",
   "metadata": {},
   "outputs": [
    {
     "data": {
      "image/png": "[encoded data removed]",
      "text/plain": [
       "<IPython.core.display.Image object>"
      ]
     },
     "metadata": {
      "filenames": {
       "image/png": "C:\\Users\\herbst\\OpticalDesignDocu\\_build\\jupyter_execute\\raypier_lens_1_0.png"
      }
     },
     "output_type": "display_data"
    },
    {
     "data": {
      "application/vnd.jupyter.widget-view+json": {
       "model_id": "194d0e38255f467eb5d1077ac2848381",
       "version_major": 2,
       "version_minor": 0
      },
      "text/plain": [
       "HBox(children=(HBox(children=(Button(description='↑', style=ButtonStyle()), Button(description='↓', style=Butt…"
      ]
     },
     "metadata": {},
     "output_type": "display_data"
    },
    {
     "data": {
      "text/plain": [
       "{'position': (0.0, 0.0, 816.7000917972435),\n",
       " 'view_up': (0.0, 1.0, 0.0),\n",
       " 'focal_point': (0.0, 0.0, 127.5)}"
      ]
     },
     "execution_count": 5,
     "metadata": {},
     "output_type": "execute_result"
    }
   ],
   "source": [
    "model.ipython_view(400,300)"
   ]
  },
  {
   "cell_type": "code",
   "execution_count": null,
   "id": "2b289fcc",
   "metadata": {},
   "outputs": [],
   "source": []
  },
  {
   "cell_type": "code",
   "execution_count": null,
   "id": "8c7aebd8",
   "metadata": {},
   "outputs": [],
   "source": []
  }
 ],
 "metadata": {
  "kernelspec": {
   "display_name": "Python 3 (ipykernel)",
   "language": "python",
   "name": "python3"
  },
  "language_info": {
   "codemirror_mode": {
    "name": "ipython",
    "version": 3
   },
   "file_extension": ".py",
   "mimetype": "text/x-python",
   "name": "python",
   "nbconvert_exporter": "python",
   "pygments_lexer": "ipython3",
   "version": "3.7.11"
  }
 },
 "nbformat": 4,
 "nbformat_minor": 5
}