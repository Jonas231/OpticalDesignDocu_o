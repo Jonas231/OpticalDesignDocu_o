{
 "cells": [
  {
   "cell_type": "markdown",
   "id": "ec60b0c0",
   "metadata": {},
   "source": [
    "\n",
    "# OpTaliX: Illumination source data\n",
    "These are ..."
   ]
  },
  {
   "cell_type": "code",
   "execution_count": 1,
   "id": "30d3a396",
   "metadata": {
    "tags": [
     "remove_input"
    ]
   },
   "outputs": [
    {
     "data": {
      "application/javascript": [
       "if (typeof require !== 'undefined')\n",
       "    require.config({\n",
       "        paths: {\n",
       "            jquery: 'https://code.jquery.com/jquery-3.5.1.min',\n",
       "            datatables: 'https://cdn.datatables.net/1.11.3/js/jquery.dataTables.min',\n",
       "        }\n",
       "    });\n"
      ],
      "text/plain": [
       "<IPython.core.display.Javascript object>"
      ]
     },
     "metadata": {},
     "output_type": "display_data"
    }
   ],
   "source": [
    "import pandas as pd\n",
    "import itables\n",
    "from itables import init_notebook_mode, show\n",
    "import itables.options as opt\n",
    "\n",
    "init_notebook_mode(all_interactive=True)\n",
    "\n",
    "opt.lengthMenu = [50, 100, 200, 500]\n",
    "#opt.classes = [\"display\", \"cell-border\"]\n",
    "#opt.classes = [\"display\", \"nowrap\"]\n",
    "\n",
    "opt.columnDefs = [{\"className\": \"dt-left\", \"targets\": \"_all\"}, {\"width\": \"500px\", \"targets\": 1}]\n"
   ]
  },
  {
   "cell_type": "code",
   "execution_count": 2,
   "id": "36dee203",
   "metadata": {
    "tags": [
     "remove_input"
    ]
   },
   "outputs": [],
   "source": [
    "import os\n",
    "cwd = os.getcwd()\n",
    "filename = os.path.join(cwd, os.path.join('Excel', 'OpTaliX_optimization_operands.xlsx'))\n",
    "df_var = pd.read_excel(filename, sheet_name = \"Illumination Source Data\", header = 0, index_col = 0)\n",
    "df_var = df_var.dropna()   # drop nan values"
   ]
  },
  {
   "cell_type": "code",
   "execution_count": 3,
   "id": "ad2657ec",
   "metadata": {
    "tags": [
     "remove_input"
    ]
   },
   "outputs": [
    {
     "data": {
      "text/html": [
       "<table id=\"6e2d2177-4c56-4718-834f-c0973df28f20\" class=\"display\"style=\"max-width:100%\"><thead><th></th><th>Description</th><th>Order</th></thead><tbody><tr><td>Loading... (need <a href=https://mwouts.github.io/itables/troubleshooting.html>help</a>?)</td></tr></tbody></table>\n",
       "<link rel=\"stylesheet\" type=\"text/css\" href=\"https://cdn.datatables.net/1.11.3/css/jquery.dataTables.min.css\">\n",
       "<style> table td {\n",
       "    text-overflow: ellipsis;\n",
       "    overflow: hidden;\n",
       "} </style>\n",
       "<style> table th {\n",
       "    text-overflow: ellipsis;\n",
       "    overflow: hidden;\n",
       "} </style>\n",
       "<script type=\"module\">\n",
       "    // Define the table data\n",
       "    const data = [[\"SUSE sk 0|1 \", \"Use illumination source (0=no, 1=yes)\", 1], [\"SPWR sk pwr \", \"Source power\", 2], [\"SXEX sk x_extension \", \"Source X-extension (full width)\", 3], [\"SYEX sk y_extension \", \"Source Y-extension (full width)\", 4], [\"SXDE sk x_dec \", \"Source X-decenter\", 5], [\"SYDE sk y_dec \", \"Source Y-decenter\", 6], [\"SZDE sk z_dec \", \"Source Z-decenter\", 7], [\"SADE sk alpha \", \"Source tilt (alpha) about X-axis\", 8], [\"SBDE sk beta \", \"Source tilt (beta) about Y-axis\", 9], [\"SCDE sk gamma \", \"Source tilt (gamma) about Z-axis\", 10], [\"SARAY sk analysis_rays \", \"Source: Number of analysis rays\", 11], [\"SPRAY sk plot_rays \", \"Source: Number of plot rays\", 12], [\"SGREF sk O|G \", \"Source reference: O = object, G = global\", 13], [\"SDIVX sk x_div \", \"Source divergence X (in degrees), full width\", 14], [\"SDIVY sk y_div \", \"Source divergence Y (in degrees), full width\", 15], [\"SOFA sk x_offs \", \"Source emittance angular offset in Y direction (in degrees)\", 16], [\"SOFB sk y_offs \", \"Source emittance angular offset in X direction (in degrees)\", 17]];\n",
       "\n",
       "    if (typeof require === 'undefined') {\n",
       "        // TODO: This should become the default (use a simple import)\n",
       "        // when the ESM version works independently of whether\n",
       "        // require.js is there or not, see\n",
       "        // https://datatables.net/forums/discussion/69066/esm-es6-module-support?\n",
       "        const {default: $} = await import(\"https://esm.sh/jquery@3.5.0\");\n",
       "        const {default: initDataTables} = await import(\"https://esm.sh/datatables.net@1.11.3?deps=jquery@3.5.0\");\n",
       "\n",
       "        initDataTables();\n",
       "\n",
       "        // Define the dt_args\n",
       "        let dt_args = {\"columnDefs\": [{\"className\": \"dt-left\", \"targets\": \"_all\"}, {\"width\": \"500px\", \"targets\": 1}], \"lengthMenu\": [50, 100, 200, 500], \"paging\": false};\n",
       "        dt_args[\"data\"] = data;\n",
       "\n",
       "        // Display the table\n",
       "        $(document).ready(function () {\n",
       "            $('#6e2d2177-4c56-4718-834f-c0973df28f20').DataTable(dt_args);\n",
       "        });\n",
       "    } else {\n",
       "        require([\"jquery\", \"datatables\"], ($, datatables) => {\n",
       "                // Define the dt_args\n",
       "                let dt_args = {\"columnDefs\": [{\"className\": \"dt-left\", \"targets\": \"_all\"}, {\"width\": \"500px\", \"targets\": 1}], \"lengthMenu\": [50, 100, 200, 500], \"paging\": false};\n",
       "                dt_args[\"data\"] = data;\n",
       "\n",
       "                // Display the table\n",
       "                $(document).ready(function () {\n",
       "                    $('#6e2d2177-4c56-4718-834f-c0973df28f20').DataTable(dt_args);\n",
       "                });\n",
       "            }\n",
       "        )\n",
       "    }\n",
       "</script>\n"
      ],
      "text/plain": [
       "                                                               Description  \\\n",
       "Item                                                                         \n",
       "SUSE sk 0|1                          Use illumination source (0=no, 1=yes)   \n",
       "SPWR sk pwr                                                   Source power   \n",
       "SXEX sk x_extension                        Source X-extension (full width)   \n",
       "SYEX sk y_extension                        Source Y-extension (full width)   \n",
       "SXDE sk x_dec                                            Source X-decenter   \n",
       "SYDE sk y_dec                                            Source Y-decenter   \n",
       "SZDE sk z_dec                                            Source Z-decenter   \n",
       "SADE sk alpha                             Source tilt (alpha) about X-axis   \n",
       "SBDE sk beta                               Source tilt (beta) about Y-axis   \n",
       "SCDE sk gamma                             Source tilt (gamma) about Z-axis   \n",
       "SARAY sk analysis_rays                     Source: Number of analysis rays   \n",
       "SPRAY sk plot_rays                             Source: Number of plot rays   \n",
       "SGREF sk O|G                      Source reference: O = object, G = global   \n",
       "SDIVX sk x_div                Source divergence X (in degrees), full width   \n",
       "SDIVY sk y_div                Source divergence Y (in degrees), full width   \n",
       "SOFA sk x_offs           Source emittance angular offset in Y direction...   \n",
       "SOFB sk y_offs           Source emittance angular offset in X direction...   \n",
       "\n",
       "                         Order  \n",
       "Item                            \n",
       "SUSE sk 0|1                  1  \n",
       "SPWR sk pwr                  2  \n",
       "SXEX sk x_extension          3  \n",
       "SYEX sk y_extension          4  \n",
       "SXDE sk x_dec                5  \n",
       "SYDE sk y_dec                6  \n",
       "SZDE sk z_dec                7  \n",
       "SADE sk alpha                8  \n",
       "SBDE sk beta                 9  \n",
       "SCDE sk gamma               10  \n",
       "SARAY sk analysis_rays      11  \n",
       "SPRAY sk plot_rays          12  \n",
       "SGREF sk O|G                13  \n",
       "SDIVX sk x_div              14  \n",
       "SDIVY sk y_div              15  \n",
       "SOFA sk x_offs              16  \n",
       "SOFB sk y_offs              17  "
      ]
     },
     "execution_count": 3,
     "metadata": {},
     "output_type": "execute_result"
    }
   ],
   "source": [
    "df_var"
   ]
  },
  {
   "cell_type": "code",
   "execution_count": null,
   "id": "06654ecb",
   "metadata": {},
   "outputs": [],
   "source": []
  },
  {
   "cell_type": "code",
   "execution_count": null,
   "id": "14ed69a1",
   "metadata": {},
   "outputs": [],
   "source": []
  }
 ],
 "metadata": {
  "celltoolbar": "Tags",
  "kernelspec": {
   "display_name": "Python 3 (ipykernel)",
   "language": "python",
   "name": "python3"
  },
  "language_info": {
   "codemirror_mode": {
    "name": "ipython",
    "version": 3
   },
   "file_extension": ".py",
   "mimetype": "text/x-python",
   "name": "python",
   "nbconvert_exporter": "python",
   "pygments_lexer": "ipython3",
   "version": "3.7.11"
  }
 },
 "nbformat": 4,
 "nbformat_minor": 5
}