{
 "cells": [
  {
   "cell_type": "markdown",
   "id": "a066269a",
   "metadata": {},
   "source": [
    "## Python: ray-optics\n",
    "The python package [ray-optics](https://ray-optics.readthedocs.io/en/latest/) is used to read some CodeV .seq files and ZEMAX .zmx files and do some analyses. Please install the most recent version of ray-optics, with \"conda install -c conda-forge rayoptics==0.8.1\" if 0.8.1 is the actual version."
   ]
  },
  {
   "cell_type": "code",
   "execution_count": 1,
   "id": "4d8e79de",
   "metadata": {},
   "outputs": [
    {
     "ename": "ImportError",
     "evalue": "cannot import name 'Protocol' from 'typing' (C:\\Users\\herbst\\Anaconda3\\envs\\mypython37\\lib\\typing.py)",
     "output_type": "error",
     "traceback": [
      "\u001b[1;31m---------------------------------------------------------------------------\u001b[0m",
      "\u001b[1;31mImportError\u001b[0m                               Traceback (most recent call last)",
      "\u001b[1;32m~\\AppData\\Local\\Temp\\ipykernel_20612\\479588544.py\u001b[0m in \u001b[0;36m<module>\u001b[1;34m\u001b[0m\n\u001b[0;32m      1\u001b[0m \u001b[0mget_ipython\u001b[0m\u001b[1;33m(\u001b[0m\u001b[1;33m)\u001b[0m\u001b[1;33m.\u001b[0m\u001b[0mrun_line_magic\u001b[0m\u001b[1;33m(\u001b[0m\u001b[1;34m'matplotlib'\u001b[0m\u001b[1;33m,\u001b[0m \u001b[1;34m'inline'\u001b[0m\u001b[1;33m)\u001b[0m\u001b[1;33m\u001b[0m\u001b[1;33m\u001b[0m\u001b[0m\n\u001b[0;32m      2\u001b[0m \u001b[1;31m# initialization\u001b[0m\u001b[1;33m\u001b[0m\u001b[1;33m\u001b[0m\u001b[1;33m\u001b[0m\u001b[0m\n\u001b[1;32m----> 3\u001b[1;33m \u001b[1;32mfrom\u001b[0m \u001b[0mrayoptics\u001b[0m\u001b[1;33m.\u001b[0m\u001b[0menvironment\u001b[0m \u001b[1;32mimport\u001b[0m \u001b[1;33m*\u001b[0m\u001b[1;33m\u001b[0m\u001b[1;33m\u001b[0m\u001b[0m\n\u001b[0m\u001b[0;32m      4\u001b[0m \u001b[1;33m\u001b[0m\u001b[0m\n",
      "\u001b[1;32m~\\Anaconda3\\envs\\mypython37\\lib\\site-packages\\rayoptics\\environment.py\u001b[0m in \u001b[0;36m<module>\u001b[1;34m\u001b[0m\n\u001b[0;32m     26\u001b[0m \u001b[1;33m\u001b[0m\u001b[0m\n\u001b[0;32m     27\u001b[0m \u001b[1;32mfrom\u001b[0m \u001b[0mrayoptics\u001b[0m\u001b[1;33m.\u001b[0m\u001b[0mgui\u001b[0m\u001b[1;33m.\u001b[0m\u001b[0mappmanager\u001b[0m \u001b[1;32mimport\u001b[0m \u001b[0mAppManager\u001b[0m\u001b[1;33m,\u001b[0m \u001b[0mModelInfo\u001b[0m\u001b[1;33m\u001b[0m\u001b[1;33m\u001b[0m\u001b[0m\n\u001b[1;32m---> 28\u001b[1;33m from rayoptics.gui.appcmds import (create_new_model, open_model,\n\u001b[0m\u001b[0;32m     29\u001b[0m                                    set_apertures, set_vignetting)\n\u001b[0;32m     30\u001b[0m \u001b[1;33m\u001b[0m\u001b[0m\n",
      "\u001b[1;32m~\\Anaconda3\\envs\\mypython37\\lib\\site-packages\\rayoptics\\gui\\appcmds.py\u001b[0m in \u001b[0;36m<module>\u001b[1;34m\u001b[0m\n\u001b[0;32m     16\u001b[0m \u001b[1;32mfrom\u001b[0m \u001b[0mopticalglass\u001b[0m \u001b[1;32mimport\u001b[0m \u001b[0mglassfactory\u001b[0m \u001b[1;32mas\u001b[0m \u001b[0mgfact\u001b[0m\u001b[1;33m\u001b[0m\u001b[1;33m\u001b[0m\u001b[0m\n\u001b[0;32m     17\u001b[0m \u001b[1;33m\u001b[0m\u001b[0m\n\u001b[1;32m---> 18\u001b[1;33m \u001b[1;32mfrom\u001b[0m \u001b[0mrayoptics\u001b[0m\u001b[1;33m.\u001b[0m\u001b[0mcodev\u001b[0m \u001b[1;32mimport\u001b[0m \u001b[0mcmdproc\u001b[0m\u001b[1;33m\u001b[0m\u001b[1;33m\u001b[0m\u001b[0m\n\u001b[0m\u001b[0;32m     19\u001b[0m \u001b[1;32mfrom\u001b[0m \u001b[0mrayoptics\u001b[0m\u001b[1;33m.\u001b[0m\u001b[0mzemax\u001b[0m \u001b[1;32mimport\u001b[0m \u001b[0mzmxread\u001b[0m\u001b[1;33m\u001b[0m\u001b[1;33m\u001b[0m\u001b[0m\n\u001b[0;32m     20\u001b[0m \u001b[1;33m\u001b[0m\u001b[0m\n",
      "\u001b[1;32m~\\Anaconda3\\envs\\mypython37\\lib\\site-packages\\rayoptics\\codev\\cmdproc.py\u001b[0m in \u001b[0;36m<module>\u001b[1;34m\u001b[0m\n\u001b[0;32m     14\u001b[0m \u001b[1;32mfrom\u001b[0m \u001b[1;33m.\u001b[0m \u001b[1;32mimport\u001b[0m \u001b[0mreader\u001b[0m \u001b[1;32mas\u001b[0m \u001b[0mcvr\u001b[0m\u001b[1;33m\u001b[0m\u001b[1;33m\u001b[0m\u001b[0m\n\u001b[0;32m     15\u001b[0m \u001b[1;33m\u001b[0m\u001b[0m\n\u001b[1;32m---> 16\u001b[1;33m \u001b[1;32mimport\u001b[0m \u001b[0mrayoptics\u001b[0m\u001b[1;33m.\u001b[0m\u001b[0moptical\u001b[0m\u001b[1;33m.\u001b[0m\u001b[0mopticalmodel\u001b[0m \u001b[1;32mas\u001b[0m \u001b[0mopticalmodel\u001b[0m\u001b[1;33m\u001b[0m\u001b[1;33m\u001b[0m\u001b[0m\n\u001b[0m\u001b[0;32m     17\u001b[0m from rayoptics.elem.surface import (DecenterData, Circular, Rectangular,\n\u001b[0;32m     18\u001b[0m                                     Elliptical)\n",
      "\u001b[1;32m~\\Anaconda3\\envs\\mypython37\\lib\\site-packages\\rayoptics\\optical\\opticalmodel.py\u001b[0m in \u001b[0;36m<module>\u001b[1;34m\u001b[0m\n\u001b[0;32m     14\u001b[0m \u001b[1;32mimport\u001b[0m \u001b[0mrayoptics\u001b[0m\u001b[1;33m\u001b[0m\u001b[1;33m\u001b[0m\u001b[0m\n\u001b[0;32m     15\u001b[0m \u001b[1;33m\u001b[0m\u001b[0m\n\u001b[1;32m---> 16\u001b[1;33m \u001b[1;32mimport\u001b[0m \u001b[0mrayoptics\u001b[0m\u001b[1;33m.\u001b[0m\u001b[0melem\u001b[0m\u001b[1;33m.\u001b[0m\u001b[0melements\u001b[0m \u001b[1;32mas\u001b[0m \u001b[0mele\u001b[0m\u001b[1;33m\u001b[0m\u001b[1;33m\u001b[0m\u001b[0m\n\u001b[0m\u001b[0;32m     17\u001b[0m \u001b[1;32mimport\u001b[0m \u001b[0mrayoptics\u001b[0m\u001b[1;33m.\u001b[0m\u001b[0moptical\u001b[0m\u001b[1;33m.\u001b[0m\u001b[0mmodel_constants\u001b[0m \u001b[1;32mas\u001b[0m \u001b[0mmc\u001b[0m\u001b[1;33m\u001b[0m\u001b[1;33m\u001b[0m\u001b[0m\n\u001b[0;32m     18\u001b[0m \u001b[1;33m\u001b[0m\u001b[0m\n",
      "\u001b[1;32m~\\Anaconda3\\envs\\mypython37\\lib\\site-packages\\rayoptics\\elem\\elements.py\u001b[0m in \u001b[0;36m<module>\u001b[1;34m\u001b[0m\n\u001b[0;32m     14\u001b[0m \u001b[1;33m\u001b[0m\u001b[0m\n\u001b[0;32m     15\u001b[0m \u001b[1;32mfrom\u001b[0m \u001b[0mabc\u001b[0m \u001b[1;32mimport\u001b[0m \u001b[0mabstractmethod\u001b[0m\u001b[1;33m\u001b[0m\u001b[1;33m\u001b[0m\u001b[0m\n\u001b[1;32m---> 16\u001b[1;33m \u001b[1;32mfrom\u001b[0m \u001b[0mtyping\u001b[0m \u001b[1;32mimport\u001b[0m \u001b[0mProtocol\u001b[0m\u001b[1;33m,\u001b[0m \u001b[0mClassVar\u001b[0m\u001b[1;33m,\u001b[0m \u001b[0mList\u001b[0m\u001b[1;33m,\u001b[0m \u001b[0mDict\u001b[0m\u001b[1;33m,\u001b[0m \u001b[0mAny\u001b[0m\u001b[1;33m\u001b[0m\u001b[1;33m\u001b[0m\u001b[0m\n\u001b[0m\u001b[0;32m     17\u001b[0m \u001b[1;33m\u001b[0m\u001b[0m\n\u001b[0;32m     18\u001b[0m \u001b[1;32mimport\u001b[0m \u001b[0mnumpy\u001b[0m \u001b[1;32mas\u001b[0m \u001b[0mnp\u001b[0m\u001b[1;33m\u001b[0m\u001b[1;33m\u001b[0m\u001b[0m\n",
      "\u001b[1;31mImportError\u001b[0m: cannot import name 'Protocol' from 'typing' (C:\\Users\\herbst\\Anaconda3\\envs\\mypython37\\lib\\typing.py)"
     ]
    }
   ],
   "source": [
    "\n",
    "\n",
    "%matplotlib inline\n",
    "# initialization\n",
    "from rayoptics.environment import *\n",
    "\n"
   ]
  },
  {
   "cell_type": "code",
   "execution_count": 2,
   "id": "ec3cbddc",
   "metadata": {},
   "outputs": [],
   "source": [
    "root_pth = Path(rayoptics.__file__).resolve().parent"
   ]
  },
  {
   "cell_type": "code",
   "execution_count": 3,
   "id": "33fd300b",
   "metadata": {},
   "outputs": [],
   "source": [
    "opm, info = open_model(root_pth/\"zemax/tests/354710-C-Zemax(ZMX).zmx\", info=True)"
   ]
  },
  {
   "cell_type": "code",
   "execution_count": 4,
   "id": "1d9ad94f",
   "metadata": {},
   "outputs": [
    {
     "data": {
      "text/plain": [
       "({'VERS': '140124 258 36214',\n",
       "  'pupil': ('aperture', 'object', 'pupil'),\n",
       "  'FTYP': '0 0 1 1 0 0 0',\n",
       "  'STANDARD': 5,\n",
       "  'EVENASPH': 1,\n",
       "  'CONI': 1,\n",
       "  'conj type': 'infinite',\n",
       "  '# surfs': 6,\n",
       "  '# wvls': 1,\n",
       "  'fov': ('field', 'object', 'angle'),\n",
       "  '# fields': 1,\n",
       "  'GCAT': ['LIGHTPATH', 'SCHOTT'],\n",
       "  'glass substituted': 2,\n",
       "  'encoding': 'utf-16'},\n",
       " {'D-ZK3M': ('D-ZK3', 'CDGM'), 'BK7': ('BK7', 'Robb1983.SCHOTT')})"
      ]
     },
     "execution_count": 4,
     "metadata": {},
     "output_type": "execute_result"
    }
   ],
   "source": [
    "info"
   ]
  },
  {
   "cell_type": "code",
   "execution_count": 5,
   "id": "840db026",
   "metadata": {},
   "outputs": [
    {
     "data": {
      "text/plain": [
       "<rayoptics.optical.opticalmodel.OpticalModel at 0x19f78826cd0>"
      ]
     },
     "execution_count": 5,
     "metadata": {},
     "output_type": "execute_result"
    }
   ],
   "source": [
    "opm\n"
   ]
  },
  {
   "cell_type": "code",
   "execution_count": 8,
   "id": "9e197310",
   "metadata": {},
   "outputs": [],
   "source": [
    "sm  = opm['seq_model']\n",
    "osp = opm['optical_spec']\n",
    "pm = opm['parax_model']\n",
    "em = opm['ele_model']\n",
    "pt = opm['part_tree']\n",
    "ar = opm['analysis_results']"
   ]
  },
  {
   "cell_type": "code",
   "execution_count": 9,
   "id": "d7548218",
   "metadata": {},
   "outputs": [
    {
     "name": "stdout",
     "output_type": "stream",
     "text": [
      "              c            t        medium     mode   zdr      sd\n",
      "  Obj:     0.000000  1.00000e+10       air             1      0.0000\n",
      " Stop:     1.182174     0.862527     D-ZK3             1     0.75000\n",
      "    2:     0.000000     0.523243       air             1     0.57417\n",
      "    3:     0.000000     0.250000       BK7             1     0.24917\n",
      "    4:     0.000000     0.249999       air             1     0.15527\n",
      "  Img:     0.000000      0.00000                       1  8.9134e-06\n"
     ]
    }
   ],
   "source": [
    "sm.list_model()"
   ]
  },
  {
   "cell_type": "code",
   "execution_count": 10,
   "id": "f2f369b2",
   "metadata": {},
   "outputs": [
    {
     "name": "stdout",
     "output_type": "stream",
     "text": [
      "efl               1.483\n",
      "ffl              -1.483\n",
      "pp1           1.647e-16\n",
      "bfl              0.2446\n",
      "ppk               1.239\n",
      "f/#              0.9889\n",
      "m            -1.483e-10\n",
      "red          -6.742e+09\n",
      "obj_dist          1e+10\n",
      "obj_ang               1\n",
      "enp_dist             -0\n",
      "enp_radius         0.75\n",
      "na obj          7.5e-11\n",
      "n obj                 1\n",
      "img_dist         0.2446\n",
      "img_ht          0.02589\n",
      "exp_dist         -1.244\n",
      "exp_radius         0.75\n",
      "na img          -0.4512\n",
      "n img                 1\n",
      "optical invariant      0.01309\n"
     ]
    }
   ],
   "source": [
    "pm.first_order_data()"
   ]
  },
  {
   "cell_type": "code",
   "execution_count": 11,
   "id": "9ca962a0",
   "metadata": {},
   "outputs": [
    {
     "data": {
      "image/png": "[encoded data removed]",
      "text/plain": [
       "<InteractiveLayout size 432x288 with 1 Axes>"
      ]
     },
     "metadata": {
      "filenames": {
       "image/png": "C:\\Users\\herbst\\OpticalDesignDocu\\_build\\jupyter_execute\\python_rayopt_9_0.png"
      }
     },
     "output_type": "display_data"
    }
   ],
   "source": [
    "layout_plt = plt.figure(FigureClass=InteractiveLayout, opt_model=opm,\n",
    "                        do_draw_rays=True, do_paraxial_layout=False).plot()"
   ]
  },
  {
   "cell_type": "code",
   "execution_count": 12,
   "id": "a5b1c6ea",
   "metadata": {},
   "outputs": [
    {
     "data": {
      "image/png": "[encoded data removed]",
      "text/plain": [
       "<RayFanFigure size 432x288 with 2 Axes>"
      ]
     },
     "metadata": {
      "filenames": {
       "image/png": "C:\\Users\\herbst\\OpticalDesignDocu\\_build\\jupyter_execute\\python_rayopt_10_0.png"
      }
     },
     "output_type": "display_data"
    }
   ],
   "source": [
    "abr_plt = plt.figure(FigureClass=RayFanFigure, opt_model=opm, data_type='Ray',\n",
    "                     scale_type=Fit.All_Same).plot()"
   ]
  },
  {
   "cell_type": "markdown",
   "id": "287b3ccb",
   "metadata": {},
   "source": [
    "One can see that not any glass is recognized:"
   ]
  },
  {
   "cell_type": "code",
   "execution_count": 14,
   "id": "36897019",
   "metadata": {},
   "outputs": [
    {
     "data": {
      "text/plain": [
       "({'pupil': ('aperture', 'object', 'pupil'),\n",
       "  'FTYP': '0 0',\n",
       "  'STANDARD': 3,\n",
       "  'EVENASPH': 1,\n",
       "  'CONI': 1,\n",
       "  'conj type': 'finite',\n",
       "  '# surfs': 4,\n",
       "  '# wvls': 1,\n",
       "  'fov': ('field', 'object', 'angle'),\n",
       "  '# fields': 1,\n",
       "  'GCAT': ['SPECIAL'],\n",
       "  'glass not found': 1,\n",
       "  'encoding': 'utf-8'},\n",
       " {'C79-80': 1})"
      ]
     },
     "execution_count": 14,
     "metadata": {},
     "output_type": "execute_result"
    }
   ],
   "source": [
    "filename = r'C:\\Work\\OpTaliX\\Test\\AFL12-15.zmx'\n",
    "opm, info = open_model(filename, info=True)\n",
    "info"
   ]
  },
  {
   "cell_type": "code",
   "execution_count": null,
   "id": "c6ea75c2",
   "metadata": {},
   "outputs": [],
   "source": []
  }
 ],
 "metadata": {
  "kernelspec": {
   "display_name": "Python 3 (ipykernel)",
   "language": "python",
   "name": "python3"
  },
  "language_info": {
   "codemirror_mode": {
    "name": "ipython",
    "version": 3
   },
   "file_extension": ".py",
   "mimetype": "text/x-python",
   "name": "python",
   "nbconvert_exporter": "python",
   "pygments_lexer": "ipython3",
   "version": "3.7.11"
  }
 },
 "nbformat": 4,
 "nbformat_minor": 5
}