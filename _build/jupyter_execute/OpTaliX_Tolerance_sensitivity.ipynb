{
 "cells": [
  {
   "cell_type": "markdown",
   "id": "44ddaa3e",
   "metadata": {},
   "source": [
    "# OpTaliX: Tolerance and Sensitivity Analysis\n",
    "\n",
    "These are ..."
   ]
  },
  {
   "cell_type": "code",
   "execution_count": 1,
   "id": "30d3a396",
   "metadata": {
    "tags": [
     "remove_input"
    ]
   },
   "outputs": [
    {
     "data": {
      "application/javascript": [
       "if (typeof require !== 'undefined')\n",
       "    require.config({\n",
       "        paths: {\n",
       "            jquery: 'https://code.jquery.com/jquery-3.5.1.min',\n",
       "            datatables: 'https://cdn.datatables.net/1.11.3/js/jquery.dataTables.min',\n",
       "        }\n",
       "    });\n"
      ],
      "text/plain": [
       "<IPython.core.display.Javascript object>"
      ]
     },
     "metadata": {},
     "output_type": "display_data"
    }
   ],
   "source": [
    "import pandas as pd\n",
    "import itables\n",
    "from itables import init_notebook_mode, show\n",
    "import itables.options as opt\n",
    "\n",
    "init_notebook_mode(all_interactive=True)\n",
    "\n",
    "opt.lengthMenu = [50, 100, 200, 500]\n",
    "#opt.classes = [\"display\", \"cell-border\"]\n",
    "#opt.classes = [\"display\", \"nowrap\"]\n",
    "\n",
    "opt.columnDefs = [{\"className\": \"dt-left\", \"targets\": \"_all\"}, {\"width\": \"500px\", \"targets\": 1}]\n"
   ]
  },
  {
   "cell_type": "code",
   "execution_count": 2,
   "id": "36dee203",
   "metadata": {
    "tags": [
     "remove_input"
    ]
   },
   "outputs": [],
   "source": [
    "import os\n",
    "cwd = os.getcwd()\n",
    "filename = os.path.join(cwd, os.path.join('Excel', 'OpTaliX_optimization_operands.xlsx'))\n",
    "df_var = pd.read_excel(filename, sheet_name = \"Tolerance and Sensitivity Data\", header = 0, index_col = 0)\n",
    "df_var = df_var.dropna()   # drop nan values"
   ]
  },
  {
   "cell_type": "code",
   "execution_count": 3,
   "id": "ad2657ec",
   "metadata": {
    "tags": [
     "remove_input"
    ]
   },
   "outputs": [
    {
     "data": {
      "text/html": [
       "<table id=\"099b2c2a-b1f2-4ab0-9008-c2ef5d883cb0\" class=\"display\"style=\"max-width:100%\"><thead><th></th><th>Description</th><th>Order</th></thead><tbody><tr><td>Loading... (need <a href=https://mwouts.github.io/itables/troubleshooting.html>help</a>?)</td></tr></tbody></table>\n",
       "<link rel=\"stylesheet\" type=\"text/css\" href=\"https://cdn.datatables.net/1.11.3/css/jquery.dataTables.min.css\">\n",
       "<style> table td {\n",
       "    text-overflow: ellipsis;\n",
       "    overflow: hidden;\n",
       "} </style>\n",
       "<style> table th {\n",
       "    text-overflow: ellipsis;\n",
       "    overflow: hidden;\n",
       "} </style>\n",
       "<script type=\"module\">\n",
       "    // Define the table data\n",
       "    const data = [[\"TSF [fk|fi..j wk|wi..j] sk|si..j \", \"Tolerance sensitivity on test-plate fit. Assumes that a tolerance has been defined on the corresponding surface in the tolerance editor. See the command DLF.If a tolerance on this parameter has not been defined in the tolerance editor, the program assumes DLF 2.0 (fringes) for calculating tolerance sensitivity TSF.\", 1], [\"TSI [fk|fi..j wk|wi..j] sk|si..j \", \"Tolerance sensitivity on surface irregularity. Assumes that a tolerance has been defined on the corresponding surface in the tolerance editor. See the command IRR.If a tolerance on this parameter has not been defined in the tolerance editor, the program assumes IRR 0.4 (fringes) for calculating tolerance sensitivity TSI.\", 2], [\"TST [fk|fi..j wk|wi..j] sk|si..j \", \"Tolerance sensitivity on thickness. Assumes that a tolerance has been defined on the corresponding surface in the tolerance editor. See the command DLT.If a tolerance on this parameter has not been defined in the tolerance editor, the program assumes DLT 0.02 for calculating tolerance sensitivity TST.\", 3], [\"TSN [fk|fi..j wk|wi..j] sk|si..j \", \"Tolerance sensitivity on index of refraction. Assumes that a tolerance has been defined on the corresponding surface in the tolerance editor. See the command DLN.If a tolerance on this parameter has not been defined in the tolerance editor, the program assumes DLN 0.001 for calculating tolerance sensitivity TSN.\", 4], [\"TSV [fk|fi..j wk|wi..j] sk|si..j \", \"Tolerance sensitivity on Abbe number. Assumes that a tolerance has been defined on the corresponding surface in the tolerance editor. See the command DLV.If a tolerance on this parameter has not been defined in the tolerance editor, the program assumes DLV 0.8 (\\\\%) for calculating tolerance sensitivity TSV.\", 5], [\"TSX [fk|fi..j wk|wi..j] sk|si..j \", \"Tolerance sensitivity on X-decenter. Assumes that a tolerance has been defined on the corresponding surface in the tolerance editor. See the command DLX.If a tolerance on this parameter has not been defined in the tolerance editor, the program assumes DLX 0.02 (mm) for calculating tolerance sensitivity TSX.\", 6], [\"TSY [fk|fi..j wk|wi..j] sk|si..j \", \"Tolerance sensitivity on Y-decenter. Assumes that a tolerance has been defined on the corresponding surface in the tolerance editor. See the command DLY.If a tolerance on this parameter has not been defined in the tolerance editor, the program assumes DLY 0.02 (mm) for calculating tolerance sensitivity TSY.\", 7], [\"TSZ [fk|fi..j wk|wi..j] sk|si..j \", \"Tolerance sensitivity on Z-decenter. Assumes that a tolerance has been defined on the corresponding surface in the tolerance editor. See the command DLZ.If a tolerance on this parameter has not been defined in the tolerance editor, the program assumes DLZ 0.05 (mm) for calculating tolerance sensitivity TSZ.\", 8], [\"TSA [fk|fi..j wk|wi..j] sk|si..j \", \"Tolerance sensitivity on a-tilt (about X-axis). Assumes that a tolerance has been defined on the corresponding surface in the tolerance editor. See the command DLA.If a tolerance on this parameter has not been defined in the tolerance editor, the program assumes DLA 5 (arcmin) for calculating tolerance sensitivity TSZ.\", 9], [\"TSB [fk|fi..j wk|wi..j] sk|si..j \", \"Tolerance sensitivity on b-tilt (about Y-axis). Assumes that a tolerance has been defined on the corresponding surface in the tolerance editor. See the command DLB.If a tolerance on this parameter has not been defined in the tolerance editor, the program assumes DLA 5 (arcmin) for calculating tolerance sensitivity TSB.\", 10], [\"TSG [fk|fi..j wk|wi..j] sk|si..j \", \"Tolerance sensitivity on g-tilt (about Z-axis). Assumes that a tolerance has been defined on the corresponding surface in the tolerance editor. See the command DLG.If a tolerance on this parameter has not been defined in the tolerance editor, the program assumes DLG 5 (arcmin) for calculating tolerance sensitivity TSG.\", 11], [\"TSH [fk|fi..j wk|wi..j] sk|si..j \", \"Tolerance sensitivity on index homogeneity. Assumes that a tolerance has been defined on the corresponding surface in the tolerance editor. See the command HOM.If a tolerance on this parameter has not been defined in the tolerance editor, the program assumes HOM 50*10-6 for calculating tolerance sensitivity TSH.\", 12]];\n",
       "\n",
       "    if (typeof require === 'undefined') {\n",
       "        // TODO: This should become the default (use a simple import)\n",
       "        // when the ESM version works independently of whether\n",
       "        // require.js is there or not, see\n",
       "        // https://datatables.net/forums/discussion/69066/esm-es6-module-support?\n",
       "        const {default: $} = await import(\"https://esm.sh/jquery@3.5.0\");\n",
       "        const {default: initDataTables} = await import(\"https://esm.sh/datatables.net@1.11.3?deps=jquery@3.5.0\");\n",
       "\n",
       "        initDataTables();\n",
       "\n",
       "        // Define the dt_args\n",
       "        let dt_args = {\"columnDefs\": [{\"className\": \"dt-left\", \"targets\": \"_all\"}, {\"width\": \"500px\", \"targets\": 1}], \"lengthMenu\": [50, 100, 200, 500], \"paging\": false};\n",
       "        dt_args[\"data\"] = data;\n",
       "\n",
       "        // Display the table\n",
       "        $(document).ready(function () {\n",
       "            $('#099b2c2a-b1f2-4ab0-9008-c2ef5d883cb0').DataTable(dt_args);\n",
       "        });\n",
       "    } else {\n",
       "        require([\"jquery\", \"datatables\"], ($, datatables) => {\n",
       "                // Define the dt_args\n",
       "                let dt_args = {\"columnDefs\": [{\"className\": \"dt-left\", \"targets\": \"_all\"}, {\"width\": \"500px\", \"targets\": 1}], \"lengthMenu\": [50, 100, 200, 500], \"paging\": false};\n",
       "                dt_args[\"data\"] = data;\n",
       "\n",
       "                // Display the table\n",
       "                $(document).ready(function () {\n",
       "                    $('#099b2c2a-b1f2-4ab0-9008-c2ef5d883cb0').DataTable(dt_args);\n",
       "                });\n",
       "            }\n",
       "        )\n",
       "    }\n",
       "</script>\n"
      ],
      "text/plain": [
       "                                                                         Description  \\\n",
       "Item                                                                                   \n",
       "TSF [fk|fi..j wk|wi..j] sk|si..j   Tolerance sensitivity on test-plate fit. Assum...   \n",
       "TSI [fk|fi..j wk|wi..j] sk|si..j   Tolerance sensitivity on surface irregularity....   \n",
       "TST [fk|fi..j wk|wi..j] sk|si..j   Tolerance sensitivity on thickness. Assumes th...   \n",
       "TSN [fk|fi..j wk|wi..j] sk|si..j   Tolerance sensitivity on index of refraction. ...   \n",
       "TSV [fk|fi..j wk|wi..j] sk|si..j   Tolerance sensitivity on Abbe number. Assumes ...   \n",
       "TSX [fk|fi..j wk|wi..j] sk|si..j   Tolerance sensitivity on X-decenter. Assumes t...   \n",
       "TSY [fk|fi..j wk|wi..j] sk|si..j   Tolerance sensitivity on Y-decenter. Assumes t...   \n",
       "TSZ [fk|fi..j wk|wi..j] sk|si..j   Tolerance sensitivity on Z-decenter. Assumes t...   \n",
       "TSA [fk|fi..j wk|wi..j] sk|si..j   Tolerance sensitivity on a-tilt (about X-axis)...   \n",
       "TSB [fk|fi..j wk|wi..j] sk|si..j   Tolerance sensitivity on b-tilt (about Y-axis)...   \n",
       "TSG [fk|fi..j wk|wi..j] sk|si..j   Tolerance sensitivity on g-tilt (about Z-axis)...   \n",
       "TSH [fk|fi..j wk|wi..j] sk|si..j   Tolerance sensitivity on index homogeneity. As...   \n",
       "\n",
       "                                   Order  \n",
       "Item                                      \n",
       "TSF [fk|fi..j wk|wi..j] sk|si..j       1  \n",
       "TSI [fk|fi..j wk|wi..j] sk|si..j       2  \n",
       "TST [fk|fi..j wk|wi..j] sk|si..j       3  \n",
       "TSN [fk|fi..j wk|wi..j] sk|si..j       4  \n",
       "TSV [fk|fi..j wk|wi..j] sk|si..j       5  \n",
       "TSX [fk|fi..j wk|wi..j] sk|si..j       6  \n",
       "TSY [fk|fi..j wk|wi..j] sk|si..j       7  \n",
       "TSZ [fk|fi..j wk|wi..j] sk|si..j       8  \n",
       "TSA [fk|fi..j wk|wi..j] sk|si..j       9  \n",
       "TSB [fk|fi..j wk|wi..j] sk|si..j      10  \n",
       "TSG [fk|fi..j wk|wi..j] sk|si..j      11  \n",
       "TSH [fk|fi..j wk|wi..j] sk|si..j      12  "
      ]
     },
     "execution_count": 3,
     "metadata": {},
     "output_type": "execute_result"
    }
   ],
   "source": [
    "df_var"
   ]
  },
  {
   "cell_type": "markdown",
   "id": "57b330d9",
   "metadata": {},
   "source": [
    "\"Using Tolerance Sensitivity Items in Optimization\n",
    "If optimizing (minimizing) for tolerance sensitivity, the various tolerance sensitivity items described in the previous section should be understood as aberrations added to the targets/constraints (merit function) list.\n",
    "\n",
    "See also the syntax for defining tolerance sensitivity. Here is a typical example in the optimization targets/constraints list:\n",
    "\n",
    "\n",
    "efl = 100  Focal length shall be exactly 100mm.  \n",
    "spd 0  Spot diameter (rms) shall be zero (minimized) for all fields, wavelengths, zoom positions.  \n",
    "tsa s1..5 f1..2 w1 0  Tolerance sensitivity on surface tilt about X-axis shall be minimized for surfaces 1-5, fields 1-2 and wavelength number 1.  \n",
    "tsy 0  Tolerance sensitivity on surface Y-decenter shall be minimized for all surfaces, all fields and all wavelengths defined in the optical system configuration.  \n",
    "\n",
    "\n",
    "\n",
    "Note: Do not attempt to request a tolerance sensitivity item to become exactly zero, e.g. 'TSA = 0' as this is impossible on optical elements/surfaces that have optical effect. Instead minimize it by omitting the equal '=' sign in the constraints definition, e.g. 'TSA 0'.\" "
   ]
  },
  {
   "cell_type": "code",
   "execution_count": null,
   "id": "14ed69a1",
   "metadata": {},
   "outputs": [],
   "source": []
  }
 ],
 "metadata": {
  "celltoolbar": "Tags",
  "kernelspec": {
   "display_name": "Python 3 (ipykernel)",
   "language": "python",
   "name": "python3"
  },
  "language_info": {
   "codemirror_mode": {
    "name": "ipython",
    "version": 3
   },
   "file_extension": ".py",
   "mimetype": "text/x-python",
   "name": "python",
   "nbconvert_exporter": "python",
   "pygments_lexer": "ipython3",
   "version": "3.7.11"
  }
 },
 "nbformat": 4,
 "nbformat_minor": 5
}