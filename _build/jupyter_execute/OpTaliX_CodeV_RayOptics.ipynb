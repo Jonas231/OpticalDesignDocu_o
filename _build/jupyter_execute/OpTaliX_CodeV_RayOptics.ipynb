{
 "cells": [
  {
   "cell_type": "markdown",
   "id": "1faa5636",
   "metadata": {},
   "source": [
    "# OpTaliX to CodeV to RayOptics / Rayopt\n",
    "At first install the python package \"ray-optics\" (conda install rayoptics --channel conda-forge). \n"
   ]
  },
  {
   "cell_type": "code",
   "execution_count": 1,
   "id": "26bceaba",
   "metadata": {},
   "outputs": [],
   "source": [
    "# initialization of ray-optics\n",
    "from rayoptics.environment import *"
   ]
  },
  {
   "cell_type": "code",
   "execution_count": 2,
   "id": "a3a49004",
   "metadata": {},
   "outputs": [],
   "source": [
    "import os\n",
    "cwd = os.getcwd()\n",
    "filename = os.path.join(cwd, os.path.join('OpTaliX','AFL12-15.seq'))\n"
   ]
  },
  {
   "cell_type": "code",
   "execution_count": 3,
   "id": "bae7cb8a",
   "metadata": {},
   "outputs": [],
   "source": [
    "root_pth = Path(rayoptics.__file__).resolve().parent\n",
    "opm = open_model(filename)"
   ]
  },
  {
   "cell_type": "code",
   "execution_count": 4,
   "id": "e3f73ab5",
   "metadata": {},
   "outputs": [
    {
     "ename": "TypeError",
     "evalue": "'OpticalModel' object is not subscriptable",
     "output_type": "error",
     "traceback": [
      "\u001b[1;31m---------------------------------------------------------------------------\u001b[0m",
      "\u001b[1;31mTypeError\u001b[0m                                 Traceback (most recent call last)",
      "\u001b[1;32m~\\AppData\\Local\\Temp\\ipykernel_9940\\1708619527.py\u001b[0m in \u001b[0;36m<module>\u001b[1;34m\u001b[0m\n\u001b[1;32m----> 1\u001b[1;33m \u001b[0msm\u001b[0m  \u001b[1;33m=\u001b[0m \u001b[0mopm\u001b[0m\u001b[1;33m[\u001b[0m\u001b[1;34m'seq_model'\u001b[0m\u001b[1;33m]\u001b[0m\u001b[1;33m\u001b[0m\u001b[1;33m\u001b[0m\u001b[0m\n\u001b[0m\u001b[0;32m      2\u001b[0m \u001b[0mosp\u001b[0m \u001b[1;33m=\u001b[0m \u001b[0mopm\u001b[0m\u001b[1;33m[\u001b[0m\u001b[1;34m'optical_spec'\u001b[0m\u001b[1;33m]\u001b[0m\u001b[1;33m\u001b[0m\u001b[1;33m\u001b[0m\u001b[0m\n\u001b[0;32m      3\u001b[0m \u001b[0mpm\u001b[0m \u001b[1;33m=\u001b[0m \u001b[0mopm\u001b[0m\u001b[1;33m[\u001b[0m\u001b[1;34m'parax_model'\u001b[0m\u001b[1;33m]\u001b[0m\u001b[1;33m\u001b[0m\u001b[1;33m\u001b[0m\u001b[0m\n\u001b[0;32m      4\u001b[0m \u001b[0mem\u001b[0m \u001b[1;33m=\u001b[0m \u001b[0mopm\u001b[0m\u001b[1;33m[\u001b[0m\u001b[1;34m'ele_model'\u001b[0m\u001b[1;33m]\u001b[0m\u001b[1;33m\u001b[0m\u001b[1;33m\u001b[0m\u001b[0m\n\u001b[0;32m      5\u001b[0m \u001b[0mpt\u001b[0m \u001b[1;33m=\u001b[0m \u001b[0mopm\u001b[0m\u001b[1;33m[\u001b[0m\u001b[1;34m'part_tree'\u001b[0m\u001b[1;33m]\u001b[0m\u001b[1;33m\u001b[0m\u001b[1;33m\u001b[0m\u001b[0m\n",
      "\u001b[1;31mTypeError\u001b[0m: 'OpticalModel' object is not subscriptable"
     ]
    }
   ],
   "source": [
    "sm  = opm['seq_model']\n",
    "osp = opm['optical_spec']\n",
    "pm = opm['parax_model']\n",
    "em = opm['ele_model']\n",
    "pt = opm['part_tree']\n",
    "ar = opm['analysis_results']"
   ]
  },
  {
   "cell_type": "code",
   "execution_count": null,
   "id": "91f0e834",
   "metadata": {},
   "outputs": [],
   "source": [
    "sm.list_model()"
   ]
  },
  {
   "cell_type": "code",
   "execution_count": null,
   "id": "8edb069b",
   "metadata": {},
   "outputs": [],
   "source": []
  }
 ],
 "metadata": {
  "kernelspec": {
   "display_name": "Python 3 (ipykernel)",
   "language": "python",
   "name": "python3"
  },
  "language_info": {
   "codemirror_mode": {
    "name": "ipython",
    "version": 3
   },
   "file_extension": ".py",
   "mimetype": "text/x-python",
   "name": "python",
   "nbconvert_exporter": "python",
   "pygments_lexer": "ipython3",
   "version": "3.7.11"
  }
 },
 "nbformat": 4,
 "nbformat_minor": 5
}