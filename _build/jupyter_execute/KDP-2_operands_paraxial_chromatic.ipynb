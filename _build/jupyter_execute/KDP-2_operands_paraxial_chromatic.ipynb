{
 "cells": [
  {
   "cell_type": "markdown",
   "id": "4ea0475c",
   "metadata": {},
   "source": [
    "# Paraxial chromatic\n",
    "\n",
    "These are the operands related to paraxial chromatic deviations."
   ]
  },
  {
   "cell_type": "code",
   "execution_count": 1,
   "id": "defae62c",
   "metadata": {
    "tags": [
     "remove_input"
    ]
   },
   "outputs": [
    {
     "data": {
      "application/javascript": [
       "if (typeof require !== 'undefined')\n",
       "    require.config({\n",
       "        paths: {\n",
       "            jquery: 'https://code.jquery.com/jquery-3.5.1.min',\n",
       "            datatables: 'https://cdn.datatables.net/1.11.3/js/jquery.dataTables.min',\n",
       "        }\n",
       "    });\n"
      ],
      "text/plain": [
       "<IPython.core.display.Javascript object>"
      ]
     },
     "metadata": {},
     "output_type": "display_data"
    }
   ],
   "source": [
    "import pandas as pd\n",
    "import itables\n",
    "from itables import init_notebook_mode, show\n",
    "import itables.options as opt\n",
    "\n",
    "init_notebook_mode(all_interactive=True)\n",
    "\n",
    "opt.lengthMenu = [50, 100, 200, 500]\n",
    "#opt.classes = [\"display\", \"cell-border\"]\n",
    "#opt.classes = [\"display\", \"nowrap\"]\n",
    "\n",
    "opt.columnDefs = [{\"className\": \"dt-left\", \"targets\": \"_all\"}, {\"width\": \"500px\", \"targets\": 4}]\n",
    "#opt.maxBytes = 0\n",
    "#pd.get_option('display.max_columns')\n",
    "#pd.get_option('display.max_rows')\n",
    "\n",
    "\n"
   ]
  },
  {
   "cell_type": "code",
   "execution_count": 2,
   "id": "e06a3e1a",
   "metadata": {
    "tags": [
     "remove_input"
    ]
   },
   "outputs": [],
   "source": [
    "import os\n",
    "cwd = os.getcwd()\n",
    "filename = os.path.join(cwd, os.path.join('Excel', 'KDP-2_optimization_operands.xlsx'))\n",
    "\n",
    "df_pchrom = pd.read_excel(filename, sheet_name = \"paraxial chromatic\", header = 1, index_col = 0)\n",
    "df_pchrom = df_pchrom.dropna()   # drop nan values\n",
    "\n"
   ]
  },
  {
   "cell_type": "code",
   "execution_count": 3,
   "id": "0a352a50",
   "metadata": {
    "tags": [
     "remove_input"
    ]
   },
   "outputs": [
    {
     "data": {
      "text/html": [
       "<table id=\"94b55f77-de5b-4266-9c1f-2ace95213f5e\" class=\"display\"style=\"max-width:100%\"><thead><th></th><th>\"i\" </th><th>\"j\"</th><th>\"k\"</th><th>DESCRIPTION</th><th>Order</th></thead><tbody><tr><td>Loading... (need <a href=https://mwouts.github.io/itables/troubleshooting.html>help</a>?)</td></tr></tbody></table>\n",
       "<link rel=\"stylesheet\" type=\"text/css\" href=\"https://cdn.datatables.net/1.11.3/css/jquery.dataTables.min.css\">\n",
       "<style> table td {\n",
       "    text-overflow: ellipsis;\n",
       "    overflow: hidden;\n",
       "} </style>\n",
       "<style> table th {\n",
       "    text-overflow: ellipsis;\n",
       "    overflow: hidden;\n",
       "} </style>\n",
       "<script type=\"module\">\n",
       "    // Define the table data\n",
       "    const data = [[\"PACY\", \"surf #, (def=last)\", \"(not used)\", \"(not used)\", \"YZ-plane, primary axial chromatic aberration at surface \\\"i\\\". If \\\"i\\\" is the final surface, system totals are calculated. This is the same data as displayed in the \\\"FCHY\\\" and \\\"FCHX\\\" commands.\", 1.0], [\"PACX\", \"surf #, (def=last)\", \"(not used)\", \"(not used)\", \"Same as above except in the XZ-plane.\", 2.0], [\"PLCY\", \"surf #, (def=last)\", \"(not used)\", \"(not used)\", \"YZ-plane, primary lateral chromatic aberration at surface \\\"i\\\". If \\\"i\\\" is the final surface, system totals are calculated. This is the same data as displayed in the \\\"FCHY\\\" and \\\"FCHX\\\" commands.\", 3.0], [\"PLCX\", \"surf #, (def=last)\", \"(not used)\", \"(not used)\", \"Same as above except in the XZ-plane.\", 4.0], [\"SACY\", \"surf #, (def=last)\", \"(not used)\", \"(not used)\", \"YZ-plane, secondary axial chromatic aberration at surface \\\"i\\\". If \\\"i\\\" is the final surface, system totals are calculated. This is the same data as displayed in the \\\"FCHY\\\" and \\\"FCHX\\\" commands.\", 5.0], [\"SACX\", \"surf #, (def=last)\", \"(not used)\", \"(not used)\", \"Same as above except in the XZ-plane.\", 6.0], [\"SLCY\", \"surf #, (def=last)\", \"(not used)\", \"(not used)\", \"YZ-plane secondary lateral  chromatic aberration at surface \\\"i\\\". If \\\"i\\\" is the final surface, system totals are calculated. This is the same data as displayed in the \\\"FCHY\\\" and \\\"FCHX\\\" commands.\", 7.0], [\"SLCX\", \"surf #, (def=last)\", \"(not used)\", \"(not used)\", \"Same as above except in the XZ-plane.\", 8.0]];\n",
       "\n",
       "    if (typeof require === 'undefined') {\n",
       "        // TODO: This should become the default (use a simple import)\n",
       "        // when the ESM version works independently of whether\n",
       "        // require.js is there or not, see\n",
       "        // https://datatables.net/forums/discussion/69066/esm-es6-module-support?\n",
       "        const {default: $} = await import(\"https://esm.sh/jquery@3.5.0\");\n",
       "        const {default: initDataTables} = await import(\"https://esm.sh/datatables.net@1.11.3?deps=jquery@3.5.0\");\n",
       "\n",
       "        initDataTables();\n",
       "\n",
       "        // Define the dt_args\n",
       "        let dt_args = {\"columnDefs\": [{\"className\": \"dt-left\", \"targets\": \"_all\"}, {\"width\": \"500px\", \"targets\": 4}], \"lengthMenu\": [50, 100, 200, 500], \"paging\": false};\n",
       "        dt_args[\"data\"] = data;\n",
       "\n",
       "        // Display the table\n",
       "        $(document).ready(function () {\n",
       "            $('#94b55f77-de5b-4266-9c1f-2ace95213f5e').DataTable(dt_args);\n",
       "        });\n",
       "    } else {\n",
       "        require([\"jquery\", \"datatables\"], ($, datatables) => {\n",
       "                // Define the dt_args\n",
       "                let dt_args = {\"columnDefs\": [{\"className\": \"dt-left\", \"targets\": \"_all\"}, {\"width\": \"500px\", \"targets\": 4}], \"lengthMenu\": [50, 100, 200, 500], \"paging\": false};\n",
       "                dt_args[\"data\"] = data;\n",
       "\n",
       "                // Display the table\n",
       "                $(document).ready(function () {\n",
       "                    $('#94b55f77-de5b-4266-9c1f-2ace95213f5e').DataTable(dt_args);\n",
       "                });\n",
       "            }\n",
       "        )\n",
       "    }\n",
       "</script>\n"
      ],
      "text/plain": [
       "                            \"i\"          \"j\"         \"k\"  \\\n",
       "OPERAND NAME                                               \n",
       "PACY          surf #, (def=last)  (not used)  (not used)   \n",
       "PACX          surf #, (def=last)  (not used)  (not used)   \n",
       "PLCY          surf #, (def=last)  (not used)  (not used)   \n",
       "PLCX          surf #, (def=last)  (not used)  (not used)   \n",
       "SACY          surf #, (def=last)  (not used)  (not used)   \n",
       "SACX          surf #, (def=last)  (not used)  (not used)   \n",
       "SLCY          surf #, (def=last)  (not used)  (not used)   \n",
       "SLCX          surf #, (def=last)  (not used)  (not used)   \n",
       "\n",
       "                                                    DESCRIPTION  Order  \n",
       "OPERAND NAME                                                            \n",
       "PACY          YZ-plane, primary axial chromatic aberration a...    1.0  \n",
       "PACX                      Same as above except in the XZ-plane.    2.0  \n",
       "PLCY          YZ-plane, primary lateral chromatic aberration...    3.0  \n",
       "PLCX                      Same as above except in the XZ-plane.    4.0  \n",
       "SACY          YZ-plane, secondary axial chromatic aberration...    5.0  \n",
       "SACX                      Same as above except in the XZ-plane.    6.0  \n",
       "SLCY          YZ-plane secondary lateral  chromatic aberrati...    7.0  \n",
       "SLCX                      Same as above except in the XZ-plane.    8.0  "
      ]
     },
     "execution_count": 3,
     "metadata": {},
     "output_type": "execute_result"
    }
   ],
   "source": [
    "\n",
    "df_pchrom \n"
   ]
  },
  {
   "cell_type": "code",
   "execution_count": null,
   "id": "0e93e49c",
   "metadata": {},
   "outputs": [],
   "source": []
  },
  {
   "cell_type": "code",
   "execution_count": null,
   "id": "a6381f44",
   "metadata": {},
   "outputs": [],
   "source": []
  },
  {
   "cell_type": "code",
   "execution_count": null,
   "id": "7df3686a",
   "metadata": {},
   "outputs": [],
   "source": []
  }
 ],
 "metadata": {
  "celltoolbar": "Tags",
  "kernelspec": {
   "display_name": "Python 3 (ipykernel)",
   "language": "python",
   "name": "python3"
  },
  "language_info": {
   "codemirror_mode": {
    "name": "ipython",
    "version": 3
   },
   "file_extension": ".py",
   "mimetype": "text/x-python",
   "name": "python",
   "nbconvert_exporter": "python",
   "pygments_lexer": "ipython3",
   "version": "3.7.11"
  }
 },
 "nbformat": 4,
 "nbformat_minor": 5
}