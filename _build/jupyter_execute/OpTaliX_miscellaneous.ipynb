{
 "cells": [
  {
   "cell_type": "markdown",
   "id": "bfc7736b",
   "metadata": {},
   "source": [
    "\n",
    "# OpTaliX: Miscellaneous\n",
    "These are ..."
   ]
  },
  {
   "cell_type": "code",
   "execution_count": 1,
   "id": "30d3a396",
   "metadata": {
    "tags": [
     "remove_input"
    ]
   },
   "outputs": [
    {
     "data": {
      "application/javascript": [
       "if (typeof require !== 'undefined')\n",
       "    require.config({\n",
       "        paths: {\n",
       "            jquery: 'https://code.jquery.com/jquery-3.5.1.min',\n",
       "            datatables: 'https://cdn.datatables.net/1.11.3/js/jquery.dataTables.min',\n",
       "        }\n",
       "    });\n"
      ],
      "text/plain": [
       "<IPython.core.display.Javascript object>"
      ]
     },
     "metadata": {},
     "output_type": "display_data"
    }
   ],
   "source": [
    "import pandas as pd\n",
    "import itables\n",
    "from itables import init_notebook_mode, show\n",
    "import itables.options as opt\n",
    "\n",
    "init_notebook_mode(all_interactive=True)\n",
    "\n",
    "opt.lengthMenu = [50, 100, 200, 500]\n",
    "#opt.classes = [\"display\", \"cell-border\"]\n",
    "#opt.classes = [\"display\", \"nowrap\"]\n",
    "\n",
    "opt.columnDefs = [{\"className\": \"dt-left\", \"targets\": \"_all\"}, {\"width\": \"500px\", \"targets\": 1}]\n"
   ]
  },
  {
   "cell_type": "code",
   "execution_count": 2,
   "id": "36dee203",
   "metadata": {
    "tags": [
     "remove_input"
    ]
   },
   "outputs": [],
   "source": [
    "import os\n",
    "cwd = os.getcwd()\n",
    "filename = os.path.join(cwd, os.path.join('Excel', 'OpTaliX_optimization_operands.xlsx'))\n",
    "df_var = pd.read_excel(filename, sheet_name = \"Miscellaneous\", header = 0, index_col = 0)\n",
    "df_var = df_var.dropna()   # drop nan values"
   ]
  },
  {
   "cell_type": "code",
   "execution_count": 3,
   "id": "ad2657ec",
   "metadata": {
    "tags": [
     "remove_input"
    ]
   },
   "outputs": [
    {
     "data": {
      "text/html": [
       "<table id=\"2ed03fa1-4d43-4d55-8362-da180954322e\" class=\"display\"style=\"max-width:100%\"><thead><th></th><th>Description</th><th>Order</th></thead><tbody><tr><td>Loading... (need <a href=https://mwouts.github.io/itables/troubleshooting.html>help</a>?)</td></tr></tbody></table>\n",
       "<link rel=\"stylesheet\" type=\"text/css\" href=\"https://cdn.datatables.net/1.11.3/css/jquery.dataTables.min.css\">\n",
       "<style> table td {\n",
       "    text-overflow: ellipsis;\n",
       "    overflow: hidden;\n",
       "} </style>\n",
       "<style> table th {\n",
       "    text-overflow: ellipsis;\n",
       "    overflow: hidden;\n",
       "} </style>\n",
       "<script type=\"module\">\n",
       "    // Define the table data\n",
       "    const data = [[\"TIT \", \"Returns 80 character string containing lens title.\", 1], [\"COM sk \", \"Returns the comment string for surface sk\", 2], [\"DAT \", \"Returns 12-character string with current date in the format \\u00a0DD MMMM JJJJ\", 3], [\"TIM \", \"Returns 8-character string with current time in the format \\u00a0HH:MM:SS\", 4], [\"POX [zk] \", \"Plot offset X in paper units\", 5], [\"POY [zk] \", \"Plot offset Y in paper units\", 6], [\"POZ [zk] \", \"Plot offset Z in paper units\", 7], [\"WEI [si..j] \", \"Weight (in grams)\", 8], [\"SPG [sk] \", \"Specific gravity (in g/cm3)\", 9], [\"PLANCK wavel T\", \"Calculate radiance of a black body source according to Planck's law. wavel\\u00a0 is the wavelength in mm, T\\u00a0 is the temperature in Kelvin.\", 10], [\"LADX [fk wk dlam] \", \"Lateral dispersion in X-direction at the image surface. Preferably used in spectrometric systems. Calculates the spread of a wavelength interval \\u00a0dlam\\u00a0 (in mm) at the image surface.\", 11], [\"nan\", \"Example: ladx f1 w2 0.01 calculates the spatial extension (spread) of the wavelength interval Dl = 0.01mm in the image. The resulting unit is mm / mm.\", 12], [\"LADY [fk wk dlam] \", \"Lateral dispersion in Y-direction at the image surface. Preferably used in spectrometric systems. Calculates the spread of a wavelength interval \\u00a0dlam\\u00a0 (in mm) at the image surface.\", 13], [\"nan\", \"Example: lady f1 w2 0.01 calculates the spatial extension (spread) of the wavelength interval Dl = 0.01mm in the image. The resulting unit is mm / mm.\", 14]];\n",
       "\n",
       "    if (typeof require === 'undefined') {\n",
       "        // TODO: This should become the default (use a simple import)\n",
       "        // when the ESM version works independently of whether\n",
       "        // require.js is there or not, see\n",
       "        // https://datatables.net/forums/discussion/69066/esm-es6-module-support?\n",
       "        const {default: $} = await import(\"https://esm.sh/jquery@3.5.0\");\n",
       "        const {default: initDataTables} = await import(\"https://esm.sh/datatables.net@1.11.3?deps=jquery@3.5.0\");\n",
       "\n",
       "        initDataTables();\n",
       "\n",
       "        // Define the dt_args\n",
       "        let dt_args = {\"columnDefs\": [{\"className\": \"dt-left\", \"targets\": \"_all\"}, {\"width\": \"500px\", \"targets\": 1}], \"lengthMenu\": [50, 100, 200, 500], \"paging\": false};\n",
       "        dt_args[\"data\"] = data;\n",
       "\n",
       "        // Display the table\n",
       "        $(document).ready(function () {\n",
       "            $('#2ed03fa1-4d43-4d55-8362-da180954322e').DataTable(dt_args);\n",
       "        });\n",
       "    } else {\n",
       "        require([\"jquery\", \"datatables\"], ($, datatables) => {\n",
       "                // Define the dt_args\n",
       "                let dt_args = {\"columnDefs\": [{\"className\": \"dt-left\", \"targets\": \"_all\"}, {\"width\": \"500px\", \"targets\": 1}], \"lengthMenu\": [50, 100, 200, 500], \"paging\": false};\n",
       "                dt_args[\"data\"] = data;\n",
       "\n",
       "                // Display the table\n",
       "                $(document).ready(function () {\n",
       "                    $('#2ed03fa1-4d43-4d55-8362-da180954322e').DataTable(dt_args);\n",
       "                });\n",
       "            }\n",
       "        )\n",
       "    }\n",
       "</script>\n"
      ],
      "text/plain": [
       "                                                          Description  Order\n",
       "Item                                                                        \n",
       "TIT                 Returns 80 character string containing lens ti...      1\n",
       "COM sk                      Returns the comment string for surface sk      2\n",
       "DAT                 Returns 12-character string with current date ...      3\n",
       "TIM                 Returns 8-character string with current time i...      4\n",
       "POX [zk]                                 Plot offset X in paper units      5\n",
       "POY [zk]                                 Plot offset Y in paper units      6\n",
       "POZ [zk]                                 Plot offset Z in paper units      7\n",
       "WEI [si..j]                                         Weight (in grams)      8\n",
       "SPG [sk]                                  Specific gravity (in g/cm3)      9\n",
       "PLANCK wavel T      Calculate radiance of a black body source acco...     10\n",
       "LADX [fk wk dlam]   Lateral dispersion in X-direction at the image...     11\n",
       "NaN                 Example: ladx f1 w2 0.01 calculates the spatia...     12\n",
       "LADY [fk wk dlam]   Lateral dispersion in Y-direction at the image...     13\n",
       "NaN                 Example: lady f1 w2 0.01 calculates the spatia...     14"
      ]
     },
     "execution_count": 3,
     "metadata": {},
     "output_type": "execute_result"
    }
   ],
   "source": [
    "df_var"
   ]
  },
  {
   "cell_type": "code",
   "execution_count": null,
   "id": "06654ecb",
   "metadata": {},
   "outputs": [],
   "source": []
  },
  {
   "cell_type": "code",
   "execution_count": null,
   "id": "14ed69a1",
   "metadata": {},
   "outputs": [],
   "source": []
  }
 ],
 "metadata": {
  "celltoolbar": "Tags",
  "kernelspec": {
   "display_name": "Python 3 (ipykernel)",
   "language": "python",
   "name": "python3"
  },
  "language_info": {
   "codemirror_mode": {
    "name": "ipython",
    "version": 3
   },
   "file_extension": ".py",
   "mimetype": "text/x-python",
   "name": "python",
   "nbconvert_exporter": "python",
   "pygments_lexer": "ipython3",
   "version": "3.7.11"
  }
 },
 "nbformat": 4,
 "nbformat_minor": 5
}