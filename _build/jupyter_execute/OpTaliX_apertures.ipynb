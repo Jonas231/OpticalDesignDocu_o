{
 "cells": [
  {
   "cell_type": "markdown",
   "id": "1241bd6c",
   "metadata": {},
   "source": [
    "\n",
    "# OpTaliX: Apertures\n",
    "These are ..."
   ]
  },
  {
   "cell_type": "code",
   "execution_count": 1,
   "id": "30d3a396",
   "metadata": {
    "tags": [
     "remove_input"
    ]
   },
   "outputs": [
    {
     "data": {
      "application/javascript": [
       "if (typeof require !== 'undefined')\n",
       "    require.config({\n",
       "        paths: {\n",
       "            jquery: 'https://code.jquery.com/jquery-3.5.1.min',\n",
       "            datatables: 'https://cdn.datatables.net/1.11.3/js/jquery.dataTables.min',\n",
       "        }\n",
       "    });\n"
      ],
      "text/plain": [
       "<IPython.core.display.Javascript object>"
      ]
     },
     "metadata": {},
     "output_type": "display_data"
    }
   ],
   "source": [
    "import pandas as pd\n",
    "import itables\n",
    "from itables import init_notebook_mode, show\n",
    "import itables.options as opt\n",
    "\n",
    "init_notebook_mode(all_interactive=True)\n",
    "\n",
    "opt.lengthMenu = [50, 100, 200, 500]\n",
    "#opt.classes = [\"display\", \"cell-border\"]\n",
    "#opt.classes = [\"display\", \"nowrap\"]\n",
    "\n",
    "opt.columnDefs = [{\"className\": \"dt-left\", \"targets\": \"_all\"}, {\"width\": \"500px\", \"targets\": 1}]\n"
   ]
  },
  {
   "cell_type": "code",
   "execution_count": 2,
   "id": "36dee203",
   "metadata": {
    "tags": [
     "remove_input"
    ]
   },
   "outputs": [],
   "source": [
    "import os\n",
    "cwd = os.getcwd()\n",
    "filename = os.path.join(cwd, os.path.join('Excel', 'OpTaliX_optimization_operands.xlsx'))\n",
    "\n",
    "df_var = pd.read_excel(filename, sheet_name = \"Apertures\", header = 0, index_col = 0)\n",
    "df_var = df_var.dropna()   # drop nan values"
   ]
  },
  {
   "cell_type": "code",
   "execution_count": 3,
   "id": "ad2657ec",
   "metadata": {
    "tags": [
     "remove_input"
    ]
   },
   "outputs": [
    {
     "data": {
      "text/html": [
       "<table id=\"56cc3b51-0743-4452-b79c-d5392d5126e0\" class=\"display\"style=\"max-width:100%\"><thead><th></th><th>Description</th><th>Order</th></thead><tbody><tr><td>Loading... (need <a href=https://mwouts.github.io/itables/troubleshooting.html>help</a>?)</td></tr></tbody></table>\n",
       "<link rel=\"stylesheet\" type=\"text/css\" href=\"https://cdn.datatables.net/1.11.3/css/jquery.dataTables.min.css\">\n",
       "<style> table td {\n",
       "    text-overflow: ellipsis;\n",
       "    overflow: hidden;\n",
       "} </style>\n",
       "<style> table th {\n",
       "    text-overflow: ellipsis;\n",
       "    overflow: hidden;\n",
       "} </style>\n",
       "<script type=\"module\">\n",
       "    // Define the table data\n",
       "    const data = [[\"CIR sk pk [zk] \", \"Circular aperture radius of surface \\u00a0sk, pupil number \\u00a0pk, zoom position \\u00a0zk\", 1], [\"REX sk pk [zk] \", \"Rectangular aperture, X-extension\", 2], [\"REY sk pk [zk] \", \"Rectangular aperture, Y-extension\", 3], [\"ELX sk pk [zk] \", \"Elliptical aperture, half X-axis\", 4], [\"ELY sk pk [zk] \", \"Elliptical aperture, half Y-axis\", 5], [\"ADX sk pk [zk] \", \"Aperture decenter X, \\u00a0pk = pupil number\", 6], [\"ADY sk pk [zk] \", \"Aperture decenter Y, \\u00a0pk = pupil number\", 7], [\"ARO sk pk [zk] \", \"Aperture rotation (in degree)\", 8], [\"SD sk [fi..j] [zi..j]\", \"Maximum semi-diameter on surface sk. In absence of field and zoom qualifiers, value is calculated at all fields and zoom positions.\", 9]];\n",
       "\n",
       "    if (typeof require === 'undefined') {\n",
       "        // TODO: This should become the default (use a simple import)\n",
       "        // when the ESM version works independently of whether\n",
       "        // require.js is there or not, see\n",
       "        // https://datatables.net/forums/discussion/69066/esm-es6-module-support?\n",
       "        const {default: $} = await import(\"https://esm.sh/jquery@3.5.0\");\n",
       "        const {default: initDataTables} = await import(\"https://esm.sh/datatables.net@1.11.3?deps=jquery@3.5.0\");\n",
       "\n",
       "        initDataTables();\n",
       "\n",
       "        // Define the dt_args\n",
       "        let dt_args = {\"columnDefs\": [{\"className\": \"dt-left\", \"targets\": \"_all\"}, {\"width\": \"500px\", \"targets\": 1}], \"lengthMenu\": [50, 100, 200, 500], \"paging\": false};\n",
       "        dt_args[\"data\"] = data;\n",
       "\n",
       "        // Display the table\n",
       "        $(document).ready(function () {\n",
       "            $('#56cc3b51-0743-4452-b79c-d5392d5126e0').DataTable(dt_args);\n",
       "        });\n",
       "    } else {\n",
       "        require([\"jquery\", \"datatables\"], ($, datatables) => {\n",
       "                // Define the dt_args\n",
       "                let dt_args = {\"columnDefs\": [{\"className\": \"dt-left\", \"targets\": \"_all\"}, {\"width\": \"500px\", \"targets\": 1}], \"lengthMenu\": [50, 100, 200, 500], \"paging\": false};\n",
       "                dt_args[\"data\"] = data;\n",
       "\n",
       "                // Display the table\n",
       "                $(document).ready(function () {\n",
       "                    $('#56cc3b51-0743-4452-b79c-d5392d5126e0').DataTable(dt_args);\n",
       "                });\n",
       "            }\n",
       "        )\n",
       "    }\n",
       "</script>\n"
      ],
      "text/plain": [
       "                                                             Description  \\\n",
       "Item                                                                       \n",
       "CIR sk pk [zk]         Circular aperture radius of surface  sk, pupil...   \n",
       "REX sk pk [zk]                         Rectangular aperture, X-extension   \n",
       "REY sk pk [zk]                         Rectangular aperture, Y-extension   \n",
       "ELX sk pk [zk]                          Elliptical aperture, half X-axis   \n",
       "ELY sk pk [zk]                          Elliptical aperture, half Y-axis   \n",
       "ADX sk pk [zk]                   Aperture decenter X,  pk = pupil number   \n",
       "ADY sk pk [zk]                   Aperture decenter Y,  pk = pupil number   \n",
       "ARO sk pk [zk]                             Aperture rotation (in degree)   \n",
       "SD sk [fi..j] [zi..j]  Maximum semi-diameter on surface sk. In absenc...   \n",
       "\n",
       "                       Order  \n",
       "Item                          \n",
       "CIR sk pk [zk]             1  \n",
       "REX sk pk [zk]             2  \n",
       "REY sk pk [zk]             3  \n",
       "ELX sk pk [zk]             4  \n",
       "ELY sk pk [zk]             5  \n",
       "ADX sk pk [zk]             6  \n",
       "ADY sk pk [zk]             7  \n",
       "ARO sk pk [zk]             8  \n",
       "SD sk [fi..j] [zi..j]      9  "
      ]
     },
     "execution_count": 3,
     "metadata": {},
     "output_type": "execute_result"
    }
   ],
   "source": [
    "df_var"
   ]
  },
  {
   "cell_type": "code",
   "execution_count": null,
   "id": "06654ecb",
   "metadata": {},
   "outputs": [],
   "source": []
  },
  {
   "cell_type": "code",
   "execution_count": null,
   "id": "14ed69a1",
   "metadata": {},
   "outputs": [],
   "source": []
  }
 ],
 "metadata": {
  "celltoolbar": "Tags",
  "kernelspec": {
   "display_name": "Python 3 (ipykernel)",
   "language": "python",
   "name": "python3"
  },
  "language_info": {
   "codemirror_mode": {
    "name": "ipython",
    "version": 3
   },
   "file_extension": ".py",
   "mimetype": "text/x-python",
   "name": "python",
   "nbconvert_exporter": "python",
   "pygments_lexer": "ipython3",
   "version": "3.7.11"
  }
 },
 "nbformat": 4,
 "nbformat_minor": 5
}