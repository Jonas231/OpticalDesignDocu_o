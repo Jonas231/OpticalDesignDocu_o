{
 "cells": [
  {
   "cell_type": "markdown",
   "id": "db9fbc78",
   "metadata": {},
   "source": [
    "\n",
    "# OpTaliX: Lens data item configurations\n",
    "These are ..."
   ]
  },
  {
   "cell_type": "code",
   "execution_count": 1,
   "id": "30d3a396",
   "metadata": {
    "tags": [
     "remove_input"
    ]
   },
   "outputs": [
    {
     "data": {
      "application/javascript": [
       "if (typeof require !== 'undefined')\n",
       "    require.config({\n",
       "        paths: {\n",
       "            jquery: 'https://code.jquery.com/jquery-3.5.1.min',\n",
       "            datatables: 'https://cdn.datatables.net/1.11.3/js/jquery.dataTables.min',\n",
       "        }\n",
       "    });\n"
      ],
      "text/plain": [
       "<IPython.core.display.Javascript object>"
      ]
     },
     "metadata": {},
     "output_type": "display_data"
    }
   ],
   "source": [
    "import pandas as pd\n",
    "import itables\n",
    "from itables import init_notebook_mode, show\n",
    "import itables.options as opt\n",
    "\n",
    "init_notebook_mode(all_interactive=True)\n",
    "\n",
    "opt.lengthMenu = [50, 100, 200, 500]\n",
    "#opt.classes = [\"display\", \"cell-border\"]\n",
    "#opt.classes = [\"display\", \"nowrap\"]\n",
    "\n",
    "opt.columnDefs = [{\"className\": \"dt-left\", \"targets\": \"_all\"}, {\"width\": \"500px\", \"targets\": 1}]\n"
   ]
  },
  {
   "cell_type": "code",
   "execution_count": 2,
   "id": "36dee203",
   "metadata": {
    "tags": [
     "remove_input"
    ]
   },
   "outputs": [],
   "source": [
    "import os\n",
    "cwd = os.getcwd()\n",
    "filename = os.path.join(cwd, os.path.join('Excel', 'OpTaliX_optimization_operands.xlsx'))\n",
    "df_var = pd.read_excel(filename, sheet_name = \"LDI_config\", header = 0, index_col = 0)\n",
    "df_var = df_var.dropna()   # drop nan values"
   ]
  },
  {
   "cell_type": "code",
   "execution_count": 3,
   "id": "ad2657ec",
   "metadata": {
    "tags": [
     "remove_input"
    ]
   },
   "outputs": [
    {
     "data": {
      "text/html": [
       "<table id=\"1ab438bf-c06d-429e-8574-a7b49907f403\" class=\"display\"style=\"max-width:100%\"><thead><th></th><th>Description</th><th>Order</th></thead><tbody><tr><td>Loading... (need <a href=https://mwouts.github.io/itables/troubleshooting.html>help</a>?)</td></tr></tbody></table>\n",
       "<link rel=\"stylesheet\" type=\"text/css\" href=\"https://cdn.datatables.net/1.11.3/css/jquery.dataTables.min.css\">\n",
       "<style> table td {\n",
       "    text-overflow: ellipsis;\n",
       "    overflow: hidden;\n",
       "} </style>\n",
       "<style> table th {\n",
       "    text-overflow: ellipsis;\n",
       "    overflow: hidden;\n",
       "} </style>\n",
       "<script type=\"module\">\n",
       "    // Define the table data\n",
       "    const data = [[\"WL wk [zk]\", \"Wavelength at wavelength number wk, zoom position zk\", 1], [\"REF [zk] \", \"Reference wavelength number\", 2], [\"XAN fi [zk] \", \"X-angle (in degree) for field number fi and (optional) zoom position \\u00a0zk. Note: If \\u00a0XAN\\u00a0 is not the field specification value, for example when \\u00a0XIM\\u00a0 defines the X-field, XAN\\u00a0 returns the paraxial equivalent to the field specification. XAN = tan-1(XIM/EFL).\", 3], [\"YAN fi [zk] \", \"Y-angle (in degree) for field number fi and (optional) zoom position \\u00a0zk. See also the note given for XAN.\", 4], [\"XOB fi [zk] \", \"X-object height for field number fi and (optional) zoom position \\u00a0zk. See also the note given for XAN.\", 5], [\"YOB fi [zk] \", \"Y-object height for field number fi and (optional) zoom position \\u00a0zk. See also the note given for XAN.\", 6], [\"XIM fi [zk] \", \"X-image height (paraxial) for field number fi and (optional) zoom position \\u00a0zk. See also the note given for XAN.\", 7], [\"YIM fi [zk] \", \"Y-image height (paraxial) for field number fi and (optional) zoom position \\u00a0zk. See also the note given for XAN.\", 8], [\"XRI fi [zk] \", \"Real X-image height for field number fi and (optional) zoom position \\u00a0zk.\", 9], [\"YRI fi [zk] \", \"Real Y-image height for field number fi and (optional) zoom position \\u00a0zk.\", 10], [\"FNO [zk] \", \"Paraxial F-number\", 11], [\"NA [zk] \", \"Numerical aperture in image space\", 12], [\"NAO [zk] \", \"Numerical aperture in object space\", 13], [\"EPD [zk] \", \"Entrance pupil diameter\", 14], [\"PUI\", \"Intensity apodization across pupil\", 15], [\"PUX \", \"Apodization relative X-pupil coordinate at which PUI is reached\", 16], [\"PUY \", \"Apodization relative Y-pupil coordinate at which PUI is reached\", 17]];\n",
       "\n",
       "    if (typeof require === 'undefined') {\n",
       "        // TODO: This should become the default (use a simple import)\n",
       "        // when the ESM version works independently of whether\n",
       "        // require.js is there or not, see\n",
       "        // https://datatables.net/forums/discussion/69066/esm-es6-module-support?\n",
       "        const {default: $} = await import(\"https://esm.sh/jquery@3.5.0\");\n",
       "        const {default: initDataTables} = await import(\"https://esm.sh/datatables.net@1.11.3?deps=jquery@3.5.0\");\n",
       "\n",
       "        initDataTables();\n",
       "\n",
       "        // Define the dt_args\n",
       "        let dt_args = {\"columnDefs\": [{\"className\": \"dt-left\", \"targets\": \"_all\"}, {\"width\": \"500px\", \"targets\": 1}], \"lengthMenu\": [50, 100, 200, 500], \"paging\": false};\n",
       "        dt_args[\"data\"] = data;\n",
       "\n",
       "        // Display the table\n",
       "        $(document).ready(function () {\n",
       "            $('#1ab438bf-c06d-429e-8574-a7b49907f403').DataTable(dt_args);\n",
       "        });\n",
       "    } else {\n",
       "        require([\"jquery\", \"datatables\"], ($, datatables) => {\n",
       "                // Define the dt_args\n",
       "                let dt_args = {\"columnDefs\": [{\"className\": \"dt-left\", \"targets\": \"_all\"}, {\"width\": \"500px\", \"targets\": 1}], \"lengthMenu\": [50, 100, 200, 500], \"paging\": false};\n",
       "                dt_args[\"data\"] = data;\n",
       "\n",
       "                // Display the table\n",
       "                $(document).ready(function () {\n",
       "                    $('#1ab438bf-c06d-429e-8574-a7b49907f403').DataTable(dt_args);\n",
       "                });\n",
       "            }\n",
       "        )\n",
       "    }\n",
       "</script>\n"
      ],
      "text/plain": [
       "                                                    Description  Order\n",
       "Item                                                                  \n",
       "WL wk [zk]    Wavelength at wavelength number wk, zoom posit...      1\n",
       "REF [zk]                            Reference wavelength number      2\n",
       "XAN fi [zk]   X-angle (in degree) for field number fi and (o...      3\n",
       "YAN fi [zk]   Y-angle (in degree) for field number fi and (o...      4\n",
       "XOB fi [zk]   X-object height for field number fi and (optio...      5\n",
       "YOB fi [zk]   Y-object height for field number fi and (optio...      6\n",
       "XIM fi [zk]   X-image height (paraxial) for field number fi ...      7\n",
       "YIM fi [zk]   Y-image height (paraxial) for field number fi ...      8\n",
       "XRI fi [zk]   Real X-image height for field number fi and (o...      9\n",
       "YRI fi [zk]   Real Y-image height for field number fi and (o...     10\n",
       "FNO [zk]                                      Paraxial F-number     11\n",
       "NA [zk]                       Numerical aperture in image space     12\n",
       "NAO [zk]                     Numerical aperture in object space     13\n",
       "EPD [zk]                                Entrance pupil diameter     14\n",
       "PUI                          Intensity apodization across pupil     15\n",
       "PUX           Apodization relative X-pupil coordinate at whi...     16\n",
       "PUY           Apodization relative Y-pupil coordinate at whi...     17"
      ]
     },
     "execution_count": 3,
     "metadata": {},
     "output_type": "execute_result"
    }
   ],
   "source": [
    "df_var"
   ]
  },
  {
   "cell_type": "code",
   "execution_count": null,
   "id": "06654ecb",
   "metadata": {},
   "outputs": [],
   "source": []
  },
  {
   "cell_type": "code",
   "execution_count": null,
   "id": "14ed69a1",
   "metadata": {},
   "outputs": [],
   "source": []
  }
 ],
 "metadata": {
  "celltoolbar": "Tags",
  "kernelspec": {
   "display_name": "Python 3 (ipykernel)",
   "language": "python",
   "name": "python3"
  },
  "language_info": {
   "codemirror_mode": {
    "name": "ipython",
    "version": 3
   },
   "file_extension": ".py",
   "mimetype": "text/x-python",
   "name": "python",
   "nbconvert_exporter": "python",
   "pygments_lexer": "ipython3",
   "version": "3.7.11"
  }
 },
 "nbformat": 4,
 "nbformat_minor": 5
}