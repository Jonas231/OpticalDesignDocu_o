{
 "cells": [
  {
   "cell_type": "markdown",
   "id": "c47d30a1",
   "metadata": {},
   "source": [
    "# Aberrations"
   ]
  },
  {
   "cell_type": "code",
   "execution_count": 3,
   "id": "defae62c",
   "metadata": {
    "tags": [
     "remove_input"
    ]
   },
   "outputs": [
    {
     "data": {
      "application/javascript": [
       "if (typeof require !== 'undefined')\n",
       "    require.config({\n",
       "        paths: {\n",
       "            jquery: 'https://code.jquery.com/jquery-3.5.1.min',\n",
       "            datatables: 'https://cdn.datatables.net/1.11.3/js/jquery.dataTables.min',\n",
       "        }\n",
       "    });\n"
      ],
      "text/plain": [
       "<IPython.core.display.Javascript object>"
      ]
     },
     "metadata": {},
     "output_type": "display_data"
    }
   ],
   "source": [
    "\n",
    "\n",
    "import pandas as pd\n",
    "import itables\n",
    "from itables import init_notebook_mode, show\n",
    "import itables.options as opt\n",
    "\n",
    "\n",
    "init_notebook_mode(all_interactive=True)\n",
    "\n",
    "opt.lengthMenu = [50, 100, 200, 500]\n",
    "#opt.classes = [\"display\", \"cell-border\"]\n",
    "#opt.classes = [\"display\", \"nowrap\"]\n",
    "\n",
    "opt.columnDefs = [{\"className\": \"dt-left\", \"targets\": \"_all\"}, {\"width\": \"500px\", \"targets\": 4}]\n",
    "#opt.maxBytes = 0\n",
    "#pd.get_option('display.max_columns')\n",
    "#pd.get_option('display.max_rows')\n",
    "\n",
    "\n"
   ]
  },
  {
   "cell_type": "code",
   "execution_count": 4,
   "id": "e06a3e1a",
   "metadata": {
    "tags": [
     "remove_input"
    ]
   },
   "outputs": [],
   "source": [
    "#filename = r'C:\\Work\\Tools\\OpticalDesign_Doku\\KDP-2_optimization_operands.xlsx'\n",
    "import os\n",
    "cwd = os.getcwd()\n",
    "filename = os.path.join(cwd, os.path.join('Excel','KDP-2_optimization_operands.xlsx'))\n",
    "\n",
    "df_aberrations = pd.read_excel(filename, sheet_name = \"aberrations\", header = 1, index_col = 0)\n",
    "df_aberrations = df_aberrations.dropna()   # drop nan values\n"
   ]
  },
  {
   "cell_type": "markdown",
   "id": "3c5e0ae5",
   "metadata": {},
   "source": [
    "KDP-2 has operands for 3rd order, 5th order and 7th order aberrations:\n",
    "(click on \"Order\" to sort them in original order)"
   ]
  },
  {
   "cell_type": "code",
   "execution_count": 5,
   "id": "298665d4",
   "metadata": {
    "tags": [
     "remove_input"
    ]
   },
   "outputs": [
    {
     "data": {
      "text/html": [
       "<table id=\"3919bec5-1ff6-4418-9bee-3fb8c19af7ca\" class=\"display\"style=\"max-width:100%\"><thead><th></th><th>\"i\" </th><th>\"j\"</th><th>\"k\"</th><th>DESCRIPTION</th><th>Order</th></thead><tbody><tr><td>Loading... (need <a href=https://mwouts.github.io/itables/troubleshooting.html>help</a>?)</td></tr></tbody></table>\n",
       "<link rel=\"stylesheet\" type=\"text/css\" href=\"https://cdn.datatables.net/1.11.3/css/jquery.dataTables.min.css\">\n",
       "<style> table td {\n",
       "    text-overflow: ellipsis;\n",
       "    overflow: hidden;\n",
       "} </style>\n",
       "<style> table th {\n",
       "    text-overflow: ellipsis;\n",
       "    overflow: hidden;\n",
       "} </style>\n",
       "<script type=\"module\">\n",
       "    // Define the table data\n",
       "    const data = [[\"SA3\", \"surf #, (def=last)\", \"(not used)\", \"(not used)\", \"YZ-plane, 3rd order SPHERICAL ABERRATION at surface \\\"i\\\" and at the control wavelength\", 1.0], [\"XSA3\", \"surf #, (def=last)\", \"(not used)\", \"(not used)\", \"Same as above except in the XZ-plane.\", 2.0], [\"CMA3\", \"surf #, (def=last)\", \"(not used)\", \"(not used)\", \"YZ-plane, 3rd order COMA at surface \\\"i\\\" and at the control wavelength\", 3.0], [\"XCMA3\", \"surf #, (def=last)\", \"(not used)\", \"(not used)\", \"Same as above except in the XZ-plane.\", 4.0], [\"AST3\", \"surf #, (def=last)\", \"(not used)\", \"(not used)\", \"YZ-plane, 3rd order ASTIGMATISM at surface \\\"i\\\" and at the control wavelength\", 5.0], [\"XAST3\", \"surf #, (def=last)\", \"(not used)\", \"(not used)\", \"Same as above except in the XZ-plane.\", 6.0], [\"DIS3\", \"surf #, (def=last)\", \"(not used)\", \"(not used)\", \"YZ-plane, 3rd order DISTORTION at surface \\\"i\\\" and at the control wavelength\", 7.0], [\"XDIS3\", \"surf #, (def=last)\", \"(not used)\", \"(not used)\", \"Same as above except in the XZ-plane.\", 8.0], [\"PTZ3\", \"surf #, (def=last)\", \"(not used)\", \"(not used)\", \"YZ-plane, 3rd order PETZVAL CURVATURE at surface \\\"i\\\" and at the control wavelength\", 9.0], [\"XPTZ3\", \"surf #, (def=last)\", \"(not used)\", \"(not used)\", \"Same as above except in the XZ-plane.\", 10.0], [\"SA5\", \"surf #, (def=last)\", \"(not used)\", \"(not used)\", \"YZ-plane, 5th order SPHERICAL ABERRATION at surface \\\"i\\\" and at the control wavelength\", 11.0], [\"XSA5\", \"surf #, (def=last)\", \"(not used)\", \"(not used)\", \"Same as above except in the XZ-plane.\", 12.0], [\"CMA5\", \"surf #, (def=last)\", \"(not used)\", \"(not used)\", \"YZ-plane, 5th order COMA at surface \\\"i\\\" and at the control wavelength\", 13.0], [\"XCMA5\", \"surf #, (def=last)\", \"(not used)\", \"(not used)\", \"Same as above except in the XZ-plane.\", 14.0], [\"AST5\", \"surf #, (def=last)\", \"(not used)\", \"(not used)\", \"YZ-plane, 5th order ASTIGMATISM at surface \\\"i\\\" and at the control wavelength\", 15.0], [\"XAST5\", \"surf #, (def=last)\", \"(not used)\", \"(not used)\", \"Same as above except in the XZ-plane.\", 16.0], [\"DIS5\", \"surf #, (def=last)\", \"(not used)\", \"(not used)\", \"YZ-plane, 5th order DISTORTION at surface \\\"i\\\" and at the control wavelength\", 17.0], [\"XDIS5\", \"surf #, (def=last)\", \"(not used)\", \"(not used)\", \"Same as above except in the XZ-plane.\", 18.0], [\"PTZ5\", \"surf #, (def=last)\", \"(not used)\", \"(not used)\", \"YZ-plane, 5th order PETZVAL CURVATURE at surface \\\"i\\\" and at the control wavelength\", 19.0], [\"XPTZ5\", \"surf #, (def=last)\", \"(not used)\", \"(not used)\", \"Same as above except in the XZ-plane.\", 20.0], [\"TOBSA\", \"surf #, (def=last)\", \"(not used)\", \"(not used)\", \"YZ-plane, 5th order TANGENTIAL OBLIQUE SPHERICAL ABERRATION at surface \\\"i\\\" and at the control wavelength\", 21.0], [\"XTOBSA\", \"surf #, (def=last)\", \"(not used)\", \"(not used)\", \"Same as above except in the XZ-plane.\", 22.0], [\"SOBSA\", \"surf #, (def=last)\", \"(not used)\", \"(not used)\", \"YZ-plane, 5th order SAGITTAL OBLIQUE SPHERICAL ABERRATION at surface \\\"i\\\" and at the control wavelength\", 22.0], [\"XSOBSA\", \"surf #, (def=last)\", \"(not used)\", \"(not used)\", \"Same as above except in the XZ-plane.\", 23.0], [\"ELCMA\", \"surf #, (def=last)\", \"(not used)\", \"(not used)\", \"YZ-plane, 5th order ELLIPTICAL COMA at surface \\\"i\\\" and at the control wavelength\", 24.0], [\"XELCMA\", \"surf #, (def=last)\", \"(not used)\", \"(not used)\", \"Same as above except in the XZ-plane.\", 25.0], [\"TAS\", \"surf #, (def=last)\", \"(not used)\", \"(not used)\", \"YZ-plane, 5th order TANGENTIAL ASTIGMATISM at surface \\\"i\\\" and at the control wavelength\", 26.0], [\"XTAS\", \"surf #, (def=last)\", \"(not used)\", \"(not used)\", \"Same as above except in the XZ-plane.\", 27.0], [\"SAS\", \"surf #, (def=last)\", \"(not used)\", \"(not used)\", \"YZ-plane, 5th order SAGITTAL ASTIGMATISM at surface \\\"i\\\" and at the control wavelength\", 28.0], [\"XSAS\", \"surf #, (def=last)\", \"(not used)\", \"(not used)\", \"Same as above except in the XZ-plane.\", 29.0], [\"SA7\", \"surf #, (def=last)\", \"(not used)\", \"(not used)\", \"YZ-plane, 7th order SPHERICAL ABERRATION at surface \\\"i\\\" and at the control wavelength\", 30.0], [\"XSA7\", \"surf #, (def=last)\", \"(not used)\", \"(not used)\", \"Same as above except in the XZ-plane.\", 31.0], [\"SA3P\", \"surf #, (def=last)\", \"(not used)\", \"(not used)\", \"YZ-plane, 3rd order SPHERICAL ABERRATION, PRIMARY CHROMATIC DIFFERENCES at surface \\\"i\\\" and at the control wavelength\", 32.0], [\"XSA3P\", \"surf #, (def=last)\", \"(not used)\", \"(not used)\", \"Same as above except in the XZ-plane.\", 33.0], [\"CMA3P\", \"surf #, (def=last)\", \"(not used)\", \"(not used)\", \"YZ-plane, 3rd order COMA, PRIMARY CHROMATIC DIFFERENCES at surface \\\"i\\\" and at the control wavelength\", 34.0], [\"XCMA3P\", \"surf #, (def=last)\", \"(not used)\", \"(not used)\", \"Same as above except in the XZ-plane.\", 35.0], [\"AST3P\", \"surf #, (def=last)\", \"(not used)\", \"(not used)\", \"YZ-plane, 3rd order ASTIGMATISM, PRIMARY CHROMATIC DIFFERENCES at surface \\\"i\\\" and at the control wavelength\", 36.0], [\"XAST3P\", \"surf #, (def=last)\", \"(not used)\", \"(not used)\", \"Same as above except in the XZ-plane.\", 37.0], [\"DIS3P\", \"surf #, (def=last)\", \"(not used)\", \"(not used)\", \"YZ-plane, 3rd order DISTORTION, PRIMARY CHROMATIC DIFFERENCES at surface \\\"i\\\" and at the control wavelength\", 38.0], [\"XDIS3P\", \"surf #, (def=last)\", \"(not used)\", \"(not used)\", \"Same as above except in the XZ-plane.\", 39.0], [\"PTZ3P\", \"surf #, (def=last)\", \"(not used)\", \"(not used)\", \"YZ-plane, 3rd order PETZVAL, PRIMARY CHROMATIC DIFFERENCES at surface \\\"i\\\" and at the control wavelength\", 40.0], [\"XPTZ3P\", \"surf #, (def=last)\", \"(not used)\", \"(not used)\", \"Same as above except in the XZ-plane.\", 41.0], [\"SA5P\", \"surf #, (def=last)\", \"(not used)\", \"(not used)\", \"YZ-plane, 5th order SPHERICAL ABERRATION, PRIMARY CHROMATIC DIFFERENCES at surface \\\"i\\\" and at the control wavelength\", 42.0], [\"XSA5P\", \"surf #, (def=last)\", \"(not used)\", \"(not used)\", \"Same as above except in the XZ-plane.\", 43.0], [\"CMA5P\", \"surf #, (def=last)\", \"(not used)\", \"(not used)\", \"YZ-plane, 5th order COMA, PRIMARY CHROMATIC DIFFERENCES at surface \\\"i\\\" and at the control wavelength\", 44.0], [\"XCMA5P\", \"surf #, (def=last)\", \"(not used)\", \"(not used)\", \"Same as above except in the XZ-plane.\", 45.0], [\"AST5P\", \"surf #, (def=last)\", \"(not used)\", \"(not used)\", \"YZ-plane, 5th order ASTIGMATISM, PRIMARY CHROMATIC DIFFERENCES at surface \\\"i\\\" and at the control wavelength\", 46.0], [\"XAST5P\", \"surf #, (def=last)\", \"(not used)\", \"(not used)\", \"Same as above except in the XZ-plane.\", 47.0], [\"DIS5P\", \"surf #, (def=last)\", \"(not used)\", \"(not used)\", \"YZ-plane, 5th order DISTORTION, PRIMARY CHROMATIC DIFFERENCES at surface \\\"i\\\" and at the control wavelength\", 48.0], [\"XDIS5P\", \"surf #, (def=last)\", \"(not used)\", \"(not used)\", \"Same as above except in the XZ-plane.\", 49.0], [\"PTZ5P\", \"surf #, (def=last)\", \"(not used)\", \"(not used)\", \"YZ-plane, 5th order PETZVAL CURVATURE, PRIMARY CHROMATIC DIFFERENCES at surface \\\"i\\\" and at the control wavelength\", 50.0], [\"XPTZ5P\", \"surf #, (def=last)\", \"(not used)\", \"(not used)\", \"Same as above except in the XZ-plane.\", 51.0], [\"TOBSAP\", \"surf #, (def=last)\", \"(not used)\", \"(not used)\", \"YZ-plane, 5th order TANGENTIAL OBLIQUE SPHERICAL ABERRATION, PRIMARY CHROMATIC DIFFERENCES at surface \\\"i\\\" and at the control wavelength\", 52.0], [\"XTOBSAP\", \"surf #, (def=last)\", \"(not used)\", \"(not used)\", \"Same as above except in the XZ-plane.\", 53.0], [\"SOBSAP\", \"surf #, (def=last)\", \"(not used)\", \"(not used)\", \"YZ-plane, 5th order SAGITTAL OBLIQUE SPHERICAL ABERRATION , PRIMARY CHROMATIC DIFFERENCES at surface \\\"i\\\" and at the control wavelength\", 54.0], [\"XSOBSAP\", \"surf #, (def=last)\", \"(not used)\", \"(not used)\", \"Same as above except in the XZ-plane.\", 55.0], [\"ELCMAP\", \"surf #, (def=last)\", \"(not used)\", \"(not used)\", \"YZ-plane, 5th order ELLIPTICAL COMA, PRIMARY CHROMATIC DIFFERENCES at surface \\\"i\\\" and at the control wavelength\", 56.0], [\"XELCMAP\", \"surf #, (def=last)\", \"(not used)\", \"(not used)\", \"Same as above except in the XZ-plane.\", 57.0], [\"TASP\", \"surf #, (def=last)\", \"(not used)\", \"(not used)\", \"YZ-plane, 5th order TANGENTIAL ASTIGMATISM, PRIMARY CHROMATIC DIFFERENCES at surface \\\"i\\\" and at the control wavelength\", 58.0], [\"XTASP\", \"surf #, (def=last)\", \"(not used)\", \"(not used)\", \"Same as above except in the XZ-plane.\", 59.0], [\"SASP\", \"surf #, (def=last)\", \"(not used)\", \"(not used)\", \"YZ-plane, 5th order SAGITTAL ASTIGMATISM, PRIMARY CHROMATIC DIFFERENCES at surface \\\"i\\\" and at the control wavelength\", 60.0], [\"XSASP\", \"surf #, (def=last)\", \"(not used)\", \"(not used)\", \"Same as above except in the XZ-plane.\", 61.0], [\"SA7P\", \"surf #, (def=last)\", \"(not used)\", \"(not used)\", \"YZ-plane, 7th order SPHERICAL ABERRATION, PRIMARY CHROMATIC DIFFERENCES at surface \\\"i\\\" and at the control wavelength\", 62.0], [\"XSA7P\", \"surf #, (def=last)\", \"(not used)\", \"(not used)\", \"Same as above except in the XZ-plane.\", 63.0], [\"SA3S\", \"surf #, (def=last)\", \"(not used)\", \"(not used)\", \"YZ-plane, 3rd order SPHERICAL ABERRATION, SECONDARY CHROMATIC DIFFERENCES at surface \\\"i\\\" and at the control wavelength\", 64.0], [\"XSA3S\", \"surf #, (def=last)\", \"(not used)\", \"(not used)\", \"Same as above except in the XZ-plane.\", 65.0], [\"CMA3S\", \"surf #, (def=last)\", \"(not used)\", \"(not used)\", \"YZ-plane, 3rd order COMA, SECONDARY CHROMATIC DIFFERENCES at surface \\\"i\\\" and at the control wavelength\", 66.0], [\"XCMA3S\", \"surf #, (def=last)\", \"(not used)\", \"(not used)\", \"Same as above except in the XZ-plane.\", 67.0], [\"AST3S\", \"surf #, (def=last)\", \"(not used)\", \"(not used)\", \"YZ-plane, 3rd order ASTIGMATISM, SECONDARY CHROMATIC DIFFERENCES at surface \\\"i\\\" and at the control wavelength\", 68.0], [\"XAST3S\", \"surf #, (def=last)\", \"(not used)\", \"(not used)\", \"Same as above except in the XZ-plane.\", 69.0], [\"DIS3S\", \"surf #, (def=last)\", \"(not used)\", \"(not used)\", \"YZ-plane, 3rd order DISTORTION, SECONDARY CHROMATIC DIFFERENCES at surface \\\"i\\\" and at the control wavelength\", 70.0], [\"XDIS3S\", \"surf #, (def=last)\", \"(not used)\", \"(not used)\", \"Same as above except in the XZ-plane.\", 71.0], [\"PTZ3S\", \"surf #, (def=last)\", \"(not used)\", \"(not used)\", \"YZ-plane, 3rd order PETZVAL CURVATURE, SECONDARY CHROMATIC DIFFERENCES at surface \\\"i\\\" and at the control wavelength\", 72.0], [\"XPTZ3S\", \"surf #, (def=last)\", \"(not used)\", \"(not used)\", \"Same as above except in the XZ-plane.\", 73.0], [\"SA5S\", \"surf #, (def=last)\", \"(not used)\", \"(not used)\", \"YZ-plane, 5th order SPHERICAL ABERRATION, SECONDARY CHROMATIC DIFFERENCES at surface \\\"i\\\" and at the control wavelength\", 74.0], [\"XSA5S\", \"surf #, (def=last)\", \"(not used)\", \"(not used)\", \"Same as above except in the XZ-plane.\", 75.0], [\"CMA5S\", \"surf #, (def=last)\", \"(not used)\", \"(not used)\", \"YZ-plane, 5th order COMA, SECONDARY CHROMATIC DIFFERENCES at surface \\\"i\\\" and at the control wavelength\", 76.0], [\"XCMA5S\", \"surf #, (def=last)\", \"(not used)\", \"(not used)\", \"Same as above except in the XZ-plane.\", 77.0], [\"AST5S\", \"surf #, (def=last)\", \"(not used)\", \"(not used)\", \"YZ-plane, 5th order ASTIGMATISM, SECONDARY CHROMATIC DIFFERENCES at surface \\\"i\\\" and at the control wavelength\", 78.0], [\"XAST5S\", \"surf #, (def=last)\", \"(not used)\", \"(not used)\", \"Same as above except in the XZ-plane.\", 79.0], [\"DIS5S\", \"surf #\", \"(not used)\", \"(not used)\", \"YZ-plane, 5th order DISTORTION, SECONDARY CHROMATIC DIFFERENCES at surface \\\"i\\\" and at the control wavelength\", 80.0], [\"XDIS5S\", \"surf #, (def=last)\", \"(not used)\", \"(not used)\", \"Same as above except in the XZ-plane.\", 81.0], [\"PTZ5S\", \"surf #, (def=last)\", \"(not used)\", \"(not used)\", \"YZ-plane, 5th order PETZVAL CURVATURE, SECONDARY CHROMATIC DIFFERENCES at surface \\\"i\\\" and at the control wavelength\", 82.0], [\"XPTZ5S\", \"surf #, (def=last)\", \"(not used)\", \"(not used)\", \"Same as above except in the XZ-plane.\", 83.0], [\"TOBSAS\", \"surf #\", \"(not used)\", \"(not used)\", \"YZ-plane, 5th order TANGENTIAL OBLIQUE SPHERICAL ABERRATION, SECONDARY CHROMATIC DIFFERENCES at surface \\\"i\\\" and at the control wavelength\", 84.0], [\"XTOBSAS\", \"surf #, (def=last)\", \"(not used)\", \"(not used)\", \"Same as above except in the XZ-plane.\", 85.0], [\"SOBSAS\", \"surf #, (def=last)\", \"(not used)\", \"(not used)\", \"YZ-plane, 5th order SAGITTAL OBLIQUE SPHERICAL ABERRATION, SECONDARY CHROMATIC DIFFERENCES at surface \\\"i\\\" and at the control wavelength\", 86.0], [\"XSOBSAS\", \"surf #, (def=last)\", \"(not used)\", \"(not used)\", \"Same as above except in the XZ-plane.\", 87.0], [\"ELCMAS\", \"surf #\", \"(not used)\", \"(not used)\", \"YZ-plane, 5th order ELLIPTICAL COMA, SECONDARY CHROMATIC DIFFERENCES at surface \\\"i\\\" and at the control wavelength\", 88.0], [\"XELCMAS\", \"surf #, (def=last)\", \"(not used)\", \"(not used)\", \"Same as above except in the XZ-plane.\", 89.0], [\"TASS\", \"surf #, (def=last)\", \"(not used)\", \"(not used)\", \"YZ-plane, 5th order TANGENTIAL ASTIGMATISM, SECONDARY CHROMATIC DIFFERENCES at surface \\\"i\\\" and at the control wavelength\", 90.0], [\"XTASS\", \"surf #, (def=last)\", \"(not used)\", \"(not used)\", \"Same as above except in the XZ-plane.\", 91.0], [\"SASS\", \"surf #\", \"(not used)\", \"(not used)\", \"YZ-plane, 5th order SAGITTAL ASTIGMATISM, SECONDARY CHROMATIC DIFFERENCES at surface \\\"i\\\" and at the control wavelength\", 92.0], [\"XSASS\", \"surf #, (def=last)\", \"(not used)\", \"(not used)\", \"Same as above except in the XZ-plane.\", 93.0], [\"SA7S\", \"surf #, (def=last)\", \"(not used)\", \"(not used)\", \"YZ-plane, 7th order SPHERICAL ABERRATION, SECONDARY CHROMATIC DIFFERENCES at surface \\\"i\\\" and at the control wavelength\", 94.0], [\"XSA7S\", \"surf #\", \"(not used)\", \"(not used)\", \"Same as above except in the XZ-plane.\", 95.0], [\"SA5I\", \"surf #\", \"(not used)\", \"(not used)\", \"Intrinsic surface contribution; YZ-plane, 5th order SPHERICAL ABERRATION at surface \\\"i\\\" and at the control wavelength\", 96.0], [\"XSA5I\", \"surf #, (def=last)\", \"(not used)\", \"(not used)\", \"Same as above except in the XZ-plane.\", 97.0], [\"CMA5I\", \"surf #, (def=last)\", \"(not used)\", \"(not used)\", \"Intrinsic surface contribution; YZ-plane, 5th order COMA at surface \\\"i\\\" and at the control wavelength\", 98.0], [\"XCMA5I\", \"surf #\", \"(not used)\", \"(not used)\", \"Same as above except in the XZ-plane.\", 99.0], [\"AST5I\", \"surf #, (def=last)\", \"(not used)\", \"(not used)\", \"Intrinsic surface contribution; YZ-plane, 5th order ASTIGMATISM at surface \\\"i\\\" and at the control wavelength\", 100.0], [\"XAST5I\", \"surf #, (def=last)\", \"(not used)\", \"(not used)\", \"Same as above except in the XZ-plane.\", 101.0], [\"DIS5I\", \"surf #\", \"(not used)\", \"(not used)\", \"Intrinsic surface contribution; YZ-plane, 5th order DISTORTION at surface \\\"i\\\" and at the control wavelength\", 102.0], [\"XDIS5I\", \"surf #, (def=last)\", \"(not used)\", \"(not used)\", \"Same as above except in the XZ-plane.\", 103.0], [\"PTZ5I\", \"surf #, (def=last)\", \"(not used)\", \"(not used)\", \"Intrinsic surface contribution; YZ-plane, 5th order PETZVAL CURVATURE at surface \\\"i\\\" and at the control wavelength\", 104.0], [\"XPTZ5I\", \"surf #\", \"(not used)\", \"(not used)\", \"Same as above except in the XZ-plane.\", 105.0], [\"TOBSAI\", \"surf #, (def=last)\", \"(not used)\", \"(not used)\", \"Intrinsic surface contribution; YZ-plane, 5th order TANGENTIAL OBLIQUE SPHERICAL ABERRATION at surface \\\"i\\\" and at the control wavelength\", 106.0], [\"XTOBSAI\", \"surf #, (def=last)\", \"(not used)\", \"(not used)\", \"Same as above except in the XZ-plane.\", 107.0], [\"SOBSAI\", \"surf #, (def=last)\", \"(not used)\", \"(not used)\", \"Intrinsic surface contribution; YZ-plane, 5th order SAGITTAL OBLIQUE SPHERICAL ABERRATION at surface \\\"i\\\" and at the control wavelength\", 108.0], [\"XSOBSAI\", \"surf #, (def=last)\", \"(not used)\", \"(not used)\", \"Same as above except in the XZ-plane.\", 109.0], [\"ELCMAI\", \"surf #, (def=last)\", \"(not used)\", \"(not used)\", \"Intrinsic surface contribution; YZ-plane, 5th order ELLIPTICAL COMA at surface \\\"i\\\" and at the control wavelength\", 110.0], [\"XELCMAI\", \"surf #, (def=last)\", \"(not used)\", \"(not used)\", \"Same as above except in the XZ-plane.\", 111.0], [\"TASI\", \"surf #, (def=last)\", \"(not used)\", \"(not used)\", \"Intrinsic surface contribution; YZ-plane, 5th order TANGENTIAL ASTIGMATISM at surface \\\"i\\\" and at the control wavelength\", 112.0], [\"XTASI\", \"surf #, (def=last)\", \"(not used)\", \"(not used)\", \"Same as above except in the XZ-plane.\", 113.0], [\"SASI\", \"surf #, (def=last)\", \"(not used)\", \"(not used)\", \"Intrinsic surface contribution; YZ-plane, 5th order SAGITTAL ASTIGMATISM at surface \\\"i\\\" and at the control wavelength\", 114.0], [\"XSASI\", \"surf #, (def=last)\", \"(not used)\", \"(not used)\", \"Same as above except in the XZ-plane.\", 115.0], [\"SA7I\", \"surf #, (def=last)\", \"(not used)\", \"(not used)\", \"Intrinsic surface contribution; YZ-plane, 7th order SPHERICAL ABERRATION at surface \\\"i\\\" and at the control wavelength\", 116.0], [\"XSA7I\", \"surf #, (def=last)\", \"(not used)\", \"(not used)\", \"Same as above except in the XZ-plane.\", 117.0], [\"PSA3\", \"surf #, (def=last)\", \"(not used)\", \"(not used)\", \"Exit pupil; YZ-plane, 3rd order SPHERICAL ABERRATION at surface \\\"i\\\" and at the control wavelength\", 118.0], [\"XPSA3\", \"surf #, (def=last)\", \"(not used)\", \"(not used)\", \"Same as above except in the XZ-plane.\", 119.0], [\"PCMA3\", \"surf #, (def=last)\", \"(not used)\", \"(not used)\", \"Exit pupil; YZ-plane, 3rd order COMA at surface \\\"i\\\" and at the control wavelength\", 120.0], [\"PXCMA3\", \"(def=last)\", \"(not used)\", \"(not used)\", \"Same as above except in the XZ-plane.\", 121.0], [\"PAST3\", \"surf #, (def=last)\", \"(not used)\", \"(not used)\", \"Exit pupil; YZ-plane, 3rd order ASTIGMATISM, at surface \\\"i\\\" and at the control wavelength\", 122.0], [\"XPAST3\", \"surf #, (def=last)\", \"(not used)\", \"(not used)\", \"Same as above except in the XZ-plane.\", 123.0], [\"PDIS3\", \"surf #, (def=last)\", \"(not used)\", \"(not used)\", \"Exit pupil; YZ-plane, 3rd order DISTORTION at surface \\\"i\\\" and at the control wavelength\", 124.0], [\"XPDIS3\", \"surf #, (def=last)\", \"(not used)\", \"(not used)\", \"Same as above except in the XZ-plane.\", 125.0], [\"PPTZ3\", \"surf #, (def=last)\", \"(not used)\", \"(not used)\", \"Exit pupil; YZ-plane, 3rd order PETZVAL CURVATURE at surface \\\"i\\\" and at the control wavelength\", 126.0], [\"XPPTZ3\", \"surf #, (def=last)\", \"(not used)\", \"(not used)\", \"Same as above except in the XZ-plane.\", 127.0], [\"PSA3P\", \"surf #, (def=last)\", \"(not used)\", \"(not used)\", \"Exit pupil; YZ-plane, 3rd order SPHERICAL ABERRATION, PRIMARY CHROMATIC DIFFERANCES at surface \\\"i\\\" and at the control wavelength\", 128.0], [\"XPSA3P\", \"surf #, (def=last)\", \"(not used)\", \"(not used)\", \"Same as above except in the XZ-plane.\", 129.0], [\"PCMA3P\", \"surf #, (def=last)\", \"(not used)\", \"(not used)\", \"Exit pupil; YZ-plane, 3rd order COMA, PRIMARY CHROMATIC DIFFERANCES at surface \\\"i\\\" and at the control wavelength\", 130.0], [\"XPCMA3P\", \"surf #, (def=last)\", \"(not used)\", \"(not used)\", \"Same as above except in the XZ-plane.\", 131.0], [\"PAST3P\", \"surf #, (def=last)\", \"(not used)\", \"(not used)\", \"Exit pupil; YZ-plane, 3rd order ASTIGMATISM, PRIMARY CHROMATIC DIFFERANCES at surface \\\"i\\\" and at the control wavelength\", 132.0], [\"XPAST3P\", \"surf #, (def=last)\", \"(not used)\", \"(not used)\", \"Same as above except in the XZ-plane.\", 133.0], [\"PDIS3P\", \"surf #, (def=last)\", \"(not used)\", \"(not used)\", \"Exit pupil; YZ-plane, 3rd order DISTORTION , PRIMARY CHROMATIC DIFFERANCES at surface \\\"i\\\" and at the control wavelength\", 134.0], [\"XPDIS3P\", \"surf #, (def=last)\", \"(not used)\", \"(not used)\", \"Same as above except in the XZ-plane.\", 135.0], [\"PPTZ3P\", \"surf #, (def=last)\", \"(not used)\", \"(not used)\", \"Exit pupil; YZ-plane, 3rd order PETZVAL CURVATURE, PRIMARY CHROMATIC DIFFERANCES at surface \\\"i\\\" and at the control wavelength\", 136.0], [\"XPPTZ3P\", \"surf #, (def=last)\", \"(not used)\", \"(not used)\", \"Same as above except in the XZ-plane.\", 137.0], [\"PSA3S\", \"surf #, (def=last)\", \"(not used)\", \"(not used)\", \"Exit pupil; YZ-plane, 3rd order SPHERICAL ABERRATION, SECONDARY CHROMATIC DIFFERANCES at surface \\\"i\\\" and at the control wavelength\", 138.0], [\"PXSA3S\", \"surf #, (def=last)\", \"(not used)\", \"(not used)\", \"Same as above except in the XZ-plane.\", 139.0], [\"PCMA3S\", \"surf #, (def=last)\", \"(not used)\", \"(not used)\", \"Exit pupil; YZ-plane, 3rd order COMA, SECONDARY CHROMATIC DIFFERANCES at surface \\\"i\\\" and at the control wavelength\", 140.0], [\"XPCMA3S\", \"surf #, (def=last)\", \"(not used)\", \"(not used)\", \"Same as above except in the XZ-plane.\", 141.0], [\"PAST3S\", \"surf #, (def=last)\", \"(not used)\", \"(not used)\", \"Exit pupil; YZ-plane, 3rd order ASTIGMATISM, SECONDARY CHROMATIC DIFFERANCES at surface \\\"i\\\" and at the control wavelength\", 142.0], [\"XPAST3S\", \"surf #, (def=last)\", \"(not used)\", \"(not used)\", \"Same as above except in the XZ-plane.\", 143.0], [\"PDIS3S\", \"surf #, (def=last)\", \"(not used)\", \"(not used)\", \"Exit pupil; YZ-plane, 3rd order DISTORTION, SECONDARY CHROMATIC DIFFERANCES at surface \\\"i\\\" and at the control wavelength\", 144.0], [\"XPDIS3S\", \"surf #, (def=last)\", \"(not used)\", \"(not used)\", \"Same as above except in the XZ-plane.\", 145.0], [\"PPTZ3S\", \"surf #, (def=last)\", \"(not used)\", \"(not used)\", \"Exit pupil; YZ-plane, 3rd order PETVAL CURVATURE, SECONDARY CHROMATIC DIFFERANCES at surface \\\"i\\\" and at the control wavelength\", 146.0], [\"XPPTZ3S\", \"surf #, (def=last)\", \"(not used)\", \"(not used)\", \"Same as above except in the XZ-plane.\", 147.0], [\"PTZCV\", \"surf #, (def=last)\", \"(not used)\", \"(not used)\", \"This is the YZ-plane, third order Petzval curvature. Its value is independent of lens mode.\", 148.0], [\"XPTZCV\", \"surf #, (def=last)\", \"(not used)\", \"(not used)\", \"Same as above except in the XZ-plane.\", 149.0]];\n",
       "\n",
       "    if (typeof require === 'undefined') {\n",
       "        // TODO: This should become the default (use a simple import)\n",
       "        // when the ESM version works independently of whether\n",
       "        // require.js is there or not, see\n",
       "        // https://datatables.net/forums/discussion/69066/esm-es6-module-support?\n",
       "        const {default: $} = await import(\"https://esm.sh/jquery@3.5.0\");\n",
       "        const {default: initDataTables} = await import(\"https://esm.sh/datatables.net@1.11.3?deps=jquery@3.5.0\");\n",
       "\n",
       "        initDataTables();\n",
       "\n",
       "        // Define the dt_args\n",
       "        let dt_args = {\"columnDefs\": [{\"className\": \"dt-left\", \"targets\": \"_all\"}, {\"width\": \"500px\", \"targets\": 4}], \"lengthMenu\": [50, 100, 200, 500]};\n",
       "        dt_args[\"data\"] = data;\n",
       "\n",
       "        // Display the table\n",
       "        $(document).ready(function () {\n",
       "            $('#3919bec5-1ff6-4418-9bee-3fb8c19af7ca').DataTable(dt_args);\n",
       "        });\n",
       "    } else {\n",
       "        require([\"jquery\", \"datatables\"], ($, datatables) => {\n",
       "                // Define the dt_args\n",
       "                let dt_args = {\"columnDefs\": [{\"className\": \"dt-left\", \"targets\": \"_all\"}, {\"width\": \"500px\", \"targets\": 4}], \"lengthMenu\": [50, 100, 200, 500]};\n",
       "                dt_args[\"data\"] = data;\n",
       "\n",
       "                // Display the table\n",
       "                $(document).ready(function () {\n",
       "                    $('#3919bec5-1ff6-4418-9bee-3fb8c19af7ca').DataTable(dt_args);\n",
       "                });\n",
       "            }\n",
       "        )\n",
       "    }\n",
       "</script>\n"
      ],
      "text/plain": [
       "                            \"i\"          \"j\"         \"k\"  \\\n",
       "OPERAND NAME                                               \n",
       "SA3           surf #, (def=last)  (not used)  (not used)   \n",
       "XSA3          surf #, (def=last)  (not used)  (not used)   \n",
       "CMA3          surf #, (def=last)  (not used)  (not used)   \n",
       "XCMA3         surf #, (def=last)  (not used)  (not used)   \n",
       "AST3          surf #, (def=last)  (not used)  (not used)   \n",
       "...                          ...         ...         ...   \n",
       "XPDIS3S       surf #, (def=last)  (not used)  (not used)   \n",
       "PPTZ3S        surf #, (def=last)  (not used)  (not used)   \n",
       "XPPTZ3S       surf #, (def=last)  (not used)  (not used)   \n",
       "PTZCV         surf #, (def=last)  (not used)  (not used)   \n",
       "XPTZCV        surf #, (def=last)  (not used)  (not used)   \n",
       "\n",
       "                                                    DESCRIPTION  Order  \n",
       "OPERAND NAME                                                            \n",
       "SA3           YZ-plane, 3rd order SPHERICAL ABERRATION at su...    1.0  \n",
       "XSA3                      Same as above except in the XZ-plane.    2.0  \n",
       "CMA3          YZ-plane, 3rd order COMA at surface \"i\" and at...    3.0  \n",
       "XCMA3                     Same as above except in the XZ-plane.    4.0  \n",
       "AST3          YZ-plane, 3rd order ASTIGMATISM at surface \"i\"...    5.0  \n",
       "...                                                         ...    ...  \n",
       "XPDIS3S                   Same as above except in the XZ-plane.  145.0  \n",
       "PPTZ3S        Exit pupil; YZ-plane, 3rd order PETVAL CURVATU...  146.0  \n",
       "XPPTZ3S                   Same as above except in the XZ-plane.  147.0  \n",
       "PTZCV         This is the YZ-plane, third order Petzval curv...  148.0  \n",
       "XPTZCV                    Same as above except in the XZ-plane.  149.0  \n",
       "\n",
       "[150 rows x 5 columns]"
      ]
     },
     "execution_count": 5,
     "metadata": {},
     "output_type": "execute_result"
    }
   ],
   "source": [
    "df_aberrations"
   ]
  },
  {
   "cell_type": "code",
   "execution_count": null,
   "id": "0e93e49c",
   "metadata": {},
   "outputs": [],
   "source": []
  },
  {
   "cell_type": "code",
   "execution_count": null,
   "id": "a6381f44",
   "metadata": {},
   "outputs": [],
   "source": []
  },
  {
   "cell_type": "code",
   "execution_count": null,
   "id": "7df3686a",
   "metadata": {},
   "outputs": [],
   "source": []
  }
 ],
 "metadata": {
  "celltoolbar": "Tags",
  "kernelspec": {
   "display_name": "Python 3 (ipykernel)",
   "language": "python",
   "name": "python3"
  },
  "language_info": {
   "codemirror_mode": {
    "name": "ipython",
    "version": 3
   },
   "file_extension": ".py",
   "mimetype": "text/x-python",
   "name": "python",
   "nbconvert_exporter": "python",
   "pygments_lexer": "ipython3",
   "version": "3.8.11"
  }
 },
 "nbformat": 4,
 "nbformat_minor": 5
}
