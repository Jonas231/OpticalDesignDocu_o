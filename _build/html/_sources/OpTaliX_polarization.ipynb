{
 "cells": [
  {
   "cell_type": "markdown",
   "id": "44ddaa3e",
   "metadata": {},
   "source": [
    "# OpTaliX: Polarization\n",
    "\n",
    "These are ..."
   ]
  },
  {
   "cell_type": "code",
   "execution_count": 1,
   "id": "30d3a396",
   "metadata": {
    "tags": [
     "remove_input"
    ]
   },
   "outputs": [
    {
     "data": {
      "application/javascript": [
       "if (typeof require !== 'undefined')\n",
       "    require.config({\n",
       "        paths: {\n",
       "            jquery: 'https://code.jquery.com/jquery-3.5.1.min',\n",
       "            datatables: 'https://cdn.datatables.net/1.11.3/js/jquery.dataTables.min',\n",
       "        }\n",
       "    });\n"
      ],
      "text/plain": [
       "<IPython.core.display.Javascript object>"
      ]
     },
     "metadata": {},
     "output_type": "display_data"
    }
   ],
   "source": [
    "import pandas as pd\n",
    "import itables\n",
    "from itables import init_notebook_mode, show\n",
    "import itables.options as opt\n",
    "\n",
    "init_notebook_mode(all_interactive=True)\n",
    "\n",
    "opt.lengthMenu = [50, 100, 200, 500]\n",
    "#opt.classes = [\"display\", \"cell-border\"]\n",
    "#opt.classes = [\"display\", \"nowrap\"]\n",
    "\n",
    "opt.columnDefs = [{\"className\": \"dt-left\", \"targets\": \"_all\"}, {\"width\": \"500px\", \"targets\": 1}]\n"
   ]
  },
  {
   "cell_type": "code",
   "execution_count": 2,
   "id": "36dee203",
   "metadata": {
    "tags": [
     "remove_input"
    ]
   },
   "outputs": [],
   "source": [
    "import os\n",
    "cwd = os.getcwd()\n",
    "filename = os.path.join(cwd, os.path.join('Excel', 'OpTaliX_optimization_operands.xlsx'))\n",
    "df_var = pd.read_excel(filename, sheet_name = \"Polarization\", header = 0, index_col = 0)\n",
    "df_var = df_var.dropna()   # drop nan values"
   ]
  },
  {
   "cell_type": "code",
   "execution_count": 3,
   "id": "ad2657ec",
   "metadata": {
    "tags": [
     "remove_input"
    ]
   },
   "outputs": [
    {
     "data": {
      "text/html": [
       "<table id=\"c662f046-99f8-401f-8030-fd5b64056cbc\" class=\"display\"style=\"max-width:100%\"><thead><th></th><th>Description</th><th>Order</th></thead><tbody><tr><td>Loading... (need <a href=https://mwouts.github.io/itables/troubleshooting.html>help</a>?)</td></tr></tbody></table>\n",
       "<link rel=\"stylesheet\" type=\"text/css\" href=\"https://cdn.datatables.net/1.11.3/css/jquery.dataTables.min.css\">\n",
       "<style> table td {\n",
       "    text-overflow: ellipsis;\n",
       "    overflow: hidden;\n",
       "} </style>\n",
       "<style> table th {\n",
       "    text-overflow: ellipsis;\n",
       "    overflow: hidden;\n",
       "} </style>\n",
       "<script type=\"module\">\n",
       "    // Define the table data\n",
       "    const data = [[\"POLX fk wk sk rel_apeX rel_apeY\", \"Polarization amplitude component X for a single ray at field fk, wavelength wk, surface sk.\", 1], [\"POLY fk wk sk rel_apeX rel_apeY\", \"Polarization amplitude component Y for a single ray at field fk, wavelength wk, surface sk.\", 2], [\"POLP fk wk sk rel_apeX rel_apeY\", \"Polarization phase (difference) for a single ray at field fk, wavelength wk, surface sk. The phase is returned in radians.\", 3], [\"POLD fk wk sk rel_apeX rel_apeY\", \"Degree of polarization for a single ray at field fk, wavelength wk, surface sk.\", 4]];\n",
       "\n",
       "    if (typeof require === 'undefined') {\n",
       "        // TODO: This should become the default (use a simple import)\n",
       "        // when the ESM version works independently of whether\n",
       "        // require.js is there or not, see\n",
       "        // https://datatables.net/forums/discussion/69066/esm-es6-module-support?\n",
       "        const {default: $} = await import(\"https://esm.sh/jquery@3.5.0\");\n",
       "        const {default: initDataTables} = await import(\"https://esm.sh/datatables.net@1.11.3?deps=jquery@3.5.0\");\n",
       "\n",
       "        initDataTables();\n",
       "\n",
       "        // Define the dt_args\n",
       "        let dt_args = {\"columnDefs\": [{\"className\": \"dt-left\", \"targets\": \"_all\"}, {\"width\": \"500px\", \"targets\": 1}], \"lengthMenu\": [50, 100, 200, 500], \"paging\": false};\n",
       "        dt_args[\"data\"] = data;\n",
       "\n",
       "        // Display the table\n",
       "        $(document).ready(function () {\n",
       "            $('#c662f046-99f8-401f-8030-fd5b64056cbc').DataTable(dt_args);\n",
       "        });\n",
       "    } else {\n",
       "        require([\"jquery\", \"datatables\"], ($, datatables) => {\n",
       "                // Define the dt_args\n",
       "                let dt_args = {\"columnDefs\": [{\"className\": \"dt-left\", \"targets\": \"_all\"}, {\"width\": \"500px\", \"targets\": 1}], \"lengthMenu\": [50, 100, 200, 500], \"paging\": false};\n",
       "                dt_args[\"data\"] = data;\n",
       "\n",
       "                // Display the table\n",
       "                $(document).ready(function () {\n",
       "                    $('#c662f046-99f8-401f-8030-fd5b64056cbc').DataTable(dt_args);\n",
       "                });\n",
       "            }\n",
       "        )\n",
       "    }\n",
       "</script>\n"
      ],
      "text/plain": [
       "                                                                       Description  \\\n",
       "Item                                                                                 \n",
       "POLX fk wk sk rel_apeX rel_apeY  Polarization amplitude component X for a singl...   \n",
       "POLY fk wk sk rel_apeX rel_apeY  Polarization amplitude component Y for a singl...   \n",
       "POLP fk wk sk rel_apeX rel_apeY  Polarization phase (difference) for a single r...   \n",
       "POLD fk wk sk rel_apeX rel_apeY  Degree of polarization for a single ray at fie...   \n",
       "\n",
       "                                 Order  \n",
       "Item                                    \n",
       "POLX fk wk sk rel_apeX rel_apeY      1  \n",
       "POLY fk wk sk rel_apeX rel_apeY      2  \n",
       "POLP fk wk sk rel_apeX rel_apeY      3  \n",
       "POLD fk wk sk rel_apeX rel_apeY      4  "
      ]
     },
     "execution_count": 3,
     "metadata": {},
     "output_type": "execute_result"
    }
   ],
   "source": [
    "df_var"
   ]
  },
  {
   "cell_type": "code",
   "execution_count": null,
   "id": "06654ecb",
   "metadata": {},
   "outputs": [],
   "source": []
  },
  {
   "cell_type": "code",
   "execution_count": null,
   "id": "14ed69a1",
   "metadata": {},
   "outputs": [],
   "source": []
  }
 ],
 "metadata": {
  "celltoolbar": "Tags",
  "kernelspec": {
   "display_name": "Python 3 (ipykernel)",
   "language": "python",
   "name": "python3"
  },
  "language_info": {
   "codemirror_mode": {
    "name": "ipython",
    "version": 3
   },
   "file_extension": ".py",
   "mimetype": "text/x-python",
   "name": "python",
   "nbconvert_exporter": "python",
   "pygments_lexer": "ipython3",
   "version": "3.8.11"
  }
 },
 "nbformat": 4,
 "nbformat_minor": 5
}
