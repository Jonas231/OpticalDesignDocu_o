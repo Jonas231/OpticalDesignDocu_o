{
 "cells": [
  {
   "cell_type": "markdown",
   "id": "4ea0475c",
   "metadata": {},
   "source": [
    "# KDP-2 Operands: Gaussian beams\n",
    "\n",
    "These are the operands of Gaussian beams."
   ]
  },
  {
   "cell_type": "code",
   "execution_count": 18,
   "id": "defae62c",
   "metadata": {
    "tags": [
     "remove_input"
    ]
   },
   "outputs": [
    {
     "data": {
      "application/javascript": [
       "if (typeof require !== 'undefined')\n",
       "    require.config({\n",
       "        paths: {\n",
       "            jquery: 'https://code.jquery.com/jquery-3.5.1.min',\n",
       "            datatables: 'https://cdn.datatables.net/1.11.3/js/jquery.dataTables.min',\n",
       "        }\n",
       "    });\n"
      ],
      "text/plain": [
       "<IPython.core.display.Javascript object>"
      ]
     },
     "metadata": {},
     "output_type": "display_data"
    }
   ],
   "source": [
    "import pandas as pd\n",
    "import itables\n",
    "from itables import init_notebook_mode, show\n",
    "import itables.options as opt\n",
    "\n",
    "init_notebook_mode(all_interactive=True)\n",
    "\n",
    "opt.lengthMenu = [50, 100, 200, 500]\n",
    "#opt.classes = [\"display\", \"cell-border\"]\n",
    "#opt.classes = [\"display\", \"nowrap\"]\n",
    "\n",
    "opt.columnDefs = [{\"className\": \"dt-left\", \"targets\": \"_all\"}, {\"width\": \"500px\", \"targets\": 4}]\n",
    "#opt.maxBytes = 0\n",
    "#pd.get_option('display.max_columns')\n",
    "#pd.get_option('display.max_rows')\n",
    "\n",
    "\n"
   ]
  },
  {
   "cell_type": "code",
   "execution_count": 19,
   "id": "e06a3e1a",
   "metadata": {
    "tags": [
     "remove_input"
    ]
   },
   "outputs": [],
   "source": [
    "filename = r'C:\\Work\\Tools\\OpticalDesign_Doku\\KDP-2_optimization_operands.xlsx'\n",
    "\n",
    "df_gb = pd.read_excel(filename, sheet_name = \"Gaussian beam\", header = 1, index_col = 0)\n",
    "df_gb = df_gb.dropna()   # drop nan values\n",
    "\n"
   ]
  },
  {
   "cell_type": "code",
   "execution_count": 20,
   "id": "0a352a50",
   "metadata": {
    "tags": [
     "remove_input"
    ]
   },
   "outputs": [
    {
     "data": {
      "text/html": [
       "<table id=\"854adb8b-1782-444e-b70b-5191efeb3c8d\" class=\"display\"style=\"max-width:100%\"><thead><th></th><th>\"i\" </th><th>\"j\"</th><th>\"k\"</th><th>DESCRIPTION</th><th>Order</th></thead><tbody><tr><td>Loading... (need <a href=https://mwouts.github.io/itables/troubleshooting.html>help</a>?)</td></tr></tbody></table>\n",
       "<link rel=\"stylesheet\" type=\"text/css\" href=\"https://cdn.datatables.net/1.11.3/css/jquery.dataTables.min.css\">\n",
       "<style> table td {\n",
       "    text-overflow: ellipsis;\n",
       "    overflow: hidden;\n",
       "} </style>\n",
       "<style> table th {\n",
       "    text-overflow: ellipsis;\n",
       "    overflow: hidden;\n",
       "} </style>\n",
       "<script type=\"module\">\n",
       "    // Define the table data\n",
       "    const data = [[\"GBRADX\", \"surf # \", \"Field Pos. #\", \"(not used)\", \"The XZ-plane 1/e2 semi-diameter of the gaussian beam at surface \\\"i\\\" and at field position \\\"j\\\". Wavelength defined in the field position definition.\", 1.0], [\"GBRADY\", \"surf # \", \"Field Pos. #\", \"(not used)\", \"This is the same as GBRADX except that it works in the YZ-plane.\", 2.0], [\"GBDISX\", \"surf # \", \"Field Pos. #\", \"(not used)\", \"The distance from surface \\\"i\\\" to the next XZ-plane beam waist in the image space of surface \\\"i\\\". Wavelength defined in the field position definition.\", 3.0], [\"GBDISY\", \"surf # \", \"Field Pos. #\", \"(not used)\", \"This is the same as GBDISX except that it works in the YZ-plane.\", 4.0], [\"GBRCVX\", \"surf # \", \"Field Pos. #\", \"(not used)\", \"The XZ-plane wavefront radius of curvature at surface \\\"i\\\" in the image space of surface \\\"i\\\". Wavelength defined in the field position definition.\", 5.0], [\"GBRCVY\", \"surf # \", \"Field Pos. #\", \"(not used)\", \"This is the same as GBRCVX except that it works in the YZ-plane.\", 6.0], [\"GBWAISTX\", \"surf # \", \"Field Pos. #\", \"(not used)\", \"The XZ-plane 1/e2 semi-diameter of the beam waist in the image space of surface \\\"I\\\". Wavelength defined in the field position definition.\", 7.0], [\"GBWAISTY\", \"surf # \", \"Field Pos. #\", \"(not used)\", \"This is the same as GBWAISTX except that it works in the YZ-plane.\", 8.0]];\n",
       "\n",
       "    if (typeof require === 'undefined') {\n",
       "        // TODO: This should become the default (use a simple import)\n",
       "        // when the ESM version works independently of whether\n",
       "        // require.js is there or not, see\n",
       "        // https://datatables.net/forums/discussion/69066/esm-es6-module-support?\n",
       "        const {default: $} = await import(\"https://esm.sh/jquery@3.5.0\");\n",
       "        const {default: initDataTables} = await import(\"https://esm.sh/datatables.net@1.11.3?deps=jquery@3.5.0\");\n",
       "\n",
       "        initDataTables();\n",
       "\n",
       "        // Define the dt_args\n",
       "        let dt_args = {\"columnDefs\": [{\"className\": \"dt-left\", \"targets\": \"_all\"}, {\"width\": \"500px\", \"targets\": 4}], \"lengthMenu\": [50, 100, 200, 500], \"paging\": false};\n",
       "        dt_args[\"data\"] = data;\n",
       "\n",
       "        // Display the table\n",
       "        $(document).ready(function () {\n",
       "            $('#854adb8b-1782-444e-b70b-5191efeb3c8d').DataTable(dt_args);\n",
       "        });\n",
       "    } else {\n",
       "        require([\"jquery\", \"datatables\"], ($, datatables) => {\n",
       "                // Define the dt_args\n",
       "                let dt_args = {\"columnDefs\": [{\"className\": \"dt-left\", \"targets\": \"_all\"}, {\"width\": \"500px\", \"targets\": 4}], \"lengthMenu\": [50, 100, 200, 500], \"paging\": false};\n",
       "                dt_args[\"data\"] = data;\n",
       "\n",
       "                // Display the table\n",
       "                $(document).ready(function () {\n",
       "                    $('#854adb8b-1782-444e-b70b-5191efeb3c8d').DataTable(dt_args);\n",
       "                });\n",
       "            }\n",
       "        )\n",
       "    }\n",
       "</script>\n"
      ],
      "text/plain": [
       "                 \"i\"            \"j\"         \"k\"  \\\n",
       "OPERAND NAME                                      \n",
       "GBRADX        surf #   Field Pos. #  (not used)   \n",
       "GBRADY        surf #   Field Pos. #  (not used)   \n",
       "GBDISX        surf #   Field Pos. #  (not used)   \n",
       "GBDISY        surf #   Field Pos. #  (not used)   \n",
       "GBRCVX        surf #   Field Pos. #  (not used)   \n",
       "GBRCVY        surf #   Field Pos. #  (not used)   \n",
       "GBWAISTX      surf #   Field Pos. #  (not used)   \n",
       "GBWAISTY      surf #   Field Pos. #  (not used)   \n",
       "\n",
       "                                                    DESCRIPTION  Order  \n",
       "OPERAND NAME                                                            \n",
       "GBRADX        The XZ-plane 1/e2 semi-diameter of the gaussia...    1.0  \n",
       "GBRADY        This is the same as GBRADX except that it work...    2.0  \n",
       "GBDISX        The distance from surface \"i\" to the next XZ-p...    3.0  \n",
       "GBDISY        This is the same as GBDISX except that it work...    4.0  \n",
       "GBRCVX        The XZ-plane wavefront radius of curvature at ...    5.0  \n",
       "GBRCVY        This is the same as GBRCVX except that it work...    6.0  \n",
       "GBWAISTX      The XZ-plane 1/e2 semi-diameter of the beam wa...    7.0  \n",
       "GBWAISTY      This is the same as GBWAISTX except that it wo...    8.0  "
      ]
     },
     "execution_count": 20,
     "metadata": {},
     "output_type": "execute_result"
    }
   ],
   "source": [
    "\n",
    "df_gb\n"
   ]
  },
  {
   "cell_type": "code",
   "execution_count": null,
   "id": "0e93e49c",
   "metadata": {},
   "outputs": [],
   "source": []
  },
  {
   "cell_type": "code",
   "execution_count": null,
   "id": "a6381f44",
   "metadata": {},
   "outputs": [],
   "source": []
  },
  {
   "cell_type": "code",
   "execution_count": null,
   "id": "7df3686a",
   "metadata": {},
   "outputs": [],
   "source": []
  }
 ],
 "metadata": {
  "celltoolbar": "Tags",
  "kernelspec": {
   "display_name": "Python 3 (ipykernel)",
   "language": "python",
   "name": "python3"
  },
  "language_info": {
   "codemirror_mode": {
    "name": "ipython",
    "version": 3
   },
   "file_extension": ".py",
   "mimetype": "text/x-python",
   "name": "python",
   "nbconvert_exporter": "python",
   "pygments_lexer": "ipython3",
   "version": "3.8.11"
  }
 },
 "nbformat": 4,
 "nbformat_minor": 5
}
