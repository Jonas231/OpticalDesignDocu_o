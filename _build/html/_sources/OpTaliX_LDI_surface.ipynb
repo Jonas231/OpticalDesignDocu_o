{
 "cells": [
  {
   "cell_type": "markdown",
   "id": "3907d4e8",
   "metadata": {},
   "source": [
    "\n",
    "# OpTaliX: Lens data items surface\n",
    "These are ..."
   ]
  },
  {
   "cell_type": "code",
   "execution_count": 1,
   "id": "30d3a396",
   "metadata": {
    "tags": [
     "remove_input"
    ]
   },
   "outputs": [
    {
     "data": {
      "application/javascript": [
       "if (typeof require !== 'undefined')\n",
       "    require.config({\n",
       "        paths: {\n",
       "            jquery: 'https://code.jquery.com/jquery-3.5.1.min',\n",
       "            datatables: 'https://cdn.datatables.net/1.11.3/js/jquery.dataTables.min',\n",
       "        }\n",
       "    });\n"
      ],
      "text/plain": [
       "<IPython.core.display.Javascript object>"
      ]
     },
     "metadata": {},
     "output_type": "display_data"
    }
   ],
   "source": [
    "import pandas as pd\n",
    "import itables\n",
    "from itables import init_notebook_mode, show\n",
    "import itables.options as opt\n",
    "\n",
    "init_notebook_mode(all_interactive=True)\n",
    "\n",
    "opt.lengthMenu = [50, 100, 200, 500]\n",
    "#opt.classes = [\"display\", \"cell-border\"]\n",
    "#opt.classes = [\"display\", \"nowrap\"]\n",
    "\n",
    "opt.columnDefs = [{\"className\": \"dt-left\", \"targets\": \"_all\"}, {\"width\": \"500px\", \"targets\": 1}]\n"
   ]
  },
  {
   "cell_type": "code",
   "execution_count": 2,
   "id": "36dee203",
   "metadata": {
    "tags": [
     "remove_input"
    ]
   },
   "outputs": [],
   "source": [
    "import os\n",
    "cwd = os.getcwd()\n",
    "filename = os.path.join(cwd, os.path.join('Excel', 'OpTaliX_optimization_operands.xlsx'))\n",
    "df_var = pd.read_excel(filename, sheet_name = \"LDI_surface\", header = 0, index_col = 0)\n",
    "df_var = df_var.dropna()   # drop nan values"
   ]
  },
  {
   "cell_type": "code",
   "execution_count": 3,
   "id": "ad2657ec",
   "metadata": {
    "tags": [
     "remove_input"
    ]
   },
   "outputs": [
    {
     "data": {
      "text/html": [
       "<table id=\"300fa2b8-40bd-42c5-9773-484ad58b3d85\" class=\"display\"style=\"max-width:100%\"><thead><th></th><th>Description</th><th>Order</th></thead><tbody><tr><td>Loading... (need <a href=https://mwouts.github.io/itables/troubleshooting.html>help</a>?)</td></tr></tbody></table>\n",
       "<link rel=\"stylesheet\" type=\"text/css\" href=\"https://cdn.datatables.net/1.11.3/css/jquery.dataTables.min.css\">\n",
       "<style> table td {\n",
       "    text-overflow: ellipsis;\n",
       "    overflow: hidden;\n",
       "} </style>\n",
       "<style> table th {\n",
       "    text-overflow: ellipsis;\n",
       "    overflow: hidden;\n",
       "} </style>\n",
       "<script type=\"module\">\n",
       "    // Define the table data\n",
       "    const data = [[\"so\", \"Number of object surface (returns integer value)\", 1], [\"ss\", \"Number of stop surface (returns integer value)\", 2], [\"si\", \"Number of image surface (returns integer value)\", 3], [\"THI sk [zk] \", \"Thickness on surface sk, zoom position zk\", 4], [\"THR sk [zk] \", \"Reference thickness on surface sk\", 5], [\"CUX sk [zk] \", \"Curvature in X/Z plane\", 6], [\"CUY sk [zk] \", \"Curvature in Y/Z plane\", 7], [\"RDX sk [zk] \", \"Radius of curvature in X/Z plane\", 8], [\"RDY sk [zk] \", \"Radius of curvature in Y/Z plane\", 9], [\"IND sk wk\", \"Index of refraction at surface sk, wavelength wk.\", 10], [\"ABBE sk\", \"Abbe number at surface sk.\", 11], [\"ADE sk [zk] \", \"Tilt angle (in degree) around X-axis\", 12], [\"BDE sk [zk] \", \"Tilt angle (in degree) around Y-axis\", 13], [\"CDE sk [zk] \", \"Tilt angle (in degree) around Z-axis\", 14], [\"AADE sk [zk] \", \"Tilt angle (in degree) of array cells around X-axis\", 15], [\"ABDE sk [zk] \", \"Tilt angle (in degree) of array cells around Y-axis\", 16], [\"ACDE sk [zk] \", \"Tilt angle (in degree) of array cells around Z-axis\", 17], [\"XDE sk [zk] \", \"X-decenter\", 18], [\"YDE sk [zk] \", \"Y-decenter\", 19], [\"ZDE sk [zk] \", \"Z-decenter\", 20], [\"XSC sk [zk] \", \"Global vertex X-coordinate of surface sk. Coordinates are referred to the coordinate system defined by the GLO sk command.\", 21], [\"YSC sk [zk] \", \"Global vertex Y-coordinate of surface sk. Coordinates are referred to the coordinate system defined by the GLO sk command.\", 22], [\"ZSC sk [zk] \", \"Global vertex Z-coordinate of surface sk. Coordinates are referred to the coordinate system defined by the GLO sk command.\", 23], [\"XSG sk [zk] \", \"Global vertex X-coordinate of surface sk. Coordinates are always referred to the global system.\", 24], [\"YSG sk [zk] \", \"Global vertex Y-coordinate of surface sk. Coordinates are always referred to the global system.\", 25], [\"ZSG sk [zk] \", \"Global vertex Z-coordinate of surface sk. Coordinates are always referred to the global system.\", 26], [\"A sk [zk] \", \"4th order aspheric constant\", 27], [\"B sk [zk] \", \"6th order aspheric constant\", 28], [\"C sk [zk] \", \"8th order aspheric constant\", 29], [\"D sk [zk] \", \"10th order aspheric constant\", 30], [\"E sk [zk] \", \"12th order aspheric constant\", 31], [\"F sk [zk] \", \"14th order aspheric constant\", 32], [\"G sk [zk] \", \"16th order aspheric constant\", 33], [\"H sk [zk] \", \"18th order aspheric constant\", 34], [\"K sk [zk] \", \"Conic constant\", 35], [\"SAG sk \", \"Surface Sag\", 36], [\"DEF \", \"Defocus\", 37]];\n",
       "\n",
       "    if (typeof require === 'undefined') {\n",
       "        // TODO: This should become the default (use a simple import)\n",
       "        // when the ESM version works independently of whether\n",
       "        // require.js is there or not, see\n",
       "        // https://datatables.net/forums/discussion/69066/esm-es6-module-support?\n",
       "        const {default: $} = await import(\"https://esm.sh/jquery@3.5.0\");\n",
       "        const {default: initDataTables} = await import(\"https://esm.sh/datatables.net@1.11.3?deps=jquery@3.5.0\");\n",
       "\n",
       "        initDataTables();\n",
       "\n",
       "        // Define the dt_args\n",
       "        let dt_args = {\"columnDefs\": [{\"className\": \"dt-left\", \"targets\": \"_all\"}, {\"width\": \"500px\", \"targets\": 1}], \"lengthMenu\": [50, 100, 200, 500], \"paging\": false};\n",
       "        dt_args[\"data\"] = data;\n",
       "\n",
       "        // Display the table\n",
       "        $(document).ready(function () {\n",
       "            $('#300fa2b8-40bd-42c5-9773-484ad58b3d85').DataTable(dt_args);\n",
       "        });\n",
       "    } else {\n",
       "        require([\"jquery\", \"datatables\"], ($, datatables) => {\n",
       "                // Define the dt_args\n",
       "                let dt_args = {\"columnDefs\": [{\"className\": \"dt-left\", \"targets\": \"_all\"}, {\"width\": \"500px\", \"targets\": 1}], \"lengthMenu\": [50, 100, 200, 500], \"paging\": false};\n",
       "                dt_args[\"data\"] = data;\n",
       "\n",
       "                // Display the table\n",
       "                $(document).ready(function () {\n",
       "                    $('#300fa2b8-40bd-42c5-9773-484ad58b3d85').DataTable(dt_args);\n",
       "                });\n",
       "            }\n",
       "        )\n",
       "    }\n",
       "</script>\n"
      ],
      "text/plain": [
       "                                                     Description  Order\n",
       "Item                                                                   \n",
       "so              Number of object surface (returns integer value)      1\n",
       "ss                Number of stop surface (returns integer value)      2\n",
       "si               Number of image surface (returns integer value)      3\n",
       "THI sk [zk]            Thickness on surface sk, zoom position zk      4\n",
       "THR sk [zk]                    Reference thickness on surface sk      5\n",
       "CUX sk [zk]                               Curvature in X/Z plane      6\n",
       "CUY sk [zk]                               Curvature in Y/Z plane      7\n",
       "RDX sk [zk]                     Radius of curvature in X/Z plane      8\n",
       "RDY sk [zk]                     Radius of curvature in Y/Z plane      9\n",
       "IND sk wk      Index of refraction at surface sk, wavelength wk.     10\n",
       "ABBE sk                               Abbe number at surface sk.     11\n",
       "ADE sk [zk]                 Tilt angle (in degree) around X-axis     12\n",
       "BDE sk [zk]                 Tilt angle (in degree) around Y-axis     13\n",
       "CDE sk [zk]                 Tilt angle (in degree) around Z-axis     14\n",
       "AADE sk [zk]   Tilt angle (in degree) of array cells around X...     15\n",
       "ABDE sk [zk]   Tilt angle (in degree) of array cells around Y...     16\n",
       "ACDE sk [zk]   Tilt angle (in degree) of array cells around Z...     17\n",
       "XDE sk [zk]                                           X-decenter     18\n",
       "YDE sk [zk]                                           Y-decenter     19\n",
       "ZDE sk [zk]                                           Z-decenter     20\n",
       "XSC sk [zk]    Global vertex X-coordinate of surface sk. Coor...     21\n",
       "YSC sk [zk]    Global vertex Y-coordinate of surface sk. Coor...     22\n",
       "ZSC sk [zk]    Global vertex Z-coordinate of surface sk. Coor...     23\n",
       "XSG sk [zk]    Global vertex X-coordinate of surface sk. Coor...     24\n",
       "YSG sk [zk]    Global vertex Y-coordinate of surface sk. Coor...     25\n",
       "ZSG sk [zk]    Global vertex Z-coordinate of surface sk. Coor...     26\n",
       "A sk [zk]                            4th order aspheric constant     27\n",
       "B sk [zk]                            6th order aspheric constant     28\n",
       "C sk [zk]                            8th order aspheric constant     29\n",
       "D sk [zk]                           10th order aspheric constant     30\n",
       "E sk [zk]                           12th order aspheric constant     31\n",
       "F sk [zk]                           14th order aspheric constant     32\n",
       "G sk [zk]                           16th order aspheric constant     33\n",
       "H sk [zk]                           18th order aspheric constant     34\n",
       "K sk [zk]                                         Conic constant     35\n",
       "SAG sk                                               Surface Sag     36\n",
       "DEF                                                      Defocus     37"
      ]
     },
     "execution_count": 3,
     "metadata": {},
     "output_type": "execute_result"
    }
   ],
   "source": [
    "df_var"
   ]
  },
  {
   "cell_type": "code",
   "execution_count": null,
   "id": "06654ecb",
   "metadata": {},
   "outputs": [],
   "source": []
  },
  {
   "cell_type": "code",
   "execution_count": null,
   "id": "14ed69a1",
   "metadata": {},
   "outputs": [],
   "source": []
  }
 ],
 "metadata": {
  "celltoolbar": "Tags",
  "kernelspec": {
   "display_name": "Python 3 (ipykernel)",
   "language": "python",
   "name": "python3"
  },
  "language_info": {
   "codemirror_mode": {
    "name": "ipython",
    "version": 3
   },
   "file_extension": ".py",
   "mimetype": "text/x-python",
   "name": "python",
   "nbconvert_exporter": "python",
   "pygments_lexer": "ipython3",
   "version": "3.8.11"
  }
 },
 "nbformat": 4,
 "nbformat_minor": 5
}
