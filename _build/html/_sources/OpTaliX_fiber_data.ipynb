{
 "cells": [
  {
   "cell_type": "markdown",
   "id": "ac3de3ce",
   "metadata": {},
   "source": [
    "\n",
    "# OpTaliX: Fiber data\n",
    "These are ..."
   ]
  },
  {
   "cell_type": "code",
   "execution_count": 1,
   "id": "30d3a396",
   "metadata": {
    "tags": [
     "remove_input"
    ]
   },
   "outputs": [
    {
     "data": {
      "application/javascript": [
       "if (typeof require !== 'undefined')\n",
       "    require.config({\n",
       "        paths: {\n",
       "            jquery: 'https://code.jquery.com/jquery-3.5.1.min',\n",
       "            datatables: 'https://cdn.datatables.net/1.11.3/js/jquery.dataTables.min',\n",
       "        }\n",
       "    });\n"
      ],
      "text/plain": [
       "<IPython.core.display.Javascript object>"
      ]
     },
     "metadata": {},
     "output_type": "display_data"
    }
   ],
   "source": [
    "import pandas as pd\n",
    "import itables\n",
    "from itables import init_notebook_mode, show\n",
    "import itables.options as opt\n",
    "\n",
    "init_notebook_mode(all_interactive=True)\n",
    "\n",
    "opt.lengthMenu = [50, 100, 200, 500]\n",
    "#opt.classes = [\"display\", \"cell-border\"]\n",
    "#opt.classes = [\"display\", \"nowrap\"]\n",
    "\n",
    "opt.columnDefs = [{\"className\": \"dt-left\", \"targets\": \"_all\"}, {\"width\": \"500px\", \"targets\": 1}]\n"
   ]
  },
  {
   "cell_type": "code",
   "execution_count": 2,
   "id": "36dee203",
   "metadata": {
    "tags": [
     "remove_input"
    ]
   },
   "outputs": [],
   "source": [
    "import os\n",
    "cwd = os.getcwd()\n",
    "filename = os.path.join(cwd, os.path.join('Excel', 'OpTaliX_optimization_operands.xlsx'))\n",
    "df_var = pd.read_excel(filename, sheet_name = \"Fiber Data\", header = 0, index_col = 0)\n",
    "df_var = df_var.dropna()   # drop nan values"
   ]
  },
  {
   "cell_type": "code",
   "execution_count": 3,
   "id": "ad2657ec",
   "metadata": {
    "tags": [
     "remove_input"
    ]
   },
   "outputs": [
    {
     "data": {
      "text/html": [
       "<table id=\"041c4c00-8507-4821-8727-e0c1b98f208b\" class=\"display\"style=\"max-width:100%\"><thead><th></th><th>Description</th><th>Order</th></thead><tbody><tr><td>Loading... (need <a href=https://mwouts.github.io/itables/troubleshooting.html>help</a>?)</td></tr></tbody></table>\n",
       "<link rel=\"stylesheet\" type=\"text/css\" href=\"https://cdn.datatables.net/1.11.3/css/jquery.dataTables.min.css\">\n",
       "<style> table td {\n",
       "    text-overflow: ellipsis;\n",
       "    overflow: hidden;\n",
       "} </style>\n",
       "<style> table th {\n",
       "    text-overflow: ellipsis;\n",
       "    overflow: hidden;\n",
       "} </style>\n",
       "<script type=\"module\">\n",
       "    // Define the table data\n",
       "    const data = [[\"FSR [zk] \", \"Source fiber mode field radius (in mm)\", 1], [\"FSD [zk] \", \"Source fiber far-field divergence (in rad\", 2], [\"FSA [zk] \", \"Fiber source a-tilt in degree\", 3], [\"FSB [zk] \", \"Fiber source b-tilt in degree\", 4], [\"FSN1 [zk] \", \"Source fiber, index of refraction n1 of core material\", 5], [\"FSN2 [zk] \", \"Source fiber, index of refraction n2 of cladding material\", 6], [\"FSCR [zk] \", \"Source fiber, core radius in mm\", 7], [\"FRR [zk] \", \"Receiving fiber mode field radius (in mm)\", 8], [\"FRD [zk] \", \"Receiving fiber far-field divergence (in rad)\", 9], [\"FRB [zk] \", \"Receiving fiber b-tilt in degree\", 11], [\"FRX [zk] \", \"Receiving fiber x-offset (in mm) with respect to the chief ray\", 12], [\"FRY [zk] \", \"Receiving fiber y-offset (in mm) with respect to the chief ray\", 13], [\"FRN1 [zk] \", \"Receiving fiber, index of refraction n1 of core material\", 14], [\"FRN2 [zk] \", \"Receiving fiber, index of refraction n2 of cladding material\", 15], [\"FRCR [zk] \", \"Receiving fiber, core radius in mm\", 16]];\n",
       "\n",
       "    if (typeof require === 'undefined') {\n",
       "        // TODO: This should become the default (use a simple import)\n",
       "        // when the ESM version works independently of whether\n",
       "        // require.js is there or not, see\n",
       "        // https://datatables.net/forums/discussion/69066/esm-es6-module-support?\n",
       "        const {default: $} = await import(\"https://esm.sh/jquery@3.5.0\");\n",
       "        const {default: initDataTables} = await import(\"https://esm.sh/datatables.net@1.11.3?deps=jquery@3.5.0\");\n",
       "\n",
       "        initDataTables();\n",
       "\n",
       "        // Define the dt_args\n",
       "        let dt_args = {\"columnDefs\": [{\"className\": \"dt-left\", \"targets\": \"_all\"}, {\"width\": \"500px\", \"targets\": 1}], \"lengthMenu\": [50, 100, 200, 500], \"paging\": false};\n",
       "        dt_args[\"data\"] = data;\n",
       "\n",
       "        // Display the table\n",
       "        $(document).ready(function () {\n",
       "            $('#041c4c00-8507-4821-8727-e0c1b98f208b').DataTable(dt_args);\n",
       "        });\n",
       "    } else {\n",
       "        require([\"jquery\", \"datatables\"], ($, datatables) => {\n",
       "                // Define the dt_args\n",
       "                let dt_args = {\"columnDefs\": [{\"className\": \"dt-left\", \"targets\": \"_all\"}, {\"width\": \"500px\", \"targets\": 1}], \"lengthMenu\": [50, 100, 200, 500], \"paging\": false};\n",
       "                dt_args[\"data\"] = data;\n",
       "\n",
       "                // Display the table\n",
       "                $(document).ready(function () {\n",
       "                    $('#041c4c00-8507-4821-8727-e0c1b98f208b').DataTable(dt_args);\n",
       "                });\n",
       "            }\n",
       "        )\n",
       "    }\n",
       "</script>\n"
      ],
      "text/plain": [
       "                                                  Description  Order\n",
       "Item                                                                \n",
       "FSR [zk]               Source fiber mode field radius (in mm)      1\n",
       "FSD [zk]            Source fiber far-field divergence (in rad      2\n",
       "FSA [zk]                        Fiber source a-tilt in degree      3\n",
       "FSB [zk]                        Fiber source b-tilt in degree      4\n",
       "FSN1 [zk]   Source fiber, index of refraction n1 of core m...      5\n",
       "FSN2 [zk]   Source fiber, index of refraction n2 of claddi...      6\n",
       "FSCR [zk]                     Source fiber, core radius in mm      7\n",
       "FRR [zk]            Receiving fiber mode field radius (in mm)      8\n",
       "FRD [zk]        Receiving fiber far-field divergence (in rad)      9\n",
       "FRB [zk]                     Receiving fiber b-tilt in degree     11\n",
       "FRX [zk]    Receiving fiber x-offset (in mm) with respect ...     12\n",
       "FRY [zk]    Receiving fiber y-offset (in mm) with respect ...     13\n",
       "FRN1 [zk]   Receiving fiber, index of refraction n1 of cor...     14\n",
       "FRN2 [zk]   Receiving fiber, index of refraction n2 of cla...     15\n",
       "FRCR [zk]                  Receiving fiber, core radius in mm     16"
      ]
     },
     "execution_count": 3,
     "metadata": {},
     "output_type": "execute_result"
    }
   ],
   "source": [
    "df_var"
   ]
  },
  {
   "cell_type": "code",
   "execution_count": null,
   "id": "06654ecb",
   "metadata": {},
   "outputs": [],
   "source": []
  },
  {
   "cell_type": "code",
   "execution_count": null,
   "id": "14ed69a1",
   "metadata": {},
   "outputs": [],
   "source": []
  }
 ],
 "metadata": {
  "celltoolbar": "Tags",
  "kernelspec": {
   "display_name": "Python 3 (ipykernel)",
   "language": "python",
   "name": "python3"
  },
  "language_info": {
   "codemirror_mode": {
    "name": "ipython",
    "version": 3
   },
   "file_extension": ".py",
   "mimetype": "text/x-python",
   "name": "python",
   "nbconvert_exporter": "python",
   "pygments_lexer": "ipython3",
   "version": "3.8.11"
  }
 },
 "nbformat": 4,
 "nbformat_minor": 5
}
