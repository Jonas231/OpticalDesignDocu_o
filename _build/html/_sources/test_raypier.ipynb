{
 "cells": [
  {
   "cell_type": "code",
   "execution_count": 1,
   "id": "199cf457",
   "metadata": {},
   "outputs": [
    {
     "name": "stdout",
     "output_type": "stream",
     "text": [
      "C:\\Users\\herbst\\Anaconda3\\envs\\myRaypier38\\lib\\site-packages\\raypier-0.2.3-py3.8-win-amd64.egg\\raypier\\tracer.py\n"
     ]
    }
   ],
   "source": [
    "from raypier.api import RayTraceModel, GeneralLens, ParallelRaySource, SphericalFace, CircleShape, OpticalMaterial, AsphericFace\n",
    "\n",
    "\n",
    "# check\n",
    "from raypier import tracer\n",
    "print(tracer.__file__)"
   ]
  },
  {
   "cell_type": "code",
   "execution_count": null,
   "id": "d308ea54",
   "metadata": {},
   "outputs": [],
   "source": []
  }
 ],
 "metadata": {
  "kernelspec": {
   "display_name": "Python 3 (ipykernel)",
   "language": "python",
   "name": "python3"
  },
  "language_info": {
   "codemirror_mode": {
    "name": "ipython",
    "version": 3
   },
   "file_extension": ".py",
   "mimetype": "text/x-python",
   "name": "python",
   "nbconvert_exporter": "python",
   "pygments_lexer": "ipython3",
   "version": "3.8.12"
  }
 },
 "nbformat": 4,
 "nbformat_minor": 5
}
