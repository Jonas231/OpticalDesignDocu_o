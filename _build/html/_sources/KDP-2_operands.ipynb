{
 "cells": [
  {
   "cell_type": "markdown",
   "id": "9e13b4bd",
   "metadata": {},
   "source": [
    "# KDP-2 Operands: Real single ray "
   ]
  },
  {
   "cell_type": "code",
   "execution_count": 2,
   "id": "defae62c",
   "metadata": {
    "tags": [
     "remove_input"
    ]
   },
   "outputs": [
    {
     "data": {
      "application/javascript": [
       "if (typeof require !== 'undefined')\n",
       "    require.config({\n",
       "        paths: {\n",
       "            jquery: 'https://code.jquery.com/jquery-3.5.1.min',\n",
       "            datatables: 'https://cdn.datatables.net/1.11.3/js/jquery.dataTables.min',\n",
       "        }\n",
       "    });\n"
      ],
      "text/plain": [
       "<IPython.core.display.Javascript object>"
      ]
     },
     "metadata": {},
     "output_type": "display_data"
    }
   ],
   "source": [
    "import pandas as pd\n",
    "import itables\n",
    "from itables import init_notebook_mode, show\n",
    "import itables.options as opt\n",
    "\n",
    "init_notebook_mode(all_interactive=True)\n",
    "\n",
    "opt.lengthMenu = [50, 100, 200, 500]\n",
    "#opt.classes = [\"display\", \"cell-border\"]\n",
    "#opt.classes = [\"display\", \"nowrap\"]\n",
    "\n",
    "opt.columnDefs = [{\"className\": \"dt-left\", \"targets\": \"_all\"}, {\"width\": \"500px\", \"targets\": 4}]\n",
    "#opt.maxBytes = 0\n",
    "#pd.get_option('display.max_columns')\n",
    "#pd.get_option('display.max_rows')\n",
    "\n",
    "\n"
   ]
  },
  {
   "cell_type": "code",
   "execution_count": 3,
   "id": "e06a3e1a",
   "metadata": {
    "tags": [
     "remove_input"
    ]
   },
   "outputs": [],
   "source": [
    "filename = r'C:\\Work\\Tools\\OpticalDesign_Doku\\KDP-2_optimization_operands.xlsx'\n",
    "\n",
    "df_RSR = pd.read_excel(filename, sheet_name = \"real single ray\", header = 1, index_col = 0)\n",
    "df_RSR = df_RSR.dropna()   # drop nan values\n",
    "\n"
   ]
  },
  {
   "cell_type": "raw",
   "id": "06e8b24d",
   "metadata": {},
   "source": [
    "These are the real single ray operands. Real raytracing without paraxial approximation."
   ]
  },
  {
   "cell_type": "code",
   "execution_count": 4,
   "id": "0a352a50",
   "metadata": {
    "tags": [
     "remove_input"
    ]
   },
   "outputs": [
    {
     "data": {
      "text/html": [
       "<table id=\"75c59c2c-f8e5-481c-b322-d61a26acac28\" class=\"display\"style=\"max-width:100%\"><thead><th></th><th>\"i\" </th><th>\"j\"</th><th>\"k\"</th><th>DESCRIPTION</th><th>Order</th></thead><tbody><tr><td>Loading... (need <a href=https://mwouts.github.io/itables/troubleshooting.html>help</a>?)</td></tr></tbody></table>\n",
       "<link rel=\"stylesheet\" type=\"text/css\" href=\"https://cdn.datatables.net/1.11.3/css/jquery.dataTables.min.css\">\n",
       "<style> table td {\n",
       "    text-overflow: ellipsis;\n",
       "    overflow: hidden;\n",
       "} </style>\n",
       "<style> table th {\n",
       "    text-overflow: ellipsis;\n",
       "    overflow: hidden;\n",
       "} </style>\n",
       "<script type=\"module\">\n",
       "    // Define the table data\n",
       "    const data = [[\"X\", \"surf #, (def=img)\", \"Field Pos. #\", \"Ray Pos.#\", \"X-local coordinate at surface \\\"i\\\" at field position number \\\"j\\\" and ray position number \\\"k\\\" of last ray traced\", 1.0], [\"Y\", \"surf #, (def=img)\", \"Field Pos. #\", \"Ray Pos.#\", \"Y-local coordinate at surface \\\"i\\\" at field position number \\\"j\\\" and ray position number \\\"k\\\" of last ray traced\", 2.0], [\"Z\", \"surf #, (def=img)\", \"Field Pos. #\", \"Ray Pos.#\", \"Z-local coordinate at surface \\\"i\\\" at field position number \\\"j\\\" and ray position number \\\"k\\\" of last ray traced\", 3.0], [\"DCL or K\", \"surf #, (def=img)\", \"Field Pos. #\", \"Ray Pos.#\", \"L-direction cosine at surface \\\"i\\\" at field position number \\\"j\\\" and ray position number \\\"k\\\" of last ray traced\", 4.0], [\"DCM or L\", \"surf #, (def=img)\", \"Field Pos. #\", \"Ray Pos.#\", \"Z-direction cosine at surface \\\"i\\\" at field position number \\\"j\\\" and ray position number \\\"k\\\" of last ray traced\", 5.0], [\"DCN or M\", \"surf #\", \"Field Pos. #\", \"Ray Pos.#\", \"Z-direction cosine at surface \\\"i\\\" at field position number \\\"j\\\" and ray position number \\\"k\\\" of last ray traced\", 6.0], [\"DX\", \"surf #, (def=img)\", \"Field Pos. #\", \"Ray Pos.#\", \"DX at surface \\\"i\\\" of last ray traced, X-Ray Coordinate minus X-Chief ray Coordinate. The \\\"VIG\\\" setting affects this operand.\", 7.0], [\"DY\", \"surf #, (def=img)\", \"Field Pos. #\", \"Ray Pos.#\", \"DY at surface \\\"i\\\" of last ray traced, Y-Ray Coordinate minus Y-Chief ray Coordinate. The \\\"VIG\\\" setting affects this operand.\", 8.0], [\"DXA\", \"surf #, (def=img)\", \"Field Pos. #\", \"Ray Pos.#\", \"DXA at surface \\\"i\\\" of last ray traced, XANG-Ray slope minus XANG-Chief ray slope (radians). The \\\"VIG\\\" setting affects this operand.\", 9.0], [\"DYA\", \"surf #, (def=img)\", \"Field Pos. #\", \"Ray Pos.#\", \"DYA at surface \\\"i\\\" of last ray traced, YANG-Ray slope minus YANG-Chief ray slope (radians). The \\\"VIG\\\" setting affects this operand.\", 10.0], [\"DR\", \"surf #\", \"Field Pos. #\", \"Ray Pos.#\", \"DR at surface \\\"i\\\" of last ray traced, Radial-Ray Coordinate minus Radial-Chief ray Coordinate. The \\\"VIG\\\" setting affects this operand.\", 12.0], [\"DRA\", \"surf #, (def=img)\", \"Field Pos. #\", \"Ray Pos.#\", \"DRA at surface \\\"i\\\" of last ray traced, Radial-Ray slope minus Radial-Chief ray slope (radians). The \\\"VIG\\\" setting affects this operand.\", 13.0], [\"XANG\", \"surf #, (def=img)\", \"Field Pos. #\", \"Ray Pos.#\", \"XZ-plane slope angle at surface \\\"i\\\" of the last ray traced (radians)\", 14.0], [\"YANG\", \"surf #, (def=img)\", \"Field Pos. #\", \"Ray Pos.#\", \"YZ-plane slope angle at surface \\\"i\\\" of the last ray traced (radians)\", 15.0], [\"OPL\", \"surf #\", \"Field Pos. #\", \"Ray Pos.#\", \"Optical path length along the specified ray from surface \\\"i-1\\\" to surface \\\"i\\\" (in lens units)\", 16.0], [\"OPD\", \"Field Pos #\", \"Ray Pos. #\", \"(not used)\", \"Optical path difference between the specified ray and the reference ray (in lens units). The \\\"VIG\\\" setting affects this operand.\", 17.0], [\"OPDW\", \"Field Pos #\", \"Ray Pos. #\", \"(not used)\", \"Optical path difference between the specified ray and the reference ray (in waves at the wavelength used to trace the reference ray). The \\\"VIG\\\" setting affects this operand.\", 18.0], [\"LOLD\", \"surf #, (def=img)\", \"Field Pos. #\", \"Ray Pos.#\", \"X-direction cosine at surface \\\"i\\\" of the specified ray (before refraction, reflection or diffraction)\", 19.0], [\"MOLD\", \"surf #, (def=img)\", \"Field Pos. #\", \"Ray Pos.#\", \"Y-direction cosine at surface \\\"i\\\" of the specified ray (before refraction, reflection or diffraction)\", 20.0], [\"NOLD\", \"surf #, (def=img)\", \"Field Pos. #\", \"Ray Pos.#\", \"Z-direction cosine at surface \\\"i\\\" of the specified ray (before refraction, reflection or diffraction)\", 21.0], [\"LEN\", \"surf #, (def=img)\", \"Field Pos. #\", \"Ray Pos.#\", \"Physical length along the specified ray from surface \\\"i-1\\\" to surface \\\"i\\\"\", 22.0], [\"AII\", \"surf #\", \"Field Pos. #\", \"Ray Pos.#\", \"Cosine of the angle of incidence of specified ray at surface \\\"i\\\"\", 23.0], [\"AIP\", \"surf #, (def=img)\", \"Field Pos. #\", \"Ray Pos.#\", \"Cosine of the angle of refraction, reflection or diffraction of specified ray at surface \\\"i\\\"\", 24.0], [\"LN\", \"surf #\", \"Field Pos. #\", \"Ray Pos.#\", \"Local surface coordinate system X-direction cosine of the surface normal at surface \\\"i\\\" where the specified ray intersects surface \\\"i\\\"\", 25.0], [\"MN\", \"surf #\", \"Field Pos. #\", \"Ray Pos.#\", \"Local surface coordinate system Y-direction cosine of the surface normal at surface \\\"i\\\" where the specified ray intersects surface \\\"i\\\"\", 26.0], [\"NN\", \"surf #\", \"Field Pos. #\", \"Ray Pos.#\", \"Local surface coordinate system Z-direction cosine of the surface normal at surface \\\"i\\\" where the specified ray intersects surface \\\"i\\\"\", 27.0], [\"PXPX\", \"surf #, (def=img)\", \"Field Pos. #\", \"(not used)\", \"Derivative, at surface \\\"i\\\", of the X-coordinate of the specified chief ray traced with respect to a change in that chief ray's X-coordinate at the current object surface.\", 28.0], [\"PXPY\", \"surf #, (def=img)\", \"Field Pos. #\", \"(not used)\", \"Derivative, at surface \\\"i\\\", of the X-coordinate of the specified chief ray traced with respect to a change in that chief ray's Y-coordinate at the current object surface.\", 29.0], [\"PYPX\", \"surf #, (def=img)\", \"Field Pos. #\", \"(not used)\", \"Derivative, at surface \\\"i\\\", of the Y-coordinate of the specified chief ray traced with respect to a change in that chief ray's X-coordinate at the current object surface.\", 30.0], [\"PYPY\", \"surf #, (def=img)\", \"Field Pos. #\", \"(not used)\", \"Derivative, at surface \\\"i\\\", of the Y-coordinate of the specified chief ray traced with respect to a change in that chief ray's Y-coordinate at the current object surface.\", 31.0], [\"PXAPX\", \"surf #, (def=img)\", \"Field Pos. #\", \"(not used)\", \"Derivative, at surface \\\"i\\\", of the XZ-plane radian measure slope angle of the specified chief ray traced with respect to a change in that chief ray's X-coordinate at the current object surface.\", 32.0], [\"PXAPY\", \"surf #, (def=img)\", \"Field Pos. #\", \"(not used)\", \"Derivative, at surface \\\"i\\\", of the XZ-plane radian measure slope angle of the specified chief ray traced with respect to a change in that chief ray's Y-coordinate at the current object surface.\", 33.0], [\"PYAPX\", \"surf #, (def=img)\", \"Field Pos. #\", \"(not used)\", \"Derivative, at surface \\\"i\\\", of the YZ-plane radian measure slope angle of the specified chief ray traced with respect to a change in that chief ray's X-coordinate at the current object surface.\", 34.0], [\"PYAPY\", \"surf #, (def=img)\", \"Field Pos. #\", \"(not used)\", \"Derivative, at surface \\\"i\\\", of the YZ-plane radian measure slope angle of the specified chief ray traced with respect to a change in that chief ray's Y-coordinate at the current object surface.\", 35.0], [\"DXDX\", \"surf #, (def=img)\", \"Field Pos. #\", \"Ray Pos.#\", \"Derivative, at surface \\\"i\\\", of the X-coordinate of the specified ray traced with respect to a change in that ray's X-coordinate at the current reference surface. The \\\"VIG\\\" setting affects this operand.\", 36.0], [\"DXDY\", \"surf #, (def=img)\", \"Field Pos. #\", \"Ray Pos.#\", \"Derivative, at surface \\\"i\\\", of the X-coordinate of the specified ray traced with respect to a change in that ray's Y-coordinate at the current reference surface. The \\\"VIG\\\" setting affects this operand.\", 37.0], [\"DYDX\", \"surf #, (def=img)\", \"Field Pos. #\", \"Ray Pos.#\", \"Derivative, at surface \\\"i\\\", of the Y-coordinate of the specified ray traced with respect to a change in that ray's X-coordinate at the current reference surface. The \\\"VIG\\\" setting affects this operand.\", 38.0], [\"DYDY\", \"surf #, (def=img)\", \"Field Pos. #\", \"Ray Pos.#\", \"Derivative, at surface \\\"i\\\", of the Y-coordinate of the specified ray traced with respect to a change in that ray's Y-coordinate at the current reference surface. The \\\"VIG\\\" setting affects this operand.\", 39.0], [\"DXADX\", \"surf #, (def=img)\", \"Field Pos. #\", \"Ray Pos.#\", \"Derivative, at surface \\\"i\\\", of the XZ-plane radian measure slope angle of the specified  ray traced with respect to a change in that chief ray's X-coordinate at the current reference surface. The \\\"VIG\\\" setting affects this operand.\", 40.0], [\"DXADY\", \"surf #, (def=img)\", \"Field Pos. #\", \"Ray Pos.#\", \"Derivative, at surface \\\"i\\\", of the XZ-plane radian measure slope angle of the specified ray traced with respect to a change in that chief ray's Y-coordinate at the current reference surface. The \\\"VIG\\\" setting affects this operand.\", 41.0], [\"DYADX\", \"surf #, (def=img)\", \"Field Pos. #\", \"Ray Pos.#\", \"Derivative, at surface \\\"i\\\", of the YZ-plane radian measure slope angle of the specified ray traced with respect to a change in that chief ray's X-coordinate at the current  reference surface. The \\\"VIG\\\" setting affects this operand.\", 42.0], [\"DYADY\", \"surf #, (def=img)\", \"Field Pos. #\", \"Ray Pos.#\", \"Derivative, at surface \\\"i\\\", of the YZ-plane slope angle of the specified ray traced with respect to a change in that ray's  Y-coordinate at the current  reference surface. The \\\"VIG\\\" setting affects this operand.\", 43.0], [\"DRDR\", \"surf #, (def=img)\", \"Field Pos. #\", \"Ray Pos.#\", \"Derivative, at surface \\\"i\\\", of the radial-coordinate of the specified ray traced with respect to a change in that ray's radial-coordinate at the current reference surface. The \\\"VIG\\\" setting affects this operand.\", 44.0], [\"DRADR\", \"surf #, (def=img)\", \"Field Pos. #\", \"Ray Pos.#\", \"Derivative, at surface \\\"i\\\", of the radial-coordinate (angular) of the specified ray traced with respect to a change in that ray's radial-coordinate at the current reference surface. The \\\"VIG\\\" setting affects this operand.\", 45.0], [\"XREF\", \"surf #, (def=img)\", \"Field Pos. #\", \"(not used)\", \"X-coordinate of the specified reference ray at surface \\\"i\\\"\", 46.0], [\"YREF\", \"surf #, (def=img)\", \"Field Pos. #\", \"(not used)\", \"Y-coordinate of the specified reference ray at surface \\\"i\\\"\", 47.0], [\"ZREF\", \"surf #, (def=img)\", \"Field Pos. #\", \"(not used)\", \"Z-coordinate of the specified reference ray at surface \\\"i\\\"\", 48.0], [\"LREF\", \"surf #, (def=img)\", \"Field Pos. #\", \"(not used)\", \"X-direction cosine of the specified reference ray at surface \\\"i\\\" after refraction, reflection or diffraction\", 49.0], [\"MREF\", \"surf #, (def=img)\", \"Field Pos. #\", \"(not used)\", \"Y-direction cosine of the specified reference ray at surface \\\"i\\\" after refraction, reflection or diffraction\", 50.0], [\"NREF\", \"surf #, (def=img)\", \"Field Pos. #\", \"(not used)\", \"Z-direction cosine of the specified reference ray at surface \\\"i\\\" after refraction, reflection or diffraction\", 51.0], [\"LREFOL\", \"surf #, (def=img)\", \"Field Pos. #\", \"(not used)\", \"X-direction cosine of the specified reference ray at surface \\\"i\\\" before refraction, reflection or diffraction\", 52.0], [\"MREFOL\", \"surf #, (def=img)\", \"Field Pos. #\", \"(not used)\", \"Y-direction cosine of the specified reference ray at surface \\\"i\\\" before refraction, reflection or diffraction\", 53.0], [\"NREFOL\", \"surf #, (def=img)\", \"Field Pos. #\", \"(not used)\", \"Z-direction cosine of the specified reference ray at surface \\\"i\\\" before refraction, reflection or diffraction\", 54.0], [\"LENREF\", \"surf #\", \"Field Pos. #\", \"(not used)\", \"Physical length along the specified reference ray from surface \\\"i-1\\\" to surface \\\"i\\\"\", 55.0], [\"OPLREF\", \"surf #\", \"Field Pos. #\", \"(not used)\", \"Optical path length along the specified reference ray from surface \\\"i-1\\\" to surface \\\"i\\\"\", 56.0], [\"IREF\", \"surf #\", \"Field Pos. #\", \"(not used)\", \"Cosine of the angle of incidence of the\", 57.0], [\"IPREF\", \"surf #, (def=img)\", \"Field Pos. #\", \"(not used)\", \"Cosine of the angle of refraction,  reflection or diffraction of the specified reference ray at surface \\\"i\\\"\", 59.0], [\"XAREF\", \"surf #, (def=img)\", \"Field Pos. #\", \"Ray Pos.#\", \"XZ-plane slope angle of the specified reference ray at surface \\\"i\\\", measured in radians\", 60.0], [\"YAREF\", \"surf #, (def=img)\", \"Field Pos. #\", \"(not used)\", \"YZ-plane slope angle of the specified reference ray at surface \\\"i\\\", measured in radians\", 61.0], [\"LNREF\", \"surf #\", \"Field Pos. #\", \"(not used)\", \"X-direction cosine of the surface normal at surface \\\"i\\\" where the specified reference ray intersects surface \\\"i\\\"\", 62.0], [\"MNREF\", \"surf #\", \"Field Pos. #\", \"(not used)\", \"Y-direction cosine of the surface normal at surface \\\"i\\\" where the specified reference ray intersects surface \\\"i\\\"\", 63.0], [\"NNREF\", \"surf #\", \"Field Pos. #\", \"(not used)\", \"Z-direction cosine of the surface normal at surface \\\"i\\\" where the specified reference ray intersects surface \\\"i\\\"\", 64.0], [\"GLX\", \"surf #\", \"Field Pos. #\", \"Ray Pos.#\", \"Global X-coordinate of the specified ray at surface \\\"i\\\"\", 65.0], [\"GLY\", \"surf #\", \"Field Pos. #\", \"Ray Pos.#\", \"Global Y-coordinate of the specified ray at surface \\\"i\\\"\", 66.0], [\"GLZ\", \"surf #\", \"Field Pos. #\", \"Ray Pos.#\", \"Global Z-coordinate of the specified ray at surface \\\"i\\\"\", 67.0], [\"GLL\", \"surf #\", \"Field Pos. #\", \"Ray Pos.#\", \"Global X-direction cosine of the specified ray traced at surface \\\"i\\\" after refraction, reflection or diffraction\", 68.0], [\"GLM\", \"surf #\", \"Field Pos. #\", \"Ray Pos.#\", \"Global Y-direction cosine of the specified ray traced at surface \\\"i\\\" after  refraction, reflection or diffraction\", 69.0], [\"GLN\", \"surf #\", \"Field Pos. #\", \"Ray Pos.#\", \"Global Z-direction cosine of the specified ray traced at surface \\\"i\\\" after refraction, reflection or diffraction\", 70.0], [\"GLLOLD\", \"surf #\", \"Field Pos. #\", \"Ray Pos.#\", \"Global X-direction cosine of the specified ray traced at surface \\\"i\\\" before refraction, reflection or diffraction\", 71.0], [\"GLMOLD\", \"surf #\", \"Field Pos. #\", \"Ray Pos.#\", \"Global Y-direction cosine of the specified ray traced at surface \\\"i\\\" before refraction, reflection or diffraction\", 72.0], [\"GLNOLD\", \"surf #\", \"Field Pos. #\", \"Ray Pos.#\", \"Global Z-direction cosine of the specified ray traced at surface \\\"i\\\" before refraction, reflection or diffraction\", 73.0], [\"SYMX\", \"fractional ray height\", \"Field Pos. #\", \"Wavelength.#\", \"For two rays traced in the XZ-plane of the current reference surface at fractional ray heights + and - \\\"i\\\", at field position \\\"j\\\" and at wavelength number \\\"k\\\", SYMX is  the difference between the DX values of the two rays divided by 2.0 (modes FOCAL and UFOCAL) and is the difference between the DXA values of the two rays divided by 2.0 (modes AFOCAL ans UAFOCAL). The \\\"VIG\\\" setting affects this operand.\", 74.0], [\"SYMY\", \"fractional ray height\", \"Field Pos. #\", \"Wavelength.#\", \"The same as SYMX but using DY or DYA values of rays traced in the YZ-plane of the current reference surface at field position \\\"j\\\" and at wavelength number \\\"k\\\". The \\\"VIG\\\" setting affects this operand.\", 75.0], [\"ASYMX\", \"fractional ray height\", \"Field Pos. #\", \"Wavelength.#\", \"For two rays traced in the XZ-plane of the current reference surface at fractional ray heights + and - \\\"i\\\", at field position \\\"j\\\" and at wavelength number \\\"k\\\", ASYMX is  the sum of the DX values of the two rays divided by 2.0 (modes FOCAL and UFOCAL) and is the sum of the DXA values of the two rays divided by 2.0 (modes AFOCAL ans UAFOCAL). The \\\"VIG\\\" setting affects this operand.\", 76.0], [\"ASYMY\", \"fractional ray height\", \"Field Pos. #\", \"Wavelength.#\", \"The same as ASYMX but using DY or DYA values of rays traced in the YZ-plane of the current reference surface at field position \\\"j\\\" and at wavelength number \\\"k\\\". The \\\"VIG\\\" setting affects this operand.\", 77.0], [\"PACM\", \"(not used)\", \"(not used) \", \"(not used)\", \"Primary Axail Color Marginal.\", 78.0], [\"PACZ\", \"(not used)\", \"(not used) \", \"(not used)\", \"Primary Axail Color Zonal.\", 79.0], [\"SACM\", \"(not used)\", \"(not used) \", \"(not used)\", \"Secondary Axail Color Marginal.\", 80.0], [\"SACZ\", \"(not used)\", \"(not used) \", \"(not used)\", \"Secondary Axail Color Zonal.\", 81.0], [\"PLCM\", \"(not used)\", \"(not used) \", \"(not used)\", \"Primary Lateral Color Marginal.\", 82.0], [\"PLCZ\", \"(not used)\", \"(not used) \", \"(not used)\", \"Primary Lateral Color Zonal.\", 83.0], [\"SLCM\", \"(not used)\", \"(not used) \", \"(not used)\", \"Secondary Lateral Color Marginal.\", 84.0], [\"SLCZ\", \"(not used)\", \"(not used) \", \"(not used)\", \"Secondary Lateral Color Zonal.\", 85.0], [\"DMINUSD\", \"(not used)\", \"(not used)\", \"(not used)\", \"Conrady S(D-d)Dn achromatization operand, where D are the optical path lengths along the +0.7, YZ-plane marginal ray traced from an on-axis image point at the control wavelength, d are axial separations and Dn are the refractive index variations for the primary chromatic pair of wavelegths. The summation is over all surfaces.\", 86.0]];\n",
       "\n",
       "    if (typeof require === 'undefined') {\n",
       "        // TODO: This should become the default (use a simple import)\n",
       "        // when the ESM version works independently of whether\n",
       "        // require.js is there or not, see\n",
       "        // https://datatables.net/forums/discussion/69066/esm-es6-module-support?\n",
       "        const {default: $} = await import(\"https://esm.sh/jquery@3.5.0\");\n",
       "        const {default: initDataTables} = await import(\"https://esm.sh/datatables.net@1.11.3?deps=jquery@3.5.0\");\n",
       "\n",
       "        initDataTables();\n",
       "\n",
       "        // Define the dt_args\n",
       "        let dt_args = {\"columnDefs\": [{\"className\": \"dt-left\", \"targets\": \"_all\"}, {\"width\": \"500px\", \"targets\": 4}], \"lengthMenu\": [50, 100, 200, 500]};\n",
       "        dt_args[\"data\"] = data;\n",
       "\n",
       "        // Display the table\n",
       "        $(document).ready(function () {\n",
       "            $('#75c59c2c-f8e5-481c-b322-d61a26acac28').DataTable(dt_args);\n",
       "        });\n",
       "    } else {\n",
       "        require([\"jquery\", \"datatables\"], ($, datatables) => {\n",
       "                // Define the dt_args\n",
       "                let dt_args = {\"columnDefs\": [{\"className\": \"dt-left\", \"targets\": \"_all\"}, {\"width\": \"500px\", \"targets\": 4}], \"lengthMenu\": [50, 100, 200, 500]};\n",
       "                dt_args[\"data\"] = data;\n",
       "\n",
       "                // Display the table\n",
       "                $(document).ready(function () {\n",
       "                    $('#75c59c2c-f8e5-481c-b322-d61a26acac28').DataTable(dt_args);\n",
       "                });\n",
       "            }\n",
       "        )\n",
       "    }\n",
       "</script>\n"
      ],
      "text/plain": [
       "                           \"i\"            \"j\"         \"k\"  \\\n",
       "OPERAND NAME                                                \n",
       "X             surf #, (def=img)  Field Pos. #   Ray Pos.#   \n",
       "Y             surf #, (def=img)  Field Pos. #   Ray Pos.#   \n",
       "Z             surf #, (def=img)  Field Pos. #   Ray Pos.#   \n",
       "DCL or K      surf #, (def=img)  Field Pos. #   Ray Pos.#   \n",
       "DCM or L      surf #, (def=img)  Field Pos. #   Ray Pos.#   \n",
       "...                         ...           ...         ...   \n",
       "PLCM                 (not used)   (not used)   (not used)   \n",
       "PLCZ                 (not used)   (not used)   (not used)   \n",
       "SLCM                 (not used)   (not used)   (not used)   \n",
       "SLCZ                 (not used)   (not used)   (not used)   \n",
       "DMINUSD              (not used)    (not used)  (not used)   \n",
       "\n",
       "                                                    DESCRIPTION  Order  \n",
       "OPERAND NAME                                                            \n",
       "X             X-local coordinate at surface \"i\" at field pos...    1.0  \n",
       "Y             Y-local coordinate at surface \"i\" at field pos...    2.0  \n",
       "Z             Z-local coordinate at surface \"i\" at field pos...    3.0  \n",
       "DCL or K      L-direction cosine at surface \"i\" at field pos...    4.0  \n",
       "DCM or L      Z-direction cosine at surface \"i\" at field pos...    5.0  \n",
       "...                                                         ...    ...  \n",
       "PLCM                            Primary Lateral Color Marginal.   82.0  \n",
       "PLCZ                               Primary Lateral Color Zonal.   83.0  \n",
       "SLCM                          Secondary Lateral Color Marginal.   84.0  \n",
       "SLCZ                             Secondary Lateral Color Zonal.   85.0  \n",
       "DMINUSD       Conrady S(D-d)Dn achromatization operand, wher...   86.0  \n",
       "\n",
       "[84 rows x 5 columns]"
      ]
     },
     "execution_count": 4,
     "metadata": {},
     "output_type": "execute_result"
    }
   ],
   "source": [
    "\n",
    "df_RSR\n"
   ]
  },
  {
   "cell_type": "code",
   "execution_count": null,
   "id": "0e93e49c",
   "metadata": {},
   "outputs": [],
   "source": []
  },
  {
   "cell_type": "code",
   "execution_count": null,
   "id": "a6381f44",
   "metadata": {},
   "outputs": [],
   "source": []
  },
  {
   "cell_type": "code",
   "execution_count": null,
   "id": "7df3686a",
   "metadata": {},
   "outputs": [],
   "source": []
  }
 ],
 "metadata": {
  "celltoolbar": "Tags",
  "kernelspec": {
   "display_name": "Python 3 (ipykernel)",
   "language": "python",
   "name": "python3"
  },
  "language_info": {
   "codemirror_mode": {
    "name": "ipython",
    "version": 3
   },
   "file_extension": ".py",
   "mimetype": "text/x-python",
   "name": "python",
   "nbconvert_exporter": "python",
   "pygments_lexer": "ipython3",
   "version": "3.8.11"
  }
 },
 "nbformat": 4,
 "nbformat_minor": 5
}
