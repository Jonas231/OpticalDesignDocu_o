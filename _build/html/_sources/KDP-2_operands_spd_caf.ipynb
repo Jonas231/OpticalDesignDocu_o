{
 "cells": [
  {
   "cell_type": "markdown",
   "id": "4ea0475c",
   "metadata": {},
   "source": [
    "# Spot diagram \n",
    "\n",
    "These are the operands related to spot diagrams"
   ]
  },
  {
   "cell_type": "code",
   "execution_count": 1,
   "id": "defae62c",
   "metadata": {
    "tags": [
     "remove_input"
    ]
   },
   "outputs": [
    {
     "data": {
      "application/javascript": [
       "if (typeof require !== 'undefined')\n",
       "    require.config({\n",
       "        paths: {\n",
       "            jquery: 'https://code.jquery.com/jquery-3.5.1.min',\n",
       "            datatables: 'https://cdn.datatables.net/1.11.3/js/jquery.dataTables.min',\n",
       "        }\n",
       "    });\n"
      ],
      "text/plain": [
       "<IPython.core.display.Javascript object>"
      ]
     },
     "metadata": {},
     "output_type": "display_data"
    }
   ],
   "source": [
    "import pandas as pd\n",
    "import itables\n",
    "from itables import init_notebook_mode, show\n",
    "import itables.options as opt\n",
    "\n",
    "init_notebook_mode(all_interactive=True)\n",
    "\n",
    "opt.lengthMenu = [50, 100, 200, 500]\n",
    "#opt.classes = [\"display\", \"cell-border\"]\n",
    "#opt.classes = [\"display\", \"nowrap\"]\n",
    "\n",
    "opt.columnDefs = [{\"className\": \"dt-left\", \"targets\": \"_all\"}, {\"width\": \"500px\", \"targets\": 4}]\n",
    "#opt.maxBytes = 0\n",
    "#pd.get_option('display.max_columns')\n",
    "#pd.get_option('display.max_rows')\n",
    "\n",
    "\n"
   ]
  },
  {
   "cell_type": "code",
   "execution_count": 2,
   "id": "e06a3e1a",
   "metadata": {
    "tags": [
     "remove_input"
    ]
   },
   "outputs": [],
   "source": [
    "import os\n",
    "cwd = os.getcwd()\n",
    "filename = os.path.join(cwd, os.path.join('Excel', 'KDP-2_optimization_operands.xlsx'))\n",
    "\n",
    "df_spdcaf = pd.read_excel(filename, sheet_name = \"spd caf\", header = 1, index_col = 0)\n",
    "df_spdcaf = df_spdcaf.dropna()   # drop nan values\n",
    "\n"
   ]
  },
  {
   "cell_type": "raw",
   "id": "8264d7ca",
   "metadata": {},
   "source": []
  },
  {
   "cell_type": "code",
   "execution_count": 3,
   "id": "0a352a50",
   "metadata": {
    "tags": [
     "remove_input"
    ]
   },
   "outputs": [
    {
     "data": {
      "text/html": [
       "<table id=\"ac7f6df5-9168-4d13-91b7-9d6de5ddc367\" class=\"display\"style=\"max-width:100%\"><thead><th></th><th>\"i\" </th><th>\"j\"</th><th>\"k\"</th><th>DESCRIPTION</th><th>Order</th></thead><tbody><tr><td>Loading... (need <a href=https://mwouts.github.io/itables/troubleshooting.html>help</a>?)</td></tr></tbody></table>\n",
       "<link rel=\"stylesheet\" type=\"text/css\" href=\"https://cdn.datatables.net/1.11.3/css/jquery.dataTables.min.css\">\n",
       "<style> table td {\n",
       "    text-overflow: ellipsis;\n",
       "    overflow: hidden;\n",
       "} </style>\n",
       "<style> table th {\n",
       "    text-overflow: ellipsis;\n",
       "    overflow: hidden;\n",
       "} </style>\n",
       "<script type=\"module\">\n",
       "    // Define the table data\n",
       "    const data = [[\"CENTX\", \"Field Pos. #\", \"Wavelength #\", \"(not used)\", \"X- centroid location in the current image surface of the spot diagram centroid. If numeric word \\\"j\\\" is not explicitly entered, all wavelengths and spectral weights are used.\", 1.0], [\"CENTY\", \"Field Pos. #\", \"Wavelength #\", \"(not used)\", \"Y- centroid location in the current image surface of the spot diagram centroid. If numeric word \\\"j\\\" is not explicitly entered, all wavelengths and spectral weights are used.\", 2.0], [\"RMS\", \"Field Pos. #\", \"Wavelength #\", \"(not used)\", \"RMS spot diameter for the spot diagram, at the specified field position, centered about the spot centroid location. If numeric word \\\"j\\\" is not explicitly entered, all wavelengths and spectral weights are used.\", 3.0], [\"RMSX\", \"Field Pos. #\", \"Wavelength #\", \"(not used)\", \"X-dimension of the RMS spot size for the spot diagram, at the specified field position,. centered about the spot centroid location. If numeric word \\\"j\\\" is not explicitly entered, all wavelengths and spectral weights are used.\", 4.0], [\"RMSY\", \"Field Pos. #\", \"Wavelength #\", \"(not used)\", \"Y-dimension of the RMS spot size for the spot diagram centered about the spot centroid location. If numeric word \\\"j\\\" is not explicitly entered, all wavelengths and spectral weights are used.\", 5.0], [\"RSS\", \"Field Pos. #\", \"Wavelength #\", \"(not used)\", \"RSS spot diameter for the spot diagram, at the specified field position, centered about the chief ray location. If numeric word \\\"j\\\" is not explicitly entered, all wavelengths and spectral weights are used.\", 6.0], [\"RSSX\", \"Field Pos. #\", \"Wavelength #\", \"(not used)\", \"X-dimension of the RSS spot size for the spot diagram ,at the specified field position, centered about the chief ray location. If numeric word \\\"j\\\" is not explicitly entered, all wavelengths and spectral weights are used.\", 7.0], [\"RSSY\", \"Field Pos. #\", \"Wavelength #\", \"(not used)\", \"Y-dimension of the RSS spot size for the spot ,at the specified field position, diagram centered about the cheif ray location. If numeric word \\\"j\\\" is not explicitly entered, all wavelengths and spectral weights are used.\", 8.0], [\"RMSYX\", \"Field Pos. #\", \"Wavelength #\", \"(not used)\", \"Ratio of the Y-dimension of the RMS spot size to the X-dimension spot size for the spot ,at the specified field position, diagram centered about the cheif ray location. If numeric word \\\"j\\\" is not explicitly entered, all wavelengths and spectral weights are used.\", 9.0], [\"RMSOPD \", \"Field Pos. #\", \"Wavelength #\", \"(not used)\", \"RMSOPD, in waves at the control wavelength, of the CAPFN at the specified field position. If numeric word \\\"j\\\" is not explicitly entered, all wavelengths and spectral weights are used.\", 10.0], [\"ZERN37\", \"Field Pos. #\", \"Zern Coef #\", \"Wavelength #\", \"If a CAPFN for the specified field position does not exist, it is created using the default CAPFN ray grid. The wavefront, at wavelength \\\"k\\\",is fitted to a 37-term Fringe-Zernike Polynomial. The coefficient number \\\"j\\\" becomes the operand.\", 11.0], [\"GREYS\", \"Field Pos. # \", \"OPD weight\", \"Wavelength #\", \"See the section above which describes Grey's optimization method. This operand uses the spot diagram ray pattern currently in effect. Ray are traced from the specified Field Pos # and Wavelength #. The \\\"VIG\\\" setting affects this operand.\", 12.0], [\"MGOTF or GOTFM\", \"Field Pos. #\", \"spatial frequency\", \"Orientation, 0=vert bars, 90=horiz bars\", \"Value of the modulus of the geometrical polychromatic optical transfer function at field position \\\"i\\\" and spatial frequency \\\"j\\\".\", 13.0], [\"PGOTF or GOTFP\", \"Field Pos. #\", \"spatial frequency\", \"Orientation, 0=vert bars, 90=horiz bars\", \"Value of the phase of the geometrical polychromatic optical transfer function at field position \\\"i\\\" and spatial frequency \\\"j\\\".\", 14.0], [\"MDOTF or DOTFM\", \"Field Pos. #\", \"spatial frequency\", \"Orientation, 0=vert bars, 90=horiz bars\", \"Value of the modulus of the diffraction polychromatic optical transfer function at field position \\\"i\\\" and spatial frequency \\\"j\\\".\", 15.0], [\"PDOTF or DOTFP\", \"Field Pos. #\", \"spatial frequency\", \"Orientation, 0=vert bars, 90=horiz bars\", \"Value of the phase of the diffraction polychromatic optical transfer function at field position \\\"i\\\" and spatial frequency \\\"j\\\".\", 16.0], [\"RED\", \"Field Pos #\", \"% energy\", \"(not used)\", \"Diameter of the circle, in the appropriate units depending upon lens mode, which encircles \\\"j\\\" percent of the energy in a spot for field position \\\"i\\\". This is based upon the geometrical spot diagram and ignores diffraction. It is centered at the chief ray of field position \\\"i\\\".\", 17.0], [\"REDCEN\", \"Field Pos #\", \"% energy\", \"(not used)\", \"Diameter of the circle, in the appropriate units depending upon lens mode, which encircles \\\"j\\\" percent of the energy in a spot for field position \\\"i\\\". This is based upon the geometrical spot diagram and ignores diffraction. It is centered at the location of the spot centroid.\", 18.0]];\n",
       "\n",
       "    if (typeof require === 'undefined') {\n",
       "        // TODO: This should become the default (use a simple import)\n",
       "        // when the ESM version works independently of whether\n",
       "        // require.js is there or not, see\n",
       "        // https://datatables.net/forums/discussion/69066/esm-es6-module-support?\n",
       "        const {default: $} = await import(\"https://esm.sh/jquery@3.5.0\");\n",
       "        const {default: initDataTables} = await import(\"https://esm.sh/datatables.net@1.11.3?deps=jquery@3.5.0\");\n",
       "\n",
       "        initDataTables();\n",
       "\n",
       "        // Define the dt_args\n",
       "        let dt_args = {\"columnDefs\": [{\"className\": \"dt-left\", \"targets\": \"_all\"}, {\"width\": \"500px\", \"targets\": 4}], \"lengthMenu\": [50, 100, 200, 500], \"paging\": false};\n",
       "        dt_args[\"data\"] = data;\n",
       "\n",
       "        // Display the table\n",
       "        $(document).ready(function () {\n",
       "            $('#ac7f6df5-9168-4d13-91b7-9d6de5ddc367').DataTable(dt_args);\n",
       "        });\n",
       "    } else {\n",
       "        require([\"jquery\", \"datatables\"], ($, datatables) => {\n",
       "                // Define the dt_args\n",
       "                let dt_args = {\"columnDefs\": [{\"className\": \"dt-left\", \"targets\": \"_all\"}, {\"width\": \"500px\", \"targets\": 4}], \"lengthMenu\": [50, 100, 200, 500], \"paging\": false};\n",
       "                dt_args[\"data\"] = data;\n",
       "\n",
       "                // Display the table\n",
       "                $(document).ready(function () {\n",
       "                    $('#ac7f6df5-9168-4d13-91b7-9d6de5ddc367').DataTable(dt_args);\n",
       "                });\n",
       "            }\n",
       "        )\n",
       "    }\n",
       "</script>\n"
      ],
      "text/plain": [
       "                         \"i\"                 \"j\"  \\\n",
       "OPERAND NAME                                       \n",
       "CENTX            Field Pos. #       Wavelength #   \n",
       "CENTY            Field Pos. #       Wavelength #   \n",
       "RMS              Field Pos. #       Wavelength #   \n",
       "RMSX             Field Pos. #       Wavelength #   \n",
       "RMSY             Field Pos. #       Wavelength #   \n",
       "RSS              Field Pos. #       Wavelength #   \n",
       "RSSX             Field Pos. #       Wavelength #   \n",
       "RSSY             Field Pos. #       Wavelength #   \n",
       "RMSYX            Field Pos. #       Wavelength #   \n",
       "RMSOPD           Field Pos. #       Wavelength #   \n",
       "ZERN37           Field Pos. #        Zern Coef #   \n",
       "GREYS           Field Pos. #          OPD weight   \n",
       "MGOTF or GOTFM   Field Pos. #  spatial frequency   \n",
       "PGOTF or GOTFP   Field Pos. #  spatial frequency   \n",
       "MDOTF or DOTFM   Field Pos. #  spatial frequency   \n",
       "PDOTF or DOTFP   Field Pos. #  spatial frequency   \n",
       "RED               Field Pos #           % energy   \n",
       "REDCEN            Field Pos #           % energy   \n",
       "\n",
       "                                                    \"k\"  \\\n",
       "OPERAND NAME                                              \n",
       "CENTX                                        (not used)   \n",
       "CENTY                                        (not used)   \n",
       "RMS                                          (not used)   \n",
       "RMSX                                         (not used)   \n",
       "RMSY                                         (not used)   \n",
       "RSS                                          (not used)   \n",
       "RSSX                                         (not used)   \n",
       "RSSY                                         (not used)   \n",
       "RMSYX                                        (not used)   \n",
       "RMSOPD                                       (not used)   \n",
       "ZERN37                                     Wavelength #   \n",
       "GREYS                                      Wavelength #   \n",
       "MGOTF or GOTFM  Orientation, 0=vert bars, 90=horiz bars   \n",
       "PGOTF or GOTFP  Orientation, 0=vert bars, 90=horiz bars   \n",
       "MDOTF or DOTFM  Orientation, 0=vert bars, 90=horiz bars   \n",
       "PDOTF or DOTFP  Orientation, 0=vert bars, 90=horiz bars   \n",
       "RED                                          (not used)   \n",
       "REDCEN                                       (not used)   \n",
       "\n",
       "                                                      DESCRIPTION  Order  \n",
       "OPERAND NAME                                                              \n",
       "CENTX           X- centroid location in the current image surf...    1.0  \n",
       "CENTY           Y- centroid location in the current image surf...    2.0  \n",
       "RMS             RMS spot diameter for the spot diagram, at the...    3.0  \n",
       "RMSX            X-dimension of the RMS spot size for the spot ...    4.0  \n",
       "RMSY            Y-dimension of the RMS spot size for the spot ...    5.0  \n",
       "RSS             RSS spot diameter for the spot diagram, at the...    6.0  \n",
       "RSSX            X-dimension of the RSS spot size for the spot ...    7.0  \n",
       "RSSY            Y-dimension of the RSS spot size for the spot ...    8.0  \n",
       "RMSYX           Ratio of the Y-dimension of the RMS spot size ...    9.0  \n",
       "RMSOPD          RMSOPD, in waves at the control wavelength, of...   10.0  \n",
       "ZERN37          If a CAPFN for the specified field position do...   11.0  \n",
       "GREYS           See the section above which describes Grey's o...   12.0  \n",
       "MGOTF or GOTFM  Value of the modulus of the geometrical polych...   13.0  \n",
       "PGOTF or GOTFP  Value of the phase of the geometrical polychro...   14.0  \n",
       "MDOTF or DOTFM  Value of the modulus of the diffraction polych...   15.0  \n",
       "PDOTF or DOTFP  Value of the phase of the diffraction polychro...   16.0  \n",
       "RED             Diameter of the circle, in the appropriate uni...   17.0  \n",
       "REDCEN          Diameter of the circle, in the appropriate uni...   18.0  "
      ]
     },
     "execution_count": 3,
     "metadata": {},
     "output_type": "execute_result"
    }
   ],
   "source": [
    "\n",
    "df_spdcaf \n"
   ]
  },
  {
   "cell_type": "code",
   "execution_count": null,
   "id": "0e93e49c",
   "metadata": {},
   "outputs": [],
   "source": []
  },
  {
   "cell_type": "code",
   "execution_count": null,
   "id": "a6381f44",
   "metadata": {},
   "outputs": [],
   "source": []
  },
  {
   "cell_type": "code",
   "execution_count": null,
   "id": "7df3686a",
   "metadata": {},
   "outputs": [],
   "source": []
  }
 ],
 "metadata": {
  "celltoolbar": "Tags",
  "kernelspec": {
   "display_name": "Python 3 (ipykernel)",
   "language": "python",
   "name": "python3"
  },
  "language_info": {
   "codemirror_mode": {
    "name": "ipython",
    "version": 3
   },
   "file_extension": ".py",
   "mimetype": "text/x-python",
   "name": "python",
   "nbconvert_exporter": "python",
   "pygments_lexer": "ipython3",
   "version": "3.8.11"
  }
 },
 "nbformat": 4,
 "nbformat_minor": 5
}
