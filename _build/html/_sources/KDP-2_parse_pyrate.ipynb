{
 "cells": [
  {
   "cell_type": "code",
   "execution_count": 36,
   "id": "51fa511a",
   "metadata": {},
   "outputs": [],
   "source": [
    "import KDP_parser\n",
    "import os\n",
    "cwd = os.getcwd()\n",
    "filename = os.path.join(cwd,os.path.join(\"KDP-2_examples\",\"Cassegrain.DAT\"))\n",
    "#filename = \"Newtonian.DAT\"\n",
    "r, L = KDP_parser.search_string_in_file(filename, \"#\", \"PIKUP\")\n"
   ]
  },
  {
   "cell_type": "code",
   "execution_count": 37,
   "id": "a85a63cf",
   "metadata": {},
   "outputs": [
    {
     "name": "stdout",
     "output_type": "stream",
     "text": [
      "cc:  ['-1.00000000000000' '-4.51562499815415']\n",
      "L_th:  [['20' 'TH      ,  0.100000000000000E+21']\n",
      " ['26' 'TH      ,   0.00000000000000']\n",
      " ['32' 'TH      ,   108.000000000000']\n",
      " ['39' 'TH      ,  -102.000000000000']\n",
      " ['50' 'TH      ,   16.6666666666667']\n",
      " ['57' 'TH      ,   0.00000000000000']\n",
      " ['63' 'TH      ,   0.00000000000000']]\n",
      "th: ['TH' ',' '0.100000000000000E+21']\n",
      "th: ['TH' ',' '0.00000000000000']\n",
      "th: ['TH' ',' '108.000000000000']\n",
      "th: ['TH' ',' '-102.000000000000']\n",
      "th: ['TH' ',' '16.6666666666667']\n",
      "th: ['TH' ',' '0.00000000000000']\n",
      "th: ['TH' ',' '0.00000000000000']\n",
      "clap_L:  [array(['CLAP', ',', '18.0000000000000', ',', '0.00000000000000', ',',\n",
      "       '0.00000000000000', ',', '18.0000000000000', ',',\n",
      "       '0.00000000000000'], dtype='<U16')]\n",
      "clap_L:  [array('REFL', dtype='<U4'), array('REFL', dtype='<U4')]\n",
      "clap_L:  [array('AIR', dtype='<U3'), array('AIR', dtype='<U3'), array('AIR', dtype='<U3'), array('AIR', dtype='<U3'), array('AIR', dtype='<U3')]\n"
     ]
    }
   ],
   "source": [
    "coating, cv, cc, th, clap, thm, astop, tilt, refl, mat, refs, aimray, mode, fldrays, frays, frays2,flds = KDP_parser.return_optical_data(filename,r, L)"
   ]
  },
  {
   "cell_type": "code",
   "execution_count": null,
   "id": "232ed9e7",
   "metadata": {},
   "outputs": [],
   "source": [
    "\n"
   ]
  },
  {
   "cell_type": "code",
   "execution_count": null,
   "id": "606099e4",
   "metadata": {},
   "outputs": [],
   "source": []
  },
  {
   "cell_type": "code",
   "execution_count": null,
   "id": "066da97f",
   "metadata": {},
   "outputs": [],
   "source": []
  }
 ],
 "metadata": {
  "kernelspec": {
   "display_name": "Python 3 (ipykernel)",
   "language": "python",
   "name": "python3"
  },
  "language_info": {
   "codemirror_mode": {
    "name": "ipython",
    "version": 3
   },
   "file_extension": ".py",
   "mimetype": "text/x-python",
   "name": "python",
   "nbconvert_exporter": "python",
   "pygments_lexer": "ipython3",
   "version": "3.8.11"
  }
 },
 "nbformat": 4,
 "nbformat_minor": 5
}
