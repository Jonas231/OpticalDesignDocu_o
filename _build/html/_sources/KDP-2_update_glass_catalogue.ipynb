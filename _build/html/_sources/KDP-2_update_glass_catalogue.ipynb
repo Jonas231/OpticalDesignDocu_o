{
 "cells": [
  {
   "cell_type": "markdown",
   "id": "6a6576eb",
   "metadata": {},
   "source": [
    "# Updating the KDP-2 glass catalogs\n",
    "This section describes how the glass catalogs of KDP-2 can be updated (following a description in the KDP-2 manual). Updated glass materials are necessary for the conversion of optical models from and to other optical design programs."
   ]
  },
  {
   "cell_type": "code",
   "execution_count": null,
   "id": "12f19300",
   "metadata": {},
   "outputs": [],
   "source": []
  }
 ],
 "metadata": {
  "kernelspec": {
   "display_name": "Python 3 (ipykernel)",
   "language": "python",
   "name": "python3"
  },
  "language_info": {
   "codemirror_mode": {
    "name": "ipython",
    "version": 3
   },
   "file_extension": ".py",
   "mimetype": "text/x-python",
   "name": "python",
   "nbconvert_exporter": "python",
   "pygments_lexer": "ipython3",
   "version": "3.8.11"
  }
 },
 "nbformat": 4,
 "nbformat_minor": 5
}
