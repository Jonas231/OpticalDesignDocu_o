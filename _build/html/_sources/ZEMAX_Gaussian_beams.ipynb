{
 "cells": [
  {
   "cell_type": "markdown",
   "id": "898c609a",
   "metadata": {},
   "source": [
    "## Gaussian beam raytracing in ZEMAX"
   ]
  },
  {
   "cell_type": "markdown",
   "id": "b5707493",
   "metadata": {},
   "source": [
    "### Built-in methods\n",
    "\n",
    "As described in the tutorial [Modeling Laser Beam Propagation in OpticStudio](https://www.zemax.com/blogs/free-tutorials/modeling-laser-beam-propagation-in-opticstudio) there are 3 built-in methods \"in OpticStudio sequential mode to model Gaussian beam propagation. They are:\n",
    "\n",
    "- The ray-based approach\n",
    "- Paraxial Gaussian Beam analysis\n",
    "- Physical Optics Propagation \"\n",
    "\n",
    "#### Limitations:\n",
    "\n",
    "- The ray-based approach:\n",
    "\n",
    "\"As we know the laser beam diffracts as it propagates through the space, which cannot be modeled by ray-based approach. While we know that the focused spot size reported by the ray based calculation is not accurate in this case, this does not mean the result of our optimization to find the location of the best focus is invalid.\"\n",
    "\n",
    "- Paraxial Gaussian Beam analysis:\n",
    "\n",
    "\"The limit is that the calculation of Gaussian beam parameters is based upon paraxial ray data, therefore the results may not be accurate for systems which have large aberrations, or those cannot be described by paraxial optics, such as non-rotationally symmetric systems. This feature also ignores all apertures, and assumes the Gaussian beam propagates well within the apertures of all the lenses in the system.\"\n",
    "\n",
    "- Physical Optics Propagation\n",
    "\n",
    "Does not condsider decenter and tilts. Generally astigmatic gaussian beams cannot be modelled."
   ]
  },
  {
   "cell_type": "markdown",
   "id": "bc4d9dae",
   "metadata": {},
   "source": [
    "These methods either do no consider diffraction or are not applicable in case of decenters and tilts. They are also not suited to provide a layout of Gaussian beams within a general optical system. Gaussian beams are not properly represented during optimization\n"
   ]
  },
  {
   "cell_type": "markdown",
   "id": "684bff2a",
   "metadata": {},
   "source": [
    "### User-defined methods\n",
    "There are however dlls and zpl macros which allow to model generally astigmatic Gaussian beams in OpticStudio:\n",
    "- In non-sequential mode: \n",
    "    [Link](https://community.zemax.com/code-exchange-10/dll-source-non-sequential-astigmatic-gaussian-1695)\n",
    "- In sequential mode:\n",
    "    [Link](ttps://support.zemax.com/hc/en-us/articles/1500005489661-Using-skew-rays-to-model-Gaussian-beams-webinar)\n",
    "    \n",
    "A nice review and procedure of Gaussian beam raytracing and optimization in sequential mode (including general astigmatic Gaussian beams) is given by [Colbourne](https://www.semanticscholar.org/paper/Generally-astigmatic-Gaussian-beam-representation-Colbourne/6708287c4855b2a2de2919aa051a95f6355e7e07), see also [Lumentum](https://resource.lumentum.com/s3fs-public/technical-library-items/skew-ray-gaussian-beam-optimization.pdf)."
   ]
  },
  {
   "cell_type": "code",
   "execution_count": null,
   "id": "09c819f6",
   "metadata": {},
   "outputs": [],
   "source": []
  }
 ],
 "metadata": {
  "kernelspec": {
   "display_name": "Python 3 (ipykernel)",
   "language": "python",
   "name": "python3"
  },
  "language_info": {
   "codemirror_mode": {
    "name": "ipython",
    "version": 3
   },
   "file_extension": ".py",
   "mimetype": "text/x-python",
   "name": "python",
   "nbconvert_exporter": "python",
   "pygments_lexer": "ipython3",
   "version": "3.8.11"
  }
 },
 "nbformat": 4,
 "nbformat_minor": 5
}
