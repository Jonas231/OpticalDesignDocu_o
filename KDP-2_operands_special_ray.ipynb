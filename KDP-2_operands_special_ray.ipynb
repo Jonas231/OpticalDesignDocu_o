{
 "cells": [
  {
   "cell_type": "markdown",
   "id": "4ea0475c",
   "metadata": {},
   "source": [
    "# Special real / paraxial ray\n",
    "\n",
    "These are the special real and paraxial ray based operands:"
   ]
  },
  {
   "cell_type": "code",
   "execution_count": 1,
   "id": "defae62c",
   "metadata": {
    "tags": [
     "remove_input"
    ]
   },
   "outputs": [
    {
     "data": {
      "application/javascript": [
       "if (typeof require !== 'undefined')\n",
       "    require.config({\n",
       "        paths: {\n",
       "            jquery: 'https://code.jquery.com/jquery-3.5.1.min',\n",
       "            datatables: 'https://cdn.datatables.net/1.11.3/js/jquery.dataTables.min',\n",
       "        }\n",
       "    });\n"
      ],
      "text/plain": [
       "<IPython.core.display.Javascript object>"
      ]
     },
     "metadata": {},
     "output_type": "display_data"
    }
   ],
   "source": [
    "import pandas as pd\n",
    "import itables\n",
    "from itables import init_notebook_mode, show\n",
    "import itables.options as opt\n",
    "\n",
    "init_notebook_mode(all_interactive=True)\n",
    "\n",
    "opt.lengthMenu = [50, 100, 200, 500]\n",
    "#opt.classes = [\"display\", \"cell-border\"]\n",
    "#opt.classes = [\"display\", \"nowrap\"]\n",
    "\n",
    "opt.columnDefs = [{\"className\": \"dt-left\", \"targets\": \"_all\"}, {\"width\": \"500px\", \"targets\": 4}]\n",
    "#opt.maxBytes = 0\n",
    "#pd.get_option('display.max_columns')\n",
    "#pd.get_option('display.max_rows')\n",
    "\n",
    "\n"
   ]
  },
  {
   "cell_type": "code",
   "execution_count": 2,
   "id": "e06a3e1a",
   "metadata": {
    "tags": [
     "remove_input"
    ]
   },
   "outputs": [],
   "source": [
    "import os\n",
    "cwd = os.getcwd()\n",
    "filename = os.path.join(cwd, os.path.join('Excel', 'KDP-2_optimization_operands.xlsx'))\n",
    "\n",
    "df_specialray = pd.read_excel(filename, sheet_name = \"special ray\", header = 1, index_col = 0)\n",
    "df_specialray = df_specialray.dropna()   # drop nan values\n",
    "\n"
   ]
  },
  {
   "cell_type": "code",
   "execution_count": 3,
   "id": "0a352a50",
   "metadata": {
    "tags": [
     "remove_input"
    ]
   },
   "outputs": [
    {
     "data": {
      "text/html": [
       "<table id=\"b3b92fd8-93c1-49a3-9be7-22185cae8e35\" class=\"display\"style=\"max-width:100%\"><thead><th></th><th>\"i\" </th><th>\"j\"</th><th>\"k\"</th><th>DESCRIPTION</th><th>Order</th></thead><tbody><tr><td>Loading... (need <a href=https://mwouts.github.io/itables/troubleshooting.html>help</a>?)</td></tr></tbody></table>\n",
       "<link rel=\"stylesheet\" type=\"text/css\" href=\"https://cdn.datatables.net/1.11.3/css/jquery.dataTables.min.css\">\n",
       "<style> table td {\n",
       "    text-overflow: ellipsis;\n",
       "    overflow: hidden;\n",
       "} </style>\n",
       "<style> table th {\n",
       "    text-overflow: ellipsis;\n",
       "    overflow: hidden;\n",
       "} </style>\n",
       "<script type=\"module\">\n",
       "    // Define the table data\n",
       "    const data = [[\"MAGX\", \"Field Pos. #\", \"(not used)\", \"(not used)\", \"XZ-plane magnification. Uses the ratio of the X-slope of differential chief ray at the current object surface to the X-slope of differential chief ray at the current image surface. \", 1.0], [\"MAGY\", \"Field Pos. #\", \"(not used)\", \"(not used)\", \"Same as above except in the YZ-plane.\", 2.0], [\"MAGXOR\", \"Field Pos. #\", \"(not used)\", \"(not used)\", \"XZ-plane reference magnification. Uses the ratio of X-slope of differential chief ray at object surface to the X-slope of differential chief ray at reference surface.\", 3.0], [\"MAGYOR\", \"Field Pos. #\", \"(not used)\", \"(not used)\", \"Same as above except in the YZ-plane.\", 4.0], [\"FFLX\", \"Field Pos. #\", \"(not used)\", \"(not used)\", \"XZ-plane front focal length. Based upon differential ray data.\", 5.0], [\"FFLY\", \"Field Pos. #\", \"(not used)\", \"(not used)\", \"Same as above except in the YZ-plane.\", 6.0], [\"BFLX\", \"Field Pos. #\", \"(not used)\", \"(not used)\", \"XZ-plane back focal length. Based upon differential ray data.\", 7.0], [\"BFLY\", \"Field Pos. #\", \"(not used)\", \"(not used)\", \"Same as above except in the YZ-plane.\", 8.0], [\"FFNX\", \"Field Pos. #\", \"(not used)\", \"(not used)\", \"XZ-plane front F-number. Uses the reciprocal of -2 times the scaled up slope of differential marginal ray at the current object surface.\", 9.0], [\"FFNY\", \"Field Pos. #\", \"(not used)\", \"(not used)\", \"Same as above except in the YZ-plane.\", 10.0], [\"BFNX\", \"Field Pos. #\", \"(not used)\", \"(not used)\", \"XZ-plane back F-number. Uses the reciprocal of -2 times the scaled up slope of differential marginal ray at the current image surface. \", 11.0], [\"BFNY\", \"Field Pos. #\", \"(not used)\", \"(not used)\", \"Same as above except in the YZ-plane.\", 12.0], [\"EFLX\", \"Field Pos. #\", \"(not used)\", \"(not used)\", \"XZ-plane effective focal length. Based upon differential ray data.\", 13.0], [\"EFLY\", \"Field Pos. #\", \"(not used)\", \"(not used)\", \"Same as above except in the YZ-plane.\", 14.0], [\"ENDIAX\", \"Field Pos. #\", \"(not used)\", \"(not used)\", \"XZ-plane entrance pupil diameter. Based upon differential ray data.\", 15.0], [\"ENDIAY\", \"Field Pos. #\", \"(not used)\", \"(not used)\", \"Same as above except in the YZ-plane.\", 16.0], [\"EXDIAX\", \"Field Pos. #\", \"(not used)\", \"(not used)\", \"XZ-plane exit pupil diameter. Based upon differential ray data.\", 17.0], [\"EXDIAY\", \"Field Pos. #\", \"(not used)\", \"(not used)\", \"Same as above except in the YZ-plane.\", 18.0], [\"ENPOSX\", \"Field Pos. #\", \"(not used)\", \"(not used)\", \"X-coordinate of the center of the entrance pupil. Differential ray data is used in the calculation and the value is represented in the coordinate system of the NEWOBJ+1 surface.\", 19.0], [\"ENPOSY\", \"Field Pos. #\", \"(not used)\", \"(not used)\", \"Same as above except the Y-coordinate.\", 20.0], [\"ENPOSZ\", \"Field Pos. #\", \"(not used)\", \"(not used)\", \"Same as above except the Z-coordinate.\", 21.0], [\"EXPOSX\", \"Field Pos. #\", \"(not used)\", \"(not used)\", \"X-coordinate of the center of the exit pupil. Differential ray data is used in the calculation and the value is represented in the coordinate system of the NEWIMG surface.\", 22.0], [\"EXPOSY\", \"Field Pos. #\", \"(not used)\", \"(not used)\", \"Same as above except the Y-coordinate.\", 23.0], [\"EXPOSZ\", \"Field Pos. #\", \"(not used)\", \"(not used)\", \"Same as above except the Z-coordinate.\", 24.0], [\"FNUMX\", \"Field Pos. #\", \"(not used)\", \"(not used)\", \"Image space F-number. Uses extreme upper and lower real marginal rays in the XZ-plane of the reference surface for the current FOB. Takes vignetting into account automatically. If no chief ray exist, a paxaial value is used instead.\", 25.0], [\"FNUMY\", \"Field Pos. #\", \"(not used)\", \"(not used)\", \"Same as above except in the YZ-plane.\", 26.0], [\"OBFNUMX\", \"Field Pos. #\", \"(not used)\", \"(not used)\", \"Object space F-number. Uses extreme upper and lower real marginal rays in the XZ-plane of the reference surface for the current FOB. Takes vignetting into account automatically. If no chief ray exist, a paxaial value is used instead.\", 27.0], [\"OBFNUMY\", \"Field Pos. #\", \"(not used)\", \"(not used)\", \"Same as above except in the YZ-plane.\", 28.0], [\"ENPDIAX\", \"Field Pos. #\", \"(not used)\", \"(not used)\", \"Entrance pupil diameter. Uses extreme upper and lower real marginal rays in the XZ-plane of the reference surface for the current FOB. Takes vignetting into account automatically. If no chief ray exist, a paxaial value is used instead.\", 29.0], [\"ENPDIAY\", \"Field Pos. #\", \"(not used)\", \"(not used)\", \"Same as above except in the YZ-plane.\", 30.0], [\"EXPDIAX\", \"Field Pos. #\", \"(not used)\", \"(not used)\", \"Exit pupil diameter. Uses extreme upper and lower real marginal rays in the XZ-plane of the reference surface for the current FOB. Takes vignetting into account automatically. If no chief ray exist, a paxaial value is used instead.\", 31.0], [\"EXPDIAY\", \"Field Pos. #\", \"(not used)\", \"(not used)\", \"Same as above except in the YZ-plane.\", 32.0], [\"PUPDIAX\", \"surf #\", \"(not used)\", \"(not used)\", \"XZ-plane. This is 2.0 times the height of the paraxial marginal ray at the position relative to surface \\\"i\\\" at which the paraxial chief ray has zero height.\", 33.0], [\"PUPDIAY\", \"surf #\", \"(not used)\", \"(not used)\", \"Same as above except in the YZ-plane.\", 34.0], [\"PUPDISX\", \"surf #\", \"(not used)\", \"(not used)\", \"XZ-plane. This is the position at which the paraxial chief ray, in the space folloing surface \\\"i\\\", has zero height. It is represented in the coordinate system of surface \\\"i\\\".\", 35.0], [\"PUPDISY\", \"surf #\", \"(not used)\", \"(not used)\", \"Same as above except in the YZ-plane.\", 36.0], [\"CHFIMX\", \"surf #\", \"(not used)\", \"(not used)\", \"XZ-plane. This is the height of the paraxial chief ray at the position relative to surface \\\"i\\\" at which the paraxial marginal ray has zero height.\", 37.0], [\"CHFIMY\", \"surf #\", \"(not used)\", \"(not used)\", \"Same as above except in the YZ-plane.\", 38.0], [\"GPX\", \"surf #\", \"Field Pos. #\", \"(not used)\", \"XZ-plane generalized paraxial marginal ray height based upon differential rays about the chief ray.\", 39.0], [\"GPY\", \"surf #\", \"Field Pos. #\", \"(not used)\", \"Same as above except in the YZ-plane.\", 40.0], [\"GPUX\", \"surf #\", \"Field Pos. #\", \"(not used)\", \"XZ-plane generalized paraxial marginal ray slope based upon differential rays about the chief ray.\", 41.0], [\"GPUY\", \"surf #\", \"Field Pos. #\", \"(not used)\", \"Same as above except in the YZ-plane.\", 42.0], [\"GPCX\", \"surf #\", \"Field Pos. #\", \"(not used)\", \"XZ-plane generalized paraxial chief ray height based upon differential rays about the chief ray.\", 43.0], [\"GPCY\", \"surf #\", \"Field Pos. #\", \"(not used)\", \"Same as above except in the YZ-plane.\", 44.0], [\"GPUCX\", \"surf #\", \"Field Pos. #\", \"(not used)\", \"XZ-plane generalized paraxial chief ray slope based upon differential rays about the chief ray.\", 45.0], [\"GPUCY\", \"surf #\", \"Field Pos. #\", \"(not used)\", \"Same as above except in the YZ-plane.\", 46.0], [\"DIST\", \"Field Pos. #\", \"(not used)\", \"(not used)\", \"Uses real chief and real chief differential ray traces to calculate percent distortion at the specified field point. Calculation is performed at the wavelength specified by the field point definition and for the current lens configuration. Value is valid for tilted and decentered systems. All surface types including special surfaces are recognized. See the \\\"DIST\\\" command in the CMD section.\", 47.0], [\"FISHDIST\", \"Field Pos. #\", \"(not used)\", \"(not used)\", \"Similar to DIST but uses ray slope angles rather than slope angle tangents. See the \\\"FISHDIST\\\" command in the CMD section.\", 48.0], [\"XFOC\", \"Field Pos. #\", \"(not used)\", \"(not used)\", \"XFOC returns the distance from the current image surface to the focus position of close XZ-plane marginal differential rays traced about the specified field point. Calculation is performed at the wavelength specified by the field point definition and for the current lens configuration. This distance is measured along the local Z-axis of the current image surface in the coordinate system of the current image surface This is the X-field curvature. In modes FOCAL and UFOCAL, the units are lens units. In modes AFOCAL and UAFOCAL, the units are diopters. If, in the AFOCAL or UAFOCAL mode, the field curvature is too large to represent, it will be set to 1.0D20.\", 49.0], [\"YFOC\", \"Field Pos. #\", \"(not used)\", \"(not used)\", \"Same as above except in the YZ-plane. This is the Y-field curvature. In modes FOCAL and UFOCAL, the units are lens units. In modes AFOCAL and UAFOCAL, the units are diopters. If, in the AFOCAL or UAFOCAL mode, the field curvature is too large to represent, it will be set to 1.0D20.\", 50.0], [\"AST\", \"Field Pos. #\", \"(not used)\", \"(not used)\", \"AST returns the the astigmatism along the specified field point. It is just the YFOC value minus the XFOC value. Calculation is performed at the wavelength specified by the field point definition and for the current lens configuration. In modes FOCAL and UFOCAL, the units are lens units. In modes AFOCAL and UAFOCAL, the units are diopters. If, in the AFOCAL or UAFOCAL mode, the astigmatism is too large to represent, it will be set to 1.0D20.\", 51.0]];\n",
       "\n",
       "    if (typeof require === 'undefined') {\n",
       "        // TODO: This should become the default (use a simple import)\n",
       "        // when the ESM version works independently of whether\n",
       "        // require.js is there or not, see\n",
       "        // https://datatables.net/forums/discussion/69066/esm-es6-module-support?\n",
       "        const {default: $} = await import(\"https://esm.sh/jquery@3.5.0\");\n",
       "        const {default: initDataTables} = await import(\"https://esm.sh/datatables.net@1.11.3?deps=jquery@3.5.0\");\n",
       "\n",
       "        initDataTables();\n",
       "\n",
       "        // Define the dt_args\n",
       "        let dt_args = {\"columnDefs\": [{\"className\": \"dt-left\", \"targets\": \"_all\"}, {\"width\": \"500px\", \"targets\": 4}], \"lengthMenu\": [50, 100, 200, 500]};\n",
       "        dt_args[\"data\"] = data;\n",
       "\n",
       "        // Display the table\n",
       "        $(document).ready(function () {\n",
       "            $('#b3b92fd8-93c1-49a3-9be7-22185cae8e35').DataTable(dt_args);\n",
       "        });\n",
       "    } else {\n",
       "        require([\"jquery\", \"datatables\"], ($, datatables) => {\n",
       "                // Define the dt_args\n",
       "                let dt_args = {\"columnDefs\": [{\"className\": \"dt-left\", \"targets\": \"_all\"}, {\"width\": \"500px\", \"targets\": 4}], \"lengthMenu\": [50, 100, 200, 500]};\n",
       "                dt_args[\"data\"] = data;\n",
       "\n",
       "                // Display the table\n",
       "                $(document).ready(function () {\n",
       "                    $('#b3b92fd8-93c1-49a3-9be7-22185cae8e35').DataTable(dt_args);\n",
       "                });\n",
       "            }\n",
       "        )\n",
       "    }\n",
       "</script>\n"
      ],
      "text/plain": [
       "                      \"i\"            \"j\"         \"k\"  \\\n",
       "OPERAND NAME                                           \n",
       "MAGX          Field Pos. #    (not used)  (not used)   \n",
       "MAGY          Field Pos. #    (not used)  (not used)   \n",
       "MAGXOR        Field Pos. #    (not used)  (not used)   \n",
       "MAGYOR        Field Pos. #    (not used)  (not used)   \n",
       "FFLX          Field Pos. #    (not used)  (not used)   \n",
       "FFLY          Field Pos. #    (not used)  (not used)   \n",
       "BFLX          Field Pos. #    (not used)  (not used)   \n",
       "BFLY          Field Pos. #    (not used)  (not used)   \n",
       "FFNX          Field Pos. #    (not used)  (not used)   \n",
       "FFNY          Field Pos. #    (not used)  (not used)   \n",
       "BFNX          Field Pos. #    (not used)  (not used)   \n",
       "BFNY          Field Pos. #    (not used)  (not used)   \n",
       "EFLX          Field Pos. #    (not used)  (not used)   \n",
       "EFLY          Field Pos. #    (not used)  (not used)   \n",
       "ENDIAX        Field Pos. #    (not used)  (not used)   \n",
       "ENDIAY        Field Pos. #    (not used)  (not used)   \n",
       "EXDIAX        Field Pos. #    (not used)  (not used)   \n",
       "EXDIAY        Field Pos. #    (not used)  (not used)   \n",
       "ENPOSX        Field Pos. #    (not used)  (not used)   \n",
       "ENPOSY        Field Pos. #    (not used)  (not used)   \n",
       "ENPOSZ        Field Pos. #    (not used)  (not used)   \n",
       "EXPOSX        Field Pos. #    (not used)  (not used)   \n",
       "EXPOSY        Field Pos. #    (not used)  (not used)   \n",
       "EXPOSZ        Field Pos. #    (not used)  (not used)   \n",
       "FNUMX         Field Pos. #    (not used)  (not used)   \n",
       "FNUMY         Field Pos. #    (not used)  (not used)   \n",
       "OBFNUMX       Field Pos. #    (not used)  (not used)   \n",
       "OBFNUMY       Field Pos. #    (not used)  (not used)   \n",
       "ENPDIAX       Field Pos. #    (not used)  (not used)   \n",
       "ENPDIAY       Field Pos. #    (not used)  (not used)   \n",
       "EXPDIAX       Field Pos. #    (not used)  (not used)   \n",
       "EXPDIAY       Field Pos. #    (not used)  (not used)   \n",
       "PUPDIAX             surf #    (not used)  (not used)   \n",
       "PUPDIAY             surf #    (not used)  (not used)   \n",
       "PUPDISX             surf #    (not used)  (not used)   \n",
       "PUPDISY             surf #    (not used)  (not used)   \n",
       "CHFIMX              surf #    (not used)  (not used)   \n",
       "CHFIMY              surf #    (not used)  (not used)   \n",
       "GPX                 surf #  Field Pos. #  (not used)   \n",
       "GPY                 surf #  Field Pos. #  (not used)   \n",
       "GPUX                surf #  Field Pos. #  (not used)   \n",
       "GPUY                surf #  Field Pos. #  (not used)   \n",
       "GPCX                surf #  Field Pos. #  (not used)   \n",
       "GPCY                surf #  Field Pos. #  (not used)   \n",
       "GPUCX               surf #  Field Pos. #  (not used)   \n",
       "GPUCY               surf #  Field Pos. #  (not used)   \n",
       "DIST          Field Pos. #    (not used)  (not used)   \n",
       "FISHDIST      Field Pos. #    (not used)  (not used)   \n",
       "XFOC          Field Pos. #    (not used)  (not used)   \n",
       "YFOC          Field Pos. #    (not used)  (not used)   \n",
       "AST           Field Pos. #    (not used)  (not used)   \n",
       "\n",
       "                                                    DESCRIPTION  Order  \n",
       "OPERAND NAME                                                            \n",
       "MAGX          XZ-plane magnification. Uses the ratio of the ...    1.0  \n",
       "MAGY                      Same as above except in the YZ-plane.    2.0  \n",
       "MAGXOR        XZ-plane reference magnification. Uses the rat...    3.0  \n",
       "MAGYOR                    Same as above except in the YZ-plane.    4.0  \n",
       "FFLX          XZ-plane front focal length. Based upon differ...    5.0  \n",
       "FFLY                      Same as above except in the YZ-plane.    6.0  \n",
       "BFLX          XZ-plane back focal length. Based upon differe...    7.0  \n",
       "BFLY                      Same as above except in the YZ-plane.    8.0  \n",
       "FFNX          XZ-plane front F-number. Uses the reciprocal o...    9.0  \n",
       "FFNY                      Same as above except in the YZ-plane.   10.0  \n",
       "BFNX          XZ-plane back F-number. Uses the reciprocal of...   11.0  \n",
       "BFNY                      Same as above except in the YZ-plane.   12.0  \n",
       "EFLX          XZ-plane effective focal length. Based upon di...   13.0  \n",
       "EFLY                      Same as above except in the YZ-plane.   14.0  \n",
       "ENDIAX        XZ-plane entrance pupil diameter. Based upon d...   15.0  \n",
       "ENDIAY                    Same as above except in the YZ-plane.   16.0  \n",
       "EXDIAX        XZ-plane exit pupil diameter. Based upon diffe...   17.0  \n",
       "EXDIAY                    Same as above except in the YZ-plane.   18.0  \n",
       "ENPOSX        X-coordinate of the center of the entrance pup...   19.0  \n",
       "ENPOSY                   Same as above except the Y-coordinate.   20.0  \n",
       "ENPOSZ                   Same as above except the Z-coordinate.   21.0  \n",
       "EXPOSX        X-coordinate of the center of the exit pupil. ...   22.0  \n",
       "EXPOSY                   Same as above except the Y-coordinate.   23.0  \n",
       "EXPOSZ                   Same as above except the Z-coordinate.   24.0  \n",
       "FNUMX         Image space F-number. Uses extreme upper and l...   25.0  \n",
       "FNUMY                     Same as above except in the YZ-plane.   26.0  \n",
       "OBFNUMX       Object space F-number. Uses extreme upper and ...   27.0  \n",
       "OBFNUMY                   Same as above except in the YZ-plane.   28.0  \n",
       "ENPDIAX       Entrance pupil diameter. Uses extreme upper an...   29.0  \n",
       "ENPDIAY                   Same as above except in the YZ-plane.   30.0  \n",
       "EXPDIAX       Exit pupil diameter. Uses extreme upper and lo...   31.0  \n",
       "EXPDIAY                   Same as above except in the YZ-plane.   32.0  \n",
       "PUPDIAX       XZ-plane. This is 2.0 times the height of the ...   33.0  \n",
       "PUPDIAY                   Same as above except in the YZ-plane.   34.0  \n",
       "PUPDISX       XZ-plane. This is the position at which the pa...   35.0  \n",
       "PUPDISY                   Same as above except in the YZ-plane.   36.0  \n",
       "CHFIMX        XZ-plane. This is the height of the paraxial c...   37.0  \n",
       "CHFIMY                    Same as above except in the YZ-plane.   38.0  \n",
       "GPX           XZ-plane generalized paraxial marginal ray hei...   39.0  \n",
       "GPY                       Same as above except in the YZ-plane.   40.0  \n",
       "GPUX          XZ-plane generalized paraxial marginal ray slo...   41.0  \n",
       "GPUY                      Same as above except in the YZ-plane.   42.0  \n",
       "GPCX          XZ-plane generalized paraxial chief ray height...   43.0  \n",
       "GPCY                      Same as above except in the YZ-plane.   44.0  \n",
       "GPUCX         XZ-plane generalized paraxial chief ray slope ...   45.0  \n",
       "GPUCY                     Same as above except in the YZ-plane.   46.0  \n",
       "DIST          Uses real chief and real chief differential ra...   47.0  \n",
       "FISHDIST      Similar to DIST but uses ray slope angles rath...   48.0  \n",
       "XFOC          XFOC returns the distance from the current ima...   49.0  \n",
       "YFOC          Same as above except in the YZ-plane. This is ...   50.0  \n",
       "AST           AST returns the the astigmatism along the spec...   51.0  "
      ]
     },
     "execution_count": 3,
     "metadata": {},
     "output_type": "execute_result"
    }
   ],
   "source": [
    "\n",
    "df_specialray \n"
   ]
  },
  {
   "cell_type": "code",
   "execution_count": null,
   "id": "0e93e49c",
   "metadata": {},
   "outputs": [],
   "source": []
  },
  {
   "cell_type": "code",
   "execution_count": null,
   "id": "a6381f44",
   "metadata": {},
   "outputs": [],
   "source": []
  },
  {
   "cell_type": "code",
   "execution_count": null,
   "id": "7df3686a",
   "metadata": {},
   "outputs": [],
   "source": []
  }
 ],
 "metadata": {
  "celltoolbar": "Tags",
  "kernelspec": {
   "display_name": "Python 3 (ipykernel)",
   "language": "python",
   "name": "python3"
  },
  "language_info": {
   "codemirror_mode": {
    "name": "ipython",
    "version": 3
   },
   "file_extension": ".py",
   "mimetype": "text/x-python",
   "name": "python",
   "nbconvert_exporter": "python",
   "pygments_lexer": "ipython3",
   "version": "3.8.11"
  }
 },
 "nbformat": 4,
 "nbformat_minor": 5
}
