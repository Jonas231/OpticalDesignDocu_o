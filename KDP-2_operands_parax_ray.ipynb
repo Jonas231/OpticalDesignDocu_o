{
 "cells": [
  {
   "cell_type": "markdown",
   "id": "4ea0475c",
   "metadata": {},
   "source": [
    "# Paraxial ray\n",
    "\n",
    "These are the operands related to paraxial rays."
   ]
  },
  {
   "cell_type": "code",
   "execution_count": 1,
   "id": "defae62c",
   "metadata": {
    "tags": [
     "remove_input"
    ]
   },
   "outputs": [
    {
     "data": {
      "application/javascript": [
       "if (typeof require !== 'undefined')\n",
       "    require.config({\n",
       "        paths: {\n",
       "            jquery: 'https://code.jquery.com/jquery-3.5.1.min',\n",
       "            datatables: 'https://cdn.datatables.net/1.11.3/js/jquery.dataTables.min',\n",
       "        }\n",
       "    });\n"
      ],
      "text/plain": [
       "<IPython.core.display.Javascript object>"
      ]
     },
     "metadata": {},
     "output_type": "display_data"
    }
   ],
   "source": [
    "import pandas as pd\n",
    "import itables\n",
    "from itables import init_notebook_mode, show\n",
    "import itables.options as opt\n",
    "\n",
    "init_notebook_mode(all_interactive=True)\n",
    "\n",
    "opt.lengthMenu = [50, 100, 200, 500]\n",
    "#opt.classes = [\"display\", \"cell-border\"]\n",
    "#opt.classes = [\"display\", \"nowrap\"]\n",
    "\n",
    "opt.columnDefs = [{\"className\": \"dt-left\", \"targets\": \"_all\"}, {\"width\": \"500px\", \"targets\": 4}]\n",
    "#opt.maxBytes = 0\n",
    "#pd.get_option('display.max_columns')\n",
    "#pd.get_option('display.max_rows')\n",
    "\n",
    "\n"
   ]
  },
  {
   "cell_type": "code",
   "execution_count": 2,
   "id": "e06a3e1a",
   "metadata": {
    "tags": [
     "remove_input"
    ]
   },
   "outputs": [],
   "source": [
    "import os\n",
    "cwd = os.getcwd()\n",
    "filename = os.path.join(cwd, os.path.join('Excel', 'KDP-2_optimization_operands.xlsx'))\n",
    "\n",
    "df_paraxray = pd.read_excel(filename, sheet_name = \"paraxial ray\", header = 1, index_col = 0)\n",
    "df_paraxray = df_paraxray.dropna()   # drop nan values\n",
    "\n"
   ]
  },
  {
   "cell_type": "code",
   "execution_count": 3,
   "id": "0a352a50",
   "metadata": {
    "tags": [
     "remove_input"
    ]
   },
   "outputs": [
    {
     "data": {
      "text/html": [
       "<table id=\"f7721323-c3b4-400b-b001-bf8bde0c41d6\" class=\"display\"style=\"max-width:100%\"><thead><th></th><th>\"i\" </th><th>\"j\"</th><th>\"k\"</th><th>DESCRIPTION</th><th>Order</th></thead><tbody><tr><td>Loading... (need <a href=https://mwouts.github.io/itables/troubleshooting.html>help</a>?)</td></tr></tbody></table>\n",
       "<link rel=\"stylesheet\" type=\"text/css\" href=\"https://cdn.datatables.net/1.11.3/css/jquery.dataTables.min.css\">\n",
       "<style> table td {\n",
       "    text-overflow: ellipsis;\n",
       "    overflow: hidden;\n",
       "} </style>\n",
       "<style> table th {\n",
       "    text-overflow: ellipsis;\n",
       "    overflow: hidden;\n",
       "} </style>\n",
       "<script type=\"module\">\n",
       "    // Define the table data\n",
       "    const data = [[\"PWRY\", \"surf #, (def=0)\", \"surf #, (def=last)\", \"(not used)\", \"YZ-plane paraxial, optical power of optical system from surface \\\"i\\\" to surface \\\"j\\\". Defaults for \\\"i\\\" and \\\"j\\\" are 0 and the final surface number.\", 1.0], [\"PWRX\", \"surf #, (def=0)\", \"surf #, (def=last)\", \"(not used)\", \"Same as above except in the XZ-plane.\", 2.0], [\"FLCLTH or FLCLTHY\", \"surf #, (def=0)\", \"surf #, (def=last)\", \"(not used)\", \"YZ-plane, paraxial, effective focal length at the control wavelength of optical system from surface \\\"i\\\" to surface \\\"j\\\". Defaults for \\\"i\\\" and \\\"j\\\" are 0 and the final surface number.\", 3.0], [\"FLCLTHX\", \"surf #, (def=0)\", \"surf #, (def=last)\", \"(not used)\", \"Same as FLCLTH except in the XZ-plane.\", 4.0], [\"PY\", \"surf #, (def=last)\", \"wavelength #, (def=cw)\", \"(not used)\", \"YZ-plane, marginal paraxial ray  height at surface \\\"i\\\" and at wavelength \\\"j\\\"\", 5.0], [\"PX\", \"surf #, (def=last)\", \"wavelength #, (def=cw)\", \"(not used)\", \"Same as above except in the XZ-plane.\", 6.0], [\"PCY\", \"surf #, (def=last)\", \"wavelength #, (def=cw)\", \"(not used)\", \"YZ-plane, chief paraxial ray height at surface \\\"i\\\" and at wavelength \\\"j\\\"\", 7.0], [\"PCX\", \"surf #, (def=last)\", \"wavelength #, (def=cw)\", \"(not used)\", \"Same as above except in the XZ-plane.\", 8.0], [\"PUY\", \"surf #, (def=last)\", \"wavelength #, (def=cw)\", \"(not used)\", \"YZ-plane, marginal paraxial ray tangent at surface \\\"i\\\" and at wavelength \\\"j\\\" after refraction or reflection\", 9.0], [\"PUX\", \"surf #, (def=last)\", \"wavelength #, (def=cw)\", \"(not used)\", \"Same as above except in the XZ-plane.\", 10.0], [\"PUCY\", \"surf #, (def=last)\", \"wavelength #, (def=cw)\", \"(not used)\", \"YZ-plane, chief paraxial ray tangent at surface \\\"i\\\" and at wavelength \\\"j\\\" after refraction or reflection\", 11.0], [\"PUCX\", \"surf #, (def=last)\", \"wavelength #, (def=cw)\", \"(not used)\", \"Same as above except in the XZ-plane.\", 12.0], [\"PIY\", \"surf #, (def=last)\", \"wavelength #, (def=cw)\", \"(not used)\", \"YZ-plane, marginal paraxial ray incident angle tangent at surface \\\"i\\\" and at wavelength \\\"j\\\"\", 13.0], [\"PIX\", \"surf #, (def=last)\", \"wavelength #, (def=cw)\", \"(not used)\", \"Same as above except in the XZ-plane.\", 14.0], [\"PICY\", \"surf #, (def=last)\", \"wavelength #, (def=cw)\", \"(not used)\", \"YZ-plane, chief paraxial ray incident angle tangent at surface \\\"i\\\" and at wavelength \\\"j\\\" before refraction or reflection\", 15.0], [\"PICX\", \"surf #, (def=last)\", \"wavelength #, (def=cw)\", \"(not used)\", \"Same as above except in the XZ-plane.\", 16.0], [\"PIYP\", \"surf #, (def=last)\", \"wavelength #, (def=cw)\", \"(not used)\", \"YZ-plane, marginal paraxial ray angle of refraction or reflection (tangent) at surface \\\"i\\\" and at  wavelength \\\"j\\\"\", 17.0], [\"PIXP\", \"surf #, (def=last)\", \"wavelength #, (def=cw)\", \"(not used)\", \"Same as above except in the XZ-plane.\", 18.0], [\"PICYP\", \"surf #, (def=last)\", \"wavelength #, (def=cw)\", \"(not used)\", \"YZ-plane, chief paraxial ray angle of refraction or reflection (tangent) at surface \\\"i\\\" and at  wavelength \\\"j\\\"\", 19.0], [\"PICXP\", \"surf #, (def=last)\", \"wavelength #, (def=cw)\", \"(not used)\", \"Same as above except in the XZ-plane.\", 20.0], [\"IMDISX\", \"surf #\", \"(not used)\", \"(not used)\", \"XZ-plane. This is the position at which the paraxial marginal ray, in the space following surface \\\"i\\\", has zero height. It is represented in the coordinate system of surface \\\"i\\\".\", 21.0], [\"IMDISY\", \"surf #\", \"(not used)\", \"(not used)\", \"Same as above except in the XZ-plane.\", 22.0]];\n",
       "\n",
       "    if (typeof require === 'undefined') {\n",
       "        // TODO: This should become the default (use a simple import)\n",
       "        // when the ESM version works independently of whether\n",
       "        // require.js is there or not, see\n",
       "        // https://datatables.net/forums/discussion/69066/esm-es6-module-support?\n",
       "        const {default: $} = await import(\"https://esm.sh/jquery@3.5.0\");\n",
       "        const {default: initDataTables} = await import(\"https://esm.sh/datatables.net@1.11.3?deps=jquery@3.5.0\");\n",
       "\n",
       "        initDataTables();\n",
       "\n",
       "        // Define the dt_args\n",
       "        let dt_args = {\"columnDefs\": [{\"className\": \"dt-left\", \"targets\": \"_all\"}, {\"width\": \"500px\", \"targets\": 4}], \"lengthMenu\": [50, 100, 200, 500], \"paging\": false};\n",
       "        dt_args[\"data\"] = data;\n",
       "\n",
       "        // Display the table\n",
       "        $(document).ready(function () {\n",
       "            $('#f7721323-c3b4-400b-b001-bf8bde0c41d6').DataTable(dt_args);\n",
       "        });\n",
       "    } else {\n",
       "        require([\"jquery\", \"datatables\"], ($, datatables) => {\n",
       "                // Define the dt_args\n",
       "                let dt_args = {\"columnDefs\": [{\"className\": \"dt-left\", \"targets\": \"_all\"}, {\"width\": \"500px\", \"targets\": 4}], \"lengthMenu\": [50, 100, 200, 500], \"paging\": false};\n",
       "                dt_args[\"data\"] = data;\n",
       "\n",
       "                // Display the table\n",
       "                $(document).ready(function () {\n",
       "                    $('#f7721323-c3b4-400b-b001-bf8bde0c41d6').DataTable(dt_args);\n",
       "                });\n",
       "            }\n",
       "        )\n",
       "    }\n",
       "</script>\n"
      ],
      "text/plain": [
       "                                 \"i\"                      \"j\"         \"k\"  \\\n",
       "OPERAND NAME                                                                \n",
       "PWRY                  surf #, (def=0)      surf #, (def=last)  (not used)   \n",
       "PWRX                  surf #, (def=0)      surf #, (def=last)  (not used)   \n",
       "FLCLTH or FLCLTHY     surf #, (def=0)      surf #, (def=last)  (not used)   \n",
       "FLCLTHX               surf #, (def=0)      surf #, (def=last)  (not used)   \n",
       "PY                 surf #, (def=last)  wavelength #, (def=cw)  (not used)   \n",
       "PX                 surf #, (def=last)  wavelength #, (def=cw)  (not used)   \n",
       "PCY                surf #, (def=last)  wavelength #, (def=cw)  (not used)   \n",
       "PCX                surf #, (def=last)  wavelength #, (def=cw)  (not used)   \n",
       "PUY                surf #, (def=last)  wavelength #, (def=cw)  (not used)   \n",
       "PUX                surf #, (def=last)  wavelength #, (def=cw)  (not used)   \n",
       "PUCY               surf #, (def=last)  wavelength #, (def=cw)  (not used)   \n",
       "PUCX               surf #, (def=last)  wavelength #, (def=cw)  (not used)   \n",
       "PIY                surf #, (def=last)  wavelength #, (def=cw)  (not used)   \n",
       "PIX                surf #, (def=last)  wavelength #, (def=cw)  (not used)   \n",
       "PICY               surf #, (def=last)  wavelength #, (def=cw)  (not used)   \n",
       "PICX               surf #, (def=last)  wavelength #, (def=cw)  (not used)   \n",
       "PIYP               surf #, (def=last)  wavelength #, (def=cw)  (not used)   \n",
       "PIXP               surf #, (def=last)  wavelength #, (def=cw)  (not used)   \n",
       "PICYP              surf #, (def=last)  wavelength #, (def=cw)  (not used)   \n",
       "PICXP              surf #, (def=last)  wavelength #, (def=cw)  (not used)   \n",
       "IMDISX                         surf #              (not used)  (not used)   \n",
       "IMDISY                         surf #              (not used)  (not used)   \n",
       "\n",
       "                                                         DESCRIPTION  Order  \n",
       "OPERAND NAME                                                                 \n",
       "PWRY               YZ-plane paraxial, optical power of optical sy...    1.0  \n",
       "PWRX                           Same as above except in the XZ-plane.    2.0  \n",
       "FLCLTH or FLCLTHY  YZ-plane, paraxial, effective focal length at ...    3.0  \n",
       "FLCLTHX                       Same as FLCLTH except in the XZ-plane.    4.0  \n",
       "PY                 YZ-plane, marginal paraxial ray  height at sur...    5.0  \n",
       "PX                             Same as above except in the XZ-plane.    6.0  \n",
       "PCY                YZ-plane, chief paraxial ray height at surface...    7.0  \n",
       "PCX                            Same as above except in the XZ-plane.    8.0  \n",
       "PUY                YZ-plane, marginal paraxial ray tangent at sur...    9.0  \n",
       "PUX                            Same as above except in the XZ-plane.   10.0  \n",
       "PUCY               YZ-plane, chief paraxial ray tangent at surfac...   11.0  \n",
       "PUCX                           Same as above except in the XZ-plane.   12.0  \n",
       "PIY                YZ-plane, marginal paraxial ray incident angle...   13.0  \n",
       "PIX                            Same as above except in the XZ-plane.   14.0  \n",
       "PICY               YZ-plane, chief paraxial ray incident angle ta...   15.0  \n",
       "PICX                           Same as above except in the XZ-plane.   16.0  \n",
       "PIYP               YZ-plane, marginal paraxial ray angle of refra...   17.0  \n",
       "PIXP                           Same as above except in the XZ-plane.   18.0  \n",
       "PICYP              YZ-plane, chief paraxial ray angle of refracti...   19.0  \n",
       "PICXP                          Same as above except in the XZ-plane.   20.0  \n",
       "IMDISX             XZ-plane. This is the position at which the pa...   21.0  \n",
       "IMDISY                         Same as above except in the XZ-plane.   22.0  "
      ]
     },
     "execution_count": 3,
     "metadata": {},
     "output_type": "execute_result"
    }
   ],
   "source": [
    "\n",
    "df_paraxray \n"
   ]
  },
  {
   "cell_type": "code",
   "execution_count": null,
   "id": "0e93e49c",
   "metadata": {},
   "outputs": [],
   "source": []
  },
  {
   "cell_type": "code",
   "execution_count": null,
   "id": "a6381f44",
   "metadata": {},
   "outputs": [],
   "source": []
  },
  {
   "cell_type": "code",
   "execution_count": null,
   "id": "7df3686a",
   "metadata": {},
   "outputs": [],
   "source": []
  }
 ],
 "metadata": {
  "celltoolbar": "Tags",
  "kernelspec": {
   "display_name": "Python 3 (ipykernel)",
   "language": "python",
   "name": "python3"
  },
  "language_info": {
   "codemirror_mode": {
    "name": "ipython",
    "version": 3
   },
   "file_extension": ".py",
   "mimetype": "text/x-python",
   "name": "python",
   "nbconvert_exporter": "python",
   "pygments_lexer": "ipython3",
   "version": "3.8.11"
  }
 },
 "nbformat": 4,
 "nbformat_minor": 5
}
