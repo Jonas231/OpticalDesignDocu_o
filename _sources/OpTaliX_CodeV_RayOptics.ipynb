{
 "cells": [
  {
   "cell_type": "markdown",
   "id": "1faa5636",
   "metadata": {},
   "source": [
    "# OpTaliX to CodeV to RayOptics / Rayopt\n",
    "At first install the python package \"ray-optics\" (conda install rayoptics --channel conda-forge). \n"
   ]
  },
  {
   "cell_type": "code",
   "execution_count": 22,
   "id": "26bceaba",
   "metadata": {},
   "outputs": [],
   "source": [
    "# initialization of ray-optics\n",
    "from rayoptics.environment import *"
   ]
  },
  {
   "cell_type": "code",
   "execution_count": 23,
   "id": "a3a49004",
   "metadata": {},
   "outputs": [],
   "source": [
    "import os\n",
    "cwd = os.getcwd()\n",
    "filename = os.path.join(cwd, os.path.join('OpTaliX','AFL12-15.seq'))\n"
   ]
  },
  {
   "cell_type": "code",
   "execution_count": 24,
   "id": "bae7cb8a",
   "metadata": {},
   "outputs": [
    {
     "ename": "GlassCatalogNotFoundError",
     "evalue": "SPECIAL",
     "output_type": "error",
     "traceback": [
      "\u001b[1;31m---------------------------------------------------------------------------\u001b[0m",
      "\u001b[1;31mGlassCatalogNotFoundError\u001b[0m                 Traceback (most recent call last)",
      "\u001b[1;32m~\\AppData\\Local\\Temp/ipykernel_17584/133688787.py\u001b[0m in \u001b[0;36m<module>\u001b[1;34m\u001b[0m\n\u001b[0;32m      1\u001b[0m \u001b[0mroot_pth\u001b[0m \u001b[1;33m=\u001b[0m \u001b[0mPath\u001b[0m\u001b[1;33m(\u001b[0m\u001b[0mrayoptics\u001b[0m\u001b[1;33m.\u001b[0m\u001b[0m__file__\u001b[0m\u001b[1;33m)\u001b[0m\u001b[1;33m.\u001b[0m\u001b[0mresolve\u001b[0m\u001b[1;33m(\u001b[0m\u001b[1;33m)\u001b[0m\u001b[1;33m.\u001b[0m\u001b[0mparent\u001b[0m\u001b[1;33m\u001b[0m\u001b[1;33m\u001b[0m\u001b[0m\n\u001b[1;32m----> 2\u001b[1;33m \u001b[0mopm\u001b[0m \u001b[1;33m=\u001b[0m \u001b[0mopen_model\u001b[0m\u001b[1;33m(\u001b[0m\u001b[0mfilename\u001b[0m\u001b[1;33m)\u001b[0m\u001b[1;33m\u001b[0m\u001b[1;33m\u001b[0m\u001b[0m\n\u001b[0m",
      "\u001b[1;32m~\\Anaconda3\\envs\\mypython38\\lib\\site-packages\\rayoptics\\gui\\appcmds.py\u001b[0m in \u001b[0;36mopen_model\u001b[1;34m(file_name, info, post_process_imports, **kwargs)\u001b[0m\n\u001b[0;32m     80\u001b[0m         \u001b[1;31m# if we're importing another program's file, collect import info\u001b[0m\u001b[1;33m\u001b[0m\u001b[1;33m\u001b[0m\u001b[1;33m\u001b[0m\u001b[0m\n\u001b[0;32m     81\u001b[0m         \u001b[1;32mif\u001b[0m \u001b[0mfile_extension\u001b[0m \u001b[1;33m==\u001b[0m \u001b[1;34m'.seq'\u001b[0m\u001b[1;33m:\u001b[0m\u001b[1;33m\u001b[0m\u001b[1;33m\u001b[0m\u001b[0m\n\u001b[1;32m---> 82\u001b[1;33m             \u001b[0mopm\u001b[0m\u001b[1;33m,\u001b[0m \u001b[0mimport_info\u001b[0m \u001b[1;33m=\u001b[0m \u001b[0mcvp\u001b[0m\u001b[1;33m.\u001b[0m\u001b[0mread_lens\u001b[0m\u001b[1;33m(\u001b[0m\u001b[0mfile_name\u001b[0m\u001b[1;33m,\u001b[0m \u001b[1;33m**\u001b[0m\u001b[0mkwargs\u001b[0m\u001b[1;33m)\u001b[0m\u001b[1;33m\u001b[0m\u001b[1;33m\u001b[0m\u001b[0m\n\u001b[0m\u001b[0;32m     83\u001b[0m         \u001b[1;32melif\u001b[0m \u001b[0mfile_extension\u001b[0m \u001b[1;33m==\u001b[0m \u001b[1;34m'.zmx'\u001b[0m\u001b[1;33m:\u001b[0m\u001b[1;33m\u001b[0m\u001b[1;33m\u001b[0m\u001b[0m\n\u001b[0;32m     84\u001b[0m             \u001b[0mopm\u001b[0m\u001b[1;33m,\u001b[0m \u001b[0mimport_info\u001b[0m \u001b[1;33m=\u001b[0m \u001b[0mzmxread\u001b[0m\u001b[1;33m.\u001b[0m\u001b[0mread_lens_file\u001b[0m\u001b[1;33m(\u001b[0m\u001b[0mfile_name\u001b[0m\u001b[1;33m,\u001b[0m \u001b[1;33m**\u001b[0m\u001b[0mkwargs\u001b[0m\u001b[1;33m)\u001b[0m\u001b[1;33m\u001b[0m\u001b[1;33m\u001b[0m\u001b[0m\n",
      "\u001b[1;32m~\\Anaconda3\\envs\\mypython38\\lib\\site-packages\\rayoptics\\codev\\cmdproc.py\u001b[0m in \u001b[0;36mread_lens\u001b[1;34m(filename, **kwargs)\u001b[0m\n\u001b[0;32m     71\u001b[0m         \u001b[1;32mif\u001b[0m \u001b[0mcmd_fct\u001b[0m\u001b[1;33m:\u001b[0m\u001b[1;33m\u001b[0m\u001b[1;33m\u001b[0m\u001b[0m\n\u001b[0;32m     72\u001b[0m             \u001b[0meval_str\u001b[0m \u001b[1;33m=\u001b[0m \u001b[0mcmd_fct\u001b[0m \u001b[1;33m+\u001b[0m \u001b[1;34m'(opt_model, tla, qlist, dlist)'\u001b[0m\u001b[1;33m\u001b[0m\u001b[1;33m\u001b[0m\u001b[0m\n\u001b[1;32m---> 73\u001b[1;33m             \u001b[0meval\u001b[0m\u001b[1;33m(\u001b[0m\u001b[0meval_str\u001b[0m\u001b[1;33m)\u001b[0m\u001b[1;33m\u001b[0m\u001b[1;33m\u001b[0m\u001b[0m\n\u001b[0m\u001b[0;32m     74\u001b[0m         \u001b[1;32melse\u001b[0m\u001b[1;33m:\u001b[0m\u001b[1;33m\u001b[0m\u001b[1;33m\u001b[0m\u001b[0m\n\u001b[0;32m     75\u001b[0m             \u001b[0mlogging\u001b[0m\u001b[1;33m.\u001b[0m\u001b[0minfo\u001b[0m\u001b[1;33m(\u001b[0m\u001b[1;34m'Line %d: Command %s not supported'\u001b[0m\u001b[1;33m,\u001b[0m \u001b[0mi\u001b[0m\u001b[1;33m+\u001b[0m\u001b[1;36m1\u001b[0m\u001b[1;33m,\u001b[0m \u001b[0mc\u001b[0m\u001b[1;33m[\u001b[0m\u001b[1;36m0\u001b[0m\u001b[1;33m]\u001b[0m\u001b[1;33m)\u001b[0m\u001b[1;33m\u001b[0m\u001b[1;33m\u001b[0m\u001b[0m\n",
      "\u001b[1;32m~\\Anaconda3\\envs\\mypython38\\lib\\site-packages\\rayoptics\\codev\\cmdproc.py\u001b[0m in \u001b[0;36m<module>\u001b[1;34m\u001b[0m\n",
      "\u001b[1;32m~\\Anaconda3\\envs\\mypython38\\lib\\site-packages\\rayoptics\\codev\\cmdproc.py\u001b[0m in \u001b[0;36msurface_cmd\u001b[1;34m(opt_model, tla, qlist, dlist)\u001b[0m\n\u001b[0;32m    289\u001b[0m     \u001b[0mseq_model\u001b[0m \u001b[1;33m=\u001b[0m \u001b[0mopt_model\u001b[0m\u001b[1;33m.\u001b[0m\u001b[0mseq_model\u001b[0m\u001b[1;33m\u001b[0m\u001b[1;33m\u001b[0m\u001b[0m\n\u001b[0;32m    290\u001b[0m     \u001b[0midx\u001b[0m\u001b[1;33m,\u001b[0m \u001b[1;33m=\u001b[0m \u001b[0mget_index_qualifier\u001b[0m\u001b[1;33m(\u001b[0m\u001b[0mseq_model\u001b[0m\u001b[1;33m,\u001b[0m \u001b[1;34m'S'\u001b[0m\u001b[1;33m,\u001b[0m \u001b[0mqlist\u001b[0m\u001b[1;33m)\u001b[0m\u001b[1;33m\u001b[0m\u001b[1;33m\u001b[0m\u001b[0m\n\u001b[1;32m--> 291\u001b[1;33m     \u001b[0mupdate_surface_and_gap\u001b[0m\u001b[1;33m(\u001b[0m\u001b[0mopt_model\u001b[0m\u001b[1;33m,\u001b[0m \u001b[0mdlist\u001b[0m\u001b[1;33m,\u001b[0m \u001b[0midx\u001b[0m\u001b[1;33m)\u001b[0m\u001b[1;33m\u001b[0m\u001b[1;33m\u001b[0m\u001b[0m\n\u001b[0m\u001b[0;32m    292\u001b[0m \u001b[1;33m\u001b[0m\u001b[0m\n\u001b[0;32m    293\u001b[0m \u001b[1;33m\u001b[0m\u001b[0m\n",
      "\u001b[1;32m~\\Anaconda3\\envs\\mypython38\\lib\\site-packages\\rayoptics\\codev\\cmdproc.py\u001b[0m in \u001b[0;36mupdate_surface_and_gap\u001b[1;34m(opt_model, dlist, idx)\u001b[0m\n\u001b[0;32m    315\u001b[0m                 \u001b[0mg\u001b[0m\u001b[1;33m.\u001b[0m\u001b[0mmedium\u001b[0m \u001b[1;33m=\u001b[0m \u001b[0mseq_model\u001b[0m\u001b[1;33m.\u001b[0m\u001b[0mgaps\u001b[0m\u001b[1;33m[\u001b[0m\u001b[0mseq_model\u001b[0m\u001b[1;33m.\u001b[0m\u001b[0mcur_surface\u001b[0m\u001b[1;33m-\u001b[0m\u001b[1;36m1\u001b[0m\u001b[1;33m]\u001b[0m\u001b[1;33m.\u001b[0m\u001b[0mmedium\u001b[0m\u001b[1;33m\u001b[0m\u001b[1;33m\u001b[0m\u001b[0m\n\u001b[0;32m    316\u001b[0m             \u001b[1;32melse\u001b[0m\u001b[1;33m:\u001b[0m\u001b[1;33m\u001b[0m\u001b[1;33m\u001b[0m\u001b[0m\n\u001b[1;32m--> 317\u001b[1;33m                 \u001b[0mg\u001b[0m\u001b[1;33m.\u001b[0m\u001b[0mmedium\u001b[0m \u001b[1;33m=\u001b[0m \u001b[0m_glass_handler\u001b[0m\u001b[1;33m.\u001b[0m\u001b[0mprocess_glass_data\u001b[0m\u001b[1;33m(\u001b[0m\u001b[0mdlist\u001b[0m\u001b[1;33m[\u001b[0m\u001b[1;36m2\u001b[0m\u001b[1;33m]\u001b[0m\u001b[1;33m)\u001b[0m\u001b[1;33m\u001b[0m\u001b[1;33m\u001b[0m\u001b[0m\n\u001b[0m\u001b[0;32m    318\u001b[0m \u001b[1;33m\u001b[0m\u001b[0m\n\u001b[0;32m    319\u001b[0m     \u001b[1;32melse\u001b[0m\u001b[1;33m:\u001b[0m\u001b[1;33m\u001b[0m\u001b[1;33m\u001b[0m\u001b[0m\n",
      "\u001b[1;32m~\\Anaconda3\\envs\\mypython38\\lib\\site-packages\\rayoptics\\codev\\cmdproc.py\u001b[0m in \u001b[0;36mprocess_glass_data\u001b[1;34m(self, glass_data)\u001b[0m\n\u001b[0;32m    609\u001b[0m                         \u001b[0mname\u001b[0m \u001b[1;33m=\u001b[0m \u001b[0mname\u001b[0m\u001b[1;33m[\u001b[0m\u001b[1;33m:\u001b[0m\u001b[1;33m-\u001b[0m\u001b[1;36m1\u001b[0m\u001b[1;33m]\u001b[0m\u001b[1;33m+\u001b[0m\u001b[1;34m' '\u001b[0m\u001b[1;33m+\u001b[0m\u001b[0mname\u001b[0m\u001b[1;33m[\u001b[0m\u001b[1;33m-\u001b[0m\u001b[1;36m1\u001b[0m\u001b[1;33m]\u001b[0m\u001b[1;33m\u001b[0m\u001b[1;33m\u001b[0m\u001b[0m\n\u001b[0;32m    610\u001b[0m \u001b[1;33m\u001b[0m\u001b[0m\n\u001b[1;32m--> 611\u001b[1;33m             \u001b[0mmedium\u001b[0m \u001b[1;33m=\u001b[0m \u001b[0mself\u001b[0m\u001b[1;33m.\u001b[0m\u001b[0mfind_glass\u001b[0m\u001b[1;33m(\u001b[0m\u001b[0mname\u001b[0m\u001b[1;33m,\u001b[0m \u001b[0mcatalog\u001b[0m\u001b[1;33m,\u001b[0m \u001b[0malways\u001b[0m\u001b[1;33m=\u001b[0m\u001b[1;32mFalse\u001b[0m\u001b[1;33m)\u001b[0m\u001b[1;33m\u001b[0m\u001b[1;33m\u001b[0m\u001b[0m\n\u001b[0m\u001b[0;32m    612\u001b[0m             \u001b[1;32mif\u001b[0m \u001b[0mmedium\u001b[0m\u001b[1;33m:\u001b[0m\u001b[1;33m\u001b[0m\u001b[1;33m\u001b[0m\u001b[0m\n\u001b[0;32m    613\u001b[0m                 \u001b[1;32mreturn\u001b[0m \u001b[0mmedium\u001b[0m\u001b[1;33m\u001b[0m\u001b[1;33m\u001b[0m\u001b[0m\n",
      "\u001b[1;32m~\\Anaconda3\\envs\\mypython38\\lib\\site-packages\\rayoptics\\seq\\medium.py\u001b[0m in \u001b[0;36mfind_glass\u001b[1;34m(self, name, catalog, always)\u001b[0m\n\u001b[0;32m    250\u001b[0m             \u001b[1;32mif\u001b[0m \u001b[0mcatalog\u001b[0m \u001b[1;32mis\u001b[0m \u001b[1;32mNone\u001b[0m \u001b[1;32mor\u001b[0m \u001b[0mlen\u001b[0m\u001b[1;33m(\u001b[0m\u001b[0mcatalog\u001b[0m\u001b[1;33m)\u001b[0m \u001b[1;33m==\u001b[0m \u001b[1;36m0\u001b[0m\u001b[1;33m:\u001b[0m\u001b[1;33m\u001b[0m\u001b[1;33m\u001b[0m\u001b[0m\n\u001b[0;32m    251\u001b[0m                 \u001b[0mcatalog\u001b[0m \u001b[1;33m=\u001b[0m \u001b[0mgfact\u001b[0m\u001b[1;33m.\u001b[0m\u001b[0m_cat_names\u001b[0m\u001b[1;33m\u001b[0m\u001b[1;33m\u001b[0m\u001b[0m\n\u001b[1;32m--> 252\u001b[1;33m             \u001b[0mmedium\u001b[0m \u001b[1;33m=\u001b[0m \u001b[0mcreate_glass\u001b[0m\u001b[1;33m(\u001b[0m\u001b[0mname\u001b[0m\u001b[1;33m,\u001b[0m \u001b[0mcatalog\u001b[0m\u001b[1;33m)\u001b[0m\u001b[1;33m\u001b[0m\u001b[1;33m\u001b[0m\u001b[0m\n\u001b[0m\u001b[0;32m    253\u001b[0m         \u001b[1;32mexcept\u001b[0m \u001b[0mglasserror\u001b[0m\u001b[1;33m.\u001b[0m\u001b[0mGlassNotFoundError\u001b[0m\u001b[1;33m:\u001b[0m\u001b[1;33m\u001b[0m\u001b[1;33m\u001b[0m\u001b[0m\n\u001b[0;32m    254\u001b[0m             \u001b[1;32mpass\u001b[0m\u001b[1;33m\u001b[0m\u001b[1;33m\u001b[0m\u001b[0m\n",
      "\u001b[1;32m~\\Anaconda3\\envs\\mypython38\\lib\\site-packages\\opticalglass\\glassfactory.py\u001b[0m in \u001b[0;36mcreate_glass\u001b[1;34m(*name_catalog)\u001b[0m\n\u001b[0;32m     80\u001b[0m \u001b[1;33m\u001b[0m\u001b[0m\n\u001b[0;32m     81\u001b[0m     \u001b[1;32mif\u001b[0m \u001b[0misinstance\u001b[0m\u001b[1;33m(\u001b[0m\u001b[0mcatalog\u001b[0m\u001b[1;33m,\u001b[0m \u001b[0mstr\u001b[0m\u001b[1;33m)\u001b[0m\u001b[1;33m:\u001b[0m\u001b[1;33m\u001b[0m\u001b[1;33m\u001b[0m\u001b[0m\n\u001b[1;32m---> 82\u001b[1;33m         \u001b[1;32mreturn\u001b[0m \u001b[0m_create_glass\u001b[0m\u001b[1;33m(\u001b[0m\u001b[0mname\u001b[0m\u001b[1;33m,\u001b[0m \u001b[0mcatalog\u001b[0m\u001b[1;33m)\u001b[0m\u001b[1;33m\u001b[0m\u001b[1;33m\u001b[0m\u001b[0m\n\u001b[0m\u001b[0;32m     83\u001b[0m \u001b[1;33m\u001b[0m\u001b[0m\n\u001b[0;32m     84\u001b[0m     \u001b[1;32melse\u001b[0m\u001b[1;33m:\u001b[0m  \u001b[1;31m# treat catalog as a list\u001b[0m\u001b[1;33m\u001b[0m\u001b[1;33m\u001b[0m\u001b[0m\n",
      "\u001b[1;32m~\\Anaconda3\\envs\\mypython38\\lib\\site-packages\\opticalglass\\glassfactory.py\u001b[0m in \u001b[0;36m_create_glass\u001b[1;34m(name, catalog)\u001b[0m\n\u001b[0;32m     72\u001b[0m         \u001b[1;32melse\u001b[0m\u001b[1;33m:\u001b[0m\u001b[1;33m\u001b[0m\u001b[1;33m\u001b[0m\u001b[0m\n\u001b[0;32m     73\u001b[0m             \u001b[0mlogging\u001b[0m\u001b[1;33m.\u001b[0m\u001b[0minfo\u001b[0m\u001b[1;33m(\u001b[0m\u001b[1;34m'glass catalog %s not found'\u001b[0m\u001b[1;33m,\u001b[0m \u001b[0mcatalog\u001b[0m\u001b[1;33m)\u001b[0m\u001b[1;33m\u001b[0m\u001b[1;33m\u001b[0m\u001b[0m\n\u001b[1;32m---> 74\u001b[1;33m             \u001b[1;32mraise\u001b[0m \u001b[0mge\u001b[0m\u001b[1;33m.\u001b[0m\u001b[0mGlassCatalogNotFoundError\u001b[0m\u001b[1;33m(\u001b[0m\u001b[0mcatalog\u001b[0m\u001b[1;33m)\u001b[0m\u001b[1;33m\u001b[0m\u001b[1;33m\u001b[0m\u001b[0m\n\u001b[0m\u001b[0;32m     75\u001b[0m \u001b[1;33m\u001b[0m\u001b[0m\n\u001b[0;32m     76\u001b[0m     \u001b[1;32mif\u001b[0m \u001b[0mlen\u001b[0m\u001b[1;33m(\u001b[0m\u001b[0mname_catalog\u001b[0m\u001b[1;33m)\u001b[0m \u001b[1;33m==\u001b[0m \u001b[1;36m2\u001b[0m\u001b[1;33m:\u001b[0m\u001b[1;33m\u001b[0m\u001b[1;33m\u001b[0m\u001b[0m\n",
      "\u001b[1;31mGlassCatalogNotFoundError\u001b[0m: SPECIAL"
     ]
    }
   ],
   "source": [
    "root_pth = Path(rayoptics.__file__).resolve().parent\n",
    "opm = open_model(filename)"
   ]
  },
  {
   "cell_type": "code",
   "execution_count": null,
   "id": "e3f73ab5",
   "metadata": {},
   "outputs": [],
   "source": [
    "sm  = opm['seq_model']\n",
    "osp = opm['optical_spec']\n",
    "pm = opm['parax_model']\n",
    "em = opm['ele_model']\n",
    "pt = opm['part_tree']\n",
    "ar = opm['analysis_results']"
   ]
  },
  {
   "cell_type": "code",
   "execution_count": null,
   "id": "91f0e834",
   "metadata": {},
   "outputs": [],
   "source": [
    "sm.list_model()"
   ]
  },
  {
   "cell_type": "code",
   "execution_count": null,
   "id": "8edb069b",
   "metadata": {},
   "outputs": [],
   "source": []
  }
 ],
 "metadata": {
  "kernelspec": {
   "display_name": "Python 3 (ipykernel)",
   "language": "python",
   "name": "python3"
  },
  "language_info": {
   "codemirror_mode": {
    "name": "ipython",
    "version": 3
   },
   "file_extension": ".py",
   "mimetype": "text/x-python",
   "name": "python",
   "nbconvert_exporter": "python",
   "pygments_lexer": "ipython3",
   "version": "3.8.11"
  }
 },
 "nbformat": 4,
 "nbformat_minor": 5
}
