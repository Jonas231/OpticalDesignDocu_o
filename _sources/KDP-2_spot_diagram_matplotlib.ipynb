{
 "cells": [
  {
   "cell_type": "markdown",
   "id": "edecc459",
   "metadata": {},
   "source": [
    "# Create spot diagram and plot with python\n",
    "\n",
    "This section exemplarily creates a list of commands that generate a spot diagram, save its contents to a file, and read and plot this file with python. \n",
    "\n",
    "## A file with a list of KDP-2 commands:"
   ]
  },
  {
   "cell_type": "code",
   "execution_count": 146,
   "id": "21a3a269",
   "metadata": {},
   "outputs": [],
   "source": [
    "import numpy as np\n",
    "def built_spd_mac(file, a, b):\n",
    "    macroname = 'buildSPD'\n",
    "    file = open(file, \"w\")\n",
    "    def write_line(file, L):\n",
    "        file.writelines(L)\n",
    "        file.write(\"\\n\")\n",
    "\n",
    "\n",
    "    #write_line(file, L=['MACRO ' + str(macroname)])\n",
    "    # FOB ... object point specification, manual p. 159\n",
    "    # This command defines the object point from which subsequent rays will be traced\n",
    "    # FOB (qualifier word) , Y, X, Z, n, m\n",
    "\n",
    "    if isinstance(a, list) and isinstance(b, list):\n",
    "        #filename = \"multi_fob_\"+str(a[0])+\"_to_\"+str(a[-1])+\"__\"+str(b[0])+\"_to_\"+str(b[-1])\n",
    "        for i in range(0, len(a)):\n",
    "            filename = str(a[i]) + '_' + str(b[i])\n",
    "            # for one object point specification (field)\n",
    "            write_line(file, L=['VIG ON'])\n",
    "            write_line(file, L=['FOB, ' + str(a[i]) + ' ' + str(b[i])])\n",
    "            write_line(file, L=['SPD'])\n",
    "            # create an ascii file with the current spd\n",
    "            write_line(file, L=['AWRTSPOT spd_' + filename])\n",
    "    else:\n",
    "        filename = str(a)+'_'+str(b)\n",
    "        # for one object point specification (field)\n",
    "        write_line(file, L=['FOB, ' + str(a) + ' '+ str(b)])\n",
    "        write_line(file, L=['SPD'])\n",
    "        # create an ascii file with the current spd\n",
    "        write_line(file, L=['AWRTSPOT spd_'+filename])\n",
    "\n",
    "    #write_line(file, L=['EOM'])\n",
    "    file.close()\n",
    "\n",
    "path_KDP_mac_spd = r'C:\\Work\\Tools\\KDP\\create_spd.DAT'\n",
    "path_KDP_mac_spd_multi = r'C:\\Work\\Tools\\KDP\\create_spd_multi.DAT'\n",
    "built_spd_mac(path_KDP_mac_spd, a = 0.1, b = 0.1)\n",
    "\n",
    "a = np.linspace(0, 0.1, num = 11)\n",
    "b = np.linspace(0, 0.1, num = 11)\n",
    "A,B = np.meshgrid(a,b)\n",
    "built_spd_mac(path_KDP_mac_spd_multi, a = A.flatten().tolist(), b = B.flatten().tolist())"
   ]
  },
  {
   "cell_type": "markdown",
   "id": "302ada8c",
   "metadata": {},
   "source": [
    "Now go to KDP-2 and execute the created macro width the command \"input file create_spd.DAT\" in the command line."
   ]
  },
  {
   "cell_type": "markdown",
   "id": "10a40947",
   "metadata": {},
   "source": [
    "## Open and plot with python\n",
    "Use the below python function to open and plot the .ASC file created by the KDP-2 \"macro\", i.e. list of commands:\n"
   ]
  },
  {
   "cell_type": "code",
   "execution_count": 147,
   "id": "c9168b2c",
   "metadata": {},
   "outputs": [
    {
     "name": "stdout",
     "output_type": "stream",
     "text": [
      "(165, 25, 2)\n",
      "[-3.63362810e+18 -3.63362810e+18  0.00000000e+00  3.62884001e-02\n",
      "  3.62884001e-02  9.98682284e-01]\n",
      "(165, 25, 2)\n"
     ]
    }
   ],
   "source": [
    "import os\n",
    "filename = os.path.join(os.path.dirname(path_KDP_mac_spd_multi), \"SPD_0.1_.ASC\")\n",
    "#filename = os.path.join(os.path.dirname(path_KDP_mac_spd_multi), \"SPD_0.01.ASC\")\n",
    "def load_spd(filename):\n",
    "    N_rays = int(np.loadtxt(filename, skiprows=0, max_rows = 1))-1\n",
    "    spd_L = []\n",
    "    for n in range(0, N_rays):\n",
    "        #print(\"n = \", n)\n",
    "        spd = np.loadtxt(filename, skiprows=1+n*25, max_rows=25, dtype='str')\n",
    "        spd = np.char.replace(spd, 'D', 'E').astype(np.float64)\n",
    "        spd_L.append(spd)\n",
    "    spd_L = np.array(spd_L)\n",
    "\n",
    "    # x,y,z, l, m, n and wavelength number of chief ray at object surface\n",
    "    # see KDP-2 manual, p. 178\n",
    "    chief_ray_info = np.loadtxt(filename, skiprows = 1+n*25 + 25, max_rows = 6, dtype = 'str')\n",
    "    chief_ray_info = np.char.replace(chief_ray_info , 'D', 'E').astype(np.float64)\n",
    "    return chief_ray_info, spd_L\n",
    "\n",
    "chief_ray_info, spd_L = load_spd(filename)\n",
    "\n",
    "print(spd_L.shape)\n",
    "\n",
    "import matplotlib as mpl\n",
    "import matplotlib.pyplot as plt\n",
    "mpl.rcParams['mathtext.default'] = 'regular'\n",
    "plt.close(\"all\")\n",
    "%matplotlib widget\n",
    "\n",
    "\n",
    "\n",
    "def plot_spot_diag(spd_L, unit = \"mum\"):\n",
    "    #unit = \"mm\"\n",
    "    if unit == \"mum\":\n",
    "        unit = \"$\\mu$m\"\n",
    "    if unit == \"mm\":\n",
    "        fac = 1\n",
    "    if unit == \"$\\mu$m\":\n",
    "        fac = 1000\n",
    "    fig = plt.figure(\"spd\", figsize =(8,8))\n",
    "    ax = plt.subplot(111)\n",
    "    ax.title.set_text('spot diagram')\n",
    "   \n",
    "\n",
    "    ax.set_xlabel('x-dist. / '+str(unit))\n",
    "    ax.set_ylabel('y-dist. / '+str(unit))\n",
    "    plt.minorticks_on()\n",
    "    plt.grid(which='major', axis='both', color = 'lightgray', linestyle = ':')\n",
    "    plt.grid(which='minor', axis='both', color = 'lightgray', linestyle = ':')\n",
    "    plt.subplots_adjust(left=0.25, bottom=0.25, right=None, top=None, wspace=None, hspace=None)\n",
    "\n",
    "    def centroidnp(arr):\n",
    "        length = arr.shape[0]\n",
    "        sum_x = np.nansum(arr[:, 0])\n",
    "        sum_y = np.nansum(arr[:, 1])\n",
    "        return sum_x/length, sum_y/length\n",
    "    \n",
    "    \n",
    "    \n",
    "    ax.tick_params(axis='both', which = 'both', direction = 'in')\n",
    "    \n",
    "\n",
    " \n",
    "    points_xy = spd_L[:,0,0:2]    # 0 selects x and y, 0:2 keeps both\n",
    "    points_xy = points_xy[points_xy[:,0] != 0] #= np.nan\n",
    "    centroid = centroidnp(points_xy)\n",
    "    \n",
    "    points_xc = points_xy[:,0]-centroid[0]\n",
    "    points_yc = points_xy[:,1]-centroid[1]\n",
    "\n",
    "    \n",
    "    ax.scatter(points_xc*fac, points_yc*fac, marker = '+', color = 'blue', linewidth = 0.5)\n",
    "        #print(\"x = \", points_xc, \"y = \", points_yc )\n",
    "        #points_xc_L.append(points_xc)\n",
    "        #points_yc_L.append(points_yc)\n",
    "        \n",
    "\n",
    "    \n",
    "    centroidc = (0,0)\n",
    "    print(\"centroid: \", centroid)\n",
    "    \n",
    "    ax.axhline(y=centroidc[1]*fac, color='green', linestyle='--', linewidth = 0.5)\n",
    "    ax.axvline(x=centroidc[0]*fac, color='green', linestyle='--', linewidth = 0.5)\n",
    "\n",
    "\n",
    "    Maxx = np.abs(np.max(points_xc*fac))\n",
    "    Minx = np.abs(np.min(points_xc*fac))\n",
    "    Limx = np.max([Maxx,Minx])\n",
    "    Max = np.abs(np.max(points_yc*fac))\n",
    "    Min = np.abs(np.min(points_yc*fac))\n",
    "    Limy = np.max([Max,Min])\n",
    "\n",
    "    Lim = np.max([Limx,Limy])\n",
    "    #ax.set_xlim(-Lim,Lim)\n",
    "    #ax.set_ylim(-Lim,Lim)\n",
    "\n",
    "    ax.annotate(str(np.round(centroid,decimals = 3))+\" mm\", (centroidc[0]+Lim/20, centroidc[1]+Lim/20), \n",
    "                fontsize = 8, color = 'green')\n",
    "\n",
    "    start = -np.floor(Lim*10)/10\n",
    "    end = -start\n",
    "    stepsize = end/2\n",
    "    #ax.xaxis.set_ticks(np.arange(start, end+stepsize, stepsize))\n",
    "    #ax.yaxis.set_ticks(np.arange(start, end+stepsize, stepsize))\n",
    "    return centroid, points_xc, points_yc\n",
    "\n",
    "print(chief_ray_info)\n",
    "print(spd_L.shape)\n",
    "\n",
    "\n"
   ]
  },
  {
   "cell_type": "markdown",
   "id": "0a01179d",
   "metadata": {},
   "source": [
    "Plotting with matplotlib:"
   ]
  },
  {
   "cell_type": "code",
   "execution_count": 148,
   "id": "c32b2ef4",
   "metadata": {},
   "outputs": [
    {
     "name": "stdout",
     "output_type": "stream",
     "text": [
      "centroid:  (3.5854502175502745, 3.5854502175502754)\n",
      "centroid =  (3.5854502175502745, 3.5854502175502754)\n"
     ]
    },
    {
     "data": {
      "application/vnd.jupyter.widget-view+json": {
       "model_id": "5f30594437c747dea8a1a7ec670ae060",
       "version_major": 2,
       "version_minor": 0
      },
      "image/png": "[encoded data removed]",
      "text/html": [
       "\n",
       "            <div style=\"display: inline-block;\">\n",
       "                <div class=\"jupyter-widgets widget-label\" style=\"text-align: center;\">\n",
       "                    spd\n",
       "                </div>\n",
       "                <img src='data:image/png;base64,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' width=800.0/>\n",
       "            </div>\n",
       "        "
      ],
      "text/plain": [
       "Canvas(toolbar=Toolbar(toolitems=[('Home', 'Reset original view', 'home', 'home'), ('Back', 'Back to previous …"
      ]
     },
     "metadata": {},
     "output_type": "display_data"
    }
   ],
   "source": [
    "centroid, points_xc, points_yc = plot_spot_diag(spd_L, unit = \"mm\")\n",
    "print(\"centroid = \", centroid)"
   ]
  },
  {
   "cell_type": "markdown",
   "id": "64c2a0eb",
   "metadata": {},
   "source": [
    "Using plotly for plotting:"
   ]
  },
  {
   "cell_type": "code",
   "execution_count": 149,
   "id": "1b65cba3",
   "metadata": {},
   "outputs": [],
   "source": [
    "import plotly.io as pio\n",
    "import plotly.express as px\n",
    "import plotly.offline as py"
   ]
  },
  {
   "cell_type": "code",
   "execution_count": 152,
   "id": "3a4d2e1b",
   "metadata": {},
   "outputs": [
    {
     "data": {
      "application/vnd.plotly.v1+json": {
       "config": {
        "plotlyServerURL": "https://plot.ly"
       },
       "data": [
        {
         "hovertemplate": "x-dist. / mm=%{x}<br>y-dist. / mm=%{y}<extra></extra>",
         "legendgroup": "",
         "marker": {
          "color": "#636efa",
          "symbol": "circle"
         },
         "mode": "markers",
         "name": "",
         "orientation": "v",
         "showlegend": false,
         "type": "scatter",
         "x": [
          -0.0010395608973743364,
          0.036138343553495655,
          0.026412366656445307,
          0.0005065883014254702,
          -0.02572429444975466,
          -0.03731807229275441,
          -0.02760280627387468,
          -0.0020972066945446066,
          0.024144049436955584,
          0.014883119127115485,
          0.012947384039435406,
          0.00224180035375543,
          -0.008960474633414428,
          -0.016264247586584624,
          -0.014353820057604327,
          -0.0034362412011543775,
          0.007790340706455456,
          0.03939136572891533,
          0.03183501906611541,
          0.0034084933874254375,
          -0.024452610005334385,
          -0.03938257329281436,
          -0.03184189912331448,
          -0.004601809777324384,
          0.023280052557515418,
          -0.11309375996482451,
          0.11211278770654554,
          0.001209986639675531,
          0.02645074914823553,
          0.02013389674908561,
          0.002633578409095616,
          -0.015261852236674311,
          -0.023472403348234305,
          -0.01716541751670464,
          0.0001363292571854302,
          0.018041268010495326,
          0.006597473686725586,
          0.007516129031085672,
          0.004175387023845456,
          2.5573072695461718e-05,
          -0.004672177793834553,
          -0.005613751304074377,
          -0.001335276588144474,
          0.002836276552035333,
          0.04318778343400531,
          0.034875405755165456,
          0.005211291594705347,
          -0.02431738217430457,
          -0.040392919873704525,
          -0.032092199135434374,
          -0.002623190711184442,
          0.02692227726368568,
          -0.1305015157334446,
          0.13306448089848555,
          -0.002079562842094429,
          0.0447763092961857,
          0.03225220984350541,
          -0.0004765876191843432,
          -0.03351314512179471,
          -0.047908749692754604,
          -0.03539570662562452,
          -0.0031314160073243613,
          0.029915871244795333,
          0.027115963316715508,
          0.021388539429865627,
          0.0013489360643657022,
          -0.019087333776234505,
          -0.030114798258524367,
          -0.024413608699494382,
          -0.0044115391854444574,
          0.016050065305045713,
          0.049229125015225694,
          0.038615060780185395,
          0.0025790156360954164,
          -0.03274758080983453,
          -0.05061689808212444,
          -0.04001997794895429,
          -0.005521467977214645,
          0.02982742888620571,
          -0.11598150229841453,
          0.11336887490040537,
          0.0028483804866756834,
          0.028115147483155578,
          0.0217189416524457,
          0.004182929455685436,
          -0.013830207208174627,
          -0.022170843376214666,
          -0.015783796049384513,
          0.001760675659895572,
          0.019782599441485527,
          0.01822258371036556,
          0.01602452478232541,
          0.005586462250435353,
          -0.0059794912874244766,
          -0.014070127448504444,
          -0.011892881572704628,
          0.00018918897226560816,
          0.011774684695355475,
          0.07038112232219573,
          0.05433977758690567,
          0.006534295347665697,
          -0.04155864576786428,
          -0.06577013036652435,
          -0.04973671605782437,
          -0.0011882456177145784,
          0.04691800534958546,
          -0.16629223566244455,
          0.17146053254474536,
          -0.002689562056584549,
          0.051106772815805446,
          0.0365701503921656,
          -0.001053147478004668,
          -0.03897873374010441,
          -0.055394049278574276,
          -0.04086867327096444,
          -0.00373869359408463,
          0.034197819186725376,
          0.036838922774955485,
          0.028137914756135363,
          0.0008255698595553973,
          -0.026838652101294436,
          -0.04081468472302463,
          -0.03214040252399464,
          -0.004985250357634641,
          0.022704862795325464,
          0.05850655844409536,
          0.04506812058133569,
          0.002093620983985467,
          -0.04010441215637428,
          -0.06074853578584438,
          -0.04732799106088459,
          -0.006063033108614668,
          0.03615811817120562,
          -0.12097391565242432,
          0.11740511554575539
         ],
         "xaxis": "x",
         "y": [
          -0.0010395608973752246,
          0.000506588301424582,
          0.02641236665644442,
          0.03613834355349477,
          0.024144049436954695,
          -0.002097206694545495,
          -0.02760280627387557,
          -0.0373180722927553,
          -0.025724294449755547,
          0.0022418003537545417,
          0.012947384039434517,
          0.014883119127114597,
          0.007790340706454568,
          -0.0034362412011552657,
          -0.014353820057605216,
          -0.016264247586585512,
          -0.008960474633405546,
          0.0034084933874147794,
          0.03183501906611452,
          0.03939136572891444,
          0.02328005255751453,
          -0.004601809777315502,
          -0.031841899123305595,
          -0.03938257329281525,
          -0.024452610005335274,
          0.11211278770654465,
          -0.11309375996483517,
          0.0012099866396746428,
          0.002633578409094728,
          0.020133896749084723,
          0.026450749148234642,
          0.018041268010494438,
          0.00013632925718454203,
          -0.017165417516705528,
          -0.023472403348235193,
          -0.0152618522366752,
          0.004175387023854782,
          0.007516129031084784,
          0.0065974736867246975,
          0.0028362765520344446,
          -0.001335276588145362,
          -0.005613751304085479,
          -0.004672177793835441,
          2.557307269457354e-05,
          0.005211291594704459,
          0.03487540575516457,
          0.04318778343400442,
          0.02692227726368479,
          -0.0026231907111853303,
          -0.03209219913543526,
          -0.04039291987370541,
          -0.024317382174295243,
          0.13306448089848466,
          -0.13050151573343527,
          -0.002079562842095317,
          -0.0004765876191852314,
          0.03225220984350452,
          0.04477630929619458,
          0.029915871244794445,
          -0.0031314160073154795,
          -0.03539570662562541,
          -0.04790874969275549,
          -0.033513145121795596,
          0.001348936064364814,
          0.02138853942986474,
          0.02711596331671462,
          0.016050065305044825,
          -0.004411539185445346,
          -0.02441360869949527,
          -0.030114798258525255,
          -0.019087333776235393,
          0.0025790156360945282,
          0.03861506078018451,
          0.04922912501521459,
          0.02982742888620482,
          -0.005521467977215533,
          -0.04001997794895518,
          -0.050616898082105344,
          -0.03274758080983542,
          0.11336887490040448,
          -0.1159815022984052,
          0.0028483804866747953,
          0.0041829294556845475,
          0.021718941652444812,
          0.02811514748315469,
          0.01978259944148464,
          0.0017606756598946838,
          -0.0157837960493854,
          -0.022170843376215554,
          -0.013830207208175516,
          0.005586462250434465,
          0.016024524782324523,
          0.01822258371036467,
          0.011774684695364801,
          0.00018918897226471998,
          -0.011892881572705516,
          -0.014070127448505332,
          -0.005979491287425365,
          0.006534295347664809,
          0.05433977758690478,
          0.07038112232219484,
          0.04691800534959478,
          -0.0011882456177154666,
          -0.04973671605782526,
          -0.06577013036653545,
          -0.04155864576787538,
          0.17146053254474447,
          -0.16629223566244544,
          -0.0026895620565854372,
          -0.001053147478005556,
          0.03657015039216471,
          0.05110677281580456,
          0.03419781918672449,
          -0.003738693594085518,
          -0.04086867327096533,
          -0.055394049278575164,
          -0.0389787337401053,
          0.0008255698595545091,
          0.028137914756134474,
          0.0368389227749546,
          0.022704862795324576,
          -0.004985250357635529,
          -0.032140402523995526,
          -0.04081468472302552,
          -0.026838652101295324,
          0.002093620983994793,
          0.0450681205813348,
          0.05850655844409447,
          0.036158118171204734,
          -0.0060630331086155564,
          -0.04732799106087526,
          -0.06074853578584527,
          -0.04010441215637517,
          0.11740511554576472,
          -0.12097391565240523
         ],
         "yaxis": "y"
        }
       ],
       "layout": {
        "legend": {
         "tracegroupgap": 0
        },
        "margin": {
         "t": 60
        },
        "template": {
         "data": {
          "bar": [
           {
            "error_x": {
             "color": "#2a3f5f"
            },
            "error_y": {
             "color": "#2a3f5f"
            },
            "marker": {
             "line": {
              "color": "#E5ECF6",
              "width": 0.5
             },
             "pattern": {
              "fillmode": "overlay",
              "size": 10,
              "solidity": 0.2
             }
            },
            "type": "bar"
           }
          ],
          "barpolar": [
           {
            "marker": {
             "line": {
              "color": "#E5ECF6",
              "width": 0.5
             },
             "pattern": {
              "fillmode": "overlay",
              "size": 10,
              "solidity": 0.2
             }
            },
            "type": "barpolar"
           }
          ],
          "carpet": [
           {
            "aaxis": {
             "endlinecolor": "#2a3f5f",
             "gridcolor": "white",
             "linecolor": "white",
             "minorgridcolor": "white",
             "startlinecolor": "#2a3f5f"
            },
            "baxis": {
             "endlinecolor": "#2a3f5f",
             "gridcolor": "white",
             "linecolor": "white",
             "minorgridcolor": "white",
             "startlinecolor": "#2a3f5f"
            },
            "type": "carpet"
           }
          ],
          "choropleth": [
           {
            "colorbar": {
             "outlinewidth": 0,
             "ticks": ""
            },
            "type": "choropleth"
           }
          ],
          "contour": [
           {
            "colorbar": {
             "outlinewidth": 0,
             "ticks": ""
            },
            "colorscale": [
             [
              0,
              "#0d0887"
             ],
             [
              0.1111111111111111,
              "#46039f"
             ],
             [
              0.2222222222222222,
              "#7201a8"
             ],
             [
              0.3333333333333333,
              "#9c179e"
             ],
             [
              0.4444444444444444,
              "#bd3786"
             ],
             [
              0.5555555555555556,
              "#d8576b"
             ],
             [
              0.6666666666666666,
              "#ed7953"
             ],
             [
              0.7777777777777778,
              "#fb9f3a"
             ],
             [
              0.8888888888888888,
              "#fdca26"
             ],
             [
              1,
              "#f0f921"
             ]
            ],
            "type": "contour"
           }
          ],
          "contourcarpet": [
           {
            "colorbar": {
             "outlinewidth": 0,
             "ticks": ""
            },
            "type": "contourcarpet"
           }
          ],
          "heatmap": [
           {
            "colorbar": {
             "outlinewidth": 0,
             "ticks": ""
            },
            "colorscale": [
             [
              0,
              "#0d0887"
             ],
             [
              0.1111111111111111,
              "#46039f"
             ],
             [
              0.2222222222222222,
              "#7201a8"
             ],
             [
              0.3333333333333333,
              "#9c179e"
             ],
             [
              0.4444444444444444,
              "#bd3786"
             ],
             [
              0.5555555555555556,
              "#d8576b"
             ],
             [
              0.6666666666666666,
              "#ed7953"
             ],
             [
              0.7777777777777778,
              "#fb9f3a"
             ],
             [
              0.8888888888888888,
              "#fdca26"
             ],
             [
              1,
              "#f0f921"
             ]
            ],
            "type": "heatmap"
           }
          ],
          "heatmapgl": [
           {
            "colorbar": {
             "outlinewidth": 0,
             "ticks": ""
            },
            "colorscale": [
             [
              0,
              "#0d0887"
             ],
             [
              0.1111111111111111,
              "#46039f"
             ],
             [
              0.2222222222222222,
              "#7201a8"
             ],
             [
              0.3333333333333333,
              "#9c179e"
             ],
             [
              0.4444444444444444,
              "#bd3786"
             ],
             [
              0.5555555555555556,
              "#d8576b"
             ],
             [
              0.6666666666666666,
              "#ed7953"
             ],
             [
              0.7777777777777778,
              "#fb9f3a"
             ],
             [
              0.8888888888888888,
              "#fdca26"
             ],
             [
              1,
              "#f0f921"
             ]
            ],
            "type": "heatmapgl"
           }
          ],
          "histogram": [
           {
            "marker": {
             "pattern": {
              "fillmode": "overlay",
              "size": 10,
              "solidity": 0.2
             }
            },
            "type": "histogram"
           }
          ],
          "histogram2d": [
           {
            "colorbar": {
             "outlinewidth": 0,
             "ticks": ""
            },
            "colorscale": [
             [
              0,
              "#0d0887"
             ],
             [
              0.1111111111111111,
              "#46039f"
             ],
             [
              0.2222222222222222,
              "#7201a8"
             ],
             [
              0.3333333333333333,
              "#9c179e"
             ],
             [
              0.4444444444444444,
              "#bd3786"
             ],
             [
              0.5555555555555556,
              "#d8576b"
             ],
             [
              0.6666666666666666,
              "#ed7953"
             ],
             [
              0.7777777777777778,
              "#fb9f3a"
             ],
             [
              0.8888888888888888,
              "#fdca26"
             ],
             [
              1,
              "#f0f921"
             ]
            ],
            "type": "histogram2d"
           }
          ],
          "histogram2dcontour": [
           {
            "colorbar": {
             "outlinewidth": 0,
             "ticks": ""
            },
            "colorscale": [
             [
              0,
              "#0d0887"
             ],
             [
              0.1111111111111111,
              "#46039f"
             ],
             [
              0.2222222222222222,
              "#7201a8"
             ],
             [
              0.3333333333333333,
              "#9c179e"
             ],
             [
              0.4444444444444444,
              "#bd3786"
             ],
             [
              0.5555555555555556,
              "#d8576b"
             ],
             [
              0.6666666666666666,
              "#ed7953"
             ],
             [
              0.7777777777777778,
              "#fb9f3a"
             ],
             [
              0.8888888888888888,
              "#fdca26"
             ],
             [
              1,
              "#f0f921"
             ]
            ],
            "type": "histogram2dcontour"
           }
          ],
          "mesh3d": [
           {
            "colorbar": {
             "outlinewidth": 0,
             "ticks": ""
            },
            "type": "mesh3d"
           }
          ],
          "parcoords": [
           {
            "line": {
             "colorbar": {
              "outlinewidth": 0,
              "ticks": ""
             }
            },
            "type": "parcoords"
           }
          ],
          "pie": [
           {
            "automargin": true,
            "type": "pie"
           }
          ],
          "scatter": [
           {
            "marker": {
             "colorbar": {
              "outlinewidth": 0,
              "ticks": ""
             }
            },
            "type": "scatter"
           }
          ],
          "scatter3d": [
           {
            "line": {
             "colorbar": {
              "outlinewidth": 0,
              "ticks": ""
             }
            },
            "marker": {
             "colorbar": {
              "outlinewidth": 0,
              "ticks": ""
             }
            },
            "type": "scatter3d"
           }
          ],
          "scattercarpet": [
           {
            "marker": {
             "colorbar": {
              "outlinewidth": 0,
              "ticks": ""
             }
            },
            "type": "scattercarpet"
           }
          ],
          "scattergeo": [
           {
            "marker": {
             "colorbar": {
              "outlinewidth": 0,
              "ticks": ""
             }
            },
            "type": "scattergeo"
           }
          ],
          "scattergl": [
           {
            "marker": {
             "colorbar": {
              "outlinewidth": 0,
              "ticks": ""
             }
            },
            "type": "scattergl"
           }
          ],
          "scattermapbox": [
           {
            "marker": {
             "colorbar": {
              "outlinewidth": 0,
              "ticks": ""
             }
            },
            "type": "scattermapbox"
           }
          ],
          "scatterpolar": [
           {
            "marker": {
             "colorbar": {
              "outlinewidth": 0,
              "ticks": ""
             }
            },
            "type": "scatterpolar"
           }
          ],
          "scatterpolargl": [
           {
            "marker": {
             "colorbar": {
              "outlinewidth": 0,
              "ticks": ""
             }
            },
            "type": "scatterpolargl"
           }
          ],
          "scatterternary": [
           {
            "marker": {
             "colorbar": {
              "outlinewidth": 0,
              "ticks": ""
             }
            },
            "type": "scatterternary"
           }
          ],
          "surface": [
           {
            "colorbar": {
             "outlinewidth": 0,
             "ticks": ""
            },
            "colorscale": [
             [
              0,
              "#0d0887"
             ],
             [
              0.1111111111111111,
              "#46039f"
             ],
             [
              0.2222222222222222,
              "#7201a8"
             ],
             [
              0.3333333333333333,
              "#9c179e"
             ],
             [
              0.4444444444444444,
              "#bd3786"
             ],
             [
              0.5555555555555556,
              "#d8576b"
             ],
             [
              0.6666666666666666,
              "#ed7953"
             ],
             [
              0.7777777777777778,
              "#fb9f3a"
             ],
             [
              0.8888888888888888,
              "#fdca26"
             ],
             [
              1,
              "#f0f921"
             ]
            ],
            "type": "surface"
           }
          ],
          "table": [
           {
            "cells": {
             "fill": {
              "color": "#EBF0F8"
             },
             "line": {
              "color": "white"
             }
            },
            "header": {
             "fill": {
              "color": "#C8D4E3"
             },
             "line": {
              "color": "white"
             }
            },
            "type": "table"
           }
          ]
         },
         "layout": {
          "annotationdefaults": {
           "arrowcolor": "#2a3f5f",
           "arrowhead": 0,
           "arrowwidth": 1
          },
          "autotypenumbers": "strict",
          "coloraxis": {
           "colorbar": {
            "outlinewidth": 0,
            "ticks": ""
           }
          },
          "colorscale": {
           "diverging": [
            [
             0,
             "#8e0152"
            ],
            [
             0.1,
             "#c51b7d"
            ],
            [
             0.2,
             "#de77ae"
            ],
            [
             0.3,
             "#f1b6da"
            ],
            [
             0.4,
             "#fde0ef"
            ],
            [
             0.5,
             "#f7f7f7"
            ],
            [
             0.6,
             "#e6f5d0"
            ],
            [
             0.7,
             "#b8e186"
            ],
            [
             0.8,
             "#7fbc41"
            ],
            [
             0.9,
             "#4d9221"
            ],
            [
             1,
             "#276419"
            ]
           ],
           "sequential": [
            [
             0,
             "#0d0887"
            ],
            [
             0.1111111111111111,
             "#46039f"
            ],
            [
             0.2222222222222222,
             "#7201a8"
            ],
            [
             0.3333333333333333,
             "#9c179e"
            ],
            [
             0.4444444444444444,
             "#bd3786"
            ],
            [
             0.5555555555555556,
             "#d8576b"
            ],
            [
             0.6666666666666666,
             "#ed7953"
            ],
            [
             0.7777777777777778,
             "#fb9f3a"
            ],
            [
             0.8888888888888888,
             "#fdca26"
            ],
            [
             1,
             "#f0f921"
            ]
           ],
           "sequentialminus": [
            [
             0,
             "#0d0887"
            ],
            [
             0.1111111111111111,
             "#46039f"
            ],
            [
             0.2222222222222222,
             "#7201a8"
            ],
            [
             0.3333333333333333,
             "#9c179e"
            ],
            [
             0.4444444444444444,
             "#bd3786"
            ],
            [
             0.5555555555555556,
             "#d8576b"
            ],
            [
             0.6666666666666666,
             "#ed7953"
            ],
            [
             0.7777777777777778,
             "#fb9f3a"
            ],
            [
             0.8888888888888888,
             "#fdca26"
            ],
            [
             1,
             "#f0f921"
            ]
           ]
          },
          "colorway": [
           "#636efa",
           "#EF553B",
           "#00cc96",
           "#ab63fa",
           "#FFA15A",
           "#19d3f3",
           "#FF6692",
           "#B6E880",
           "#FF97FF",
           "#FECB52"
          ],
          "font": {
           "color": "#2a3f5f"
          },
          "geo": {
           "bgcolor": "white",
           "lakecolor": "white",
           "landcolor": "#E5ECF6",
           "showlakes": true,
           "showland": true,
           "subunitcolor": "white"
          },
          "hoverlabel": {
           "align": "left"
          },
          "hovermode": "closest",
          "mapbox": {
           "style": "light"
          },
          "paper_bgcolor": "white",
          "plot_bgcolor": "#E5ECF6",
          "polar": {
           "angularaxis": {
            "gridcolor": "white",
            "linecolor": "white",
            "ticks": ""
           },
           "bgcolor": "#E5ECF6",
           "radialaxis": {
            "gridcolor": "white",
            "linecolor": "white",
            "ticks": ""
           }
          },
          "scene": {
           "xaxis": {
            "backgroundcolor": "#E5ECF6",
            "gridcolor": "white",
            "gridwidth": 2,
            "linecolor": "white",
            "showbackground": true,
            "ticks": "",
            "zerolinecolor": "white"
           },
           "yaxis": {
            "backgroundcolor": "#E5ECF6",
            "gridcolor": "white",
            "gridwidth": 2,
            "linecolor": "white",
            "showbackground": true,
            "ticks": "",
            "zerolinecolor": "white"
           },
           "zaxis": {
            "backgroundcolor": "#E5ECF6",
            "gridcolor": "white",
            "gridwidth": 2,
            "linecolor": "white",
            "showbackground": true,
            "ticks": "",
            "zerolinecolor": "white"
           }
          },
          "shapedefaults": {
           "line": {
            "color": "#2a3f5f"
           }
          },
          "ternary": {
           "aaxis": {
            "gridcolor": "white",
            "linecolor": "white",
            "ticks": ""
           },
           "baxis": {
            "gridcolor": "white",
            "linecolor": "white",
            "ticks": ""
           },
           "bgcolor": "#E5ECF6",
           "caxis": {
            "gridcolor": "white",
            "linecolor": "white",
            "ticks": ""
           }
          },
          "title": {
           "x": 0.05
          },
          "xaxis": {
           "automargin": true,
           "gridcolor": "white",
           "linecolor": "white",
           "ticks": "",
           "title": {
            "standoff": 15
           },
           "zerolinecolor": "white",
           "zerolinewidth": 2
          },
          "yaxis": {
           "automargin": true,
           "gridcolor": "white",
           "linecolor": "white",
           "ticks": "",
           "title": {
            "standoff": 15
           },
           "zerolinecolor": "white",
           "zerolinewidth": 2
          }
         }
        },
        "xaxis": {
         "anchor": "y",
         "domain": [
          0,
          1
         ],
         "title": {
          "text": "x-dist. / mm"
         }
        },
        "yaxis": {
         "anchor": "x",
         "domain": [
          0,
          1
         ],
         "scaleanchor": "x",
         "scaleratio": 1,
         "title": {
          "text": "y-dist. / mm"
         }
        }
       }
      },
      "text/html": [
       "<div>                            <div id=\"8d024d71-3044-47b2-8d20-f7247bcc7d03\" class=\"plotly-graph-div\" style=\"height:525px; width:100%;\"></div>            <script type=\"text/javascript\">                require([\"plotly\"], function(Plotly) {                    window.PLOTLYENV=window.PLOTLYENV || {};                                    if (document.getElementById(\"8d024d71-3044-47b2-8d20-f7247bcc7d03\")) {                    Plotly.newPlot(                        \"8d024d71-3044-47b2-8d20-f7247bcc7d03\",                        [{\"hovertemplate\":\"x-dist. / mm=%{x}<br>y-dist. / mm=%{y}<extra></extra>\",\"legendgroup\":\"\",\"marker\":{\"color\":\"#636efa\",\"symbol\":\"circle\"},\"mode\":\"markers\",\"name\":\"\",\"orientation\":\"v\",\"showlegend\":false,\"type\":\"scatter\",\"x\":[-0.0010395608973743364,0.036138343553495655,0.026412366656445307,0.0005065883014254702,-0.02572429444975466,-0.03731807229275441,-0.02760280627387468,-0.0020972066945446066,0.024144049436955584,0.014883119127115485,0.012947384039435406,0.00224180035375543,-0.008960474633414428,-0.016264247586584624,-0.014353820057604327,-0.0034362412011543775,0.007790340706455456,0.03939136572891533,0.03183501906611541,0.0034084933874254375,-0.024452610005334385,-0.03938257329281436,-0.03184189912331448,-0.004601809777324384,0.023280052557515418,-0.11309375996482451,0.11211278770654554,0.001209986639675531,0.02645074914823553,0.02013389674908561,0.002633578409095616,-0.015261852236674311,-0.023472403348234305,-0.01716541751670464,0.0001363292571854302,0.018041268010495326,0.006597473686725586,0.007516129031085672,0.004175387023845456,2.5573072695461718e-05,-0.004672177793834553,-0.005613751304074377,-0.001335276588144474,0.002836276552035333,0.04318778343400531,0.034875405755165456,0.005211291594705347,-0.02431738217430457,-0.040392919873704525,-0.032092199135434374,-0.002623190711184442,0.02692227726368568,-0.1305015157334446,0.13306448089848555,-0.002079562842094429,0.0447763092961857,0.03225220984350541,-0.0004765876191843432,-0.03351314512179471,-0.047908749692754604,-0.03539570662562452,-0.0031314160073243613,0.029915871244795333,0.027115963316715508,0.021388539429865627,0.0013489360643657022,-0.019087333776234505,-0.030114798258524367,-0.024413608699494382,-0.0044115391854444574,0.016050065305045713,0.049229125015225694,0.038615060780185395,0.0025790156360954164,-0.03274758080983453,-0.05061689808212444,-0.04001997794895429,-0.005521467977214645,0.02982742888620571,-0.11598150229841453,0.11336887490040537,0.0028483804866756834,0.028115147483155578,0.0217189416524457,0.004182929455685436,-0.013830207208174627,-0.022170843376214666,-0.015783796049384513,0.001760675659895572,0.019782599441485527,0.01822258371036556,0.01602452478232541,0.005586462250435353,-0.0059794912874244766,-0.014070127448504444,-0.011892881572704628,0.00018918897226560816,0.011774684695355475,0.07038112232219573,0.05433977758690567,0.006534295347665697,-0.04155864576786428,-0.06577013036652435,-0.04973671605782437,-0.0011882456177145784,0.04691800534958546,-0.16629223566244455,0.17146053254474536,-0.002689562056584549,0.051106772815805446,0.0365701503921656,-0.001053147478004668,-0.03897873374010441,-0.055394049278574276,-0.04086867327096444,-0.00373869359408463,0.034197819186725376,0.036838922774955485,0.028137914756135363,0.0008255698595553973,-0.026838652101294436,-0.04081468472302463,-0.03214040252399464,-0.004985250357634641,0.022704862795325464,0.05850655844409536,0.04506812058133569,0.002093620983985467,-0.04010441215637428,-0.06074853578584438,-0.04732799106088459,-0.006063033108614668,0.03615811817120562,-0.12097391565242432,0.11740511554575539],\"xaxis\":\"x\",\"y\":[-0.0010395608973752246,0.000506588301424582,0.02641236665644442,0.03613834355349477,0.024144049436954695,-0.002097206694545495,-0.02760280627387557,-0.0373180722927553,-0.025724294449755547,0.0022418003537545417,0.012947384039434517,0.014883119127114597,0.007790340706454568,-0.0034362412011552657,-0.014353820057605216,-0.016264247586585512,-0.008960474633405546,0.0034084933874147794,0.03183501906611452,0.03939136572891444,0.02328005255751453,-0.004601809777315502,-0.031841899123305595,-0.03938257329281525,-0.024452610005335274,0.11211278770654465,-0.11309375996483517,0.0012099866396746428,0.002633578409094728,0.020133896749084723,0.026450749148234642,0.018041268010494438,0.00013632925718454203,-0.017165417516705528,-0.023472403348235193,-0.0152618522366752,0.004175387023854782,0.007516129031084784,0.0065974736867246975,0.0028362765520344446,-0.001335276588145362,-0.005613751304085479,-0.004672177793835441,2.557307269457354e-05,0.005211291594704459,0.03487540575516457,0.04318778343400442,0.02692227726368479,-0.0026231907111853303,-0.03209219913543526,-0.04039291987370541,-0.024317382174295243,0.13306448089848466,-0.13050151573343527,-0.002079562842095317,-0.0004765876191852314,0.03225220984350452,0.04477630929619458,0.029915871244794445,-0.0031314160073154795,-0.03539570662562541,-0.04790874969275549,-0.033513145121795596,0.001348936064364814,0.02138853942986474,0.02711596331671462,0.016050065305044825,-0.004411539185445346,-0.02441360869949527,-0.030114798258525255,-0.019087333776235393,0.0025790156360945282,0.03861506078018451,0.04922912501521459,0.02982742888620482,-0.005521467977215533,-0.04001997794895518,-0.050616898082105344,-0.03274758080983542,0.11336887490040448,-0.1159815022984052,0.0028483804866747953,0.0041829294556845475,0.021718941652444812,0.02811514748315469,0.01978259944148464,0.0017606756598946838,-0.0157837960493854,-0.022170843376215554,-0.013830207208175516,0.005586462250434465,0.016024524782324523,0.01822258371036467,0.011774684695364801,0.00018918897226471998,-0.011892881572705516,-0.014070127448505332,-0.005979491287425365,0.006534295347664809,0.05433977758690478,0.07038112232219484,0.04691800534959478,-0.0011882456177154666,-0.04973671605782526,-0.06577013036653545,-0.04155864576787538,0.17146053254474447,-0.16629223566244544,-0.0026895620565854372,-0.001053147478005556,0.03657015039216471,0.05110677281580456,0.03419781918672449,-0.003738693594085518,-0.04086867327096533,-0.055394049278575164,-0.0389787337401053,0.0008255698595545091,0.028137914756134474,0.0368389227749546,0.022704862795324576,-0.004985250357635529,-0.032140402523995526,-0.04081468472302552,-0.026838652101295324,0.002093620983994793,0.0450681205813348,0.05850655844409447,0.036158118171204734,-0.0060630331086155564,-0.04732799106087526,-0.06074853578584527,-0.04010441215637517,0.11740511554576472,-0.12097391565240523],\"yaxis\":\"y\"}],                        {\"legend\":{\"tracegroupgap\":0},\"margin\":{\"t\":60},\"template\":{\"data\":{\"bar\":[{\"error_x\":{\"color\":\"#2a3f5f\"},\"error_y\":{\"color\":\"#2a3f5f\"},\"marker\":{\"line\":{\"color\":\"#E5ECF6\",\"width\":0.5},\"pattern\":{\"fillmode\":\"overlay\",\"size\":10,\"solidity\":0.2}},\"type\":\"bar\"}],\"barpolar\":[{\"marker\":{\"line\":{\"color\":\"#E5ECF6\",\"width\":0.5},\"pattern\":{\"fillmode\":\"overlay\",\"size\":10,\"solidity\":0.2}},\"type\":\"barpolar\"}],\"carpet\":[{\"aaxis\":{\"endlinecolor\":\"#2a3f5f\",\"gridcolor\":\"white\",\"linecolor\":\"white\",\"minorgridcolor\":\"white\",\"startlinecolor\":\"#2a3f5f\"},\"baxis\":{\"endlinecolor\":\"#2a3f5f\",\"gridcolor\":\"white\",\"linecolor\":\"white\",\"minorgridcolor\":\"white\",\"startlinecolor\":\"#2a3f5f\"},\"type\":\"carpet\"}],\"choropleth\":[{\"colorbar\":{\"outlinewidth\":0,\"ticks\":\"\"},\"type\":\"choropleth\"}],\"contour\":[{\"colorbar\":{\"outlinewidth\":0,\"ticks\":\"\"},\"colorscale\":[[0.0,\"#0d0887\"],[0.1111111111111111,\"#46039f\"],[0.2222222222222222,\"#7201a8\"],[0.3333333333333333,\"#9c179e\"],[0.4444444444444444,\"#bd3786\"],[0.5555555555555556,\"#d8576b\"],[0.6666666666666666,\"#ed7953\"],[0.7777777777777778,\"#fb9f3a\"],[0.8888888888888888,\"#fdca26\"],[1.0,\"#f0f921\"]],\"type\":\"contour\"}],\"contourcarpet\":[{\"colorbar\":{\"outlinewidth\":0,\"ticks\":\"\"},\"type\":\"contourcarpet\"}],\"heatmap\":[{\"colorbar\":{\"outlinewidth\":0,\"ticks\":\"\"},\"colorscale\":[[0.0,\"#0d0887\"],[0.1111111111111111,\"#46039f\"],[0.2222222222222222,\"#7201a8\"],[0.3333333333333333,\"#9c179e\"],[0.4444444444444444,\"#bd3786\"],[0.5555555555555556,\"#d8576b\"],[0.6666666666666666,\"#ed7953\"],[0.7777777777777778,\"#fb9f3a\"],[0.8888888888888888,\"#fdca26\"],[1.0,\"#f0f921\"]],\"type\":\"heatmap\"}],\"heatmapgl\":[{\"colorbar\":{\"outlinewidth\":0,\"ticks\":\"\"},\"colorscale\":[[0.0,\"#0d0887\"],[0.1111111111111111,\"#46039f\"],[0.2222222222222222,\"#7201a8\"],[0.3333333333333333,\"#9c179e\"],[0.4444444444444444,\"#bd3786\"],[0.5555555555555556,\"#d8576b\"],[0.6666666666666666,\"#ed7953\"],[0.7777777777777778,\"#fb9f3a\"],[0.8888888888888888,\"#fdca26\"],[1.0,\"#f0f921\"]],\"type\":\"heatmapgl\"}],\"histogram\":[{\"marker\":{\"pattern\":{\"fillmode\":\"overlay\",\"size\":10,\"solidity\":0.2}},\"type\":\"histogram\"}],\"histogram2d\":[{\"colorbar\":{\"outlinewidth\":0,\"ticks\":\"\"},\"colorscale\":[[0.0,\"#0d0887\"],[0.1111111111111111,\"#46039f\"],[0.2222222222222222,\"#7201a8\"],[0.3333333333333333,\"#9c179e\"],[0.4444444444444444,\"#bd3786\"],[0.5555555555555556,\"#d8576b\"],[0.6666666666666666,\"#ed7953\"],[0.7777777777777778,\"#fb9f3a\"],[0.8888888888888888,\"#fdca26\"],[1.0,\"#f0f921\"]],\"type\":\"histogram2d\"}],\"histogram2dcontour\":[{\"colorbar\":{\"outlinewidth\":0,\"ticks\":\"\"},\"colorscale\":[[0.0,\"#0d0887\"],[0.1111111111111111,\"#46039f\"],[0.2222222222222222,\"#7201a8\"],[0.3333333333333333,\"#9c179e\"],[0.4444444444444444,\"#bd3786\"],[0.5555555555555556,\"#d8576b\"],[0.6666666666666666,\"#ed7953\"],[0.7777777777777778,\"#fb9f3a\"],[0.8888888888888888,\"#fdca26\"],[1.0,\"#f0f921\"]],\"type\":\"histogram2dcontour\"}],\"mesh3d\":[{\"colorbar\":{\"outlinewidth\":0,\"ticks\":\"\"},\"type\":\"mesh3d\"}],\"parcoords\":[{\"line\":{\"colorbar\":{\"outlinewidth\":0,\"ticks\":\"\"}},\"type\":\"parcoords\"}],\"pie\":[{\"automargin\":true,\"type\":\"pie\"}],\"scatter\":[{\"marker\":{\"colorbar\":{\"outlinewidth\":0,\"ticks\":\"\"}},\"type\":\"scatter\"}],\"scatter3d\":[{\"line\":{\"colorbar\":{\"outlinewidth\":0,\"ticks\":\"\"}},\"marker\":{\"colorbar\":{\"outlinewidth\":0,\"ticks\":\"\"}},\"type\":\"scatter3d\"}],\"scattercarpet\":[{\"marker\":{\"colorbar\":{\"outlinewidth\":0,\"ticks\":\"\"}},\"type\":\"scattercarpet\"}],\"scattergeo\":[{\"marker\":{\"colorbar\":{\"outlinewidth\":0,\"ticks\":\"\"}},\"type\":\"scattergeo\"}],\"scattergl\":[{\"marker\":{\"colorbar\":{\"outlinewidth\":0,\"ticks\":\"\"}},\"type\":\"scattergl\"}],\"scattermapbox\":[{\"marker\":{\"colorbar\":{\"outlinewidth\":0,\"ticks\":\"\"}},\"type\":\"scattermapbox\"}],\"scatterpolar\":[{\"marker\":{\"colorbar\":{\"outlinewidth\":0,\"ticks\":\"\"}},\"type\":\"scatterpolar\"}],\"scatterpolargl\":[{\"marker\":{\"colorbar\":{\"outlinewidth\":0,\"ticks\":\"\"}},\"type\":\"scatterpolargl\"}],\"scatterternary\":[{\"marker\":{\"colorbar\":{\"outlinewidth\":0,\"ticks\":\"\"}},\"type\":\"scatterternary\"}],\"surface\":[{\"colorbar\":{\"outlinewidth\":0,\"ticks\":\"\"},\"colorscale\":[[0.0,\"#0d0887\"],[0.1111111111111111,\"#46039f\"],[0.2222222222222222,\"#7201a8\"],[0.3333333333333333,\"#9c179e\"],[0.4444444444444444,\"#bd3786\"],[0.5555555555555556,\"#d8576b\"],[0.6666666666666666,\"#ed7953\"],[0.7777777777777778,\"#fb9f3a\"],[0.8888888888888888,\"#fdca26\"],[1.0,\"#f0f921\"]],\"type\":\"surface\"}],\"table\":[{\"cells\":{\"fill\":{\"color\":\"#EBF0F8\"},\"line\":{\"color\":\"white\"}},\"header\":{\"fill\":{\"color\":\"#C8D4E3\"},\"line\":{\"color\":\"white\"}},\"type\":\"table\"}]},\"layout\":{\"annotationdefaults\":{\"arrowcolor\":\"#2a3f5f\",\"arrowhead\":0,\"arrowwidth\":1},\"autotypenumbers\":\"strict\",\"coloraxis\":{\"colorbar\":{\"outlinewidth\":0,\"ticks\":\"\"}},\"colorscale\":{\"diverging\":[[0,\"#8e0152\"],[0.1,\"#c51b7d\"],[0.2,\"#de77ae\"],[0.3,\"#f1b6da\"],[0.4,\"#fde0ef\"],[0.5,\"#f7f7f7\"],[0.6,\"#e6f5d0\"],[0.7,\"#b8e186\"],[0.8,\"#7fbc41\"],[0.9,\"#4d9221\"],[1,\"#276419\"]],\"sequential\":[[0.0,\"#0d0887\"],[0.1111111111111111,\"#46039f\"],[0.2222222222222222,\"#7201a8\"],[0.3333333333333333,\"#9c179e\"],[0.4444444444444444,\"#bd3786\"],[0.5555555555555556,\"#d8576b\"],[0.6666666666666666,\"#ed7953\"],[0.7777777777777778,\"#fb9f3a\"],[0.8888888888888888,\"#fdca26\"],[1.0,\"#f0f921\"]],\"sequentialminus\":[[0.0,\"#0d0887\"],[0.1111111111111111,\"#46039f\"],[0.2222222222222222,\"#7201a8\"],[0.3333333333333333,\"#9c179e\"],[0.4444444444444444,\"#bd3786\"],[0.5555555555555556,\"#d8576b\"],[0.6666666666666666,\"#ed7953\"],[0.7777777777777778,\"#fb9f3a\"],[0.8888888888888888,\"#fdca26\"],[1.0,\"#f0f921\"]]},\"colorway\":[\"#636efa\",\"#EF553B\",\"#00cc96\",\"#ab63fa\",\"#FFA15A\",\"#19d3f3\",\"#FF6692\",\"#B6E880\",\"#FF97FF\",\"#FECB52\"],\"font\":{\"color\":\"#2a3f5f\"},\"geo\":{\"bgcolor\":\"white\",\"lakecolor\":\"white\",\"landcolor\":\"#E5ECF6\",\"showlakes\":true,\"showland\":true,\"subunitcolor\":\"white\"},\"hoverlabel\":{\"align\":\"left\"},\"hovermode\":\"closest\",\"mapbox\":{\"style\":\"light\"},\"paper_bgcolor\":\"white\",\"plot_bgcolor\":\"#E5ECF6\",\"polar\":{\"angularaxis\":{\"gridcolor\":\"white\",\"linecolor\":\"white\",\"ticks\":\"\"},\"bgcolor\":\"#E5ECF6\",\"radialaxis\":{\"gridcolor\":\"white\",\"linecolor\":\"white\",\"ticks\":\"\"}},\"scene\":{\"xaxis\":{\"backgroundcolor\":\"#E5ECF6\",\"gridcolor\":\"white\",\"gridwidth\":2,\"linecolor\":\"white\",\"showbackground\":true,\"ticks\":\"\",\"zerolinecolor\":\"white\"},\"yaxis\":{\"backgroundcolor\":\"#E5ECF6\",\"gridcolor\":\"white\",\"gridwidth\":2,\"linecolor\":\"white\",\"showbackground\":true,\"ticks\":\"\",\"zerolinecolor\":\"white\"},\"zaxis\":{\"backgroundcolor\":\"#E5ECF6\",\"gridcolor\":\"white\",\"gridwidth\":2,\"linecolor\":\"white\",\"showbackground\":true,\"ticks\":\"\",\"zerolinecolor\":\"white\"}},\"shapedefaults\":{\"line\":{\"color\":\"#2a3f5f\"}},\"ternary\":{\"aaxis\":{\"gridcolor\":\"white\",\"linecolor\":\"white\",\"ticks\":\"\"},\"baxis\":{\"gridcolor\":\"white\",\"linecolor\":\"white\",\"ticks\":\"\"},\"bgcolor\":\"#E5ECF6\",\"caxis\":{\"gridcolor\":\"white\",\"linecolor\":\"white\",\"ticks\":\"\"}},\"title\":{\"x\":0.05},\"xaxis\":{\"automargin\":true,\"gridcolor\":\"white\",\"linecolor\":\"white\",\"ticks\":\"\",\"title\":{\"standoff\":15},\"zerolinecolor\":\"white\",\"zerolinewidth\":2},\"yaxis\":{\"automargin\":true,\"gridcolor\":\"white\",\"linecolor\":\"white\",\"ticks\":\"\",\"title\":{\"standoff\":15},\"zerolinecolor\":\"white\",\"zerolinewidth\":2}}},\"xaxis\":{\"anchor\":\"y\",\"domain\":[0.0,1.0],\"title\":{\"text\":\"x-dist. / mm\"}},\"yaxis\":{\"anchor\":\"x\",\"domain\":[0.0,1.0],\"scaleanchor\":\"x\",\"scaleratio\":1,\"title\":{\"text\":\"y-dist. / mm\"}}},                        {\"responsive\": true}                    ).then(function(){\n",
       "                            \n",
       "var gd = document.getElementById('8d024d71-3044-47b2-8d20-f7247bcc7d03');\n",
       "var x = new MutationObserver(function (mutations, observer) {{\n",
       "        var display = window.getComputedStyle(gd).display;\n",
       "        if (!display || display === 'none') {{\n",
       "            console.log([gd, 'removed!']);\n",
       "            Plotly.purge(gd);\n",
       "            observer.disconnect();\n",
       "        }}\n",
       "}});\n",
       "\n",
       "// Listen for the removal of the full notebook cells\n",
       "var notebookContainer = gd.closest('#notebook-container');\n",
       "if (notebookContainer) {{\n",
       "    x.observe(notebookContainer, {childList: true});\n",
       "}}\n",
       "\n",
       "// Listen for the clearing of the current output cell\n",
       "var outputEl = gd.closest('.output');\n",
       "if (outputEl) {{\n",
       "    x.observe(outputEl, {childList: true});\n",
       "}}\n",
       "\n",
       "                        })                };                });            </script>        </div>"
      ]
     },
     "metadata": {},
     "output_type": "display_data"
    }
   ],
   "source": [
    "df = px.data.iris()\n",
    "fig = px.scatter(x = points_xc, y = points_yc, labels={\"x\": \"x-dist. / mm\",\"y\": \"y-dist. / mm\"}, template='plotly')\n",
    "fig.update_yaxes(scaleanchor = \"x\",scaleratio = 1,)\n",
    "fig\n"
   ]
  },
  {
   "cell_type": "code",
   "execution_count": null,
   "id": "cba52ea6",
   "metadata": {},
   "outputs": [],
   "source": []
  },
  {
   "cell_type": "code",
   "execution_count": null,
   "id": "30674cd2",
   "metadata": {},
   "outputs": [],
   "source": [
    "\n"
   ]
  }
 ],
 "metadata": {
  "kernelspec": {
   "display_name": "Python 3 (ipykernel)",
   "language": "python",
   "name": "python3"
  },
  "language_info": {
   "codemirror_mode": {
    "name": "ipython",
    "version": 3
   },
   "file_extension": ".py",
   "mimetype": "text/x-python",
   "name": "python",
   "nbconvert_exporter": "python",
   "pygments_lexer": "ipython3",
   "version": "3.8.11"
  }
 },
 "nbformat": 4,
 "nbformat_minor": 5
}
