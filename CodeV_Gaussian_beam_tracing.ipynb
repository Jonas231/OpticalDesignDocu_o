{
 "cells": [
  {
   "cell_type": "markdown",
   "id": "24600ced",
   "metadata": {},
   "source": [
    "## Gaussian beam tracing in CodeV"
   ]
  },
  {
   "cell_type": "markdown",
   "id": "35d1920d",
   "metadata": {},
   "source": [
    "The Gaussian beam trace (BEA) implemented in CodeV appears to be similar to the OpTaliX \"Bea\", it is not however, because it allows for <u> Gaussian beams with general astigmatism </u>."
   ]
  },
  {
   "cell_type": "markdown",
   "id": "085a8200",
   "metadata": {},
   "source": [
    "### Bea:\n",
    "See the note in the Code V manual: \n",
    "\n",
    "\"Use the Gaussian Beam Trace (BEA) option when you want to determine the waist locations and sizes along chief rays in your optical system for unclipped Gaussian beams in the reference wavelength. Astigmatism and field curvature are included, but no other aberrations. This option <u> applies to any system regardless of symmetry </u>. It is most useful for systems containing narrow, slow beams where geometrical optics does not adequately predict the positions and sizes of the beam at the focus. In systems of this type, the focused spot is often similar in size to the beam diameter. A typical use would be to analyze a laser scanning system.\n",
    "\n",
    "How is the computation performed?:\n",
    "\n",
    "\"Gaussian Beam Trace (BEA) propagates an untruncated Gaussian beam through the system. Since the only aberration accounted for is the local astigmatism of the beam, the beam profile remains Gaussian although the diameter, elliptical ratio and orientation may change from point to point. \n",
    "The beam is propagated along the chief ray, using close skew rays to determine the local astigmatism. Tilts, decenters, and non-spherical surface shapes are all accounted for properly. The mathematical method used is a generalized 4 x 4 ABCD matrix described in “Gaussian Light Beams with General Astigmatism,” Arnaud and Kogelnik, Applied Optics, Vol. 8, No. 8, 1969 and “Matrix Theory of Light Beam Waveguides,” Suematsu and Fukinuki, Bull. Tokyo Inst. Tech, Number 88, 1968.\"\n",
    "\n",
    "The applicability of this feature appears to be similar to Gaussian beam raytracing in KDP-2. \n",
    "    \""
   ]
  },
  {
   "cell_type": "markdown",
   "id": "055a1c40",
   "metadata": {},
   "source": [
    "#### A simple example of a focused laser beam:\n",
    "All examples are taken from the CodeV help."
   ]
  },
  {
   "cell_type": "code",
   "execution_count": 48,
   "id": "1fdca6d2",
   "metadata": {},
   "outputs": [],
   "source": [
    "import os\n",
    "\n",
    "def wl(file, L):\n",
    "    \"\"\"\n",
    "    Function for writing a line in a file.\n",
    "    \"\"\"   \n",
    "    file.writelines(L)\n",
    "    file.write(\"\\n\") \n",
    "    \n",
    "filename = \"simp_foc_lens.seq\"      # name of the .seq file to be written using python\n",
    "f = open(os.path.join(r\"C:\\Users\\herbst\\CVUSER\", filename),\"w\")\n",
    "\n",
    "# wl(f, [''])\n",
    "wl(f, ['! execute in CodeV with: in '+str(filename)])\n",
    "wl(f, ['! this file should be located in CVUSER folder or macro folder, then use: in cv_macro:'+str(filename)])\n",
    "wl(f, [''])\n",
    "wl(f, ['! lens is focusing collimated light. This is how one would normally set up a focusing lens if one were not concerned with the effects of slow f-numbers.'])\n",
    "wl(f, [''])\n",
    "wl(f, ['RDM                      !Radius input mode'])\n",
    "wl(f, ['LENS'])\n",
    "wl(f, [\"TITLE 'FOCUSING LENS'\"])\n",
    "wl(f, ['dim m                    ! dimensions are in mm'])\n",
    "wl(f, ['WL 632.8                 ! HeNe wavelength'])\n",
    "wl(f, ['EPD 1                    ! laser beam diameter of 1 mm'])\n",
    "wl(f, ['S 500 1 BK7              ! first surface of plane convex lens; radius of curvature: 0.5 m'])\n",
    "wl(f, ['STO                      ! This surface is the aperture stop'])\n",
    "wl(f, ['S 0 0                    ! Second surface of lens'])\n",
    "wl(f, ['PIM                      ! Image at paraxial image distance'])\n",
    "wl(f, ['GO'])\n",
    "\n",
    "wl(f, [''])\n",
    "wl(f, ['! now change the setup and perform BEA:'])\n",
    "wl(f, [''])\n",
    "\n",
    "wl(f, ['PIM  NO                  ! delete the PIM solve: Could be done with DEL PIM'])\n",
    "wl(f, ['THI  S0  50              ! The laser is located 50 mm away from the lens'])\n",
    "wl(f, ['BEA                      ! Enter the BEA option'])\n",
    "wl(f, ['WRY  0.5                 ! The laser beam is 1.0 mm diameter'])\n",
    "wl(f, ['GO'])\n",
    "\n",
    "\n"
   ]
  },
  {
   "cell_type": "raw",
   "id": "d309c131",
   "metadata": {},
   "source": [
    "                              G A U S S I A N   B E A M   P R O P A G A T I O N\n",
    "\n",
    "         FOCUSING LENS                                                                        POSITION  1\n",
    "\n",
    "         WAVELENGTH  =      632.8 NM       DIMENSIONS = MILLIMETERS         FIELD POSITION = ( 0.00, 0.00)\n",
    "\n",
    "\n",
    "                                  BEAM     WAVEFRONT RADIUS     PHASE      WAIST RADIUS\n",
    "    PROPAGATION   BEAM RADIUS  ORIENTATION    OF CURVATURE   ORIENTATION      BEFORE         DISTANCE FROM\n",
    "    DISTANCE TO   ON SURFACE    (DEGREES)  BEFORE REFRACTION  (DEGREES)     REFRACTION      WAIST TO SURFACE\n",
    "SUR NEXT SURFACE   X        Y                  X         Y                  X        Y         X         Y\n",
    "\n",
    "OBJ   50.0000   0.5000   0.5000    0.0        INF       INF     0.0      0.5000   0.5000   -0.0000   -0.0000\n",
    "  1    1.0000   0.5004   0.5004    0.0   -30858.94 -30858.94    0.0      0.5000   0.5000   50.0000   50.0000\n",
    "  2  970.0456   0.5001   0.5001    0.0   1518.1217 1518.1217    0.0      0.3141   0.3141 -919.3122 -919.3122\n",
    "IMG             0.3911   0.3911    0.0   -1023.421 -1023.421    0.0      0.3141   0.3141  363.2746  363.2746\n"
   ]
  },
  {
   "cell_type": "code",
   "execution_count": 49,
   "id": "c50ff0aa",
   "metadata": {},
   "outputs": [],
   "source": [
    "wl(f, [''])\n",
    "wl(f, ['! see the image size at this waist :'])\n",
    "wl(f, [''])\n",
    "\n",
    "wl(f, ['TIN SI-1 -363.2743       ! move image plane to waist location: TIN is Thickness INcrement '])\n",
    "wl(f, ['BEA'])\n",
    "wl(f, ['WRY 0.5'])\n",
    "wl(f, ['GO'])\n",
    "\n",
    "f.close()"
   ]
  },
  {
   "cell_type": "raw",
   "id": "2cb43433",
   "metadata": {},
   "source": [
    "G A U S S I A N   B E A M   P R O P A G A T I O N\n",
    "\n",
    "         FOCUSING LENS                                                                        POSITION  1\n",
    "\n",
    "         WAVELENGTH  =      632.8 NM       DIMENSIONS = MILLIMETERS         FIELD POSITION = ( 0.00, 0.00)\n",
    "\n",
    "\n",
    "                                  BEAM     WAVEFRONT RADIUS     PHASE      WAIST RADIUS\n",
    "    PROPAGATION   BEAM RADIUS  ORIENTATION    OF CURVATURE   ORIENTATION      BEFORE         DISTANCE FROM\n",
    "    DISTANCE TO   ON SURFACE    (DEGREES)  BEFORE REFRACTION  (DEGREES)     REFRACTION      WAIST TO SURFACE\n",
    "SUR NEXT SURFACE   X        Y                  X         Y                  X        Y         X         Y\n",
    "\n",
    "OBJ   50.0000   0.5000   0.5000    0.0        INF       INF     0.0      0.5000   0.5000   -0.0000   -0.0000\n",
    "  1    1.0000   0.5004   0.5004    0.0   -30858.94 -30858.94    0.0      0.5000   0.5000   50.0000   50.0000\n",
    "  2  606.7713   0.5001   0.5001    0.0   1518.1217 1518.1217    0.0      0.3141   0.3141 -919.3122 -919.3122\n",
    "IMG             0.3141   0.3141    0.0   -0.7869e9 -0.7869e9    0.0      0.3141   0.3141    0.0003    0.0003\n"
   ]
  },
  {
   "cell_type": "markdown",
   "id": "ea8f2878",
   "metadata": {},
   "source": [
    "#### Example 3: Tilted anamorphic system\n",
    "--> shows general astigmatism in an optical system"
   ]
  },
  {
   "cell_type": "code",
   "execution_count": 50,
   "id": "cdafdb9c",
   "metadata": {},
   "outputs": [],
   "source": [
    "filename = \"tilt_anamorph_sys.seq\"      # name of the .seq file to be written using python\n",
    "f = open(os.path.join(r\"C:\\Users\\herbst\\CVUSER\", filename),\"w\")\n",
    "\n",
    "# wl(f, [''])\n",
    "wl(f, ['! execute in CodeV with: in '+str(filename)])\n",
    "wl(f, ['! this file should be located in CVUSER folder or macro folder, then use: in cv_macro:'+str(filename)])\n",
    "wl(f, [''])\n",
    "wl(f, ['!  '])\n",
    "wl(f, [''])\n",
    "\n",
    "wl(f, ['LENS'])\n",
    "wl(f, [\"TITLE  'Rotated  Cylinders'\"])\n",
    "wl(f, ['dim m                    ! dimensions are in mm'])\n",
    "wl(f, ['WL 632.8                 ! HeNe wavelength'])\n",
    "wl(f, ['EPD 1                    ! laser beam diameter of 1 mm'])\n",
    "\n",
    "wl(f, [''])\n",
    "\n",
    "wl(f, ['SO   0.    500.'])\n",
    "wl(f, ['S1  128.772   0.  BK7    ! fast input mode S: radius of curvature, thickness, glass']) \n",
    "wl(f, ['sto'])\n",
    "wl(f, ['cyl                      ! cylinder lens'])\n",
    "wl(f, ['S2   0.    500.'])\n",
    "wl(f, ['S3  103.018   0.  BK7'])\n",
    "wl(f, ['CYL'])\n",
    "wl(f, ['CDE  45                  ! rotation by 45°'])\n",
    "wl(f, ['DAR                      ! Decenter and Return (DAR) surface'])\n",
    "wl(f, ['S4   0.  100.'])\n",
    "wl(f, ['S5   0.  100.'])\n",
    "wl(f, ['S6   0.  100.'])\n",
    "wl(f, ['S7   0.  100.'])\n",
    "wl(f, ['S8   0.  100.'])\n",
    "wl(f, ['S9   0.  100.'])\n",
    "wl(f, ['S4   0.  100.'])\n",
    "\n",
    "wl(f, [\"REX s1 100.            ! apply rectangular apertures to make the lenses visible in layout plot\"])\n",
    "wl(f, [\"REY s1 100.\"])\n",
    "wl(f, [\"REX s3 100.            ! apply rectangular apertures to make the lenses visible in layout plot\"])\n",
    "wl(f, [\"REY s3 100.\"])\n",
    "\n",
    "wl(f, ['GO'])\n",
    "\n",
    "wl(f, [''])\n",
    "\n",
    "wl(f, ['BEA                      ! Enter the BEA option'])\n",
    "wl(f, ['WRY  0.1                 ! The laser beam waist diameter is 0.2 mm '])\n",
    "wl(f, ['GO'])\n",
    "\n"
   ]
  },
  {
   "attachments": {
    "image-2.png": {
     "image/png": "[encoded data removed]"
    },
    "image.png": {
     "image/png": "[encoded data removed]"
    }
   },
   "cell_type": "markdown",
   "id": "63d4f440",
   "metadata": {},
   "source": [
    "The built up optical system looks like this in CodeV: ![image.png](attachment:image.png)\n",
    "![image-2.png](attachment:image-2.png)"
   ]
  },
  {
   "cell_type": "raw",
   "id": "8bc11be6",
   "metadata": {},
   "source": [
    "G A U S S I A N   B E A M   P R O P A G A T I O N\n",
    "\n",
    "         Rotated  Cylinders                                                                   POSITION  1\n",
    "\n",
    "         WAVELENGTH  =      632.8 NM       DIMENSIONS = MILLIMETERS         FIELD POSITION = ( 0.00, 0.00)\n",
    "\n",
    "\n",
    "                                  BEAM     WAVEFRONT RADIUS     PHASE      WAIST RADIUS\n",
    "    PROPAGATION   BEAM RADIUS  ORIENTATION    OF CURVATURE   ORIENTATION      BEFORE         DISTANCE FROM\n",
    "    DISTANCE TO   ON SURFACE    (DEGREES)  BEFORE REFRACTION  (DEGREES)     REFRACTION      WAIST TO SURFACE\n",
    "SUR NEXT SURFACE   X        Y                  X         Y                  X        Y         X         Y\n",
    "\n",
    "OBJ  500.0000   0.1000   0.1000    0.0        INF       INF     0.0      0.1000   0.1000   -0.0000   -0.0000\n",
    "  1    0.0000   1.0121   1.0121    0.0   -504.9294 -504.9294    0.0      0.1000   0.1000  500.0000  500.0000\n",
    "  2  500.0000   1.0121   1.0121    0.0   -765.0131  750.2170    0.0      0.1000   0.0981  757.5446 -743.1709\n",
    "  3    0.0000   2.0167   0.1000  -45.0   -249.9416 -1002.465   45.0      0.0981   0.1000    9.4870 1000.0000\n",
    "  4  100.0000   2.0167   0.1000    0.0    519.3813 -519.6514  -29.5             *\n",
    "  5  100.0000   1.7882   0.2189   16.7    505.3771 -125.4208   -3.5             *\n",
    "  6  100.0000   1.7545   0.3331   37.2    439.6397 -211.4116   -1.5             *\n",
    "  7  100.0000   0.3465   1.9462  -33.4    363.9548 -303.4831   -0.3             *\n",
    "  8  100.0000   0.2875   2.3062  -19.4    297.7893 -394.3739    1.2             *\n",
    "  9  100.0000   0.2116   2.7614   -9.9    279.8000 -477.0109    4.2             *\n",
    "IMG             0.1681   3.2688   -3.4   1068.0864 -509.3459   17.1             *\n",
    "\n",
    "                             * Waist not defined - beam has general astigmatism\n"
   ]
  },
  {
   "cell_type": "markdown",
   "id": "cf663a26",
   "metadata": {},
   "source": [
    "Why does the beam orientation change after 5? Can this be visualized within CodeV?"
   ]
  },
  {
   "cell_type": "code",
   "execution_count": 51,
   "id": "f175ad4c",
   "metadata": {},
   "outputs": [],
   "source": [
    "wl(f, ['bea;wry 0.1;dis;go'])\n",
    "\n",
    "f.close()"
   ]
  },
  {
   "attachments": {
    "image.png": {
     "image/png": "[encoded data removed]"
    }
   },
   "cell_type": "markdown",
   "id": "f1921931",
   "metadata": {},
   "source": [
    "![image.png](attachment:image.png)"
   ]
  },
  {
   "cell_type": "markdown",
   "id": "841e9b76",
   "metadata": {},
   "source": [
    "Not really nice to see in yz-section."
   ]
  },
  {
   "cell_type": "code",
   "execution_count": null,
   "id": "171be625",
   "metadata": {},
   "outputs": [],
   "source": []
  }
 ],
 "metadata": {
  "kernelspec": {
   "display_name": "Python 3 (ipykernel)",
   "language": "python",
   "name": "python3"
  },
  "language_info": {
   "codemirror_mode": {
    "name": "ipython",
    "version": 3
   },
   "file_extension": ".py",
   "mimetype": "text/x-python",
   "name": "python",
   "nbconvert_exporter": "python",
   "pygments_lexer": "ipython3",
   "version": "3.8.11"
  }
 },
 "nbformat": 4,
 "nbformat_minor": 5
}
