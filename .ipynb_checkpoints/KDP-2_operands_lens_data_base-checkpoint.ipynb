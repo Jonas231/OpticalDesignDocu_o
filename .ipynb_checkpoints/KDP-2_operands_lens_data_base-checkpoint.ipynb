{
 "cells": [
  {
   "cell_type": "markdown",
   "id": "c47d30a1",
   "metadata": {},
   "source": [
    "#  Lens database items\n",
    "These are the operands refering to lens database items."
   ]
  },
  {
   "cell_type": "code",
   "execution_count": 1,
   "id": "defae62c",
   "metadata": {
    "tags": [
     "remove_input"
    ]
   },
   "outputs": [
    {
     "data": {
      "application/javascript": [
       "if (typeof require !== 'undefined')\n",
       "    require.config({\n",
       "        paths: {\n",
       "            jquery: 'https://code.jquery.com/jquery-3.5.1.min',\n",
       "            datatables: 'https://cdn.datatables.net/1.11.3/js/jquery.dataTables.min',\n",
       "        }\n",
       "    });\n"
      ],
      "text/plain": [
       "<IPython.core.display.Javascript object>"
      ]
     },
     "metadata": {},
     "output_type": "display_data"
    }
   ],
   "source": [
    "\n",
    "\n",
    "import pandas as pd\n",
    "import itables\n",
    "from itables import init_notebook_mode, show\n",
    "import itables.options as opt\n",
    "\n",
    "init_notebook_mode(all_interactive=True)\n",
    "\n",
    "opt.lengthMenu = [50, 100, 200, 500]\n",
    "#opt.classes = [\"display\", \"cell-border\"]\n",
    "#opt.classes = [\"display\", \"nowrap\"]\n",
    "\n",
    "opt.columnDefs = [{\"className\": \"dt-left\", \"targets\": \"_all\"}, {\"width\": \"500px\", \"targets\": 4}]\n",
    "#opt.maxBytes = 0\n",
    "#pd.get_option('display.max_columns')\n",
    "#pd.get_option('display.max_rows')\n",
    "\n",
    "\n"
   ]
  },
  {
   "cell_type": "code",
   "execution_count": 2,
   "id": "e06a3e1a",
   "metadata": {
    "tags": [
     "remove_input"
    ]
   },
   "outputs": [],
   "source": [
    "\n",
    "import os\n",
    "cwd = os.getcwd()\n",
    "filename = os.path.join(cwd, os.path.join('Excel', 'KDP-2_optimization_operands.xlsx'))\n",
    "\n",
    "df_LDB = pd.read_excel(filename, sheet_name = \"lens database operands\", header = 1, index_col = 0)\n",
    "df_LDB = df_LDB.dropna()   # drop nan values\n"
   ]
  },
  {
   "cell_type": "markdown",
   "id": "3c5e0ae5",
   "metadata": {},
   "source": []
  },
  {
   "cell_type": "code",
   "execution_count": 3,
   "id": "0a352a50",
   "metadata": {
    "tags": [
     "remove_input"
    ]
   },
   "outputs": [
    {
     "data": {
      "text/html": [
       "<table id=\"4869ceff-af83-4927-a97d-eced893c0fe8\" class=\"display\"style=\"max-width:100%\"><thead><th></th><th>\"i\" </th><th>\"j\"</th><th>\"k\"</th><th>DESCRIPTION</th><th>Order</th></thead><tbody><tr><td>Loading... (need <a href=https://mwouts.github.io/itables/troubleshooting.html>help</a>?)</td></tr></tbody></table>\n",
       "<link rel=\"stylesheet\" type=\"text/css\" href=\"https://cdn.datatables.net/1.11.3/css/jquery.dataTables.min.css\">\n",
       "<style> table td {\n",
       "    text-overflow: ellipsis;\n",
       "    overflow: hidden;\n",
       "} </style>\n",
       "<style> table th {\n",
       "    text-overflow: ellipsis;\n",
       "    overflow: hidden;\n",
       "} </style>\n",
       "<script type=\"module\">\n",
       "    // Define the table data\n",
       "    const data = [[\"RD \", \"surf #\", \"(not used)\", \"(not used)\", \"Radius of curvature at surface \\\"i\\\"\", 1.0], [\"CV \", \"surf #\", \"(not used)\", \"(not used)\", \"Curvature at surface \\\"i\\\"\", 2.0], [\"TH \", \"surf #\", \"(not used)\", \"(not used)\", \"Thickness at surface \\\"i\\\"\", 3.0], [\"CC \", \"surf #\", \"(not used)\", \"(not used)\", \"Conic constant at surface \\\"i\\\"\", 4.0], [\"AC \", \"surf #\", \"(not used)\", \"(not used)\", \"2nd order aspheric at surface \\\"i\\\"\", 5.0], [\"AD\", \"surf #\", \"(not used)\", \"(not used)\", \"4th order aspheric at surface \\\"i\\\"\", 6.0], [\"AE\", \"surf #\", \"(not used)\", \"(not used)\", \"6th order aspheric at surface \\\"i\\\"\", 7.0], [\"AF\", \"surf #\", \"(not used)\", \"(not used)\", \"8th order aspheric at surface \\\"i\\\"\", 8.0], [\"AG\", \"surf #\", \"(not used)\", \"(not used)\", \"10th order aspheric at surface \\\"i\\\"\", 9.0], [\"AH\", \"surf #\", \"(not used)\", \"(not used)\", \"12th order aspheric at surface \\\"i\\\"\", 10.0], [\"AI\", \"surf #\", \"(not used)\", \"(not used)\", \"14th order aspheric at surface \\\"i\\\"\", 11.0], [\"AJ\", \"surf #\", \"(not used)\", \"(not used)\", \"16th order aspheric at surface \\\"i\\\"\", 12.0], [\"AK\", \"surf #\", \"(not used)\", \"(not used)\", \"18th order aspheric at surface \\\"i\\\"\", 13.0], [\"AL\", \"surf #\", \"(not used)\", \"(not used)\", \"20th order aspheric at surface \\\"i\\\"\", 14.0], [\"RDTOR\", \"surf #\", \"(not used)\", \"(not used)\", \"Toric radius of curvature at surface \\\"i\\\"\", 15.0], [\"CVTOR\", \"surf #\", \"(not used)\", \"(not used)\", \"Toric curvature at surface \\\"i\\\"\", 16.0], [\"CCTOR\", \"surf #\", \"(not used)\", \"(not used)\", \"Toric conic constant at surface \\\"i\\\"\", 17.0], [\"ADTOR\", \"surf #\", \"(not used)\", \"(not used)\", \"Toric 4th order aspheric at surface \\\"i\\\"\", 18.0], [\"AETOR\", \"surf #\", \"(not used)\", \"(not used)\", \"Toric 6th order aspheric at surface \\\"i\\\"\", 19.0], [\"AFTOR\", \"surf #\", \"(not used)\", \"(not used)\", \"Toric 8th order aspheric at surface \\\"i\\\"\", 20.0], [\"AGTOR\", \"surf #\", \"(not used)\", \"(not used)\", \"Toric 10th order aspheric at surface \\\"i\\\"\", 21.0], [\"ALPHA\", \"surf #\", \"(not used)\", \"(not used)\", \"ALPHA surface tilt angle (degrees) at surface \\\"i\\\"\", 22.0], [\"BETA\", \"surf #\", \"(not used)\", \"(not used)\", \"BETA surface tilt angle (degrees) at surface \\\"i\\\"\", 23.0], [\"GAMMA\", \"surf #\", \"(not used)\", \"(not used)\", \"GAMMA surface tilt angle (degrees) at surface \\\"i\\\"\", 24.0], [\"VNUM\", \"surf #\", \"(not used)\", \"(not used)\", \"V-number specifier for the \\\"MODEL\\\" glass at surface \\\"i\\\"\", 25.0], [\"DPART\", \"surf#\", \"(not used)\", \"(not used)\", \"Partial Dispersion shift for the \\\"MODEL\\\" glass at surface \\\"i\\\". \", 27.0], [\"ABBE\", \"surf#\", \"(not used)\", \"(not used)\", \"V-number for the  glass at surface \\\"i\\\"\", 28.0], [\"PARTL\", \"surf #\", \"(not used)\", \"(not used)\", \"Partial Dispersion for the glass at surface \\\"i\\\". \", 34.0], [\"INDEX\", \"surf #\", \"(not used)\", \"(not used)\", \"Refractive index Nd or the \\\"MODEL\\\" glass at surface \\\"i\\\".\", 39.0], [\"N1 to N10\", \"surf #\", \"(not used)\", \"(not used)\", \"Refractive index value at wavelengths #1 to #10 at surface \\\"i\\\".\", 40.0], [\"XD\", \"surf #\", \"(not used)\", \"(not used)\", \"X-decenter at surface \\\"i\\\"\", 41.0], [\"YD\", \"surf #\", \"(not used)\", \"(not used)\", \"Y-decenter at surface \\\"i\\\"\", 42.0], [\"ZD\", \"surf #\", \"(not used)\", \"(not used)\", \"Z-decenter at surface \\\"i\\\"\", 43.0], [\"XVERT\", \"surf #\", \"Global ref surf #\", \"(not used)\", \"Global X-coordinate of the vertex of surface \\\"i\\\", referenced to a global origin at surface \\\"j\\\".\", 44.0], [\"YVERT\", \"surf #\", \"Global ref surf #\", \"(not used)\", \"Global Y-coordinate of the vertex of surface \\\"i\\\", referenced to a global origin at surface \\\"j\\\".\", 45.0], [\"ZVERT\", \"surf #\", \"Global ref surf #\", \"(not used)\", \"Global Z-coordinate of the vertex of surface \\\"i\\\", referenced to a global origin at surface \\\"j\\\".\", 46.0], [\"LXVERT\", \"surf #\", \"Global ref surf #\", \"(not used)\", \"Global X-direction cosine of the local X-axis of surface \\\"i\\\", referenced to a global origin at surface \\\"j\\\".\", 47.0], [\"MXVERT\", \"surf #\", \"Global ref surf #\", \"(not used)\", \"Global Y-direction cosine of the local X-axis of surface \\\"i\\\", referenced to a global origin at surface \\\"j\\\".\", 48.0], [\"NXVERT\", \"surf #\", \"Global ref surf #\", \"(not used)\", \"Global Z-direction cosine of the local X-axis of surface \\\"i\\\", referenced to a global origin at surface \\\"j\\\".\", 49.0], [\"LYVERT\", \"surf #\", \"Global ref surf #\", \"(not used)\", \"Global X-direction cosine of the local Y-axis of surface \\\"i\\\", referenced to a global origin at surface \\\"j\\\".\", 50.0], [\"MYVERT\", \"surf #\", \"Global ref surf #\", \"(not used)\", \"Global Y-direction cosine of the local Y-axis of surface \\\"i\\\", referenced to a global origin at surface \\\"j\\\".\", 51.0], [\"NYVERT\", \"surf #\", \"Global ref surf #\", \"(not used)\", \"Global Z-direction cosine of the local Y-axis of surface \\\"i\\\", referenced to a global origin at surface \\\"j\\\".\", 52.0], [\"LZVERT\", \"surf #\", \"Global ref surf #\", \"(not used)\", \"Global X-direction cosine of the local Z-axis of surface \\\"i\\\", referenced to a global origin at surface \\\"j\\\".\", 53.0], [\"MZVERT\", \"surf #\", \"Global ref surf #\", \"(not used)\", \"Global Y-direction cosine of the local Z-axis of surface \\\"i\\\", referenced to a global origin at surface \\\"j\\\".\", 54.0], [\"NZVERT\", \"surf #\", \"Global ref surf #\", \"(not used)\", \"Global Z-direction cosine of the local Z-axis of surface \\\"i\\\", referenced to a global origin at surface \\\"j\\\".\", 55.0], [\"LENGTH or OAL\", \"surf #\", \"surf #\", \"(not used)\", \"Algebraic sum of axial thicknesses from surface \\\"i\\\" to surface \\\"j\\\"\", 56.0], [\"MLENGTH or OPTLEN\", \"surf #\", \"surf #\", \"(not used) \", \"Physical length from surface \\\"i\\\" to surface \\\"j\\\" along a path connecting surface vertices and ignoring tilts and decentrations. This is the sum of the axial thicknesses multiplied by the refractive index in each space.\", 58.0], [\"ET or ETY\", \"surf #\", \"(not used)\", \"(not used)\", \"Edge thickness from surface \\\"i\\\" to surface \\\"i\\\"+1. Surface tilts and decentrations are ignored. If clear apertures are assigned, they are assumed circular with the YZ-plane value being used. The larger of the values on surface \\\"i\\\" and \\\"i\\\"+1 is used. If no clear apertures are assigned, then the larger of the sums of PY+PCY on surfaces \\\"i\\\" and \\\"i\\\"+1 are used in the calculation. Clear aperture decentrations and tilts are ignored.\", 60.0], [\"ETX\", \"surf #\", \"(not used)\", \"(not used)\", \"Edge thickness from surface \\\"i\\\" to surface \\\"i\\\"+1. Surface tilts and decentrations are ignored. If clear apertures are assigned, they are assumed circular with the XZ-plane value being used. The larger of the values on surface \\\"i\\\" and \\\"i\\\"+1 is used. If no clear apertures are assigned, then the larger of the sums of PX+PCX on surfaces \\\"i\\\" and \\\"i\\\"+1 are used in the calculation. Clear aperture decentrations and tilts are ignored.\", 61.0], [\"C1 through C96\", \"surf #\", \"(not used)\", \"(not used)\", \"Any one of the 96 coefficients of a special surface attached to surface \\\"i\\\"\", 62.0], [\"SHAPEFAC\", \"surf #\", \"(not used)\", \"(not used)\", \"This returns the shape factor for the lens element which begins at surface \\\"i\\\" and terminates at surface \\\"i+1\\\".  The shape factor is defined by :\", 63.0], [\"PIVX\", \"surf #\", \"(not used)\", \"(not used)\", \"X-alternate pivot point at surface \\\"i\\\"\", 66.0], [\"PIVY\", \"surf #\", \"(not used)\", \"(not used)\", \"Y-alternate pivot point at surface \\\"i\\\"\", 67.0], [\"PIVZ\", \"surf #\", \"(not used)\", \"(not used)\", \"Z-alternate pivot point at surface \\\"I\\\"\", 68.0], [\"CLPX\", \"surf #\", \"(not used)\", \"(not used)\", \"X-dimension of the clear aperture height at surface \\\"I\\\". Zero is returned if no clear aperture is assigned.\", 69.0], [\"CLPY\", \"surf #\", \"(not used)\", \"(not used)\", \"Y-dimension of the clear aperture height at surface \\\"I\\\". Zero is returned if no clear aperture is assigned.\", 70.0], [\"GRS\", \"surf#\", \"(not used)\", \"(not used)\", \"diffraction grating spacing\", 71.0], [\"WEIGHT\", \"surf #\", \"surf #\", \"(not used) \", \"MASS in Kgs of elements from surface \\\"i\\\" to surface \\\"j\\\". This calculation assumes spherical surfaces and ignores all decenters and tilts. It uses the specific gravity assigned to surfaces with the lens database command \\\"SPGR\\\".\", 72.0], [\"COST\", \"surf #\", \"surf #\", \"(not used) \", \"Cost in cost units based upon a WEIGHT calculation multiplied by the individual surface price/Kg values stored in the lens database.\", 74.0], [\"ACT\", \"surf #\", \"actuator #\", \"(not used)\", \"The actuator value between \\u20131.0 and 1.0 for actuator \\\"j\\\" on surface \\\"i\\\" if surface \\\"i\\\" is defined as a deformable surface. \", 76.0], [\"ACTMAX\", \"surf #\", \"(not used)\", \"(not used)\", \"Returns the maximun actuator value on surface \\\"i\\\" if surface \\\"i\\\" is defined as a deformable surface. \", 77.0], [\"ACTMIN\", \"surf #\", \"(not used)\", \"(not used)\", \"Returns the minumum actuator value on surface \\\"i\\\" if surface \\\"i\\\" is defined as a deformable surface. \", 78.0], [\"ACTMEAN\", \"surf #\", \"(not used)\", \"(not used)\", \"Returns the average of all active actuator values on surface \\\"i\\\" if surface \\\"i\\\" is defined as a deformable surface. \", 79.0], [\"ACTSDEV\", \"surf #\", \"(not used)\", \"(not used)\", \"Returns the standard deviation from the mean of all active actuator values on surface \\\"i\\\" if surface \\\"i\\\" is defined as a deformable surface. \", 80.0], [\"ACTPTOV\", \"surf #\", \"(not used)\", \"(not used)\", \"Returns the peak to valley value for all active actuator values on surface \\\"i\\\" if surface \\\"i\\\" is defined as a deformable surface. \", 81.0]];\n",
       "\n",
       "    if (typeof require === 'undefined') {\n",
       "        // TODO: This should become the default (use a simple import)\n",
       "        // when the ESM version works independently of whether\n",
       "        // require.js is there or not, see\n",
       "        // https://datatables.net/forums/discussion/69066/esm-es6-module-support?\n",
       "        const {default: $} = await import(\"https://esm.sh/jquery@3.5.0\");\n",
       "        const {default: initDataTables} = await import(\"https://esm.sh/datatables.net@1.11.3?deps=jquery@3.5.0\");\n",
       "\n",
       "        initDataTables();\n",
       "\n",
       "        // Define the dt_args\n",
       "        let dt_args = {\"columnDefs\": [{\"className\": \"dt-left\", \"targets\": \"_all\"}, {\"width\": \"500px\", \"targets\": 4}], \"lengthMenu\": [50, 100, 200, 500]};\n",
       "        dt_args[\"data\"] = data;\n",
       "\n",
       "        // Display the table\n",
       "        $(document).ready(function () {\n",
       "            $('#4869ceff-af83-4927-a97d-eced893c0fe8').DataTable(dt_args);\n",
       "        });\n",
       "    } else {\n",
       "        require([\"jquery\", \"datatables\"], ($, datatables) => {\n",
       "                // Define the dt_args\n",
       "                let dt_args = {\"columnDefs\": [{\"className\": \"dt-left\", \"targets\": \"_all\"}, {\"width\": \"500px\", \"targets\": 4}], \"lengthMenu\": [50, 100, 200, 500]};\n",
       "                dt_args[\"data\"] = data;\n",
       "\n",
       "                // Display the table\n",
       "                $(document).ready(function () {\n",
       "                    $('#4869ceff-af83-4927-a97d-eced893c0fe8').DataTable(dt_args);\n",
       "                });\n",
       "            }\n",
       "        )\n",
       "    }\n",
       "</script>\n"
      ],
      "text/plain": [
       "                \"i\"          \"j\"         \"k\"  \\\n",
       "OPERAND NAME                                   \n",
       "RD            surf #  (not used)  (not used)   \n",
       "CV            surf #  (not used)  (not used)   \n",
       "TH            surf #  (not used)  (not used)   \n",
       "CC            surf #  (not used)  (not used)   \n",
       "AC            surf #  (not used)  (not used)   \n",
       "...              ...         ...         ...   \n",
       "ACTMAX        surf #  (not used)  (not used)   \n",
       "ACTMIN        surf #  (not used)  (not used)   \n",
       "ACTMEAN       surf #  (not used)  (not used)   \n",
       "ACTSDEV       surf #  (not used)  (not used)   \n",
       "ACTPTOV       surf #  (not used)  (not used)   \n",
       "\n",
       "                                                    DESCRIPTION  Order  \n",
       "OPERAND NAME                                                            \n",
       "RD                           Radius of curvature at surface \"i\"    1.0  \n",
       "CV                                     Curvature at surface \"i\"    2.0  \n",
       "TH                                     Thickness at surface \"i\"    3.0  \n",
       "CC                                Conic constant at surface \"i\"    4.0  \n",
       "AC                            2nd order aspheric at surface \"i\"    5.0  \n",
       "...                                                         ...    ...  \n",
       "ACTMAX        Returns the maximun actuator value on surface ...   77.0  \n",
       "ACTMIN        Returns the minumum actuator value on surface ...   78.0  \n",
       "ACTMEAN       Returns the average of all active actuator val...   79.0  \n",
       "ACTSDEV       Returns the standard deviation from the mean o...   80.0  \n",
       "ACTPTOV       Returns the peak to valley value for all activ...   81.0  \n",
       "\n",
       "[65 rows x 5 columns]"
      ]
     },
     "execution_count": 3,
     "metadata": {},
     "output_type": "execute_result"
    }
   ],
   "source": [
    "df_LDB\n"
   ]
  },
  {
   "cell_type": "code",
   "execution_count": 4,
   "id": "5a9feb54",
   "metadata": {
    "tags": [
     "remove_input"
    ]
   },
   "outputs": [
    {
     "ename": "NameError",
     "evalue": "name 'df_aberrations' is not defined",
     "output_type": "error",
     "traceback": [
      "\u001b[1;31m---------------------------------------------------------------------------\u001b[0m",
      "\u001b[1;31mNameError\u001b[0m                                 Traceback (most recent call last)",
      "\u001b[1;32m~\\AppData\\Local\\Temp/ipykernel_18220/1183659544.py\u001b[0m in \u001b[0;36m<module>\u001b[1;34m\u001b[0m\n\u001b[1;32m----> 1\u001b[1;33m \u001b[0mdf_aberrations\u001b[0m\u001b[1;33m\u001b[0m\u001b[1;33m\u001b[0m\u001b[0m\n\u001b[0m",
      "\u001b[1;31mNameError\u001b[0m: name 'df_aberrations' is not defined"
     ]
    }
   ],
   "source": [
    "df_aberrations"
   ]
  },
  {
   "cell_type": "code",
   "execution_count": null,
   "id": "0e93e49c",
   "metadata": {},
   "outputs": [],
   "source": []
  },
  {
   "cell_type": "code",
   "execution_count": null,
   "id": "a6381f44",
   "metadata": {},
   "outputs": [],
   "source": []
  },
  {
   "cell_type": "code",
   "execution_count": null,
   "id": "7df3686a",
   "metadata": {},
   "outputs": [],
   "source": []
  }
 ],
 "metadata": {
  "celltoolbar": "Tags",
  "kernelspec": {
   "display_name": "Python 3 (ipykernel)",
   "language": "python",
   "name": "python3"
  },
  "language_info": {
   "codemirror_mode": {
    "name": "ipython",
    "version": 3
   },
   "file_extension": ".py",
   "mimetype": "text/x-python",
   "name": "python",
   "nbconvert_exporter": "python",
   "pygments_lexer": "ipython3",
   "version": "3.8.11"
  }
 },
 "nbformat": 4,
 "nbformat_minor": 5
}
