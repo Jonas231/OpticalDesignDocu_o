{
 "cells": [
  {
   "cell_type": "markdown",
   "id": "44ddaa3e",
   "metadata": {},
   "source": [
    "# OpTaliX: Geometric Analysis\n",
    "\n",
    "These are ..."
   ]
  },
  {
   "cell_type": "code",
   "execution_count": 10,
   "id": "30d3a396",
   "metadata": {
    "tags": [
     "remove_input"
    ]
   },
   "outputs": [
    {
     "data": {
      "application/javascript": [
       "if (typeof require !== 'undefined')\n",
       "    require.config({\n",
       "        paths: {\n",
       "            jquery: 'https://code.jquery.com/jquery-3.5.1.min',\n",
       "            datatables: 'https://cdn.datatables.net/1.11.3/js/jquery.dataTables.min',\n",
       "        }\n",
       "    });\n"
      ],
      "text/plain": [
       "<IPython.core.display.Javascript object>"
      ]
     },
     "metadata": {},
     "output_type": "display_data"
    }
   ],
   "source": [
    "import pandas as pd\n",
    "import itables\n",
    "from itables import init_notebook_mode, show\n",
    "import itables.options as opt\n",
    "\n",
    "init_notebook_mode(all_interactive=True)\n",
    "\n",
    "opt.lengthMenu = [50, 100, 200, 500]\n",
    "#opt.classes = [\"display\", \"cell-border\"]\n",
    "#opt.classes = [\"display\", \"nowrap\"]\n",
    "\n",
    "opt.columnDefs = [{\"className\": \"dt-left\", \"targets\": \"_all\"}, {\"width\": \"500px\", \"targets\": 1}]\n"
   ]
  },
  {
   "cell_type": "code",
   "execution_count": 11,
   "id": "36dee203",
   "metadata": {
    "tags": [
     "remove_input"
    ]
   },
   "outputs": [],
   "source": [
    "filename = r'C:\\Work\\Tools\\OpticalDesign_Doku\\OpTaliX_optimization_operands.xlsx'\n",
    "df_var = pd.read_excel(filename, sheet_name = \"Geometric Analysis\", header = 0, index_col = 0)\n",
    "df_var = df_var.dropna()   # drop nan values"
   ]
  },
  {
   "cell_type": "code",
   "execution_count": 12,
   "id": "ad2657ec",
   "metadata": {
    "tags": [
     "remove_input"
    ]
   },
   "outputs": [
    {
     "data": {
      "text/html": [
       "<table id=\"588bb928-30fd-4cc4-a79b-ef85dc56fc82\" class=\"display\"style=\"max-width:100%\"><thead><th></th><th>Description</th><th>Order</th></thead><tbody><tr><td>Loading... (need <a href=https://mwouts.github.io/itables/troubleshooting.html>help</a>?)</td></tr></tbody></table>\n",
       "<link rel=\"stylesheet\" type=\"text/css\" href=\"https://cdn.datatables.net/1.11.3/css/jquery.dataTables.min.css\">\n",
       "<style> table td {\n",
       "    text-overflow: ellipsis;\n",
       "    overflow: hidden;\n",
       "} </style>\n",
       "<style> table th {\n",
       "    text-overflow: ellipsis;\n",
       "    overflow: hidden;\n",
       "} </style>\n",
       "<script type=\"module\">\n",
       "    // Define the table data\n",
       "    const data = [[\"CUY\", \"curvature\", 1], [\"RDY\", \"radius\", 2], [\"THI\", \"axial thickness/separation\", 3], [\"K\", \"conic constant, definition see aspheric parameter\", 4], [\"A\", \"aspheric parameter, definition see aspheric parameter\", 5], [\"B\", \"aspheric parameter, definition see aspheric parameter\", 6], [\"C\", \"aspheric parameter, definition see aspheric parameter\", 7], [\"D\", \"aspheric parameter, definition see aspheric parameter\", 8], [\"E\", \"aspheric parameter, definition see aspheric parameter\", 9], [\"F\", \"aspheric parameter, definition see aspheric parameter\", 10], [\"CUX\", \"curvature X (toric deformation), definition see aspheric parameter\", 11], [\"ADE\", \"tilt around X-axis\", 12], [\"BDE\", \"tilt around Y-axis\", 13], [\"CDE\", \"tilt around Z-axis\", 14], [\"XDE\", \"X-decenter\", 15], [\"YDE\", \"Y-decenter\", 16], [\"ZDE\", \"Z-decenter\", 17], [\"DVO\", \"Dispersion offset\", 18], [\"DNO\", \"Index offset\", 19], [\"GI\", \"Gradient index\", 20], [\"GZO\", \"Gradient z-offset\", 21], [\"DNO\", \"Index offset\", 22], [\"DVO\", \"Dispersion offset\", 23], [\"H2\", \"Hologram coefficient 2 (h-term for symmetric HOE, linear x-term for asymmetric HOE)\", 24], [\"H3\", \"Hologram coefficient 3 (h2-term for symmetric HOE, linear y-term for asymmetric HOE)\", 25], [\"H4\", \"Hologram coefficient 4 (h3-term for symmetric HOE, x2-term for asymmetric HOE)\", 26], [\"H5\", \"Hologram coefficient 5 (h4-term for symmetric HOE, xy-term for asymmetric HOE)\", 27], [\"H6\", \"Hologram coefficient 6 (h5-term for symmetric HOE, y2-term for asymmetric HOE)\", 28], [\"H7\", \"Hologram coefficient 7 (h6-term for symmetric HOE, x3-term for asymmetric HOE)\", 29], [\"H8\", \"Hologram coefficient 8 (h7-term for symmetric HOE, x2y-term for asymmetric HOE)\", 30], [\"H9\", \"Hologram coefficient 9 (h8-term for symmetric HOE, xy2-term for asymmetric HOE)\", 31], [\"H10 - H28\", \"Hologram coefficients 10 to 28\", 32], [\"HX1\", \"X-coordinate of object point source for 2-point HOE\", 33], [\"HY1\", \"Y-coordinate of object point source for 2-point HOE\", 34], [\"HZ1\", \"Z-coordinate of object point source for 2-point HOE\", 35], [\"HX2\", \"X-coordinate of reference point source for 2-point HOE\", 36], [\"HY2\", \"Y-coordinate of reference point source for 2-point HOE\", 37], [\"HZ2\", \"Z-coordinate of reference point source for 2-point HOE\", 38], [\"Uxx\", \"Variable coefficients of user-defined surfaces, SPS-ODD surfaces and SPS-XYP surfaces. 'xx' denotes the corresponding coefficient number. Example: VAR s4 U7.\", 39], [\"Zxx\", \"Variable coefficients of Zernike surfaces, Example: VAR s4 Z9.\", 40], [\"MFL\", \"Module focal length\", 41]];\n",
       "\n",
       "    if (typeof require === 'undefined') {\n",
       "        // TODO: This should become the default (use a simple import)\n",
       "        // when the ESM version works independently of whether\n",
       "        // require.js is there or not, see\n",
       "        // https://datatables.net/forums/discussion/69066/esm-es6-module-support?\n",
       "        const {default: $} = await import(\"https://esm.sh/jquery@3.5.0\");\n",
       "        const {default: initDataTables} = await import(\"https://esm.sh/datatables.net@1.11.3?deps=jquery@3.5.0\");\n",
       "\n",
       "        initDataTables();\n",
       "\n",
       "        // Define the dt_args\n",
       "        let dt_args = {\"columnDefs\": [{\"className\": \"dt-left\", \"targets\": \"_all\"}, {\"width\": \"500px\", \"targets\": 1}], \"lengthMenu\": [50, 100, 200, 500], \"paging\": false};\n",
       "        dt_args[\"data\"] = data;\n",
       "\n",
       "        // Display the table\n",
       "        $(document).ready(function () {\n",
       "            $('#588bb928-30fd-4cc4-a79b-ef85dc56fc82').DataTable(dt_args);\n",
       "        });\n",
       "    } else {\n",
       "        require([\"jquery\", \"datatables\"], ($, datatables) => {\n",
       "                // Define the dt_args\n",
       "                let dt_args = {\"columnDefs\": [{\"className\": \"dt-left\", \"targets\": \"_all\"}, {\"width\": \"500px\", \"targets\": 1}], \"lengthMenu\": [50, 100, 200, 500], \"paging\": false};\n",
       "                dt_args[\"data\"] = data;\n",
       "\n",
       "                // Display the table\n",
       "                $(document).ready(function () {\n",
       "                    $('#588bb928-30fd-4cc4-a79b-ef85dc56fc82').DataTable(dt_args);\n",
       "                });\n",
       "            }\n",
       "        )\n",
       "    }\n",
       "</script>\n"
      ],
      "text/plain": [
       "                                                 Description  Order\n",
       "Item                                                               \n",
       "CUY                                                curvature      1\n",
       "RDY                                                   radius      2\n",
       "THI                               axial thickness/separation      3\n",
       "K          conic constant, definition see aspheric parameter      4\n",
       "A          aspheric parameter, definition see aspheric pa...      5\n",
       "B          aspheric parameter, definition see aspheric pa...      6\n",
       "C          aspheric parameter, definition see aspheric pa...      7\n",
       "D          aspheric parameter, definition see aspheric pa...      8\n",
       "E          aspheric parameter, definition see aspheric pa...      9\n",
       "F          aspheric parameter, definition see aspheric pa...     10\n",
       "CUX        curvature X (toric deformation), definition se...     11\n",
       "ADE                                       tilt around X-axis     12\n",
       "BDE                                       tilt around Y-axis     13\n",
       "CDE                                       tilt around Z-axis     14\n",
       "XDE                                               X-decenter     15\n",
       "YDE                                               Y-decenter     16\n",
       "ZDE                                               Z-decenter     17\n",
       "DVO                                        Dispersion offset     18\n",
       "DNO                                             Index offset     19\n",
       "GI                                            Gradient index     20\n",
       "GZO                                        Gradient z-offset     21\n",
       "DNO                                             Index offset     22\n",
       "DVO                                        Dispersion offset     23\n",
       "H2         Hologram coefficient 2 (h-term for symmetric H...     24\n",
       "H3         Hologram coefficient 3 (h2-term for symmetric ...     25\n",
       "H4         Hologram coefficient 4 (h3-term for symmetric ...     26\n",
       "H5         Hologram coefficient 5 (h4-term for symmetric ...     27\n",
       "H6         Hologram coefficient 6 (h5-term for symmetric ...     28\n",
       "H7         Hologram coefficient 7 (h6-term for symmetric ...     29\n",
       "H8         Hologram coefficient 8 (h7-term for symmetric ...     30\n",
       "H9         Hologram coefficient 9 (h8-term for symmetric ...     31\n",
       "H10 - H28                     Hologram coefficients 10 to 28     32\n",
       "HX1        X-coordinate of object point source for 2-poin...     33\n",
       "HY1        Y-coordinate of object point source for 2-poin...     34\n",
       "HZ1        Z-coordinate of object point source for 2-poin...     35\n",
       "HX2        X-coordinate of reference point source for 2-p...     36\n",
       "HY2        Y-coordinate of reference point source for 2-p...     37\n",
       "HZ2        Z-coordinate of reference point source for 2-p...     38\n",
       "Uxx        Variable coefficients of user-defined surfaces...     39\n",
       "Zxx        Variable coefficients of Zernike surfaces, Exa...     40\n",
       "MFL                                      Module focal length     41"
      ]
     },
     "execution_count": 12,
     "metadata": {},
     "output_type": "execute_result"
    }
   ],
   "source": [
    "df_var"
   ]
  },
  {
   "cell_type": "code",
   "execution_count": null,
   "id": "06654ecb",
   "metadata": {},
   "outputs": [],
   "source": []
  },
  {
   "cell_type": "code",
   "execution_count": null,
   "id": "14ed69a1",
   "metadata": {},
   "outputs": [],
   "source": []
  }
 ],
 "metadata": {
  "celltoolbar": "Tags",
  "kernelspec": {
   "display_name": "Python 3 (ipykernel)",
   "language": "python",
   "name": "python3"
  },
  "language_info": {
   "codemirror_mode": {
    "name": "ipython",
    "version": 3
   },
   "file_extension": ".py",
   "mimetype": "text/x-python",
   "name": "python",
   "nbconvert_exporter": "python",
   "pygments_lexer": "ipython3",
   "version": "3.8.11"
  }
 },
 "nbformat": 4,
 "nbformat_minor": 5
}
